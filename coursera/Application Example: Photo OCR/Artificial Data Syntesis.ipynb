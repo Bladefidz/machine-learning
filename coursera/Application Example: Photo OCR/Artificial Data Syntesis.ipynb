{
 "cells": [
  {
   "cell_type": "markdown",
   "metadata": {},
   "source": [
    "## Getting a Lots of Data\n",
    "\n",
    "There are at least two useful steps to ensuring that we can get a lots of **high quality** data and **minimizing the effort** to get bigger dataset:\n",
    "\n",
    "1. Ensure that we have a **low bias classifier** before expanding data. With low bias classifier, we can produce high quality artificial dataset that have crucial impact on training algorithm<br>\n",
    "For example:<br>\n",
    "![](../img/introducing-distortions.png)\n",
    "2. Estimate how much work would it be to get bigger dataset. For example: If we need 10x larger dataset, then it is would be nice if we can get it within a days and do labeling at least 10 second for each data on average.\n",
    "\n",
    "\n",
    "## Ceiling Analysis\n",
    "\n",
    "Simply, **prioritize** in which most important pipeline part!\n",
    "\n",
    "For example:\n",
    "\n",
    "![](../img/ceiling-analysis1.png)<br>\n",
    "Prioritize on Text Detection!\n",
    "\n",
    "![](../img/ceiling-analysis2.png)<br>\n",
    "Prioritize on Eye segmentation and Logistic Regression!"
   ]
  },
  {
   "cell_type": "code",
   "execution_count": null,
   "metadata": {},
   "outputs": [],
   "source": []
  }
 ],
 "metadata": {
  "kernelspec": {
   "display_name": "Python 3",
   "language": "python",
   "name": "python3"
  },
  "language_info": {
   "codemirror_mode": {
    "name": "ipython",
    "version": 3
   },
   "file_extension": ".py",
   "mimetype": "text/x-python",
   "name": "python",
   "nbconvert_exporter": "python",
   "pygments_lexer": "ipython3",
   "version": "3.6.4"
  }
 },
 "nbformat": 4,
 "nbformat_minor": 2
}
