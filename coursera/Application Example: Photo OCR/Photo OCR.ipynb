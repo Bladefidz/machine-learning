{
 "cells": [
  {
   "cell_type": "markdown",
   "metadata": {},
   "source": [
    "## Problem Description and Pipeline\n",
    "\n",
    "What is Photo OCR?<br>\n",
    "Photo OCR is Photo Optical Character Recognition.\n",
    "\n",
    "What is pipline?<br>\n",
    "Pipeline is a method to breakdown machine learning project into modules.\n",
    "\n",
    "An image below is an example of Photo OCR pipeline:\n",
    "\n",
    "![](../img/photo-ocr-pipeline.png)\n",
    "\n",
    "If you are working in a team, it is good idea to create module specification for specific sub team or individual. For example: Break down each module in Photo OCR project for each 5 engineers in a team consisted of 15 engineering.\n",
    "\n",
    "\n",
    "## Sliding Windows\n",
    "\n",
    "Slideing windows is an simple algorithm to find an expected object in an image. The algorithm described below:\n",
    "\n",
    "1. Create an image patch which may rectangle or other forms with specific size.\n",
    "2. Using an image patch, scan at position (0, 0).\n",
    "3. Then slide the patch to next position in range b pixel.\n",
    "4. Resize the patch and repeat to step 1 until all object detected.\n",
    "\n",
    "Here an example of sliding windows using rectangle patch:\n",
    "\n",
    "![](../img/sliding-windows-1.png)\n",
    "![](../img/sliding-windows-2.png)\n",
    "\n",
    "We can implement sliding windows algorithm to Photo OCR pipeline:\n",
    "\n",
    "1. Text detection through labeling each image patch which contain a text:\n",
    "![](../img/text-detection.png)<br>\n",
    "2. We can use probability that a text may occurs in the image and doing expansion on the pixels with high probability based on confidence interval we want.\n",
    "![](../img/text-detection1.png)<br>\n",
    "3. Then do character segmentation by implemnting **1D Sliding Windows**.\n",
    "![](../img/character-segmentation.png)"
   ]
  },
  {
   "cell_type": "code",
   "execution_count": null,
   "metadata": {},
   "outputs": [],
   "source": []
  }
 ],
 "metadata": {
  "kernelspec": {
   "display_name": "Python 3",
   "language": "python",
   "name": "python3"
  },
  "language_info": {
   "codemirror_mode": {
    "name": "ipython",
    "version": 3
   },
   "file_extension": ".py",
   "mimetype": "text/x-python",
   "name": "python",
   "nbconvert_exporter": "python",
   "pygments_lexer": "ipython3",
   "version": "3.6.4"
  }
 },
 "nbformat": 4,
 "nbformat_minor": 2
}
