{
 "cells": [
  {
   "cell_type": "markdown",
   "metadata": {},
   "source": [
    "## Prioritizing What to Work On\n",
    "\n",
    "**System Design Example**:\n",
    "\n",
    "Given a data set of emails, we could construct a vector for each email. Each entry in this vector represents a word. The vector normally contains 10,000 to 50,000 entries gathered by finding the most frequently used words in our data set. If a word is to be found in the email, we would assign its respective entry a 1, else if it is not found, that entry would be a 0. Once we have all our x vectors ready, we train our algorithm and finally, we could use it to classify if an email is a spam or not.\n",
    "\n",
    "![](../img/spam-classifier.png)\n",
    "\n",
    "So how could you spend your time to improve the accuracy of this classifier?\n",
    "\n",
    "* Collect lots of data (for example \"honeypot\" project but doesn't always work)\n",
    "* Develop sophisticated features (for example: using email header data in spam emails)\n",
    "* Develop algorithms to process your input in different ways (recognizing misspellings in spam).\n",
    "\n",
    "It is difficult to tell which of the options will be most helpful.\n",
    "\n",
    "\n",
    "## Error Analysis\n",
    "\n",
    "The recommended approach to solving machine learning problems is to:\n",
    "\n",
    "* Start with a simple algorithm, implement it quickly, and test it early on your cross validation data.\n",
    "* Plot learning curves to decide if more data, more features, etc. are likely to help.\n",
    "* Manually examine the errors on examples in the cross validation set and try to spot a trend where most of the errors were made.\n",
    "\n",
    "For example, assume that we have 500 emails and our algorithm misclassifies a 100 of them. We could manually analyze the 100 emails and categorize them based on what type of emails they are. We could then try to come up with new cues and features that would help us classify these 100 emails correctly. Hence, if most of our misclassified emails are those which try to steal passwords, then we could find some features that are particular to those emails and add them to our model. We could also see how classifying each word according to its root changes our error rate:\n",
    "\n",
    "![](../img/spam-classifier1.png)\n",
    "\n",
    "It is very important to get error results as a single, numerical value. Otherwise it is difficult to assess your algorithm's performance. For example if we use stemming, which is the process of treating the same word with different forms (fail/failing/failed) as one word (fail), and get a 3% error rate instead of 5%, then we should definitely add it to our model. However, if we try to distinguish between upper case and lower case letters and end up getting a 3.2% error rate instead of 3%, then we should avoid using this new feature. Hence, we should try new things, get a numerical value for our error rate, and based on our result decide whether we want to keep the new feature or not."
   ]
  },
  {
   "cell_type": "code",
   "execution_count": null,
   "metadata": {},
   "outputs": [],
   "source": []
  }
 ],
 "metadata": {
  "kernelspec": {
   "display_name": "Python 3",
   "language": "python",
   "name": "python3"
  },
  "language_info": {
   "codemirror_mode": {
    "name": "ipython",
    "version": 3
   },
   "file_extension": ".py",
   "mimetype": "text/x-python",
   "name": "python",
   "nbconvert_exporter": "python",
   "pygments_lexer": "ipython3",
   "version": "3.6.4"
  }
 },
 "nbformat": 4,
 "nbformat_minor": 2
}
