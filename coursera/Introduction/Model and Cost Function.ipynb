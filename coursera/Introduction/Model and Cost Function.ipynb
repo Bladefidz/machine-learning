{
 "cells": [
  {
   "cell_type": "markdown",
   "metadata": {},
   "source": [
    "## Model Representation\n",
    "\n",
    "To establish notation for future use \\\\(x^{(i)}\\\\), we’ll use to denote the “input” variables (living area in this example), also called input features, and \\\\(y^{(i)}\\\\) to denote the “output” or target variable that we are trying to predict (price). A pair \\\\((x^{(i)} , y^{(i)} )\\\\) is called a training example, and the dataset that we’ll be using to learn—a list of m training examples \\\\({(x^{(i)} , y^{(i)} ); i = 1, . . . , m}\\\\)—is called a training set. Note that the superscript “(i)” in the notation is simply an index into the training set, and has nothing to do with exponentiation. We will also use X to denote the space of input values, and Y to denote the space of output values. In this example, X = Y = ℝ.\n",
    "\n",
    "To describe the supervised learning problem slightly more formally, our goal is, given a training set, to learn a function h : X → Y so that h(x) is a “good” predictor for the corresponding value of y. For historical reasons, this function h is called a hypothesis. Seen pictorially, the process is therefore like this:\n",
    "\n",
    "![model](../img/model.png \"model\")\n",
    "\n",
    "When the target variable that we’re trying to predict is continuous, such as in our housing example, we call the learning problem a regression problem. When y can take on only a small number of discrete values (such as if, given the living area, we wanted to predict if a dwelling is a house or an apartment, say), we call it a classification problem.\n",
    "\n",
    "\n",
    "## Cost Function\n",
    "\n",
    "We can measure the accuracy of our hypothesis function by using a cost function. This takes an average difference (actually a fancier version of an average) of all the results of the hypothesis with inputs from x's and the actual output y's.\n",
    "\n",
    "$$J(\\theta_0, \\theta_1) = \\dfrac {1}{2m} \\displaystyle \\sum _{i=1}^m \\left ( \\hat{y}_{i}- y_{i} \\right)^2 = \\dfrac {1}{2m} \\displaystyle \\sum _{i=1}^m \\left (h_\\theta (x_{i}) - y_{i} \\right)^2$$\n",
    "\n",
    "To break it apart, it is \\\\(\\frac{1}{2}\\\\) where \\\\(\\bar{x}\\\\) is the mean of the squares of \\\\(h_\\theta (x_{i}) - y_{i}\\\\), or the difference between the predicted value and the actual value.\n",
    "\n",
    "This function is otherwise called the \"Squared error function\", or \"Mean squared error\". The mean is halved \\\\(\\left(\\frac{1}{2}\\right)\\\\) as a convenience for the computation of the gradient descent, as the derivative term of the square function will cancel out the \\\\(\\frac{1}{2}\\\\) term. The following image summarizes what the cost function does: \n",
    "\n",
    "![Cost Function](../img/cost-function.png \"Cost function\")\n",
    "\n",
    "## Cost Function - Intuition 1\n",
    "\n",
    "If we try to think of it in visual terms, our training data set is scattered on the x-y plane. We are trying to make a straight line (defined by \\\\(h_\\theta(x)\\\\)) which passes through these scattered data points.\n",
    "\n",
    "Our objective is to get the best possible line. The best possible line will be such so that the average squared vertical distances of the scattered points from the line will be the least. Ideally, the line should pass through all the points of our training data set. In such a case, the value of \\\\(\\theta_0, \\theta_1)\\\\) will be 0. The following example shows the ideal situation where we have a cost function of 0. \n",
    "\n",
    "![Cost function 1](../img/cost-function1.png \"cost function 1\")\n",
    "\n",
    "When \\\\(\\theta_1 = 1\\\\), we get a slope of 1 which goes through every single data point in our model. Conversely, when \\\\(\\theta_1 = 0.5\\\\), we see the vertical distance from our fit to the data points increase. \n",
    "\n",
    "![Cost function 2](../img/cost-function2.png \"cost function 2\")\n",
    "\n",
    "This increases our cost function to 0.58. Plotting several other points yields to the following graph: \n",
    "\n",
    "![Cost function 3](../img/cost-function3.png \"cost function 3\")\n",
    "\n",
    "Thus as a goal, we should try to minimize the cost function. In this case, \\\\(\\theta_1 = 1\\\\) is our global minimum.\n",
    "\n",
    "\n",
    "## Cost Function - Intuition 2\n",
    "\n",
    "A contour plot is a graph that contains many contour lines. A contour line of a two variable function has a constant value at all points of the same line. An example of such a graph is the one to the right below.\n",
    "\n",
    "![Cost function 4](../img/cost-function4.png \"cost function 4\")\n",
    "\n",
    "Taking any color and going along the 'circle', one would expect to get the same value of the cost function. For example, the three green points found on the green line above have the same value for \\\\(J(\\theta_0,\\theta_1)\\\\) and as a result, they are found along the same line. The circled x displays the value of the cost function for the graph on the left when \\\\(\\theta_0\\\\) = 800 and \\\\(\\theta_1\\\\) = -0.15. Taking another h(x) and plotting its contour plot, one gets the following graphs:\n",
    "\n",
    "![Cost function 5](../img/cost-function5.png \"cost function 5\")\n",
    "\n",
    "When \\\\(\\theta_0\\\\) = 360 and \\\\(\\theta_1\\\\) = 0, the value of \\\\(J(\\theta_0,\\theta_1)\\\\) in the contour plot gets closer to the center thus reducing the cost function error. Now giving our hypothesis function a slightly positive slope results in a better fit of the data.\n",
    "\n",
    "![Cost function 6](../img/cost-function6.png \"cost function 6\")"
   ]
  },
  {
   "cell_type": "code",
   "execution_count": null,
   "metadata": {},
   "outputs": [],
   "source": []
  }
 ],
 "metadata": {
  "kernelspec": {
   "display_name": "Python 3",
   "language": "python",
   "name": "python3"
  },
  "language_info": {
   "codemirror_mode": {
    "name": "ipython",
    "version": 3
   },
   "file_extension": ".py",
   "mimetype": "text/x-python",
   "name": "python",
   "nbconvert_exporter": "python",
   "pygments_lexer": "ipython3",
   "version": "3.6.4"
  }
 },
 "nbformat": 4,
 "nbformat_minor": 2
}
