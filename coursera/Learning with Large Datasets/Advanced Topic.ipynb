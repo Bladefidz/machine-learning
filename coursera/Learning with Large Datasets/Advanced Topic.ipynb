{
 "cells": [
  {
   "cell_type": "markdown",
   "metadata": {},
   "source": [
    "## Online Learning\n",
    "\n",
    "With a continuous stream of users to a website, we can run an endless loop that gets (x,y), where we collect some user actions for the features in x to predict some behavior y.\n",
    "\n",
    "You can update θ for each individual (x,y) pair as you collect them. This way, you can adapt to new pools of users, since you are continuously updating theta.\n",
    "\n",
    "\n",
    "## Map Reduce and Data Parallelism\n",
    "\n",
    "We can divide up batch gradient descent and dispatch the cost function for a subset of the data to many different machines so that we can train our algorithm in parallel.\n",
    "\n",
    "You can split your training set into z subsets corresponding to the number of machines you have. On each of those machines calculate \\\\(\\displaystyle \\sum_{i=p}^{q}(h_{\\theta}(x^{(i)}) - y^{(i)}) \\cdot x_j^{(i)}\\\\), where we've split the data starting at p and ending at q.\n",
    "\n",
    "MapReduce will take all these dispatched (or 'mapped') jobs and 'reduce' them by calculating:\n",
    "\n",
    "$$\\Theta_j := \\Theta_j - \\alpha \\dfrac{1}{z}(temp_j^{(1)} + temp_j^{(2)} + \\cdots + temp_j^{(z)})$$\n",
    "\n",
    "> For all \\\\(j = 0, \\dots, n\\\\):<br>\n",
    "\n",
    "This is simply taking the computed cost from all the machines, calculating their average, multiplying by the learning rate, and updating theta.\n",
    "\n",
    "Your learning algorithm is MapReduceable if it **can be expressed as computing sums of functions over the training set**. Linear regression and logistic regression are easily parallelizable.\n",
    "\n",
    "For neural networks, you can compute forward propagation and back propagation on subsets of your data on many machines. Those machines can report their derivatives back to a 'master' server that will combine them."
   ]
  }
 ],
 "metadata": {
  "kernelspec": {
   "display_name": "Python 3",
   "language": "python",
   "name": "python3"
  },
  "language_info": {
   "codemirror_mode": {
    "name": "ipython",
    "version": 3
   },
   "file_extension": ".py",
   "mimetype": "text/x-python",
   "name": "python",
   "nbconvert_exporter": "python",
   "pygments_lexer": "ipython3",
   "version": "3.6.4"
  }
 },
 "nbformat": 4,
 "nbformat_minor": 2
}
