{
 "cells": [
  {
   "cell_type": "markdown",
   "metadata": {},
   "source": [
    "#Fire up graphlab create"
   ]
  },
  {
   "cell_type": "code",
   "execution_count": 1,
   "metadata": {
    "collapsed": true
   },
   "outputs": [],
   "source": [
    "import graphlab"
   ]
  },
  {
   "cell_type": "markdown",
   "metadata": {},
   "source": [
    "#Load some house sales data\n",
    "\n",
    "Dataset is from house sales in King County, the region where the city of Seattle, WA is located."
   ]
  },
  {
   "cell_type": "code",
   "execution_count": 2,
   "metadata": {
    "collapsed": false
   },
   "outputs": [
    {
     "name": "stdout",
     "output_type": "stream",
     "text": [
      "This non-commercial license of GraphLab Create for academic use is assigned to hafidzjazuli@gmail.com and will expire on April 13, 2019.\n"
     ]
    },
    {
     "name": "stderr",
     "output_type": "stream",
     "text": [
      "[INFO] graphlab.cython.cy_server: GraphLab Create v2.1 started. Logging: /tmp/graphlab_server_1523707255.log\n"
     ]
    }
   ],
   "source": [
    "sales = graphlab.SFrame('home_data.gl/')"
   ]
  },
  {
   "cell_type": "code",
   "execution_count": 3,
   "metadata": {
    "collapsed": false
   },
   "outputs": [
    {
     "data": {
      "text/html": [
       "<div style=\"max-height:1000px;max-width:1500px;overflow:auto;\"><table frame=\"box\" rules=\"cols\">\n",
       "    <tr>\n",
       "        <th style=\"padding-left: 1em; padding-right: 1em; text-align: center\">id</th>\n",
       "        <th style=\"padding-left: 1em; padding-right: 1em; text-align: center\">date</th>\n",
       "        <th style=\"padding-left: 1em; padding-right: 1em; text-align: center\">price</th>\n",
       "        <th style=\"padding-left: 1em; padding-right: 1em; text-align: center\">bedrooms</th>\n",
       "        <th style=\"padding-left: 1em; padding-right: 1em; text-align: center\">bathrooms</th>\n",
       "        <th style=\"padding-left: 1em; padding-right: 1em; text-align: center\">sqft_living</th>\n",
       "        <th style=\"padding-left: 1em; padding-right: 1em; text-align: center\">sqft_lot</th>\n",
       "        <th style=\"padding-left: 1em; padding-right: 1em; text-align: center\">floors</th>\n",
       "        <th style=\"padding-left: 1em; padding-right: 1em; text-align: center\">waterfront</th>\n",
       "    </tr>\n",
       "    <tr>\n",
       "        <td style=\"padding-left: 1em; padding-right: 1em; text-align: center; vertical-align: top\">7129300520</td>\n",
       "        <td style=\"padding-left: 1em; padding-right: 1em; text-align: center; vertical-align: top\">2014-10-13 00:00:00+00:00</td>\n",
       "        <td style=\"padding-left: 1em; padding-right: 1em; text-align: center; vertical-align: top\">221900</td>\n",
       "        <td style=\"padding-left: 1em; padding-right: 1em; text-align: center; vertical-align: top\">3</td>\n",
       "        <td style=\"padding-left: 1em; padding-right: 1em; text-align: center; vertical-align: top\">1</td>\n",
       "        <td style=\"padding-left: 1em; padding-right: 1em; text-align: center; vertical-align: top\">1180</td>\n",
       "        <td style=\"padding-left: 1em; padding-right: 1em; text-align: center; vertical-align: top\">5650</td>\n",
       "        <td style=\"padding-left: 1em; padding-right: 1em; text-align: center; vertical-align: top\">1</td>\n",
       "        <td style=\"padding-left: 1em; padding-right: 1em; text-align: center; vertical-align: top\">0</td>\n",
       "    </tr>\n",
       "    <tr>\n",
       "        <td style=\"padding-left: 1em; padding-right: 1em; text-align: center; vertical-align: top\">6414100192</td>\n",
       "        <td style=\"padding-left: 1em; padding-right: 1em; text-align: center; vertical-align: top\">2014-12-09 00:00:00+00:00</td>\n",
       "        <td style=\"padding-left: 1em; padding-right: 1em; text-align: center; vertical-align: top\">538000</td>\n",
       "        <td style=\"padding-left: 1em; padding-right: 1em; text-align: center; vertical-align: top\">3</td>\n",
       "        <td style=\"padding-left: 1em; padding-right: 1em; text-align: center; vertical-align: top\">2.25</td>\n",
       "        <td style=\"padding-left: 1em; padding-right: 1em; text-align: center; vertical-align: top\">2570</td>\n",
       "        <td style=\"padding-left: 1em; padding-right: 1em; text-align: center; vertical-align: top\">7242</td>\n",
       "        <td style=\"padding-left: 1em; padding-right: 1em; text-align: center; vertical-align: top\">2</td>\n",
       "        <td style=\"padding-left: 1em; padding-right: 1em; text-align: center; vertical-align: top\">0</td>\n",
       "    </tr>\n",
       "    <tr>\n",
       "        <td style=\"padding-left: 1em; padding-right: 1em; text-align: center; vertical-align: top\">5631500400</td>\n",
       "        <td style=\"padding-left: 1em; padding-right: 1em; text-align: center; vertical-align: top\">2015-02-25 00:00:00+00:00</td>\n",
       "        <td style=\"padding-left: 1em; padding-right: 1em; text-align: center; vertical-align: top\">180000</td>\n",
       "        <td style=\"padding-left: 1em; padding-right: 1em; text-align: center; vertical-align: top\">2</td>\n",
       "        <td style=\"padding-left: 1em; padding-right: 1em; text-align: center; vertical-align: top\">1</td>\n",
       "        <td style=\"padding-left: 1em; padding-right: 1em; text-align: center; vertical-align: top\">770</td>\n",
       "        <td style=\"padding-left: 1em; padding-right: 1em; text-align: center; vertical-align: top\">10000</td>\n",
       "        <td style=\"padding-left: 1em; padding-right: 1em; text-align: center; vertical-align: top\">1</td>\n",
       "        <td style=\"padding-left: 1em; padding-right: 1em; text-align: center; vertical-align: top\">0</td>\n",
       "    </tr>\n",
       "    <tr>\n",
       "        <td style=\"padding-left: 1em; padding-right: 1em; text-align: center; vertical-align: top\">2487200875</td>\n",
       "        <td style=\"padding-left: 1em; padding-right: 1em; text-align: center; vertical-align: top\">2014-12-09 00:00:00+00:00</td>\n",
       "        <td style=\"padding-left: 1em; padding-right: 1em; text-align: center; vertical-align: top\">604000</td>\n",
       "        <td style=\"padding-left: 1em; padding-right: 1em; text-align: center; vertical-align: top\">4</td>\n",
       "        <td style=\"padding-left: 1em; padding-right: 1em; text-align: center; vertical-align: top\">3</td>\n",
       "        <td style=\"padding-left: 1em; padding-right: 1em; text-align: center; vertical-align: top\">1960</td>\n",
       "        <td style=\"padding-left: 1em; padding-right: 1em; text-align: center; vertical-align: top\">5000</td>\n",
       "        <td style=\"padding-left: 1em; padding-right: 1em; text-align: center; vertical-align: top\">1</td>\n",
       "        <td style=\"padding-left: 1em; padding-right: 1em; text-align: center; vertical-align: top\">0</td>\n",
       "    </tr>\n",
       "    <tr>\n",
       "        <td style=\"padding-left: 1em; padding-right: 1em; text-align: center; vertical-align: top\">1954400510</td>\n",
       "        <td style=\"padding-left: 1em; padding-right: 1em; text-align: center; vertical-align: top\">2015-02-18 00:00:00+00:00</td>\n",
       "        <td style=\"padding-left: 1em; padding-right: 1em; text-align: center; vertical-align: top\">510000</td>\n",
       "        <td style=\"padding-left: 1em; padding-right: 1em; text-align: center; vertical-align: top\">3</td>\n",
       "        <td style=\"padding-left: 1em; padding-right: 1em; text-align: center; vertical-align: top\">2</td>\n",
       "        <td style=\"padding-left: 1em; padding-right: 1em; text-align: center; vertical-align: top\">1680</td>\n",
       "        <td style=\"padding-left: 1em; padding-right: 1em; text-align: center; vertical-align: top\">8080</td>\n",
       "        <td style=\"padding-left: 1em; padding-right: 1em; text-align: center; vertical-align: top\">1</td>\n",
       "        <td style=\"padding-left: 1em; padding-right: 1em; text-align: center; vertical-align: top\">0</td>\n",
       "    </tr>\n",
       "    <tr>\n",
       "        <td style=\"padding-left: 1em; padding-right: 1em; text-align: center; vertical-align: top\">7237550310</td>\n",
       "        <td style=\"padding-left: 1em; padding-right: 1em; text-align: center; vertical-align: top\">2014-05-12 00:00:00+00:00</td>\n",
       "        <td style=\"padding-left: 1em; padding-right: 1em; text-align: center; vertical-align: top\">1225000</td>\n",
       "        <td style=\"padding-left: 1em; padding-right: 1em; text-align: center; vertical-align: top\">4</td>\n",
       "        <td style=\"padding-left: 1em; padding-right: 1em; text-align: center; vertical-align: top\">4.5</td>\n",
       "        <td style=\"padding-left: 1em; padding-right: 1em; text-align: center; vertical-align: top\">5420</td>\n",
       "        <td style=\"padding-left: 1em; padding-right: 1em; text-align: center; vertical-align: top\">101930</td>\n",
       "        <td style=\"padding-left: 1em; padding-right: 1em; text-align: center; vertical-align: top\">1</td>\n",
       "        <td style=\"padding-left: 1em; padding-right: 1em; text-align: center; vertical-align: top\">0</td>\n",
       "    </tr>\n",
       "    <tr>\n",
       "        <td style=\"padding-left: 1em; padding-right: 1em; text-align: center; vertical-align: top\">1321400060</td>\n",
       "        <td style=\"padding-left: 1em; padding-right: 1em; text-align: center; vertical-align: top\">2014-06-27 00:00:00+00:00</td>\n",
       "        <td style=\"padding-left: 1em; padding-right: 1em; text-align: center; vertical-align: top\">257500</td>\n",
       "        <td style=\"padding-left: 1em; padding-right: 1em; text-align: center; vertical-align: top\">3</td>\n",
       "        <td style=\"padding-left: 1em; padding-right: 1em; text-align: center; vertical-align: top\">2.25</td>\n",
       "        <td style=\"padding-left: 1em; padding-right: 1em; text-align: center; vertical-align: top\">1715</td>\n",
       "        <td style=\"padding-left: 1em; padding-right: 1em; text-align: center; vertical-align: top\">6819</td>\n",
       "        <td style=\"padding-left: 1em; padding-right: 1em; text-align: center; vertical-align: top\">2</td>\n",
       "        <td style=\"padding-left: 1em; padding-right: 1em; text-align: center; vertical-align: top\">0</td>\n",
       "    </tr>\n",
       "    <tr>\n",
       "        <td style=\"padding-left: 1em; padding-right: 1em; text-align: center; vertical-align: top\">2008000270</td>\n",
       "        <td style=\"padding-left: 1em; padding-right: 1em; text-align: center; vertical-align: top\">2015-01-15 00:00:00+00:00</td>\n",
       "        <td style=\"padding-left: 1em; padding-right: 1em; text-align: center; vertical-align: top\">291850</td>\n",
       "        <td style=\"padding-left: 1em; padding-right: 1em; text-align: center; vertical-align: top\">3</td>\n",
       "        <td style=\"padding-left: 1em; padding-right: 1em; text-align: center; vertical-align: top\">1.5</td>\n",
       "        <td style=\"padding-left: 1em; padding-right: 1em; text-align: center; vertical-align: top\">1060</td>\n",
       "        <td style=\"padding-left: 1em; padding-right: 1em; text-align: center; vertical-align: top\">9711</td>\n",
       "        <td style=\"padding-left: 1em; padding-right: 1em; text-align: center; vertical-align: top\">1</td>\n",
       "        <td style=\"padding-left: 1em; padding-right: 1em; text-align: center; vertical-align: top\">0</td>\n",
       "    </tr>\n",
       "    <tr>\n",
       "        <td style=\"padding-left: 1em; padding-right: 1em; text-align: center; vertical-align: top\">2414600126</td>\n",
       "        <td style=\"padding-left: 1em; padding-right: 1em; text-align: center; vertical-align: top\">2015-04-15 00:00:00+00:00</td>\n",
       "        <td style=\"padding-left: 1em; padding-right: 1em; text-align: center; vertical-align: top\">229500</td>\n",
       "        <td style=\"padding-left: 1em; padding-right: 1em; text-align: center; vertical-align: top\">3</td>\n",
       "        <td style=\"padding-left: 1em; padding-right: 1em; text-align: center; vertical-align: top\">1</td>\n",
       "        <td style=\"padding-left: 1em; padding-right: 1em; text-align: center; vertical-align: top\">1780</td>\n",
       "        <td style=\"padding-left: 1em; padding-right: 1em; text-align: center; vertical-align: top\">7470</td>\n",
       "        <td style=\"padding-left: 1em; padding-right: 1em; text-align: center; vertical-align: top\">1</td>\n",
       "        <td style=\"padding-left: 1em; padding-right: 1em; text-align: center; vertical-align: top\">0</td>\n",
       "    </tr>\n",
       "    <tr>\n",
       "        <td style=\"padding-left: 1em; padding-right: 1em; text-align: center; vertical-align: top\">3793500160</td>\n",
       "        <td style=\"padding-left: 1em; padding-right: 1em; text-align: center; vertical-align: top\">2015-03-12 00:00:00+00:00</td>\n",
       "        <td style=\"padding-left: 1em; padding-right: 1em; text-align: center; vertical-align: top\">323000</td>\n",
       "        <td style=\"padding-left: 1em; padding-right: 1em; text-align: center; vertical-align: top\">3</td>\n",
       "        <td style=\"padding-left: 1em; padding-right: 1em; text-align: center; vertical-align: top\">2.5</td>\n",
       "        <td style=\"padding-left: 1em; padding-right: 1em; text-align: center; vertical-align: top\">1890</td>\n",
       "        <td style=\"padding-left: 1em; padding-right: 1em; text-align: center; vertical-align: top\">6560</td>\n",
       "        <td style=\"padding-left: 1em; padding-right: 1em; text-align: center; vertical-align: top\">2</td>\n",
       "        <td style=\"padding-left: 1em; padding-right: 1em; text-align: center; vertical-align: top\">0</td>\n",
       "    </tr>\n",
       "</table>\n",
       "<table frame=\"box\" rules=\"cols\">\n",
       "    <tr>\n",
       "        <th style=\"padding-left: 1em; padding-right: 1em; text-align: center\">view</th>\n",
       "        <th style=\"padding-left: 1em; padding-right: 1em; text-align: center\">condition</th>\n",
       "        <th style=\"padding-left: 1em; padding-right: 1em; text-align: center\">grade</th>\n",
       "        <th style=\"padding-left: 1em; padding-right: 1em; text-align: center\">sqft_above</th>\n",
       "        <th style=\"padding-left: 1em; padding-right: 1em; text-align: center\">sqft_basement</th>\n",
       "        <th style=\"padding-left: 1em; padding-right: 1em; text-align: center\">yr_built</th>\n",
       "        <th style=\"padding-left: 1em; padding-right: 1em; text-align: center\">yr_renovated</th>\n",
       "        <th style=\"padding-left: 1em; padding-right: 1em; text-align: center\">zipcode</th>\n",
       "        <th style=\"padding-left: 1em; padding-right: 1em; text-align: center\">lat</th>\n",
       "    </tr>\n",
       "    <tr>\n",
       "        <td style=\"padding-left: 1em; padding-right: 1em; text-align: center; vertical-align: top\">0</td>\n",
       "        <td style=\"padding-left: 1em; padding-right: 1em; text-align: center; vertical-align: top\">3</td>\n",
       "        <td style=\"padding-left: 1em; padding-right: 1em; text-align: center; vertical-align: top\">7</td>\n",
       "        <td style=\"padding-left: 1em; padding-right: 1em; text-align: center; vertical-align: top\">1180</td>\n",
       "        <td style=\"padding-left: 1em; padding-right: 1em; text-align: center; vertical-align: top\">0</td>\n",
       "        <td style=\"padding-left: 1em; padding-right: 1em; text-align: center; vertical-align: top\">1955</td>\n",
       "        <td style=\"padding-left: 1em; padding-right: 1em; text-align: center; vertical-align: top\">0</td>\n",
       "        <td style=\"padding-left: 1em; padding-right: 1em; text-align: center; vertical-align: top\">98178</td>\n",
       "        <td style=\"padding-left: 1em; padding-right: 1em; text-align: center; vertical-align: top\">47.51123398</td>\n",
       "    </tr>\n",
       "    <tr>\n",
       "        <td style=\"padding-left: 1em; padding-right: 1em; text-align: center; vertical-align: top\">0</td>\n",
       "        <td style=\"padding-left: 1em; padding-right: 1em; text-align: center; vertical-align: top\">3</td>\n",
       "        <td style=\"padding-left: 1em; padding-right: 1em; text-align: center; vertical-align: top\">7</td>\n",
       "        <td style=\"padding-left: 1em; padding-right: 1em; text-align: center; vertical-align: top\">2170</td>\n",
       "        <td style=\"padding-left: 1em; padding-right: 1em; text-align: center; vertical-align: top\">400</td>\n",
       "        <td style=\"padding-left: 1em; padding-right: 1em; text-align: center; vertical-align: top\">1951</td>\n",
       "        <td style=\"padding-left: 1em; padding-right: 1em; text-align: center; vertical-align: top\">1991</td>\n",
       "        <td style=\"padding-left: 1em; padding-right: 1em; text-align: center; vertical-align: top\">98125</td>\n",
       "        <td style=\"padding-left: 1em; padding-right: 1em; text-align: center; vertical-align: top\">47.72102274</td>\n",
       "    </tr>\n",
       "    <tr>\n",
       "        <td style=\"padding-left: 1em; padding-right: 1em; text-align: center; vertical-align: top\">0</td>\n",
       "        <td style=\"padding-left: 1em; padding-right: 1em; text-align: center; vertical-align: top\">3</td>\n",
       "        <td style=\"padding-left: 1em; padding-right: 1em; text-align: center; vertical-align: top\">6</td>\n",
       "        <td style=\"padding-left: 1em; padding-right: 1em; text-align: center; vertical-align: top\">770</td>\n",
       "        <td style=\"padding-left: 1em; padding-right: 1em; text-align: center; vertical-align: top\">0</td>\n",
       "        <td style=\"padding-left: 1em; padding-right: 1em; text-align: center; vertical-align: top\">1933</td>\n",
       "        <td style=\"padding-left: 1em; padding-right: 1em; text-align: center; vertical-align: top\">0</td>\n",
       "        <td style=\"padding-left: 1em; padding-right: 1em; text-align: center; vertical-align: top\">98028</td>\n",
       "        <td style=\"padding-left: 1em; padding-right: 1em; text-align: center; vertical-align: top\">47.73792661</td>\n",
       "    </tr>\n",
       "    <tr>\n",
       "        <td style=\"padding-left: 1em; padding-right: 1em; text-align: center; vertical-align: top\">0</td>\n",
       "        <td style=\"padding-left: 1em; padding-right: 1em; text-align: center; vertical-align: top\">5</td>\n",
       "        <td style=\"padding-left: 1em; padding-right: 1em; text-align: center; vertical-align: top\">7</td>\n",
       "        <td style=\"padding-left: 1em; padding-right: 1em; text-align: center; vertical-align: top\">1050</td>\n",
       "        <td style=\"padding-left: 1em; padding-right: 1em; text-align: center; vertical-align: top\">910</td>\n",
       "        <td style=\"padding-left: 1em; padding-right: 1em; text-align: center; vertical-align: top\">1965</td>\n",
       "        <td style=\"padding-left: 1em; padding-right: 1em; text-align: center; vertical-align: top\">0</td>\n",
       "        <td style=\"padding-left: 1em; padding-right: 1em; text-align: center; vertical-align: top\">98136</td>\n",
       "        <td style=\"padding-left: 1em; padding-right: 1em; text-align: center; vertical-align: top\">47.52082</td>\n",
       "    </tr>\n",
       "    <tr>\n",
       "        <td style=\"padding-left: 1em; padding-right: 1em; text-align: center; vertical-align: top\">0</td>\n",
       "        <td style=\"padding-left: 1em; padding-right: 1em; text-align: center; vertical-align: top\">3</td>\n",
       "        <td style=\"padding-left: 1em; padding-right: 1em; text-align: center; vertical-align: top\">8</td>\n",
       "        <td style=\"padding-left: 1em; padding-right: 1em; text-align: center; vertical-align: top\">1680</td>\n",
       "        <td style=\"padding-left: 1em; padding-right: 1em; text-align: center; vertical-align: top\">0</td>\n",
       "        <td style=\"padding-left: 1em; padding-right: 1em; text-align: center; vertical-align: top\">1987</td>\n",
       "        <td style=\"padding-left: 1em; padding-right: 1em; text-align: center; vertical-align: top\">0</td>\n",
       "        <td style=\"padding-left: 1em; padding-right: 1em; text-align: center; vertical-align: top\">98074</td>\n",
       "        <td style=\"padding-left: 1em; padding-right: 1em; text-align: center; vertical-align: top\">47.61681228</td>\n",
       "    </tr>\n",
       "    <tr>\n",
       "        <td style=\"padding-left: 1em; padding-right: 1em; text-align: center; vertical-align: top\">0</td>\n",
       "        <td style=\"padding-left: 1em; padding-right: 1em; text-align: center; vertical-align: top\">3</td>\n",
       "        <td style=\"padding-left: 1em; padding-right: 1em; text-align: center; vertical-align: top\">11</td>\n",
       "        <td style=\"padding-left: 1em; padding-right: 1em; text-align: center; vertical-align: top\">3890</td>\n",
       "        <td style=\"padding-left: 1em; padding-right: 1em; text-align: center; vertical-align: top\">1530</td>\n",
       "        <td style=\"padding-left: 1em; padding-right: 1em; text-align: center; vertical-align: top\">2001</td>\n",
       "        <td style=\"padding-left: 1em; padding-right: 1em; text-align: center; vertical-align: top\">0</td>\n",
       "        <td style=\"padding-left: 1em; padding-right: 1em; text-align: center; vertical-align: top\">98053</td>\n",
       "        <td style=\"padding-left: 1em; padding-right: 1em; text-align: center; vertical-align: top\">47.65611835</td>\n",
       "    </tr>\n",
       "    <tr>\n",
       "        <td style=\"padding-left: 1em; padding-right: 1em; text-align: center; vertical-align: top\">0</td>\n",
       "        <td style=\"padding-left: 1em; padding-right: 1em; text-align: center; vertical-align: top\">3</td>\n",
       "        <td style=\"padding-left: 1em; padding-right: 1em; text-align: center; vertical-align: top\">7</td>\n",
       "        <td style=\"padding-left: 1em; padding-right: 1em; text-align: center; vertical-align: top\">1715</td>\n",
       "        <td style=\"padding-left: 1em; padding-right: 1em; text-align: center; vertical-align: top\">0</td>\n",
       "        <td style=\"padding-left: 1em; padding-right: 1em; text-align: center; vertical-align: top\">1995</td>\n",
       "        <td style=\"padding-left: 1em; padding-right: 1em; text-align: center; vertical-align: top\">0</td>\n",
       "        <td style=\"padding-left: 1em; padding-right: 1em; text-align: center; vertical-align: top\">98003</td>\n",
       "        <td style=\"padding-left: 1em; padding-right: 1em; text-align: center; vertical-align: top\">47.30972002</td>\n",
       "    </tr>\n",
       "    <tr>\n",
       "        <td style=\"padding-left: 1em; padding-right: 1em; text-align: center; vertical-align: top\">0</td>\n",
       "        <td style=\"padding-left: 1em; padding-right: 1em; text-align: center; vertical-align: top\">3</td>\n",
       "        <td style=\"padding-left: 1em; padding-right: 1em; text-align: center; vertical-align: top\">7</td>\n",
       "        <td style=\"padding-left: 1em; padding-right: 1em; text-align: center; vertical-align: top\">1060</td>\n",
       "        <td style=\"padding-left: 1em; padding-right: 1em; text-align: center; vertical-align: top\">0</td>\n",
       "        <td style=\"padding-left: 1em; padding-right: 1em; text-align: center; vertical-align: top\">1963</td>\n",
       "        <td style=\"padding-left: 1em; padding-right: 1em; text-align: center; vertical-align: top\">0</td>\n",
       "        <td style=\"padding-left: 1em; padding-right: 1em; text-align: center; vertical-align: top\">98198</td>\n",
       "        <td style=\"padding-left: 1em; padding-right: 1em; text-align: center; vertical-align: top\">47.40949984</td>\n",
       "    </tr>\n",
       "    <tr>\n",
       "        <td style=\"padding-left: 1em; padding-right: 1em; text-align: center; vertical-align: top\">0</td>\n",
       "        <td style=\"padding-left: 1em; padding-right: 1em; text-align: center; vertical-align: top\">3</td>\n",
       "        <td style=\"padding-left: 1em; padding-right: 1em; text-align: center; vertical-align: top\">7</td>\n",
       "        <td style=\"padding-left: 1em; padding-right: 1em; text-align: center; vertical-align: top\">1050</td>\n",
       "        <td style=\"padding-left: 1em; padding-right: 1em; text-align: center; vertical-align: top\">730</td>\n",
       "        <td style=\"padding-left: 1em; padding-right: 1em; text-align: center; vertical-align: top\">1960</td>\n",
       "        <td style=\"padding-left: 1em; padding-right: 1em; text-align: center; vertical-align: top\">0</td>\n",
       "        <td style=\"padding-left: 1em; padding-right: 1em; text-align: center; vertical-align: top\">98146</td>\n",
       "        <td style=\"padding-left: 1em; padding-right: 1em; text-align: center; vertical-align: top\">47.51229381</td>\n",
       "    </tr>\n",
       "    <tr>\n",
       "        <td style=\"padding-left: 1em; padding-right: 1em; text-align: center; vertical-align: top\">0</td>\n",
       "        <td style=\"padding-left: 1em; padding-right: 1em; text-align: center; vertical-align: top\">3</td>\n",
       "        <td style=\"padding-left: 1em; padding-right: 1em; text-align: center; vertical-align: top\">7</td>\n",
       "        <td style=\"padding-left: 1em; padding-right: 1em; text-align: center; vertical-align: top\">1890</td>\n",
       "        <td style=\"padding-left: 1em; padding-right: 1em; text-align: center; vertical-align: top\">0</td>\n",
       "        <td style=\"padding-left: 1em; padding-right: 1em; text-align: center; vertical-align: top\">2003</td>\n",
       "        <td style=\"padding-left: 1em; padding-right: 1em; text-align: center; vertical-align: top\">0</td>\n",
       "        <td style=\"padding-left: 1em; padding-right: 1em; text-align: center; vertical-align: top\">98038</td>\n",
       "        <td style=\"padding-left: 1em; padding-right: 1em; text-align: center; vertical-align: top\">47.36840673</td>\n",
       "    </tr>\n",
       "</table>\n",
       "<table frame=\"box\" rules=\"cols\">\n",
       "    <tr>\n",
       "        <th style=\"padding-left: 1em; padding-right: 1em; text-align: center\">long</th>\n",
       "        <th style=\"padding-left: 1em; padding-right: 1em; text-align: center\">sqft_living15</th>\n",
       "        <th style=\"padding-left: 1em; padding-right: 1em; text-align: center\">sqft_lot15</th>\n",
       "    </tr>\n",
       "    <tr>\n",
       "        <td style=\"padding-left: 1em; padding-right: 1em; text-align: center; vertical-align: top\">-122.25677536</td>\n",
       "        <td style=\"padding-left: 1em; padding-right: 1em; text-align: center; vertical-align: top\">1340.0</td>\n",
       "        <td style=\"padding-left: 1em; padding-right: 1em; text-align: center; vertical-align: top\">5650.0</td>\n",
       "    </tr>\n",
       "    <tr>\n",
       "        <td style=\"padding-left: 1em; padding-right: 1em; text-align: center; vertical-align: top\">-122.3188624</td>\n",
       "        <td style=\"padding-left: 1em; padding-right: 1em; text-align: center; vertical-align: top\">1690.0</td>\n",
       "        <td style=\"padding-left: 1em; padding-right: 1em; text-align: center; vertical-align: top\">7639.0</td>\n",
       "    </tr>\n",
       "    <tr>\n",
       "        <td style=\"padding-left: 1em; padding-right: 1em; text-align: center; vertical-align: top\">-122.23319601</td>\n",
       "        <td style=\"padding-left: 1em; padding-right: 1em; text-align: center; vertical-align: top\">2720.0</td>\n",
       "        <td style=\"padding-left: 1em; padding-right: 1em; text-align: center; vertical-align: top\">8062.0</td>\n",
       "    </tr>\n",
       "    <tr>\n",
       "        <td style=\"padding-left: 1em; padding-right: 1em; text-align: center; vertical-align: top\">-122.39318505</td>\n",
       "        <td style=\"padding-left: 1em; padding-right: 1em; text-align: center; vertical-align: top\">1360.0</td>\n",
       "        <td style=\"padding-left: 1em; padding-right: 1em; text-align: center; vertical-align: top\">5000.0</td>\n",
       "    </tr>\n",
       "    <tr>\n",
       "        <td style=\"padding-left: 1em; padding-right: 1em; text-align: center; vertical-align: top\">-122.04490059</td>\n",
       "        <td style=\"padding-left: 1em; padding-right: 1em; text-align: center; vertical-align: top\">1800.0</td>\n",
       "        <td style=\"padding-left: 1em; padding-right: 1em; text-align: center; vertical-align: top\">7503.0</td>\n",
       "    </tr>\n",
       "    <tr>\n",
       "        <td style=\"padding-left: 1em; padding-right: 1em; text-align: center; vertical-align: top\">-122.00528655</td>\n",
       "        <td style=\"padding-left: 1em; padding-right: 1em; text-align: center; vertical-align: top\">4760.0</td>\n",
       "        <td style=\"padding-left: 1em; padding-right: 1em; text-align: center; vertical-align: top\">101930.0</td>\n",
       "    </tr>\n",
       "    <tr>\n",
       "        <td style=\"padding-left: 1em; padding-right: 1em; text-align: center; vertical-align: top\">-122.32704857</td>\n",
       "        <td style=\"padding-left: 1em; padding-right: 1em; text-align: center; vertical-align: top\">2238.0</td>\n",
       "        <td style=\"padding-left: 1em; padding-right: 1em; text-align: center; vertical-align: top\">6819.0</td>\n",
       "    </tr>\n",
       "    <tr>\n",
       "        <td style=\"padding-left: 1em; padding-right: 1em; text-align: center; vertical-align: top\">-122.31457273</td>\n",
       "        <td style=\"padding-left: 1em; padding-right: 1em; text-align: center; vertical-align: top\">1650.0</td>\n",
       "        <td style=\"padding-left: 1em; padding-right: 1em; text-align: center; vertical-align: top\">9711.0</td>\n",
       "    </tr>\n",
       "    <tr>\n",
       "        <td style=\"padding-left: 1em; padding-right: 1em; text-align: center; vertical-align: top\">-122.33659507</td>\n",
       "        <td style=\"padding-left: 1em; padding-right: 1em; text-align: center; vertical-align: top\">1780.0</td>\n",
       "        <td style=\"padding-left: 1em; padding-right: 1em; text-align: center; vertical-align: top\">8113.0</td>\n",
       "    </tr>\n",
       "    <tr>\n",
       "        <td style=\"padding-left: 1em; padding-right: 1em; text-align: center; vertical-align: top\">-122.0308176</td>\n",
       "        <td style=\"padding-left: 1em; padding-right: 1em; text-align: center; vertical-align: top\">2390.0</td>\n",
       "        <td style=\"padding-left: 1em; padding-right: 1em; text-align: center; vertical-align: top\">7570.0</td>\n",
       "    </tr>\n",
       "</table>\n",
       "[21613 rows x 21 columns]<br/>Note: Only the head of the SFrame is printed.<br/>You can use print_rows(num_rows=m, num_columns=n) to print more rows and columns.\n",
       "</div>"
      ],
      "text/plain": [
       "Columns:\n",
       "\tid\tstr\n",
       "\tdate\tdatetime\n",
       "\tprice\tint\n",
       "\tbedrooms\tstr\n",
       "\tbathrooms\tstr\n",
       "\tsqft_living\tint\n",
       "\tsqft_lot\tint\n",
       "\tfloors\tstr\n",
       "\twaterfront\tint\n",
       "\tview\tint\n",
       "\tcondition\tint\n",
       "\tgrade\tint\n",
       "\tsqft_above\tint\n",
       "\tsqft_basement\tint\n",
       "\tyr_built\tint\n",
       "\tyr_renovated\tint\n",
       "\tzipcode\tstr\n",
       "\tlat\tfloat\n",
       "\tlong\tfloat\n",
       "\tsqft_living15\tfloat\n",
       "\tsqft_lot15\tfloat\n",
       "\n",
       "Rows: 21613\n",
       "\n",
       "Data:\n",
       "+------------+---------------------------+---------+----------+-----------+-------------+\n",
       "|     id     |            date           |  price  | bedrooms | bathrooms | sqft_living |\n",
       "+------------+---------------------------+---------+----------+-----------+-------------+\n",
       "| 7129300520 | 2014-10-13 00:00:00+00:00 |  221900 |    3     |     1     |     1180    |\n",
       "| 6414100192 | 2014-12-09 00:00:00+00:00 |  538000 |    3     |    2.25   |     2570    |\n",
       "| 5631500400 | 2015-02-25 00:00:00+00:00 |  180000 |    2     |     1     |     770     |\n",
       "| 2487200875 | 2014-12-09 00:00:00+00:00 |  604000 |    4     |     3     |     1960    |\n",
       "| 1954400510 | 2015-02-18 00:00:00+00:00 |  510000 |    3     |     2     |     1680    |\n",
       "| 7237550310 | 2014-05-12 00:00:00+00:00 | 1225000 |    4     |    4.5    |     5420    |\n",
       "| 1321400060 | 2014-06-27 00:00:00+00:00 |  257500 |    3     |    2.25   |     1715    |\n",
       "| 2008000270 | 2015-01-15 00:00:00+00:00 |  291850 |    3     |    1.5    |     1060    |\n",
       "| 2414600126 | 2015-04-15 00:00:00+00:00 |  229500 |    3     |     1     |     1780    |\n",
       "| 3793500160 | 2015-03-12 00:00:00+00:00 |  323000 |    3     |    2.5    |     1890    |\n",
       "+------------+---------------------------+---------+----------+-----------+-------------+\n",
       "+----------+--------+------------+------+-----------+-------+------------+---------------+\n",
       "| sqft_lot | floors | waterfront | view | condition | grade | sqft_above | sqft_basement |\n",
       "+----------+--------+------------+------+-----------+-------+------------+---------------+\n",
       "|   5650   |   1    |     0      |  0   |     3     |   7   |    1180    |       0       |\n",
       "|   7242   |   2    |     0      |  0   |     3     |   7   |    2170    |      400      |\n",
       "|  10000   |   1    |     0      |  0   |     3     |   6   |    770     |       0       |\n",
       "|   5000   |   1    |     0      |  0   |     5     |   7   |    1050    |      910      |\n",
       "|   8080   |   1    |     0      |  0   |     3     |   8   |    1680    |       0       |\n",
       "|  101930  |   1    |     0      |  0   |     3     |   11  |    3890    |      1530     |\n",
       "|   6819   |   2    |     0      |  0   |     3     |   7   |    1715    |       0       |\n",
       "|   9711   |   1    |     0      |  0   |     3     |   7   |    1060    |       0       |\n",
       "|   7470   |   1    |     0      |  0   |     3     |   7   |    1050    |      730      |\n",
       "|   6560   |   2    |     0      |  0   |     3     |   7   |    1890    |       0       |\n",
       "+----------+--------+------------+------+-----------+-------+------------+---------------+\n",
       "+----------+--------------+---------+-------------+---------------+---------------+-----+\n",
       "| yr_built | yr_renovated | zipcode |     lat     |      long     | sqft_living15 | ... |\n",
       "+----------+--------------+---------+-------------+---------------+---------------+-----+\n",
       "|   1955   |      0       |  98178  | 47.51123398 | -122.25677536 |     1340.0    | ... |\n",
       "|   1951   |     1991     |  98125  | 47.72102274 |  -122.3188624 |     1690.0    | ... |\n",
       "|   1933   |      0       |  98028  | 47.73792661 | -122.23319601 |     2720.0    | ... |\n",
       "|   1965   |      0       |  98136  |   47.52082  | -122.39318505 |     1360.0    | ... |\n",
       "|   1987   |      0       |  98074  | 47.61681228 | -122.04490059 |     1800.0    | ... |\n",
       "|   2001   |      0       |  98053  | 47.65611835 | -122.00528655 |     4760.0    | ... |\n",
       "|   1995   |      0       |  98003  | 47.30972002 | -122.32704857 |     2238.0    | ... |\n",
       "|   1963   |      0       |  98198  | 47.40949984 | -122.31457273 |     1650.0    | ... |\n",
       "|   1960   |      0       |  98146  | 47.51229381 | -122.33659507 |     1780.0    | ... |\n",
       "|   2003   |      0       |  98038  | 47.36840673 |  -122.0308176 |     2390.0    | ... |\n",
       "+----------+--------------+---------+-------------+---------------+---------------+-----+\n",
       "[21613 rows x 21 columns]\n",
       "Note: Only the head of the SFrame is printed.\n",
       "You can use print_rows(num_rows=m, num_columns=n) to print more rows and columns."
      ]
     },
     "execution_count": 3,
     "metadata": {},
     "output_type": "execute_result"
    }
   ],
   "source": [
    "sales"
   ]
  },
  {
   "cell_type": "markdown",
   "metadata": {},
   "source": [
    "#Exploring the data for housing sales "
   ]
  },
  {
   "cell_type": "markdown",
   "metadata": {},
   "source": [
    "The house price is correlated with the number of square feet of living space."
   ]
  },
  {
   "cell_type": "code",
   "execution_count": 4,
   "metadata": {
    "collapsed": false
   },
   "outputs": [
    {
     "data": {
      "application/javascript": [
       "$(\"head\").append($(\"<link/>\").attr({\n",
       "  rel:  \"stylesheet\",\n",
       "  type: \"text/css\",\n",
       "  href: \"//cdnjs.cloudflare.com/ajax/libs/font-awesome/4.1.0/css/font-awesome.min.css\"\n",
       "}));\n",
       "$(\"head\").append($(\"<link/>\").attr({\n",
       "  rel:  \"stylesheet\",\n",
       "  type: \"text/css\",\n",
       "  href: \"https://static.turi.com/products/graphlab-create/2.1/canvas/css/canvas.css\"\n",
       "}));\n",
       "\n",
       "            (function(){\n",
       "\n",
       "                var e = null;\n",
       "                if (typeof element == 'undefined') {\n",
       "                    var scripts = document.getElementsByTagName('script');\n",
       "                    var thisScriptTag = scripts[scripts.length-1];\n",
       "                    var parentDiv = thisScriptTag.parentNode;\n",
       "                    e = document.createElement('div');\n",
       "                    parentDiv.appendChild(e);\n",
       "                } else {\n",
       "                    e = element[0];\n",
       "                }\n",
       "\n",
       "                if (typeof requirejs !== 'undefined') {\n",
       "                    // disable load timeout; ipython_app.js is large and can take a while to load.\n",
       "                    requirejs.config({waitSeconds: 0});\n",
       "                }\n",
       "\n",
       "                require(['https://static.turi.com/products/graphlab-create/2.1/canvas/js/ipython_app.js'], function(IPythonApp){\n",
       "                    var app = new IPythonApp();\n",
       "                    app.attachView('sframe','Plots', {\"selected_variable\": {\"name\": [\"sales\"], \"descriptives\": {\"rows\": 21613, \"columns\": 21}, \"view_component\": \"Plots\", \"view_file\": \"sframe\", \"view_params\": {\"y\": \"price\", \"x\": \"sqft_living\", \"columns\": [\"id\", \"date\", \"price\", \"bedrooms\", \"bathrooms\", \"sqft_living\", \"sqft_lot\", \"floors\", \"waterfront\", \"view\", \"condition\", \"grade\", \"sqft_above\", \"sqft_basement\", \"yr_built\", \"yr_renovated\", \"zipcode\", \"lat\", \"long\", \"sqft_living15\", \"sqft_lot15\"], \"view\": \"Scatter Plot\"}, \"view_components\": [\"Summary\", \"Table\", \"Bar Chart\", \"BoxWhisker Plot\", \"Line Chart\", \"Scatter Plot\", \"Heat Map\", \"Plots\"], \"type\": \"SFrame\", \"columns\": [{\"dtype\": \"str\", \"name\": \"id\"}, {\"dtype\": \"datetime\", \"name\": \"date\"}, {\"dtype\": \"int\", \"name\": \"price\"}, {\"dtype\": \"str\", \"name\": \"bedrooms\"}, {\"dtype\": \"str\", \"name\": \"bathrooms\"}, {\"dtype\": \"int\", \"name\": \"sqft_living\"}, {\"dtype\": \"int\", \"name\": \"sqft_lot\"}, {\"dtype\": \"str\", \"name\": \"floors\"}, {\"dtype\": \"int\", \"name\": \"waterfront\"}, {\"dtype\": \"int\", \"name\": \"view\"}, {\"dtype\": \"int\", \"name\": \"condition\"}, {\"dtype\": \"int\", \"name\": \"grade\"}, {\"dtype\": \"int\", \"name\": \"sqft_above\"}, {\"dtype\": \"int\", \"name\": \"sqft_basement\"}, {\"dtype\": \"int\", \"name\": \"yr_built\"}, {\"dtype\": \"int\", \"name\": \"yr_renovated\"}, {\"dtype\": \"str\", \"name\": \"zipcode\"}, {\"dtype\": \"float\", \"name\": \"lat\"}, {\"dtype\": \"float\", \"name\": \"long\"}, {\"dtype\": \"float\", \"name\": \"sqft_living15\"}, {\"dtype\": \"float\", \"name\": \"sqft_lot15\"}], \"column_identifiers\": [\"bathrooms\", \"sqft_living15\", \"sqft_above\", \"grade\", \"yr_built\", \"price\", \"bedrooms\", \"zipcode\", \"long\", \"id\", \"sqft_lot15\", \"sqft_living\", \"floors\", \"sqft_lot\", \"date\", \"waterfront\", \"sqft_basement\", \"yr_renovated\", \"lat\", \"condition\", \"view\"]}, \"complete\": 1, \"ipython\": true, \"progress\": 1.0, \"data\": [[2000, 538000], [1420, 404000], [2620, 615000], [2290, 435000], [3040, 735000], [2510, 395000], [2920, 550000], [2690, 515000], [1470, 865000], [2020, 415000], [1680, 451000], [1210, 315000], [1040, 225000], [1700, 565000], [2270, 435000], [2250, 390000], [3720, 875000], [1130, 565000], [1210, 357562], [2600, 510000], [2760, 300000], [1780, 200000], [1060, 346000], [1960, 280000], [1740, 450000], [2150, 458000], [1250, 345000], [1590, 225500], [3580, 700000], [1240, 297950], [1360, 300000], [1370, 168000], [1320, 221000], [1130, 325000], [2690, 645000], [2530, 625000], [2440, 849000], [2060, 460000], [4360, 795127], [2440, 485000], [710, 385195], [750, 370000], [1020, 231750], [2390, 460000], [3400, 1198000], [1600, 625000], [1680, 545000], [1370, 160000], [810, 170000], [1910, 700000], [2280, 660000], [3020, 1272000], [3320, 667000], [1070, 550000], [1970, 285000], [1400, 218500], [1630, 280000], [2340, 485000], [2670, 668000], [2290, 420000], [5840, 2200000], [3110, 751000], [1730, 302200], [3360, 950000], [1850, 475000], [1820, 655000], [1480, 237500], [2060, 815000], [3270, 735000], [2440, 435000], [1820, 456000], [3110, 725000], [1850, 475000], [2200, 345000], [1590, 325000], [1460, 135000], [1650, 361000], [3010, 848000], [1440, 490000], [1590, 300000], [1750, 750000], [2780, 830000], [2100, 610000], [1650, 390000], [1800, 625000], [1260, 531000], [1780, 679000], [2400, 380000], [1690, 457000], [1820, 680000], [1020, 245000], [1280, 386500], [1800, 391000], [2340, 345000], [800, 335950], [1140, 340000], [2510, 788500], [1980, 350000], [2950, 495000], [1810, 517500], [1840, 380000], [4220, 1575000], [1200, 165000], [2610, 294950], [1780, 315000], [1860, 265000], [3080, 2160000], [1560, 259900], [1660, 620000], [3330, 760000], [1680, 265000], [1460, 430000], [4090, 1290000], [1470, 490000], [1550, 453000], [1050, 435000], [1590, 518500], [2170, 340000], [2480, 620000], [2820, 690000], [2500, 530000], [1660, 279950], [2600, 750000], [2300, 900000], [1800, 286000], [2740, 395000], [2100, 445000], [2080, 480000], [2760, 834538], [1990, 310000], [1850, 440250], [3920, 889000], [2910, 499000], [1040, 270000], [1500, 182568], [2500, 575000], [2050, 770000], [2630, 738000], [1600, 550000], [1460, 538000], [1410, 391000], [1940, 577000], [2180, 612000], [1500, 440000], [1140, 407000], [4580, 2000000], [1480, 256000], [1390, 431000], [1690, 487250], [1500, 332500], [2180, 419000], [1210, 342500], [1250, 282950], [1440, 432250], [4250, 1615000], [2800, 940000], [890, 150000], [2840, 462000], [3400, 715000], [1840, 625000], [3450, 2225000], [2800, 444000], [1670, 554000], [1540, 515000], [2110, 540000], [1510, 366000], [1630, 426000], [1440, 315275], [2670, 744000], [940, 725000], [2020, 495000], [2500, 646000], [1190, 587100], [2610, 810000], [1930, 345000], [3300, 780000], [3670, 820000], [1670, 649950], [1710, 415000], [1360, 499950], [1650, 266750], [1420, 329922], [1140, 249900], [1240, 140000], [1510, 172500], [1610, 435000], [960, 457500], [1220, 177500], [1930, 390000], [962, 390000], [1160, 182000], [3150, 614000], [3070, 725786], [1590, 783200], [2480, 840000], [2660, 605000], [2460, 693000], [1620, 265000], [2990, 760000], [1470, 650000], [3740, 1078500], [2150, 380000], [1010, 470000], [2080, 600000], [2280, 420000], [2140, 780000], [2460, 425000], [1370, 320000], [2190, 700000], [2200, 505000], [1160, 351000], [1360, 425000], [1070, 505000], [2030, 304500], [920, 530000], [1680, 591000], [1810, 362000], [2540, 630000], [2830, 680000], [2210, 510000], [3100, 1001000], [1750, 279950], [780, 190000], [1670, 375000], [2750, 556000], [1460, 237950], [1650, 559000], [2670, 370000], [1430, 440000], [1200, 234000], [4600, 2408000], [1880, 324900], [1310, 222000], [1820, 875000], [2080, 780000], [1730, 216000], [1320, 359000], [2605, 1017000], [1930, 407500], [2820, 432000], [3120, 855000], [1880, 860000], [2080, 365000], [1300, 225000], [3030, 1220000], [1790, 455000], [2030, 365000], [720, 181000], [2370, 577000], [1550, 622000], [2080, 616500], [2170, 765000], [2350, 295000], [1550, 330000], [1240, 380000], [1980, 711000], [1840, 265000], [1960, 550000], [1230, 255000], [2810, 999000], [1812, 370000], [2620, 443000], [1580, 213550], [850, 308500], [1290, 255000], [2600, 444500], [1760, 255000], [2100, 375000], [1010, 356999], [2250, 390000], [1160, 875000], [1960, 285750], [1250, 225000], [1540, 252000], [1990, 545000], [1900, 667000], [2290, 450000], [1990, 627000], [1310, 219000], [1320, 402000], [1010, 283700], [2400, 592000], [1820, 365000], [3370, 1135000], [1400, 253400], [1820, 775000], [2500, 467000], [2010, 699000], [1790, 244950], [1550, 481015], [2200, 885000], [1900, 255000], [2370, 495000], [3060, 415000], [800, 230000], [700, 310000], [1010, 300000], [590, 240000], [1810, 208000], [2150, 437400], [840, 377500], [2080, 436800], [2170, 296500], [1560, 545500], [1170, 581000], [2430, 791000], [1040, 330000], [3700, 1295000], [1570, 352500], [1120, 290000], [1700, 277500], [1850, 580000], [2500, 415000], [4290, 1384000], [1780, 372000], [2170, 840000], [1320, 499000], [2990, 600000], [900, 304000], [2150, 559500], [2720, 456000], [1020, 325000], [3180, 1236300], [2370, 404000], [1500, 240000], [1240, 240500], [1590, 556000], [1610, 630000], [3370, 561000], [1610, 319000], [1090, 197000], [940, 481203], [2170, 907000], [1320, 249950], [2490, 940000], [1350, 480000], [2330, 535000], [2660, 580000], [6550, 1500000], [1740, 245000], [1530, 583500], [1900, 450000], [1790, 317000], [1275, 309600], [3000, 666000], [720, 210000], [1330, 552100], [3360, 738515], [2520, 1100000], [2530, 902000], [2410, 432000], [1680, 315000], [2470, 732500], [2790, 484259], [1820, 425000], [1490, 429000], [1240, 412000], [1010, 345000], [2930, 710000], [2170, 377000], [1200, 289500], [2920, 730000], [1890, 359950], [2610, 368000], [3040, 795000], [2070, 662500], [1860, 380000], [3090, 734000], [1790, 578000], [2800, 490000], [2120, 329950], [2550, 612500], [2009, 279000], [1120, 265000], [2420, 655000], [900, 235000], [2290, 991700], [3770, 1229000], [2020, 542000], [2700, 580000], [2570, 705000], [2480, 540000], [1890, 550000], [2420, 774888], [4280, 734950], [3150, 750000], [2450, 605000], [2240, 635000], [2490, 950000], [1830, 350000], [1480, 490000], [1390, 288790], [2483, 360000], [1070, 500000], [2760, 492500], [1150, 346100], [1150, 415950], [2010, 551000], [2000, 380000], [3560, 882566], [2960, 633634], [1830, 583000], [2230, 323000], [1830, 212000], [2980, 1155000], [2520, 450000], [5320, 1062500], [1450, 490000], [1830, 300000], [4360, 1450000], [1810, 279000], [1960, 320000], [1290, 163000], [3310, 803100], [1250, 144000], [2910, 570000], [1540, 270000], [2250, 735000], [700, 84000], [1210, 285000], [2300, 258750], [900, 355000], [2180, 235000], [2740, 407500], [2370, 687000], [1770, 245000], [3870, 589900], [1190, 312000], [3210, 565000], [1420, 269000], [1430, 356000], [2370, 675000], [2610, 1000000], [1850, 295000], [1000, 196000], [2980, 680000], [740, 213800], [780, 360000], [2340, 235500], [4170, 1088000], [1020, 225000], [3600, 682000], [2950, 825750], [5610, 1583000], [1440, 290000], [1660, 250000], [2475, 319900], [1700, 290000], [2620, 1880000], [2540, 385000], [2420, 380000], [998, 324000], [1580, 536000], [1230, 383610], [1120, 310000], [750, 292500], [1550, 360000], [2140, 340000], [2180, 650000], [3420, 570000], [1470, 250000], [2120, 285000], [1530, 257500], [1070, 224400], [1480, 397500], [2300, 482000], [1590, 263000], [620, 382888], [2830, 738000], [2910, 589000], [1050, 375000], [1400, 570000], [1880, 1000000], [2940, 503000], [1280, 175000], [2680, 520000], [2153, 259000], [2650, 525000], [1750, 225000], [2850, 700000], [1500, 670000], [1250, 310000], [3200, 580000], [1770, 439950], [1460, 437000], [1770, 248000], [2502, 453000], [2520, 425000], [2240, 418200], [1170, 207500], [2460, 440500], [1480, 598950], [1430, 230000], [2230, 836500], [3710, 485000], [1520, 295000], [2880, 830000], [1570, 346500], [1270, 465000], [3670, 1250000], [2930, 800000], [1240, 336000], [1280, 281000], [1150, 307000], [3140, 925850], [2120, 249000], [1210, 529000], [1510, 400000], [940, 253905], [1950, 565000], [2390, 425000], [2380, 735000], [660, 100000], [2930, 1500000], [3220, 335000], [700, 367000], [2320, 630000], [1110, 399000], [2330, 615000], [1300, 310000], [2993, 540000], [1640, 772000], [2530, 515000], [1260, 477000], [3560, 435000], [2692, 435000], [2610, 610360], [3290, 680000], [1590, 365000], [1700, 331500], [1710, 445000], [2840, 870000], [4740, 970000], [1860, 967000], [1350, 322500], [2800, 529000], [1230, 252750], [1660, 610000], [1440, 410000], [1110, 369950], [2690, 829000], [4860, 2950000], [1700, 349950], [1270, 415000], [3220, 534950], [2280, 345000], [930, 550500], [850, 295000], [960, 232000], [4420, 1315000], [2740, 476000], [2310, 422000], [1890, 441000], [2030, 275000], [3540, 800000], [2120, 575000], [680, 252000], [990, 225000], [2560, 499000], [2520, 449888], [1584, 267000], [1960, 300000], [1430, 429000], [3720, 960000], [1610, 512500], [2930, 1047500], [3050, 555000], [1020, 280000], [3240, 625000], [3450, 990000], [1520, 405000], [2280, 700000], [2850, 1600000], [1600, 490000], [3260, 1880000], [2460, 630000], [3480, 852500], [1780, 240000], [1880, 460000], [2000, 526000], [3630, 1563100], [2120, 625000], [2870, 850000], [1470, 300000], [4770, 1475000], [1310, 390000], [5180, 1488000], [3000, 523000], [2780, 1140000], [2160, 625000], [1590, 665000], [2800, 605000], [2240, 527000], [1280, 187000], [3650, 835000], [1160, 210000], [1120, 549995], [1240, 350000], [940, 265000], [2940, 1600000], [1130, 210000], [1630, 425000], [1260, 259000], [1600, 220000], [1570, 359950], [1580, 515000], [3540, 1027500], [2180, 621138], [1700, 545000], [870, 271310], [2520, 429000], [1870, 650000], [3540, 784000], [1000, 525000], [930, 355000], [1470, 169000], [1470, 264000], [2820, 336000], [1240, 345000], [1850, 303000], [2180, 480500], [1660, 780000], [2800, 459950], [1500, 219950], [1450, 382000], [1550, 320000], [3750, 1245000], [1990, 334500], [1270, 415000], [2010, 465000], [1340, 281000], [2240, 300000], [1670, 495000], [1820, 790000], [2820, 697000], [1370, 815000], [1240, 315000], [2180, 568500], [1670, 565000], [710, 187250], [1810, 266490], [1670, 520000], [1170, 299950], [1160, 285000], [2630, 525000], [1300, 374990], [2430, 452500], [1654, 336600], [940, 325000], [2410, 555000], [1120, 228950], [2140, 675000], [2200, 285167], [1540, 257000], [2600, 599950], [1000, 378000], [1970, 625000], [3238, 355425], [3190, 1340000], [1250, 150000], [2410, 560000], [1540, 415000], [1360, 237100], [2030, 572500], [920, 265000], [1660, 315000], [1220, 306000], [2630, 655000], [2110, 585000], [2170, 400000], [3200, 399950], [1200, 340000], [2820, 635000], [2360, 753000], [1480, 369300], [4750, 1309500], [1750, 240000], [1640, 525000], [2891, 415000], [1230, 200000], [1530, 576250], [2630, 445000], [1260, 188200], [2060, 410000], [1480, 475000], [2730, 599000], [1300, 252000], [2210, 240000], [1660, 295000], [2850, 775000], [2095, 670000], [2400, 415000], [2190, 353000], [1980, 437000], [3500, 799000], [1600, 393500], [2510, 800000], [2460, 563225], [3690, 1899000], [2750, 1650000], [2810, 607000], [3950, 1249000], [2000, 290000], [3890, 985000], [980, 400000], [2020, 430000], [800, 330000], [1230, 415000], [1741, 300000], [750, 258000], [3910, 470000], [1400, 403000], [1860, 588000], [1440, 447000], [1860, 400000], [1860, 528000], [2440, 519950], [6210, 3200000], [2530, 375000], [2000, 334000], [1520, 517500], [3640, 1265000], [2070, 337500], [1280, 215000], [2430, 510000], [3110, 1415000], [1440, 352000], [2200, 268450], [1190, 322500], [1310, 307000], [2870, 570000], [2960, 883000], [2300, 560000], [1610, 390000], [2910, 530000], [2590, 925000], [1540, 439990], [1830, 465000], [2300, 440000], [2090, 555000], [1200, 242500], [1250, 410000], [1020, 242500], [1420, 364000], [1340, 354000], [1540, 345000], [2040, 279000], [1460, 285000], [2130, 515000], [2000, 440000], [1370, 547000], [980, 260000], [1710, 319950], [2360, 490000], [2830, 450000], [2710, 399900], [2390, 415000], [750, 338000], [1190, 210000], [2020, 633000], [1861, 499000], [3290, 695000], [2040, 325000], [2540, 655000], [1220, 280500], [2060, 560000], [1730, 596000], [3130, 685530], [3150, 600000], [2530, 355000], [1750, 199000], [1610, 293000], [2620, 475000], [920, 589000], [3980, 760000], [1160, 340000], [2750, 750000], [2800, 676000], [2270, 815000], [4860, 2250000], [2290, 840500], [1870, 455000], [1830, 295000], [2497, 275000], [2010, 972000], [1520, 375000], [1540, 235000], [1290, 658000], [2970, 526000], [2540, 265000], [1980, 530000], [1710, 353750], [680, 200000], [1050, 300000], [1830, 182500], [2690, 563750], [1120, 215000], [2210, 516000], [2100, 470000], [2570, 634000], [1410, 271920], [2620, 469000], [2530, 435000], [3230, 850000], [2270, 624900], [2190, 320000], [1890, 275000], [2070, 535000], [820, 320000], [4620, 575000], [3281, 471835], [950, 162950], [2390, 790000], [1550, 330000], [4210, 1054712], [3260, 820000], [2220, 225000], [2240, 905000], [2080, 550000], [1930, 310000], [1530, 536000], [2500, 990000], [2099, 289950], [910, 465000], [1260, 490000], [1140, 455000], [2300, 287000], [3320, 852600], [1400, 340000], [1680, 935000], [3680, 1050000], [3420, 789900], [2980, 595000], [1730, 267950], [2280, 557000], [2320, 450000], [1780, 270000], [2480, 555000], [1590, 599000], [1530, 255000], [1660, 282000], [5305, 2700000], [1790, 390000], [1040, 324950], [2700, 652500], [1510, 327000], [2060, 257500], [1720, 326000], [2270, 513000], [2580, 899900], [1700, 652000], [1230, 324950], [2020, 315000], [2170, 445000], [1360, 244000], [2740, 535000], [940, 416000], [980, 425000], [1570, 415000], [2160, 430000], [2840, 396000], [4370, 1025000], [1800, 205000], [1750, 260000], [3480, 1580000], [2150, 626000], [3240, 604000], [760, 530000], [1680, 289000], [850, 132500], [1830, 642450], [820, 150000], [2430, 940000], [930, 141800], [1300, 480000], [2000, 464000], [1210, 640000], [2690, 800000], [2220, 921000], [980, 550000], [1260, 414900], [1240, 505000], [2550, 353000], [1470, 400000], [1110, 130000], [1900, 476800], [1120, 225000], [2440, 954500], [1730, 357500], [1280, 167000], [3000, 740000], [1220, 295000], [1450, 222500], [1630, 475000], [2380, 350000], [1740, 645000], [1300, 350000], [2680, 660000], [1940, 639000], [1300, 515000], [1920, 625000], [2790, 589950], [1180, 399500], [1340, 279950], [820, 245000], [2070, 289950], [1630, 305000], [1954, 340000], [2160, 550000], [1400, 357250], [3420, 679000], [2700, 810000], [2330, 840000], [2460, 280000], [1750, 324000], [2180, 830000], [2070, 880000], [4970, 1436000], [1995, 266000], [2660, 525000], [1870, 230000], [730, 114000], [2710, 442500], [2660, 1712750], [2480, 489950], [2080, 600000], [2240, 327500], [1400, 275000], [3300, 1105000], [2430, 490000], [3130, 302300], [2570, 670000], [1920, 674000], [1560, 299900], [2290, 390000], [2950, 1865000], [2220, 875000], [1580, 537000], [2710, 502700], [1484, 365000], [1680, 475000], [1570, 274950], [4030, 835000], [2330, 490000], [2190, 620000], [2440, 610000], [3020, 910000], [3920, 918000], [1580, 254999], [2795, 562000], [3340, 592000], [4600, 880000], [2080, 800000], [2400, 387500], [1480, 291000], [2620, 525000], [1640, 561000], [2850, 1150000], [2950, 739000], [3020, 805000], [2440, 1005000], [1440, 430000], [4070, 965000], [1530, 315000], [1430, 375000], [830, 299000], [980, 215000], [3100, 742500], [1860, 350000], [2700, 723000], [1850, 535000], [2320, 941000], [2140, 507000], [2400, 569000], [5480, 800000], [2620, 648000], [3090, 940000], [1280, 478000], [1870, 455000], [1620, 246500], [2300, 308130], [2070, 1350000], [1500, 277000], [1650, 752000], [1920, 430000], [1720, 500000], [1450, 265000], [2150, 380000], [1810, 240000], [3470, 1727000], [4560, 1490000], [3700, 540000], [2910, 701000], [9200, 5570000], [1490, 835000], [7270, 2238888], [2010, 590000], [1240, 825000], [4010, 849000], [2140, 625000]], \"columns\": [{\"dtype\": \"str\", \"name\": \"id\"}, {\"dtype\": \"datetime\", \"name\": \"date\"}, {\"dtype\": \"int\", \"name\": \"price\"}, {\"dtype\": \"str\", \"name\": \"bedrooms\"}, {\"dtype\": \"str\", \"name\": \"bathrooms\"}, {\"dtype\": \"int\", \"name\": \"sqft_living\"}, {\"dtype\": \"int\", \"name\": \"sqft_lot\"}, {\"dtype\": \"str\", \"name\": \"floors\"}, {\"dtype\": \"int\", \"name\": \"waterfront\"}, {\"dtype\": \"int\", \"name\": \"view\"}, {\"dtype\": \"int\", \"name\": \"condition\"}, {\"dtype\": \"int\", \"name\": \"grade\"}, {\"dtype\": \"int\", \"name\": \"sqft_above\"}, {\"dtype\": \"int\", \"name\": \"sqft_basement\"}, {\"dtype\": \"int\", \"name\": \"yr_built\"}, {\"dtype\": \"int\", \"name\": \"yr_renovated\"}, {\"dtype\": \"str\", \"name\": \"zipcode\"}, {\"dtype\": \"float\", \"name\": \"lat\"}, {\"dtype\": \"float\", \"name\": \"long\"}, {\"dtype\": \"float\", \"name\": \"sqft_living15\"}, {\"dtype\": \"float\", \"name\": \"sqft_lot15\"}]}, e);\n",
       "                });\n",
       "            })();\n",
       "        "
      ]
     },
     "metadata": {},
     "output_type": "display_data"
    }
   ],
   "source": [
    "graphlab.canvas.set_target('ipynb')\n",
    "sales.show(view=\"Scatter Plot\", x=\"sqft_living\", y=\"price\")"
   ]
  },
  {
   "cell_type": "markdown",
   "metadata": {},
   "source": [
    "#Create a simple regression model of sqft_living to price"
   ]
  },
  {
   "cell_type": "markdown",
   "metadata": {},
   "source": [
    "Split data into training and testing.  \n",
    "We use seed=0 so that everyone running this notebook gets the same results.  In practice, you may set a random seed (or let GraphLab Create pick a random seed for you).  "
   ]
  },
  {
   "cell_type": "code",
   "execution_count": 5,
   "metadata": {
    "collapsed": true
   },
   "outputs": [],
   "source": [
    "train_data,test_data = sales.random_split(.8,seed=0)"
   ]
  },
  {
   "cell_type": "markdown",
   "metadata": {},
   "source": [
    "##Build the regression model using only sqft_living as a feature"
   ]
  },
  {
   "cell_type": "code",
   "execution_count": 6,
   "metadata": {
    "collapsed": false
   },
   "outputs": [
    {
     "data": {
      "text/html": [
       "<pre>Linear regression:</pre>"
      ],
      "text/plain": [
       "Linear regression:"
      ]
     },
     "metadata": {},
     "output_type": "display_data"
    },
    {
     "data": {
      "text/html": [
       "<pre>--------------------------------------------------------</pre>"
      ],
      "text/plain": [
       "--------------------------------------------------------"
      ]
     },
     "metadata": {},
     "output_type": "display_data"
    },
    {
     "data": {
      "text/html": [
       "<pre>Number of examples          : 17384</pre>"
      ],
      "text/plain": [
       "Number of examples          : 17384"
      ]
     },
     "metadata": {},
     "output_type": "display_data"
    },
    {
     "data": {
      "text/html": [
       "<pre>Number of features          : 1</pre>"
      ],
      "text/plain": [
       "Number of features          : 1"
      ]
     },
     "metadata": {},
     "output_type": "display_data"
    },
    {
     "data": {
      "text/html": [
       "<pre>Number of unpacked features : 1</pre>"
      ],
      "text/plain": [
       "Number of unpacked features : 1"
      ]
     },
     "metadata": {},
     "output_type": "display_data"
    },
    {
     "data": {
      "text/html": [
       "<pre>Number of coefficients    : 2</pre>"
      ],
      "text/plain": [
       "Number of coefficients    : 2"
      ]
     },
     "metadata": {},
     "output_type": "display_data"
    },
    {
     "data": {
      "text/html": [
       "<pre>Starting Newton Method</pre>"
      ],
      "text/plain": [
       "Starting Newton Method"
      ]
     },
     "metadata": {},
     "output_type": "display_data"
    },
    {
     "data": {
      "text/html": [
       "<pre>--------------------------------------------------------</pre>"
      ],
      "text/plain": [
       "--------------------------------------------------------"
      ]
     },
     "metadata": {},
     "output_type": "display_data"
    },
    {
     "data": {
      "text/html": [
       "<pre>+-----------+----------+--------------+--------------------+---------------+</pre>"
      ],
      "text/plain": [
       "+-----------+----------+--------------+--------------------+---------------+"
      ]
     },
     "metadata": {},
     "output_type": "display_data"
    },
    {
     "data": {
      "text/html": [
       "<pre>| Iteration | Passes   | Elapsed Time | Training-max_error | Training-rmse |</pre>"
      ],
      "text/plain": [
       "| Iteration | Passes   | Elapsed Time | Training-max_error | Training-rmse |"
      ]
     },
     "metadata": {},
     "output_type": "display_data"
    },
    {
     "data": {
      "text/html": [
       "<pre>+-----------+----------+--------------+--------------------+---------------+</pre>"
      ],
      "text/plain": [
       "+-----------+----------+--------------+--------------------+---------------+"
      ]
     },
     "metadata": {},
     "output_type": "display_data"
    },
    {
     "data": {
      "text/html": [
       "<pre>| 1         | 2        | 1.027988     | 4349521.926170     | 262943.613754 |</pre>"
      ],
      "text/plain": [
       "| 1         | 2        | 1.027988     | 4349521.926170     | 262943.613754 |"
      ]
     },
     "metadata": {},
     "output_type": "display_data"
    },
    {
     "data": {
      "text/html": [
       "<pre>+-----------+----------+--------------+--------------------+---------------+</pre>"
      ],
      "text/plain": [
       "+-----------+----------+--------------+--------------------+---------------+"
      ]
     },
     "metadata": {},
     "output_type": "display_data"
    },
    {
     "data": {
      "text/html": [
       "<pre>SUCCESS: Optimal solution found.</pre>"
      ],
      "text/plain": [
       "SUCCESS: Optimal solution found."
      ]
     },
     "metadata": {},
     "output_type": "display_data"
    },
    {
     "data": {
      "text/html": [
       "<pre></pre>"
      ],
      "text/plain": []
     },
     "metadata": {},
     "output_type": "display_data"
    }
   ],
   "source": [
    "sqft_model = graphlab.linear_regression.create(train_data, target='price', features=['sqft_living'],validation_set=None)"
   ]
  },
  {
   "cell_type": "markdown",
   "metadata": {},
   "source": [
    "#Evaluate the simple model"
   ]
  },
  {
   "cell_type": "code",
   "execution_count": 7,
   "metadata": {
    "collapsed": false
   },
   "outputs": [
    {
     "name": "stdout",
     "output_type": "stream",
     "text": [
      "543054.042563\n"
     ]
    }
   ],
   "source": [
    "print test_data['price'].mean()"
   ]
  },
  {
   "cell_type": "code",
   "execution_count": 8,
   "metadata": {
    "collapsed": false
   },
   "outputs": [
    {
     "name": "stdout",
     "output_type": "stream",
     "text": [
      "{'max_error': 4143550.8825285938, 'rmse': 255191.02870527355}\n"
     ]
    }
   ],
   "source": [
    "print sqft_model.evaluate(test_data)"
   ]
  },
  {
   "cell_type": "markdown",
   "metadata": {},
   "source": [
    "RMSE of about \\$255,170!"
   ]
  },
  {
   "cell_type": "markdown",
   "metadata": {},
   "source": [
    "#Let's show what our predictions look like"
   ]
  },
  {
   "cell_type": "markdown",
   "metadata": {},
   "source": [
    "Matplotlib is a Python plotting library that is also useful for plotting.  You can install it with:\n",
    "\n",
    "'pip install matplotlib'"
   ]
  },
  {
   "cell_type": "code",
   "execution_count": 9,
   "metadata": {
    "collapsed": false
   },
   "outputs": [
    {
     "name": "stderr",
     "output_type": "stream",
     "text": [
      "/home/bladefidz/.conda/envs/gl-env/lib/python2.7/site-packages/matplotlib/font_manager.py:273: UserWarning: Matplotlib is building the font cache using fc-list. This may take a moment.\n",
      "  warnings.warn('Matplotlib is building the font cache using fc-list. This may take a moment.')\n"
     ]
    }
   ],
   "source": [
    "import matplotlib.pyplot as plt\n",
    "%matplotlib inline"
   ]
  },
  {
   "cell_type": "code",
   "execution_count": 10,
   "metadata": {
    "collapsed": false
   },
   "outputs": [
    {
     "data": {
      "text/plain": [
       "[<matplotlib.lines.Line2D at 0x7f819865e350>,\n",
       " <matplotlib.lines.Line2D at 0x7f819865e410>]"
      ]
     },
     "execution_count": 10,
     "metadata": {},
     "output_type": "execute_result"
    },
    {
     "data": {
      "image/png": "[encoded data removed]",
      "text/plain": [
       "<matplotlib.figure.Figure at 0x7f818b7fc650>"
      ]
     },
     "metadata": {},
     "output_type": "display_data"
    }
   ],
   "source": [
    "plt.plot(test_data['sqft_living'],test_data['price'],'.',\n",
    "        test_data['sqft_living'],sqft_model.predict(test_data),'-')"
   ]
  },
  {
   "cell_type": "markdown",
   "metadata": {},
   "source": [
    "Above:  blue dots are original data, green line is the prediction from the simple regression.\n",
    "\n",
    "Below: we can view the learned regression coefficients. "
   ]
  },
  {
   "cell_type": "code",
   "execution_count": 11,
   "metadata": {
    "collapsed": false
   },
   "outputs": [
    {
     "data": {
      "text/html": [
       "<div style=\"max-height:1000px;max-width:1500px;overflow:auto;\"><table frame=\"box\" rules=\"cols\">\n",
       "    <tr>\n",
       "        <th style=\"padding-left: 1em; padding-right: 1em; text-align: center\">name</th>\n",
       "        <th style=\"padding-left: 1em; padding-right: 1em; text-align: center\">index</th>\n",
       "        <th style=\"padding-left: 1em; padding-right: 1em; text-align: center\">value</th>\n",
       "        <th style=\"padding-left: 1em; padding-right: 1em; text-align: center\">stderr</th>\n",
       "    </tr>\n",
       "    <tr>\n",
       "        <td style=\"padding-left: 1em; padding-right: 1em; text-align: center; vertical-align: top\">(intercept)</td>\n",
       "        <td style=\"padding-left: 1em; padding-right: 1em; text-align: center; vertical-align: top\">None</td>\n",
       "        <td style=\"padding-left: 1em; padding-right: 1em; text-align: center; vertical-align: top\">-47114.0206702</td>\n",
       "        <td style=\"padding-left: 1em; padding-right: 1em; text-align: center; vertical-align: top\">4923.34437753</td>\n",
       "    </tr>\n",
       "    <tr>\n",
       "        <td style=\"padding-left: 1em; padding-right: 1em; text-align: center; vertical-align: top\">sqft_living</td>\n",
       "        <td style=\"padding-left: 1em; padding-right: 1em; text-align: center; vertical-align: top\">None</td>\n",
       "        <td style=\"padding-left: 1em; padding-right: 1em; text-align: center; vertical-align: top\">281.957850166</td>\n",
       "        <td style=\"padding-left: 1em; padding-right: 1em; text-align: center; vertical-align: top\">2.16405465323</td>\n",
       "    </tr>\n",
       "</table>\n",
       "[2 rows x 4 columns]<br/>\n",
       "</div>"
      ],
      "text/plain": [
       "Columns:\n",
       "\tname\tstr\n",
       "\tindex\tstr\n",
       "\tvalue\tfloat\n",
       "\tstderr\tfloat\n",
       "\n",
       "Rows: 2\n",
       "\n",
       "Data:\n",
       "+-------------+-------+----------------+---------------+\n",
       "|     name    | index |     value      |     stderr    |\n",
       "+-------------+-------+----------------+---------------+\n",
       "| (intercept) |  None | -47114.0206702 | 4923.34437753 |\n",
       "| sqft_living |  None | 281.957850166  | 2.16405465323 |\n",
       "+-------------+-------+----------------+---------------+\n",
       "[2 rows x 4 columns]"
      ]
     },
     "execution_count": 11,
     "metadata": {},
     "output_type": "execute_result"
    }
   ],
   "source": [
    "sqft_model.get('coefficients')"
   ]
  },
  {
   "cell_type": "markdown",
   "metadata": {},
   "source": [
    "#Explore other features in the data\n",
    "\n",
    "To build a more elaborate model, we will explore using more features."
   ]
  },
  {
   "cell_type": "code",
   "execution_count": 12,
   "metadata": {
    "collapsed": true
   },
   "outputs": [],
   "source": [
    "my_features = ['bedrooms', 'bathrooms', 'sqft_living', 'sqft_lot', 'floors', 'zipcode']"
   ]
  },
  {
   "cell_type": "code",
   "execution_count": 13,
   "metadata": {
    "collapsed": false
   },
   "outputs": [
    {
     "data": {
      "application/javascript": [
       "$(\"head\").append($(\"<link/>\").attr({\n",
       "  rel:  \"stylesheet\",\n",
       "  type: \"text/css\",\n",
       "  href: \"//cdnjs.cloudflare.com/ajax/libs/font-awesome/4.1.0/css/font-awesome.min.css\"\n",
       "}));\n",
       "$(\"head\").append($(\"<link/>\").attr({\n",
       "  rel:  \"stylesheet\",\n",
       "  type: \"text/css\",\n",
       "  href: \"https://static.turi.com/products/graphlab-create/2.1/canvas/css/canvas.css\"\n",
       "}));\n",
       "\n",
       "            (function(){\n",
       "\n",
       "                var e = null;\n",
       "                if (typeof element == 'undefined') {\n",
       "                    var scripts = document.getElementsByTagName('script');\n",
       "                    var thisScriptTag = scripts[scripts.length-1];\n",
       "                    var parentDiv = thisScriptTag.parentNode;\n",
       "                    e = document.createElement('div');\n",
       "                    parentDiv.appendChild(e);\n",
       "                } else {\n",
       "                    e = element[0];\n",
       "                }\n",
       "\n",
       "                if (typeof requirejs !== 'undefined') {\n",
       "                    // disable load timeout; ipython_app.js is large and can take a while to load.\n",
       "                    requirejs.config({waitSeconds: 0});\n",
       "                }\n",
       "\n",
       "                require(['https://static.turi.com/products/graphlab-create/2.1/canvas/js/ipython_app.js'], function(IPythonApp){\n",
       "                    var app = new IPythonApp();\n",
       "                    app.attachView('sframe','Summary', {\"ipython\": true, \"sketch\": {\"bathrooms\": {\"complete\": true, \"numeric\": false, \"num_unique\": 30, \"num_undefined\": 0, \"progress\": 1.0, \"frequent_items\": {\"1.5\": {\"frequency\": 1446, \"value\": \"1.5\"}, \"3.75\": {\"frequency\": 155, \"value\": \"3.75\"}, \"0.5\": {\"frequency\": 4, \"value\": \"0.5\"}, \"5.25\": {\"frequency\": 13, \"value\": \"5.25\"}, \"3.5\": {\"frequency\": 731, \"value\": \"3.5\"}, \"7.5\": {\"frequency\": 1, \"value\": \"7.5\"}, \"2.5\": {\"frequency\": 5380, \"value\": \"2.5\"}, \"4.5\": {\"frequency\": 100, \"value\": \"4.5\"}, \"5.5\": {\"frequency\": 10, \"value\": \"5.5\"}, \"1.75\": {\"frequency\": 3048, \"value\": \"1.75\"}, \"2.75\": {\"frequency\": 1185, \"value\": \"2.75\"}, \"5.75\": {\"frequency\": 4, \"value\": \"5.75\"}, \"1\": {\"frequency\": 3852, \"value\": \"1\"}, \"0\": {\"frequency\": 10, \"value\": \"0\"}, \"3\": {\"frequency\": 753, \"value\": \"3\"}, \"2\": {\"frequency\": 1930, \"value\": \"2\"}, \"3.25\": {\"frequency\": 589, \"value\": \"3.25\"}, \"4\": {\"frequency\": 136, \"value\": \"4\"}, \"6\": {\"frequency\": 6, \"value\": \"6\"}, \"5\": {\"frequency\": 21, \"value\": \"5\"}, \"6.25\": {\"frequency\": 2, \"value\": \"6.25\"}, \"6.75\": {\"frequency\": 2, \"value\": \"6.75\"}, \"0.75\": {\"frequency\": 72, \"value\": \"0.75\"}, \"8\": {\"frequency\": 2, \"value\": \"8\"}, \"4.25\": {\"frequency\": 79, \"value\": \"4.25\"}, \"4.75\": {\"frequency\": 23, \"value\": \"4.75\"}, \"6.5\": {\"frequency\": 2, \"value\": \"6.5\"}, \"7.75\": {\"frequency\": 1, \"value\": \"7.75\"}, \"1.25\": {\"frequency\": 9, \"value\": \"1.25\"}, \"2.25\": {\"frequency\": 2047, \"value\": \"2.25\"}}, \"size\": 21613}, \"bedrooms\": {\"complete\": true, \"numeric\": false, \"num_unique\": 13, \"num_undefined\": 0, \"progress\": 1.0, \"frequent_items\": {\"11\": {\"frequency\": 1, \"value\": \"11\"}, \"10\": {\"frequency\": 3, \"value\": \"10\"}, \"33\": {\"frequency\": 1, \"value\": \"33\"}, \"1\": {\"frequency\": 199, \"value\": \"1\"}, \"0\": {\"frequency\": 13, \"value\": \"0\"}, \"3\": {\"frequency\": 9824, \"value\": \"3\"}, \"2\": {\"frequency\": 2760, \"value\": \"2\"}, \"5\": {\"frequency\": 1601, \"value\": \"5\"}, \"4\": {\"frequency\": 6882, \"value\": \"4\"}, \"7\": {\"frequency\": 38, \"value\": \"7\"}, \"6\": {\"frequency\": 272, \"value\": \"6\"}, \"9\": {\"frequency\": 6, \"value\": \"9\"}, \"8\": {\"frequency\": 13, \"value\": \"8\"}}, \"size\": 21613}, \"zipcode\": {\"complete\": true, \"numeric\": false, \"num_unique\": 70, \"num_undefined\": 0, \"progress\": 1.0, \"frequent_items\": {\"98019\": {\"frequency\": 190, \"value\": \"98019\"}, \"98039\": {\"frequency\": 50, \"value\": \"98039\"}, \"98038\": {\"frequency\": 590, \"value\": \"98038\"}, \"98118\": {\"frequency\": 508, \"value\": \"98118\"}, \"98119\": {\"frequency\": 184, \"value\": \"98119\"}, \"98116\": {\"frequency\": 330, \"value\": \"98116\"}, \"98117\": {\"frequency\": 553, \"value\": \"98117\"}, \"98011\": {\"frequency\": 195, \"value\": \"98011\"}, \"98115\": {\"frequency\": 583, \"value\": \"98115\"}, \"98112\": {\"frequency\": 269, \"value\": \"98112\"}, \"98030\": {\"frequency\": 256, \"value\": \"98030\"}, \"98033\": {\"frequency\": 432, \"value\": \"98033\"}, \"98032\": {\"frequency\": 125, \"value\": \"98032\"}, \"98092\": {\"frequency\": 351, \"value\": \"98092\"}, \"98058\": {\"frequency\": 455, \"value\": \"98058\"}, \"98003\": {\"frequency\": 280, \"value\": \"98003\"}, \"98198\": {\"frequency\": 280, \"value\": \"98198\"}, \"98199\": {\"frequency\": 317, \"value\": \"98199\"}, \"98077\": {\"frequency\": 198, \"value\": \"98077\"}, \"98004\": {\"frequency\": 317, \"value\": \"98004\"}, \"98005\": {\"frequency\": 168, \"value\": \"98005\"}, \"98006\": {\"frequency\": 498, \"value\": \"98006\"}, \"98007\": {\"frequency\": 141, \"value\": \"98007\"}, \"98001\": {\"frequency\": 362, \"value\": \"98001\"}, \"98002\": {\"frequency\": 199, \"value\": \"98002\"}, \"98065\": {\"frequency\": 310, \"value\": \"98065\"}, \"98040\": {\"frequency\": 282, \"value\": \"98040\"}, \"98166\": {\"frequency\": 254, \"value\": \"98166\"}, \"98042\": {\"frequency\": 548, \"value\": \"98042\"}, \"98008\": {\"frequency\": 283, \"value\": \"98008\"}, \"98045\": {\"frequency\": 221, \"value\": \"98045\"}, \"98144\": {\"frequency\": 343, \"value\": \"98144\"}, \"98027\": {\"frequency\": 412, \"value\": \"98027\"}, \"98010\": {\"frequency\": 100, \"value\": \"98010\"}, \"98109\": {\"frequency\": 109, \"value\": \"98109\"}, \"98108\": {\"frequency\": 186, \"value\": \"98108\"}, \"98028\": {\"frequency\": 283, \"value\": \"98028\"}, \"98029\": {\"frequency\": 321, \"value\": \"98029\"}, \"98105\": {\"frequency\": 229, \"value\": \"98105\"}, \"98122\": {\"frequency\": 290, \"value\": \"98122\"}, \"98024\": {\"frequency\": 81, \"value\": \"98024\"}, \"98146\": {\"frequency\": 288, \"value\": \"98146\"}, \"98022\": {\"frequency\": 234, \"value\": \"98022\"}, \"98126\": {\"frequency\": 354, \"value\": \"98126\"}, \"98103\": {\"frequency\": 602, \"value\": \"98103\"}, \"98023\": {\"frequency\": 499, \"value\": \"98023\"}, \"98125\": {\"frequency\": 410, \"value\": \"98125\"}, \"98148\": {\"frequency\": 57, \"value\": \"98148\"}, \"98031\": {\"frequency\": 274, \"value\": \"98031\"}, \"98102\": {\"frequency\": 105, \"value\": \"98102\"}, \"98188\": {\"frequency\": 136, \"value\": \"98188\"}, \"98034\": {\"frequency\": 545, \"value\": \"98034\"}, \"98106\": {\"frequency\": 335, \"value\": \"98106\"}, \"98014\": {\"frequency\": 124, \"value\": \"98014\"}, \"98107\": {\"frequency\": 266, \"value\": \"98107\"}, \"98155\": {\"frequency\": 446, \"value\": \"98155\"}, \"98052\": {\"frequency\": 574, \"value\": \"98052\"}, \"98178\": {\"frequency\": 262, \"value\": \"98178\"}, \"98070\": {\"frequency\": 118, \"value\": \"98070\"}, \"98136\": {\"frequency\": 263, \"value\": \"98136\"}, \"98072\": {\"frequency\": 273, \"value\": \"98072\"}, \"98075\": {\"frequency\": 359, \"value\": \"98075\"}, \"98074\": {\"frequency\": 441, \"value\": \"98074\"}, \"98059\": {\"frequency\": 468, \"value\": \"98059\"}, \"98133\": {\"frequency\": 494, \"value\": \"98133\"}, \"98056\": {\"frequency\": 406, \"value\": \"98056\"}, \"98055\": {\"frequency\": 268, \"value\": \"98055\"}, \"98053\": {\"frequency\": 405, \"value\": \"98053\"}, \"98168\": {\"frequency\": 269, \"value\": \"98168\"}, \"98177\": {\"frequency\": 255, \"value\": \"98177\"}}, \"size\": 21613}, \"sqft_living\": {\"std\": 918.4196493828819, \"complete\": true, \"min\": 290.0, \"max\": 13540.0, \"quantile\": [290.0, 720.0, 790.0, 850.0, 900.0, 940.0, 970.0, 1010.0, 1030.0, 1060.0, 1090.0, 1120.0, 1150.0, 1170.0, 1200.0, 1220.0, 1240.0, 1260.0, 1280.0, 1300.0, 1320.0, 1340.0, 1370.0, 1390.0, 1408.0, 1420.0, 1440.0, 1460.0, 1480.0, 1500.0, 1520.0, 1540.0, 1560.0, 1580.0, 1600.0, 1610.0, 1640.0, 1660.0, 1670.0, 1690.0, 1710.0, 1730.0, 1750.0, 1770.0, 1790.0, 1810.0, 1830.0, 1850.0, 1870.0, 1890.0, 1910.0, 1940.0, 1960.0, 1980.0, 2000.0, 2020.0, 2050.0, 2070.0, 2090.0, 2110.0, 2130.0, 2160.0, 2180.0, 2201.0, 2230.0, 2260.0, 2290.0, 2320.0, 2340.0, 2370.0, 2400.0, 2420.0, 2450.0, 2490.0, 2520.0, 2550.0, 2588.0, 2620.0, 2660.0, 2690.0, 2730.0, 2780.0, 2810.0, 2860.0, 2910.0, 2970.0, 3020.0, 3070.0, 3140.0, 3190.0, 3250.0, 3340.0, 3420.0, 3510.0, 3640.0, 3770.0, 3930.0, 4140.0, 4400.0, 5010.0, 13540.0], \"median\": 1910.0, \"numeric\": true, \"num_unique\": 1036, \"num_undefined\": 0, \"var\": 843494.6523725756, \"progress\": 1.0, \"size\": 21613, \"frequent_items\": {\"2050\": {\"frequency\": 83, \"value\": 2050}, \"4100\": {\"frequency\": 5, \"value\": 4100}, \"2056\": {\"frequency\": 2, \"value\": 2056}, \"2732\": {\"frequency\": 2, \"value\": 2732}, \"2060\": {\"frequency\": 100, \"value\": 2060}, \"4110\": {\"frequency\": 10, \"value\": 4110}, \"2064\": {\"frequency\": 1, \"value\": 2064}, \"4115\": {\"frequency\": 1, \"value\": 4115}, \"2068\": {\"frequency\": 1, \"value\": 2068}, \"2070\": {\"frequency\": 92, \"value\": 2070}, \"4120\": {\"frequency\": 9, \"value\": 4120}, \"2052\": {\"frequency\": 1, \"value\": 2052}, \"2074\": {\"frequency\": 1, \"value\": 2074}, \"2075\": {\"frequency\": 2, \"value\": 2075}, \"2080\": {\"frequency\": 98, \"value\": 2080}, \"4130\": {\"frequency\": 8, \"value\": 4130}, \"2085\": {\"frequency\": 1, \"value\": 2085}, \"2090\": {\"frequency\": 95, \"value\": 2090}, \"4140\": {\"frequency\": 12, \"value\": 4140}, \"2093\": {\"frequency\": 1, \"value\": 2093}, \"2095\": {\"frequency\": 3, \"value\": 2095}, \"2099\": {\"frequency\": 1, \"value\": 2099}, \"2100\": {\"frequency\": 116, \"value\": 2100}, \"4150\": {\"frequency\": 10, \"value\": 4150}, \"6200\": {\"frequency\": 2, \"value\": 6200}, \"2105\": {\"frequency\": 1, \"value\": 2105}, \"2110\": {\"frequency\": 82, \"value\": 2110}, \"4160\": {\"frequency\": 7, \"value\": 4160}, \"6210\": {\"frequency\": 1, \"value\": 6210}, \"2115\": {\"frequency\": 1, \"value\": 2115}, \"2120\": {\"frequency\": 111, \"value\": 2120}, \"4170\": {\"frequency\": 6, \"value\": 4170}, \"2744\": {\"frequency\": 1, \"value\": 2744}, \"2130\": {\"frequency\": 94, \"value\": 2130}, \"4180\": {\"frequency\": 7, \"value\": 4180}, \"2134\": {\"frequency\": 1, \"value\": 2134}, \"2140\": {\"frequency\": 78, \"value\": 2140}, \"4190\": {\"frequency\": 6, \"value\": 4190}, \"6240\": {\"frequency\": 1, \"value\": 6240}, \"2145\": {\"frequency\": 1, \"value\": 2145}, \"2150\": {\"frequency\": 85, \"value\": 2150}, \"4200\": {\"frequency\": 6, \"value\": 4200}, \"2153\": {\"frequency\": 1, \"value\": 2153}, \"2154\": {\"frequency\": 2, \"value\": 2154}, \"2155\": {\"frequency\": 1, \"value\": 2155}, \"2156\": {\"frequency\": 1, \"value\": 2156}, \"2160\": {\"frequency\": 96, \"value\": 2160}, \"5480\": {\"frequency\": 4, \"value\": 5480}, \"4210\": {\"frequency\": 7, \"value\": 4210}, \"2163\": {\"frequency\": 2, \"value\": 2163}, \"6260\": {\"frequency\": 1, \"value\": 6260}, \"2166\": {\"frequency\": 1, \"value\": 2166}, \"2168\": {\"frequency\": 2, \"value\": 2168}, \"2170\": {\"frequency\": 80, \"value\": 2170}, \"4220\": {\"frequency\": 8, \"value\": 4220}, \"4225\": {\"frequency\": 1, \"value\": 4225}, \"2180\": {\"frequency\": 89, \"value\": 2180}, \"2181\": {\"frequency\": 1, \"value\": 2181}, \"4230\": {\"frequency\": 11, \"value\": 4230}, \"2185\": {\"frequency\": 1, \"value\": 2185}, \"2190\": {\"frequency\": 92, \"value\": 2190}, \"4240\": {\"frequency\": 7, \"value\": 4240}, \"3960\": {\"frequency\": 11, \"value\": 3960}, \"2195\": {\"frequency\": 1, \"value\": 2195}, \"2196\": {\"frequency\": 1, \"value\": 2196}, \"2414\": {\"frequency\": 1, \"value\": 2414}, \"2198\": {\"frequency\": 1, \"value\": 2198}, \"2200\": {\"frequency\": 93, \"value\": 2200}, \"2201\": {\"frequency\": 1, \"value\": 2201}, \"4250\": {\"frequency\": 10, \"value\": 4250}, \"6300\": {\"frequency\": 1, \"value\": 6300}, \"2206\": {\"frequency\": 1, \"value\": 2206}, \"2208\": {\"frequency\": 1, \"value\": 2208}, \"1392\": {\"frequency\": 1, \"value\": 1392}, \"2210\": {\"frequency\": 74, \"value\": 2210}, \"4260\": {\"frequency\": 6, \"value\": 4260}, \"2216\": {\"frequency\": 1, \"value\": 2216}, \"2217\": {\"frequency\": 1, \"value\": 2217}, \"2220\": {\"frequency\": 75, \"value\": 2220}, \"4270\": {\"frequency\": 11, \"value\": 4270}, \"2223\": {\"frequency\": 1, \"value\": 2223}, \"2229\": {\"frequency\": 1, \"value\": 2229}, \"2230\": {\"frequency\": 82, \"value\": 2230}, \"4280\": {\"frequency\": 9, \"value\": 4280}, \"2233\": {\"frequency\": 1, \"value\": 2233}, \"6330\": {\"frequency\": 1, \"value\": 6330}, \"2235\": {\"frequency\": 1, \"value\": 2235}, \"4285\": {\"frequency\": 2, \"value\": 4285}, \"2238\": {\"frequency\": 1, \"value\": 2238}, \"2240\": {\"frequency\": 101, \"value\": 2240}, \"4290\": {\"frequency\": 7, \"value\": 4290}, \"2244\": {\"frequency\": 1, \"value\": 2244}, \"2245\": {\"frequency\": 2, \"value\": 2245}, \"2250\": {\"frequency\": 68, \"value\": 2250}, \"2251\": {\"frequency\": 1, \"value\": 2251}, \"4300\": {\"frequency\": 8, \"value\": 4300}, \"2253\": {\"frequency\": 1, \"value\": 2253}, \"1741\": {\"frequency\": 2, \"value\": 1741}, \"2257\": {\"frequency\": 1, \"value\": 2257}, \"2259\": {\"frequency\": 1, \"value\": 2259}, \"2260\": {\"frequency\": 79, \"value\": 2260}, \"4310\": {\"frequency\": 5, \"value\": 4310}, \"2267\": {\"frequency\": 1, \"value\": 2267}, \"2270\": {\"frequency\": 62, \"value\": 2270}, \"4133\": {\"frequency\": 1, \"value\": 4133}, \"4320\": {\"frequency\": 9, \"value\": 4320}, \"6370\": {\"frequency\": 1, \"value\": 6370}, \"2280\": {\"frequency\": 81, \"value\": 2280}, \"4330\": {\"frequency\": 4, \"value\": 4330}, \"2283\": {\"frequency\": 1, \"value\": 2283}, \"6380\": {\"frequency\": 1, \"value\": 6380}, \"2286\": {\"frequency\": 1, \"value\": 2286}, \"2290\": {\"frequency\": 80, \"value\": 2290}, \"4340\": {\"frequency\": 8, \"value\": 4340}, \"6390\": {\"frequency\": 1, \"value\": 6390}, \"4168\": {\"frequency\": 1, \"value\": 4168}, \"2298\": {\"frequency\": 1, \"value\": 2298}, \"2300\": {\"frequency\": 84, \"value\": 2300}, \"2301\": {\"frequency\": 1, \"value\": 2301}, \"4350\": {\"frequency\": 7, \"value\": 4350}, \"2303\": {\"frequency\": 3, \"value\": 2303}, \"6400\": {\"frequency\": 1, \"value\": 6400}, \"2305\": {\"frequency\": 1, \"value\": 2305}, \"2310\": {\"frequency\": 59, \"value\": 2310}, \"2311\": {\"frequency\": 1, \"value\": 2311}, \"4360\": {\"frequency\": 9, \"value\": 4360}, \"2092\": {\"frequency\": 1, \"value\": 2092}, \"6410\": {\"frequency\": 1, \"value\": 6410}, \"6530\": {\"frequency\": 1, \"value\": 6530}, \"2320\": {\"frequency\": 90, \"value\": 2320}, \"1752\": {\"frequency\": 1, \"value\": 1752}, \"4370\": {\"frequency\": 8, \"value\": 4370}, \"3118\": {\"frequency\": 1, \"value\": 3118}, \"2329\": {\"frequency\": 2, \"value\": 2329}, \"2330\": {\"frequency\": 76, \"value\": 2330}, \"2331\": {\"frequency\": 1, \"value\": 2331}, \"4380\": {\"frequency\": 7, \"value\": 4380}, \"6430\": {\"frequency\": 1, \"value\": 6430}, \"1072\": {\"frequency\": 1, \"value\": 1072}, \"4386\": {\"frequency\": 1, \"value\": 4386}, \"2340\": {\"frequency\": 80, \"value\": 2340}, \"2341\": {\"frequency\": 1, \"value\": 2341}, \"4390\": {\"frequency\": 7, \"value\": 4390}, \"2344\": {\"frequency\": 2, \"value\": 2344}, \"2350\": {\"frequency\": 74, \"value\": 2350}, \"4400\": {\"frequency\": 5, \"value\": 4400}, \"3488\": {\"frequency\": 1, \"value\": 3488}, \"2738\": {\"frequency\": 1, \"value\": 2738}, \"2360\": {\"frequency\": 75, \"value\": 2360}, \"1076\": {\"frequency\": 1, \"value\": 1076}, \"4410\": {\"frequency\": 12, \"value\": 4410}, \"2370\": {\"frequency\": 75, \"value\": 2370}, \"4420\": {\"frequency\": 9, \"value\": 4420}, \"2375\": {\"frequency\": 1, \"value\": 2375}, \"2380\": {\"frequency\": 64, \"value\": 2380}, \"4430\": {\"frequency\": 6, \"value\": 4430}, \"3470\": {\"frequency\": 21, \"value\": 3470}, \"2390\": {\"frequency\": 85, \"value\": 2390}, \"4440\": {\"frequency\": 7, \"value\": 4440}, \"2393\": {\"frequency\": 1, \"value\": 2393}, \"6490\": {\"frequency\": 1, \"value\": 6490}, \"2395\": {\"frequency\": 1, \"value\": 2395}, \"2398\": {\"frequency\": 1, \"value\": 2398}, \"2400\": {\"frequency\": 84, \"value\": 2400}, \"4450\": {\"frequency\": 2, \"value\": 4450}, \"2403\": {\"frequency\": 1, \"value\": 2403}, \"6500\": {\"frequency\": 1, \"value\": 6500}, \"2406\": {\"frequency\": 1, \"value\": 2406}, \"1084\": {\"frequency\": 1, \"value\": 1084}, \"2410\": {\"frequency\": 57, \"value\": 2410}, \"4460\": {\"frequency\": 9, \"value\": 4460}, \"2413\": {\"frequency\": 1, \"value\": 2413}, \"6510\": {\"frequency\": 1, \"value\": 6510}, \"2415\": {\"frequency\": 1, \"value\": 2415}, \"370\": {\"frequency\": 1, \"value\": 370}, \"2420\": {\"frequency\": 88, \"value\": 2420}, \"4470\": {\"frequency\": 7, \"value\": 4470}, \"2423\": {\"frequency\": 1, \"value\": 2423}, \"2424\": {\"frequency\": 2, \"value\": 2424}, \"2425\": {\"frequency\": 1, \"value\": 2425}, \"4475\": {\"frequency\": 2, \"value\": 4475}, \"380\": {\"frequency\": 1, \"value\": 380}, \"2430\": {\"frequency\": 70, \"value\": 2430}, \"2432\": {\"frequency\": 1, \"value\": 2432}, \"3136\": {\"frequency\": 1, \"value\": 3136}, \"2434\": {\"frequency\": 1, \"value\": 2434}, \"2437\": {\"frequency\": 1, \"value\": 2437}, \"390\": {\"frequency\": 2, \"value\": 390}, \"2440\": {\"frequency\": 87, \"value\": 2440}, \"2441\": {\"frequency\": 1, \"value\": 2441}, \"4490\": {\"frequency\": 8, \"value\": 4490}, \"4495\": {\"frequency\": 1, \"value\": 4495}, \"2448\": {\"frequency\": 1, \"value\": 2448}, \"2450\": {\"frequency\": 52, \"value\": 2450}, \"4500\": {\"frequency\": 8, \"value\": 4500}, \"2798\": {\"frequency\": 2, \"value\": 2798}, \"6550\": {\"frequency\": 1, \"value\": 6550}, \"5810\": {\"frequency\": 1, \"value\": 5810}, \"2456\": {\"frequency\": 1, \"value\": 2456}, \"1092\": {\"frequency\": 1, \"value\": 1092}, \"410\": {\"frequency\": 1, \"value\": 410}, \"2460\": {\"frequency\": 66, \"value\": 2460}, \"4510\": {\"frequency\": 4, \"value\": 4510}, \"6563\": {\"frequency\": 1, \"value\": 6563}, \"420\": {\"frequency\": 2, \"value\": 420}, \"2470\": {\"frequency\": 52, \"value\": 2470}, \"4520\": {\"frequency\": 2, \"value\": 4520}, \"2473\": {\"frequency\": 1, \"value\": 2473}, \"2475\": {\"frequency\": 4, \"value\": 2475}, \"430\": {\"frequency\": 1, \"value\": 430}, \"2480\": {\"frequency\": 65, \"value\": 2480}, \"2481\": {\"frequency\": 1, \"value\": 2481}, \"4530\": {\"frequency\": 2, \"value\": 4530}, \"2483\": {\"frequency\": 2, \"value\": 2483}, \"440\": {\"frequency\": 1, \"value\": 440}, \"3828\": {\"frequency\": 1, \"value\": 3828}, \"2490\": {\"frequency\": 58, \"value\": 2490}, \"4540\": {\"frequency\": 1, \"value\": 4540}, \"2495\": {\"frequency\": 3, \"value\": 2495}, \"2496\": {\"frequency\": 1, \"value\": 2496}, \"2497\": {\"frequency\": 1, \"value\": 2497}, \"2500\": {\"frequency\": 90, \"value\": 2500}, \"1782\": {\"frequency\": 1, \"value\": 1782}, \"4550\": {\"frequency\": 2, \"value\": 4550}, \"3148\": {\"frequency\": 1, \"value\": 3148}, \"2506\": {\"frequency\": 2, \"value\": 2506}, \"2507\": {\"frequency\": 1, \"value\": 2507}, \"460\": {\"frequency\": 1, \"value\": 460}, \"2510\": {\"frequency\": 70, \"value\": 2510}, \"4560\": {\"frequency\": 8, \"value\": 4560}, \"2514\": {\"frequency\": 1, \"value\": 2514}, \"2517\": {\"frequency\": 1, \"value\": 2517}, \"2518\": {\"frequency\": 1, \"value\": 2518}, \"2519\": {\"frequency\": 1, \"value\": 2519}, \"2520\": {\"frequency\": 71, \"value\": 2520}, \"1444\": {\"frequency\": 1, \"value\": 1444}, \"4570\": {\"frequency\": 6, \"value\": 4570}, \"8670\": {\"frequency\": 1, \"value\": 8670}, \"4575\": {\"frequency\": 1, \"value\": 4575}, \"480\": {\"frequency\": 2, \"value\": 480}, \"2529\": {\"frequency\": 1, \"value\": 2529}, \"2530\": {\"frequency\": 48, \"value\": 2530}, \"2531\": {\"frequency\": 1, \"value\": 2531}, \"4580\": {\"frequency\": 2, \"value\": 4580}, \"6630\": {\"frequency\": 1, \"value\": 6630}, \"490\": {\"frequency\": 1, \"value\": 490}, \"2540\": {\"frequency\": 61, \"value\": 2540}, \"4590\": {\"frequency\": 7, \"value\": 4590}, \"6640\": {\"frequency\": 2, \"value\": 6640}, \"2547\": {\"frequency\": 1, \"value\": 2547}, \"500\": {\"frequency\": 1, \"value\": 500}, \"2550\": {\"frequency\": 74, \"value\": 2550}, \"4600\": {\"frequency\": 6, \"value\": 4600}, \"2555\": {\"frequency\": 1, \"value\": 2555}, \"2557\": {\"frequency\": 1, \"value\": 2557}, \"2560\": {\"frequency\": 58, \"value\": 2560}, \"4610\": {\"frequency\": 7, \"value\": 4610}, \"520\": {\"frequency\": 6, \"value\": 520}, \"2570\": {\"frequency\": 62, \"value\": 2570}, \"4620\": {\"frequency\": 3, \"value\": 4620}, \"6670\": {\"frequency\": 1, \"value\": 6670}, \"2575\": {\"frequency\": 1, \"value\": 2575}, \"2577\": {\"frequency\": 1, \"value\": 2577}, \"2578\": {\"frequency\": 1, \"value\": 2578}, \"2580\": {\"frequency\": 51, \"value\": 2580}, \"2478\": {\"frequency\": 1, \"value\": 2478}, \"4630\": {\"frequency\": 2, \"value\": 4630}, \"2584\": {\"frequency\": 1, \"value\": 2584}, \"540\": {\"frequency\": 2, \"value\": 540}, \"2590\": {\"frequency\": 55, \"value\": 2590}, \"4640\": {\"frequency\": 4, \"value\": 4640}, \"2594\": {\"frequency\": 1, \"value\": 2594}, \"4645\": {\"frequency\": 1, \"value\": 4645}, \"550\": {\"frequency\": 4, \"value\": 550}, \"2600\": {\"frequency\": 68, \"value\": 2600}, \"2601\": {\"frequency\": 1, \"value\": 2601}, \"4650\": {\"frequency\": 2, \"value\": 4650}, \"2605\": {\"frequency\": 3, \"value\": 2605}, \"560\": {\"frequency\": 4, \"value\": 560}, \"2610\": {\"frequency\": 51, \"value\": 2610}, \"4660\": {\"frequency\": 6, \"value\": 4660}, \"570\": {\"frequency\": 3, \"value\": 570}, \"2620\": {\"frequency\": 73, \"value\": 2620}, \"1802\": {\"frequency\": 1, \"value\": 1802}, \"4670\": {\"frequency\": 5, \"value\": 4670}, \"2623\": {\"frequency\": 1, \"value\": 2623}, \"580\": {\"frequency\": 5, \"value\": 580}, \"2630\": {\"frequency\": 53, \"value\": 2630}, \"2632\": {\"frequency\": 2, \"value\": 2632}, \"2828\": {\"frequency\": 1, \"value\": 2828}, \"1122\": {\"frequency\": 2, \"value\": 1122}, \"590\": {\"frequency\": 5, \"value\": 590}, \"2640\": {\"frequency\": 50, \"value\": 2640}, \"2641\": {\"frequency\": 2, \"value\": 2641}, \"4690\": {\"frequency\": 5, \"value\": 4690}, \"2643\": {\"frequency\": 1, \"value\": 2643}, \"600\": {\"frequency\": 7, \"value\": 600}, \"3172\": {\"frequency\": 1, \"value\": 3172}, \"2650\": {\"frequency\": 60, \"value\": 2650}, \"4700\": {\"frequency\": 8, \"value\": 4700}, \"2653\": {\"frequency\": 1, \"value\": 2653}, \"2655\": {\"frequency\": 1, \"value\": 2655}, \"2656\": {\"frequency\": 1, \"value\": 2656}, \"610\": {\"frequency\": 4, \"value\": 610}, \"2660\": {\"frequency\": 62, \"value\": 2660}, \"4710\": {\"frequency\": 1, \"value\": 4710}, \"2665\": {\"frequency\": 1, \"value\": 2665}, \"3362\": {\"frequency\": 1, \"value\": 3362}, \"620\": {\"frequency\": 12, \"value\": 620}, \"2669\": {\"frequency\": 1, \"value\": 2669}, \"2670\": {\"frequency\": 46, \"value\": 2670}, \"4720\": {\"frequency\": 4, \"value\": 4720}, \"2675\": {\"frequency\": 1, \"value\": 2675}, \"630\": {\"frequency\": 5, \"value\": 630}, \"2680\": {\"frequency\": 64, \"value\": 2680}, \"1812\": {\"frequency\": 1, \"value\": 1812}, \"4730\": {\"frequency\": 2, \"value\": 4730}, \"2683\": {\"frequency\": 1, \"value\": 2683}, \"640\": {\"frequency\": 5, \"value\": 640}, \"2689\": {\"frequency\": 2, \"value\": 2689}, \"2690\": {\"frequency\": 42, \"value\": 2690}, \"4740\": {\"frequency\": 5, \"value\": 4740}, \"1934\": {\"frequency\": 1, \"value\": 1934}, \"650\": {\"frequency\": 3, \"value\": 650}, \"2700\": {\"frequency\": 58, \"value\": 2700}, \"2701\": {\"frequency\": 2, \"value\": 2701}, \"4750\": {\"frequency\": 5, \"value\": 4750}, \"660\": {\"frequency\": 6, \"value\": 660}, \"2710\": {\"frequency\": 51, \"value\": 2710}, \"4760\": {\"frequency\": 1, \"value\": 4760}, \"2714\": {\"frequency\": 2, \"value\": 2714}, \"2716\": {\"frequency\": 1, \"value\": 2716}, \"2717\": {\"frequency\": 1, \"value\": 2717}, \"670\": {\"frequency\": 25, \"value\": 670}, \"2720\": {\"frequency\": 58, \"value\": 2720}, \"4770\": {\"frequency\": 2, \"value\": 4770}, \"2502\": {\"frequency\": 1, \"value\": 2502}, \"6160\": {\"frequency\": 1, \"value\": 6160}, \"680\": {\"frequency\": 13, \"value\": 680}, \"2730\": {\"frequency\": 48, \"value\": 2730}, \"4780\": {\"frequency\": 2, \"value\": 4780}, \"2734\": {\"frequency\": 1, \"value\": 2734}, \"690\": {\"frequency\": 8, \"value\": 690}, \"2740\": {\"frequency\": 53, \"value\": 2740}, \"4790\": {\"frequency\": 2, \"value\": 4790}, \"6840\": {\"frequency\": 1, \"value\": 6840}, \"700\": {\"frequency\": 36, \"value\": 700}, \"2750\": {\"frequency\": 40, \"value\": 2750}, \"4800\": {\"frequency\": 3, \"value\": 4800}, \"2753\": {\"frequency\": 1, \"value\": 2753}, \"2755\": {\"frequency\": 2, \"value\": 2755}, \"710\": {\"frequency\": 27, \"value\": 710}, \"2760\": {\"frequency\": 43, \"value\": 2760}, \"4810\": {\"frequency\": 2, \"value\": 4810}, \"720\": {\"frequency\": 49, \"value\": 720}, \"3192\": {\"frequency\": 1, \"value\": 3192}, \"2770\": {\"frequency\": 56, \"value\": 2770}, \"4820\": {\"frequency\": 1, \"value\": 4820}, \"730\": {\"frequency\": 14, \"value\": 730}, \"2780\": {\"frequency\": 47, \"value\": 2780}, \"4830\": {\"frequency\": 4, \"value\": 4830}, \"2783\": {\"frequency\": 1, \"value\": 2783}, \"6880\": {\"frequency\": 1, \"value\": 6880}, \"740\": {\"frequency\": 22, \"value\": 740}, \"2789\": {\"frequency\": 1, \"value\": 2789}, \"2790\": {\"frequency\": 52, \"value\": 2790}, \"2793\": {\"frequency\": 1, \"value\": 2793}, \"2795\": {\"frequency\": 1, \"value\": 2795}, \"2796\": {\"frequency\": 1, \"value\": 2796}, \"750\": {\"frequency\": 27, \"value\": 750}, \"2800\": {\"frequency\": 54, \"value\": 2800}, \"4850\": {\"frequency\": 4, \"value\": 4850}, \"2803\": {\"frequency\": 1, \"value\": 2803}, \"6900\": {\"frequency\": 1, \"value\": 6900}, \"2807\": {\"frequency\": 1, \"value\": 2807}, \"760\": {\"frequency\": 25, \"value\": 760}, \"2810\": {\"frequency\": 46, \"value\": 2810}, \"2811\": {\"frequency\": 1, \"value\": 2811}, \"4860\": {\"frequency\": 5, \"value\": 4860}, \"1834\": {\"frequency\": 1, \"value\": 1834}, \"2815\": {\"frequency\": 2, \"value\": 2815}, \"770\": {\"frequency\": 42, \"value\": 770}, \"2820\": {\"frequency\": 54, \"value\": 2820}, \"470\": {\"frequency\": 2, \"value\": 470}, \"4870\": {\"frequency\": 3, \"value\": 4870}, \"780\": {\"frequency\": 26, \"value\": 780}, \"3202\": {\"frequency\": 1, \"value\": 3202}, \"2830\": {\"frequency\": 46, \"value\": 2830}, \"6930\": {\"frequency\": 1, \"value\": 6930}, \"4883\": {\"frequency\": 1, \"value\": 4883}, \"790\": {\"frequency\": 38, \"value\": 790}, \"2840\": {\"frequency\": 49, \"value\": 2840}, \"4890\": {\"frequency\": 3, \"value\": 4890}, \"2844\": {\"frequency\": 1, \"value\": 2844}, \"2846\": {\"frequency\": 1, \"value\": 2846}, \"800\": {\"frequency\": 47, \"value\": 800}, \"2849\": {\"frequency\": 1, \"value\": 2849}, \"2850\": {\"frequency\": 38, \"value\": 2850}, \"809\": {\"frequency\": 1, \"value\": 809}, \"810\": {\"frequency\": 27, \"value\": 810}, \"2860\": {\"frequency\": 39, \"value\": 2860}, \"4910\": {\"frequency\": 4, \"value\": 4910}, \"2864\": {\"frequency\": 1, \"value\": 2864}, \"820\": {\"frequency\": 40, \"value\": 820}, \"1502\": {\"frequency\": 1, \"value\": 1502}, \"2870\": {\"frequency\": 38, \"value\": 2870}, \"4920\": {\"frequency\": 3, \"value\": 4920}, \"828\": {\"frequency\": 1, \"value\": 828}, \"830\": {\"frequency\": 36, \"value\": 830}, \"2880\": {\"frequency\": 46, \"value\": 2880}, \"833\": {\"frequency\": 1, \"value\": 833}, \"4930\": {\"frequency\": 4, \"value\": 4930}, \"6980\": {\"frequency\": 1, \"value\": 6980}, \"2885\": {\"frequency\": 1, \"value\": 2885}, \"840\": {\"frequency\": 56, \"value\": 840}, \"2890\": {\"frequency\": 34, \"value\": 2890}, \"2891\": {\"frequency\": 1, \"value\": 2891}, \"4940\": {\"frequency\": 1, \"value\": 4940}, \"850\": {\"frequency\": 26, \"value\": 850}, \"2900\": {\"frequency\": 35, \"value\": 2900}, \"7000\": {\"frequency\": 1, \"value\": 7000}, \"2905\": {\"frequency\": 1, \"value\": 2905}, \"2906\": {\"frequency\": 1, \"value\": 2906}, \"860\": {\"frequency\": 57, \"value\": 860}, \"2910\": {\"frequency\": 57, \"value\": 2910}, \"4960\": {\"frequency\": 2, \"value\": 4960}, \"2192\": {\"frequency\": 1, \"value\": 2192}, \"1510\": {\"frequency\": 114, \"value\": 1510}, \"870\": {\"frequency\": 36, \"value\": 870}, \"2920\": {\"frequency\": 43, \"value\": 2920}, \"2876\": {\"frequency\": 2, \"value\": 2876}, \"4970\": {\"frequency\": 1, \"value\": 4970}, \"2927\": {\"frequency\": 2, \"value\": 2927}, \"880\": {\"frequency\": 54, \"value\": 880}, \"2930\": {\"frequency\": 37, \"value\": 2930}, \"4980\": {\"frequency\": 2, \"value\": 4980}, \"3030\": {\"frequency\": 45, \"value\": 3030}, \"890\": {\"frequency\": 33, \"value\": 890}, \"2940\": {\"frequency\": 34, \"value\": 2940}, \"2538\": {\"frequency\": 1, \"value\": 2538}, \"894\": {\"frequency\": 1, \"value\": 894}, \"900\": {\"frequency\": 53, \"value\": 900}, \"901\": {\"frequency\": 1, \"value\": 901}, \"2950\": {\"frequency\": 32, \"value\": 2950}, \"5000\": {\"frequency\": 4, \"value\": 5000}, \"7050\": {\"frequency\": 1, \"value\": 7050}, \"3223\": {\"frequency\": 2, \"value\": 3223}, \"910\": {\"frequency\": 60, \"value\": 910}, \"2960\": {\"frequency\": 37, \"value\": 2960}, \"2961\": {\"frequency\": 1, \"value\": 2961}, \"5010\": {\"frequency\": 3, \"value\": 5010}, \"2963\": {\"frequency\": 1, \"value\": 2963}, \"2542\": {\"frequency\": 1, \"value\": 2542}, \"920\": {\"frequency\": 51, \"value\": 920}, \"2970\": {\"frequency\": 29, \"value\": 2970}, \"5020\": {\"frequency\": 3, \"value\": 5020}, \"2544\": {\"frequency\": 1, \"value\": 2544}, \"930\": {\"frequency\": 43, \"value\": 930}, \"2979\": {\"frequency\": 1, \"value\": 2979}, \"2980\": {\"frequency\": 57, \"value\": 2980}, \"5030\": {\"frequency\": 1, \"value\": 5030}, \"7080\": {\"frequency\": 1, \"value\": 7080}, \"940\": {\"frequency\": 62, \"value\": 940}, \"1522\": {\"frequency\": 1, \"value\": 1522}, \"2990\": {\"frequency\": 48, \"value\": 2990}, \"5040\": {\"frequency\": 3, \"value\": 5040}, \"2993\": {\"frequency\": 1, \"value\": 2993}, \"950\": {\"frequency\": 46, \"value\": 950}, \"3000\": {\"frequency\": 40, \"value\": 3000}, \"3001\": {\"frequency\": 1, \"value\": 3001}, \"5050\": {\"frequency\": 4, \"value\": 5050}, \"7100\": {\"frequency\": 1, \"value\": 7100}, \"960\": {\"frequency\": 82, \"value\": 960}, \"3010\": {\"frequency\": 48, \"value\": 3010}, \"1867\": {\"frequency\": 1, \"value\": 1867}, \"5060\": {\"frequency\": 1, \"value\": 5060}, \"844\": {\"frequency\": 1, \"value\": 844}, \"970\": {\"frequency\": 49, \"value\": 970}, \"5067\": {\"frequency\": 1, \"value\": 5067}, \"3020\": {\"frequency\": 41, \"value\": 3020}, \"5070\": {\"frequency\": 1, \"value\": 5070}, \"7120\": {\"frequency\": 1, \"value\": 7120}, \"980\": {\"frequency\": 53, \"value\": 980}, \"982\": {\"frequency\": 1, \"value\": 982}, \"5080\": {\"frequency\": 1, \"value\": 5080}, \"988\": {\"frequency\": 1, \"value\": 988}, \"990\": {\"frequency\": 53, \"value\": 990}, \"3040\": {\"frequency\": 45, \"value\": 3040}, \"5090\": {\"frequency\": 2, \"value\": 5090}, \"3238\": {\"frequency\": 1, \"value\": 3238}, \"998\": {\"frequency\": 2, \"value\": 998}, \"1000\": {\"frequency\": 73, \"value\": 1000}, \"3050\": {\"frequency\": 25, \"value\": 3050}, \"3052\": {\"frequency\": 1, \"value\": 3052}, \"1008\": {\"frequency\": 1, \"value\": 1008}, \"1010\": {\"frequency\": 129, \"value\": 1010}, \"3060\": {\"frequency\": 34, \"value\": 3060}, \"5110\": {\"frequency\": 2, \"value\": 5110}, \"3064\": {\"frequency\": 1, \"value\": 3064}, \"1876\": {\"frequency\": 1, \"value\": 1876}, \"1020\": {\"frequency\": 73, \"value\": 1020}, \"3070\": {\"frequency\": 36, \"value\": 3070}, \"5120\": {\"frequency\": 2, \"value\": 5120}, \"1030\": {\"frequency\": 57, \"value\": 1030}, \"3080\": {\"frequency\": 36, \"value\": 3080}, \"3444\": {\"frequency\": 1, \"value\": 3444}, \"5130\": {\"frequency\": 1, \"value\": 5130}, \"3085\": {\"frequency\": 1, \"value\": 3085}, \"12050\": {\"frequency\": 1, \"value\": 12050}, \"3087\": {\"frequency\": 1, \"value\": 3087}, \"1040\": {\"frequency\": 78, \"value\": 1040}, \"3090\": {\"frequency\": 38, \"value\": 3090}, \"1048\": {\"frequency\": 1, \"value\": 1048}, \"1050\": {\"frequency\": 68, \"value\": 1050}, \"3100\": {\"frequency\": 34, \"value\": 3100}, \"5150\": {\"frequency\": 3, \"value\": 5150}, \"1060\": {\"frequency\": 94, \"value\": 1060}, \"1061\": {\"frequency\": 1, \"value\": 1061}, \"3110\": {\"frequency\": 35, \"value\": 3110}, \"5160\": {\"frequency\": 1, \"value\": 5160}, \"1068\": {\"frequency\": 3, \"value\": 1068}, \"1070\": {\"frequency\": 76, \"value\": 1070}, \"3120\": {\"frequency\": 24, \"value\": 3120}, \"2568\": {\"frequency\": 1, \"value\": 2568}, \"5170\": {\"frequency\": 1, \"value\": 5170}, \"7220\": {\"frequency\": 1, \"value\": 7220}, \"1078\": {\"frequency\": 1, \"value\": 1078}, \"1080\": {\"frequency\": 50, \"value\": 1080}, \"3130\": {\"frequency\": 35, \"value\": 3130}, \"5180\": {\"frequency\": 5, \"value\": 5180}, \"3133\": {\"frequency\": 1, \"value\": 3133}, \"3135\": {\"frequency\": 1, \"value\": 3135}, \"1088\": {\"frequency\": 2, \"value\": 1088}, \"1090\": {\"frequency\": 69, \"value\": 1090}, \"3140\": {\"frequency\": 32, \"value\": 3140}, \"5190\": {\"frequency\": 3, \"value\": 5190}, \"1095\": {\"frequency\": 1, \"value\": 1095}, \"1100\": {\"frequency\": 79, \"value\": 1100}, \"3150\": {\"frequency\": 36, \"value\": 3150}, \"1108\": {\"frequency\": 1, \"value\": 1108}, \"1110\": {\"frequency\": 48, \"value\": 1110}, \"3160\": {\"frequency\": 49, \"value\": 3160}, \"5210\": {\"frequency\": 1, \"value\": 5210}, \"1120\": {\"frequency\": 86, \"value\": 1120}, \"1552\": {\"frequency\": 2, \"value\": 1552}, \"3170\": {\"frequency\": 22, \"value\": 3170}, \"5220\": {\"frequency\": 2, \"value\": 5220}, \"1894\": {\"frequency\": 1, \"value\": 1894}, \"7270\": {\"frequency\": 1, \"value\": 7270}, \"3176\": {\"frequency\": 1, \"value\": 3176}, \"1129\": {\"frequency\": 1, \"value\": 1129}, \"1130\": {\"frequency\": 56, \"value\": 1130}, \"1131\": {\"frequency\": 1, \"value\": 1131}, \"3180\": {\"frequency\": 41, \"value\": 3180}, \"3181\": {\"frequency\": 1, \"value\": 3181}, \"5230\": {\"frequency\": 3, \"value\": 5230}, \"1140\": {\"frequency\": 100, \"value\": 1140}, \"3190\": {\"frequency\": 47, \"value\": 3190}, \"5240\": {\"frequency\": 1, \"value\": 5240}, \"2708\": {\"frequency\": 1, \"value\": 2708}, \"1150\": {\"frequency\": 98, \"value\": 1150}, \"3200\": {\"frequency\": 36, \"value\": 3200}, \"5250\": {\"frequency\": 1, \"value\": 5250}, \"3206\": {\"frequency\": 1, \"value\": 3206}, \"1159\": {\"frequency\": 1, \"value\": 1159}, \"1160\": {\"frequency\": 91, \"value\": 1160}, \"3210\": {\"frequency\": 18, \"value\": 3210}, \"2242\": {\"frequency\": 5, \"value\": 2242}, \"3216\": {\"frequency\": 1, \"value\": 3216}, \"3217\": {\"frequency\": 1, \"value\": 3217}, \"1170\": {\"frequency\": 78, \"value\": 1170}, \"3220\": {\"frequency\": 40, \"value\": 3220}, \"5270\": {\"frequency\": 3, \"value\": 5270}, \"1175\": {\"frequency\": 2, \"value\": 1175}, \"7320\": {\"frequency\": 1, \"value\": 7320}, \"1180\": {\"frequency\": 89, \"value\": 1180}, \"3028\": {\"frequency\": 1, \"value\": 3028}, \"3230\": {\"frequency\": 36, \"value\": 3230}, \"5280\": {\"frequency\": 1, \"value\": 5280}, \"3236\": {\"frequency\": 1, \"value\": 3236}, \"1190\": {\"frequency\": 67, \"value\": 1190}, \"3240\": {\"frequency\": 31, \"value\": 3240}, \"2588\": {\"frequency\": 2, \"value\": 2588}, \"5290\": {\"frequency\": 2, \"value\": 5290}, \"1200\": {\"frequency\": 118, \"value\": 1200}, \"3250\": {\"frequency\": 28, \"value\": 3250}, \"5300\": {\"frequency\": 2, \"value\": 5300}, \"7350\": {\"frequency\": 1, \"value\": 7350}, \"5305\": {\"frequency\": 1, \"value\": 5305}, \"1210\": {\"frequency\": 88, \"value\": 1210}, \"3260\": {\"frequency\": 20, \"value\": 3260}, \"5310\": {\"frequency\": 4, \"value\": 5310}, \"3266\": {\"frequency\": 2, \"value\": 3266}, \"1220\": {\"frequency\": 92, \"value\": 1220}, \"3270\": {\"frequency\": 23, \"value\": 3270}, \"5320\": {\"frequency\": 1, \"value\": 5320}, \"3273\": {\"frequency\": 1, \"value\": 3273}, \"3274\": {\"frequency\": 1, \"value\": 3274}, \"3276\": {\"frequency\": 1, \"value\": 3276}, \"1230\": {\"frequency\": 82, \"value\": 1230}, \"3280\": {\"frequency\": 29, \"value\": 3280}, \"1233\": {\"frequency\": 1, \"value\": 1233}, \"5330\": {\"frequency\": 2, \"value\": 5330}, \"3284\": {\"frequency\": 1, \"value\": 3284}, \"1239\": {\"frequency\": 1, \"value\": 1239}, \"1240\": {\"frequency\": 112, \"value\": 1240}, \"1572\": {\"frequency\": 1, \"value\": 1572}, \"3290\": {\"frequency\": 29, \"value\": 3290}, \"5340\": {\"frequency\": 1, \"value\": 5340}, \"7390\": {\"frequency\": 1, \"value\": 7390}, \"1232\": {\"frequency\": 1, \"value\": 1232}, \"1250\": {\"frequency\": 120, \"value\": 1250}, \"13540\": {\"frequency\": 1, \"value\": 13540}, \"2598\": {\"frequency\": 1, \"value\": 2598}, \"5350\": {\"frequency\": 2, \"value\": 5350}, \"1255\": {\"frequency\": 2, \"value\": 1255}, \"1256\": {\"frequency\": 1, \"value\": 1256}, \"3305\": {\"frequency\": 1, \"value\": 3305}, \"1260\": {\"frequency\": 113, \"value\": 1260}, \"3310\": {\"frequency\": 23, \"value\": 3310}, \"893\": {\"frequency\": 1, \"value\": 893}, \"5360\": {\"frequency\": 1, \"value\": 5360}, \"3316\": {\"frequency\": 1, \"value\": 3316}, \"1270\": {\"frequency\": 102, \"value\": 1270}, \"3320\": {\"frequency\": 36, \"value\": 3320}, \"5370\": {\"frequency\": 5, \"value\": 5370}, \"1275\": {\"frequency\": 1, \"value\": 1275}, \"7420\": {\"frequency\": 1, \"value\": 7420}, \"1278\": {\"frequency\": 1, \"value\": 1278}, \"1280\": {\"frequency\": 100, \"value\": 1280}, \"3330\": {\"frequency\": 21, \"value\": 3330}, \"1290\": {\"frequency\": 74, \"value\": 1290}, \"3340\": {\"frequency\": 22, \"value\": 3340}, \"1295\": {\"frequency\": 1, \"value\": 1295}, \"7440\": {\"frequency\": 1, \"value\": 7440}, \"384\": {\"frequency\": 1, \"value\": 384}, \"1300\": {\"frequency\": 138, \"value\": 1300}, \"3350\": {\"frequency\": 22, \"value\": 3350}, \"5400\": {\"frequency\": 1, \"value\": 5400}, \"5403\": {\"frequency\": 1, \"value\": 5403}, \"1310\": {\"frequency\": 81, \"value\": 1310}, \"3360\": {\"frequency\": 22, \"value\": 3360}, \"3361\": {\"frequency\": 2, \"value\": 3361}, \"5410\": {\"frequency\": 1, \"value\": 5410}, \"1315\": {\"frequency\": 1, \"value\": 1315}, \"902\": {\"frequency\": 1, \"value\": 902}, \"3366\": {\"frequency\": 1, \"value\": 3366}, \"1320\": {\"frequency\": 122, \"value\": 1320}, \"3370\": {\"frequency\": 39, \"value\": 3370}, \"5420\": {\"frequency\": 1, \"value\": 5420}, \"7730\": {\"frequency\": 1, \"value\": 7730}, \"1330\": {\"frequency\": 89, \"value\": 1330}, \"3380\": {\"frequency\": 17, \"value\": 3380}, \"1333\": {\"frequency\": 1, \"value\": 1333}, \"5430\": {\"frequency\": 2, \"value\": 5430}, \"7480\": {\"frequency\": 1, \"value\": 7480}, \"2612\": {\"frequency\": 1, \"value\": 2612}, \"1340\": {\"frequency\": 113, \"value\": 1340}, \"3390\": {\"frequency\": 16, \"value\": 3390}, \"5440\": {\"frequency\": 2, \"value\": 5440}, \"1347\": {\"frequency\": 1, \"value\": 1347}, \"1350\": {\"frequency\": 95, \"value\": 1350}, \"3400\": {\"frequency\": 30, \"value\": 3400}, \"3402\": {\"frequency\": 1, \"value\": 3402}, \"1358\": {\"frequency\": 3, \"value\": 1358}, \"5860\": {\"frequency\": 3, \"value\": 5860}, \"1360\": {\"frequency\": 96, \"value\": 1360}, \"3410\": {\"frequency\": 24, \"value\": 3410}, \"5461\": {\"frequency\": 1, \"value\": 5461}, \"3300\": {\"frequency\": 24, \"value\": 3300}, \"1370\": {\"frequency\": 118, \"value\": 1370}, \"3420\": {\"frequency\": 32, \"value\": 3420}, \"5470\": {\"frequency\": 2, \"value\": 5470}, \"1380\": {\"frequency\": 85, \"value\": 1380}, \"1381\": {\"frequency\": 1, \"value\": 1381}, \"3430\": {\"frequency\": 20, \"value\": 3430}, \"1384\": {\"frequency\": 3, \"value\": 1384}, \"1390\": {\"frequency\": 89, \"value\": 1390}, \"3440\": {\"frequency\": 27, \"value\": 3440}, \"7400\": {\"frequency\": 1, \"value\": 7400}, \"5490\": {\"frequency\": 2, \"value\": 5490}, \"1396\": {\"frequency\": 1, \"value\": 1396}, \"1397\": {\"frequency\": 1, \"value\": 1397}, \"1400\": {\"frequency\": 135, \"value\": 1400}, \"3450\": {\"frequency\": 24, \"value\": 3450}, \"1405\": {\"frequency\": 1, \"value\": 1405}, \"1408\": {\"frequency\": 1, \"value\": 1408}, \"1410\": {\"frequency\": 109, \"value\": 1410}, \"3460\": {\"frequency\": 14, \"value\": 3460}, \"1413\": {\"frequency\": 2, \"value\": 1413}, \"3078\": {\"frequency\": 1, \"value\": 3078}, \"1420\": {\"frequency\": 92, \"value\": 1420}, \"1422\": {\"frequency\": 1, \"value\": 1422}, \"5520\": {\"frequency\": 1, \"value\": 5520}, \"1425\": {\"frequency\": 1, \"value\": 1425}, \"4480\": {\"frequency\": 3, \"value\": 4480}, \"1427\": {\"frequency\": 1, \"value\": 1427}, \"1430\": {\"frequency\": 116, \"value\": 1430}, \"3480\": {\"frequency\": 21, \"value\": 3480}, \"2628\": {\"frequency\": 1, \"value\": 2628}, \"5530\": {\"frequency\": 1, \"value\": 5530}, \"1435\": {\"frequency\": 1, \"value\": 1435}, \"1440\": {\"frequency\": 133, \"value\": 1440}, \"1264\": {\"frequency\": 1, \"value\": 1264}, \"3490\": {\"frequency\": 26, \"value\": 3490}, \"5540\": {\"frequency\": 2, \"value\": 5540}, \"1445\": {\"frequency\": 5, \"value\": 1445}, \"9640\": {\"frequency\": 1, \"value\": 9640}, \"5545\": {\"frequency\": 1, \"value\": 5545}, \"1450\": {\"frequency\": 91, \"value\": 1450}, \"1451\": {\"frequency\": 1, \"value\": 1451}, \"3500\": {\"frequency\": 29, \"value\": 3500}, \"1453\": {\"frequency\": 1, \"value\": 1453}, \"5550\": {\"frequency\": 4, \"value\": 5550}, \"3504\": {\"frequency\": 1, \"value\": 3504}, \"4680\": {\"frequency\": 2, \"value\": 4680}, \"1458\": {\"frequency\": 1, \"value\": 1458}, \"1460\": {\"frequency\": 116, \"value\": 1460}, \"3510\": {\"frequency\": 21, \"value\": 3510}, \"1463\": {\"frequency\": 1, \"value\": 1463}, \"1465\": {\"frequency\": 1, \"value\": 1465}, \"1470\": {\"frequency\": 112, \"value\": 1470}, \"3520\": {\"frequency\": 21, \"value\": 3520}, \"1952\": {\"frequency\": 1, \"value\": 1952}, \"5570\": {\"frequency\": 1, \"value\": 5570}, \"7620\": {\"frequency\": 1, \"value\": 7620}, \"3526\": {\"frequency\": 1, \"value\": 3526}, \"3527\": {\"frequency\": 1, \"value\": 3527}, \"1480\": {\"frequency\": 125, \"value\": 1480}, \"1481\": {\"frequency\": 2, \"value\": 1481}, \"3530\": {\"frequency\": 21, \"value\": 3530}, \"1484\": {\"frequency\": 1, \"value\": 1484}, \"1954\": {\"frequency\": 2, \"value\": 1954}, \"5584\": {\"frequency\": 1, \"value\": 5584}, \"1489\": {\"frequency\": 3, \"value\": 1489}, \"1490\": {\"frequency\": 99, \"value\": 1490}, \"3540\": {\"frequency\": 14, \"value\": 3540}, \"1494\": {\"frequency\": 2, \"value\": 1494}, \"1495\": {\"frequency\": 1, \"value\": 1495}, \"1496\": {\"frequency\": 1, \"value\": 1496}, \"3545\": {\"frequency\": 1, \"value\": 3545}, \"1500\": {\"frequency\": 112, \"value\": 1500}, \"3550\": {\"frequency\": 20, \"value\": 3550}, \"5600\": {\"frequency\": 1, \"value\": 5600}, \"3555\": {\"frequency\": 1, \"value\": 3555}, \"1509\": {\"frequency\": 3, \"value\": 1509}, \"1414\": {\"frequency\": 1, \"value\": 1414}, \"3560\": {\"frequency\": 28, \"value\": 3560}, \"5610\": {\"frequency\": 2, \"value\": 5610}, \"1516\": {\"frequency\": 1, \"value\": 1516}, \"1520\": {\"frequency\": 102, \"value\": 1520}, \"3569\": {\"frequency\": 1, \"value\": 3569}, \"3570\": {\"frequency\": 16, \"value\": 3570}, \"5620\": {\"frequency\": 2, \"value\": 5620}, \"1528\": {\"frequency\": 1, \"value\": 1528}, \"1530\": {\"frequency\": 109, \"value\": 1530}, \"3580\": {\"frequency\": 14, \"value\": 3580}, \"5635\": {\"frequency\": 1, \"value\": 5635}, \"1540\": {\"frequency\": 124, \"value\": 1540}, \"3590\": {\"frequency\": 7, \"value\": 3590}, \"5640\": {\"frequency\": 1, \"value\": 5640}, \"3595\": {\"frequency\": 1, \"value\": 3595}, \"3596\": {\"frequency\": 1, \"value\": 3596}, \"3597\": {\"frequency\": 1, \"value\": 3597}, \"1550\": {\"frequency\": 96, \"value\": 1550}, \"3600\": {\"frequency\": 25, \"value\": 3600}, \"1553\": {\"frequency\": 2, \"value\": 1553}, \"1556\": {\"frequency\": 1, \"value\": 1556}, \"1560\": {\"frequency\": 124, \"value\": 1560}, \"3610\": {\"frequency\": 19, \"value\": 3610}, \"5660\": {\"frequency\": 1, \"value\": 5660}, \"1626\": {\"frequency\": 1, \"value\": 1626}, \"7710\": {\"frequency\": 1, \"value\": 7710}, \"1570\": {\"frequency\": 100, \"value\": 1570}, \"1571\": {\"frequency\": 1, \"value\": 1571}, \"3620\": {\"frequency\": 17, \"value\": 3620}, \"5670\": {\"frequency\": 1, \"value\": 5670}, \"1578\": {\"frequency\": 1, \"value\": 1578}, \"1580\": {\"frequency\": 119, \"value\": 1580}, \"3630\": {\"frequency\": 13, \"value\": 3630}, \"1584\": {\"frequency\": 3, \"value\": 1584}, \"530\": {\"frequency\": 3, \"value\": 530}, \"1212\": {\"frequency\": 1, \"value\": 1212}, \"1590\": {\"frequency\": 104, \"value\": 1590}, \"2313\": {\"frequency\": 1, \"value\": 2313}, \"3640\": {\"frequency\": 13, \"value\": 3640}, \"1594\": {\"frequency\": 1, \"value\": 1594}, \"1600\": {\"frequency\": 109, \"value\": 1600}, \"1601\": {\"frequency\": 1, \"value\": 1601}, \"3650\": {\"frequency\": 19, \"value\": 3650}, \"5700\": {\"frequency\": 1, \"value\": 5700}, \"1606\": {\"frequency\": 1, \"value\": 1606}, \"3655\": {\"frequency\": 1, \"value\": 3655}, \"1608\": {\"frequency\": 3, \"value\": 1608}, \"1610\": {\"frequency\": 112, \"value\": 1610}, \"1611\": {\"frequency\": 1, \"value\": 1611}, \"3660\": {\"frequency\": 10, \"value\": 3660}, \"1613\": {\"frequency\": 1, \"value\": 1613}, \"5710\": {\"frequency\": 1, \"value\": 5710}, \"1615\": {\"frequency\": 1, \"value\": 1615}, \"1620\": {\"frequency\": 99, \"value\": 1620}, \"2452\": {\"frequency\": 1, \"value\": 2452}, \"3670\": {\"frequency\": 15, \"value\": 3670}, \"3672\": {\"frequency\": 1, \"value\": 3672}, \"3674\": {\"frequency\": 1, \"value\": 3674}, \"1628\": {\"frequency\": 1, \"value\": 1628}, \"3002\": {\"frequency\": 1, \"value\": 3002}, \"1630\": {\"frequency\": 94, \"value\": 1630}, \"3680\": {\"frequency\": 21, \"value\": 3680}, \"1296\": {\"frequency\": 1, \"value\": 1296}, \"5730\": {\"frequency\": 1, \"value\": 5730}, \"1852\": {\"frequency\": 2, \"value\": 1852}, \"5510\": {\"frequency\": 1, \"value\": 5510}, \"1639\": {\"frequency\": 1, \"value\": 1639}, \"1640\": {\"frequency\": 112, \"value\": 1640}, \"3004\": {\"frequency\": 1, \"value\": 3004}, \"3690\": {\"frequency\": 12, \"value\": 3690}, \"1643\": {\"frequency\": 1, \"value\": 1643}, \"5740\": {\"frequency\": 1, \"value\": 5740}, \"1646\": {\"frequency\": 3, \"value\": 1646}, \"3695\": {\"frequency\": 1, \"value\": 3695}, \"1650\": {\"frequency\": 117, \"value\": 1650}, \"1651\": {\"frequency\": 2, \"value\": 1651}, \"3700\": {\"frequency\": 18, \"value\": 3700}, \"1982\": {\"frequency\": 1, \"value\": 1982}, \"1654\": {\"frequency\": 2, \"value\": 1654}, \"1656\": {\"frequency\": 1, \"value\": 1656}, \"1657\": {\"frequency\": 1, \"value\": 1657}, \"1658\": {\"frequency\": 1, \"value\": 1658}, \"1252\": {\"frequency\": 1, \"value\": 1252}, \"1660\": {\"frequency\": 129, \"value\": 1660}, \"3710\": {\"frequency\": 10, \"value\": 3710}, \"5760\": {\"frequency\": 1, \"value\": 5760}, \"3691\": {\"frequency\": 1, \"value\": 3691}, \"3056\": {\"frequency\": 1, \"value\": 3056}, \"1670\": {\"frequency\": 109, \"value\": 1670}, \"3720\": {\"frequency\": 23, \"value\": 3720}, \"5770\": {\"frequency\": 3, \"value\": 5770}, \"1676\": {\"frequency\": 1, \"value\": 1676}, \"962\": {\"frequency\": 1, \"value\": 962}, \"5774\": {\"frequency\": 1, \"value\": 5774}, \"1679\": {\"frequency\": 1, \"value\": 1679}, \"1680\": {\"frequency\": 116, \"value\": 1680}, \"3730\": {\"frequency\": 16, \"value\": 3730}, \"5780\": {\"frequency\": 2, \"value\": 5780}, \"1689\": {\"frequency\": 1, \"value\": 1689}, \"1690\": {\"frequency\": 110, \"value\": 1690}, \"3740\": {\"frequency\": 17, \"value\": 3740}, \"5790\": {\"frequency\": 2, \"value\": 5790}, \"2672\": {\"frequency\": 1, \"value\": 2672}, \"9890\": {\"frequency\": 1, \"value\": 9890}, \"1700\": {\"frequency\": 108, \"value\": 1700}, \"3750\": {\"frequency\": 10, \"value\": 3750}, \"3753\": {\"frequency\": 1, \"value\": 3753}, \"7850\": {\"frequency\": 1, \"value\": 7850}, \"1710\": {\"frequency\": 93, \"value\": 1710}, \"3760\": {\"frequency\": 18, \"value\": 3760}, \"1992\": {\"frequency\": 1, \"value\": 1992}, \"1714\": {\"frequency\": 3, \"value\": 1714}, \"1715\": {\"frequency\": 1, \"value\": 1715}, \"1720\": {\"frequency\": 125, \"value\": 1720}, \"3770\": {\"frequency\": 13, \"value\": 3770}, \"5820\": {\"frequency\": 1, \"value\": 5820}, \"1726\": {\"frequency\": 1, \"value\": 1726}, \"1728\": {\"frequency\": 1, \"value\": 1728}, \"1730\": {\"frequency\": 100, \"value\": 1730}, \"3780\": {\"frequency\": 14, \"value\": 3780}, \"2678\": {\"frequency\": 1, \"value\": 2678}, \"5830\": {\"frequency\": 1, \"value\": 5830}, \"1313\": {\"frequency\": 1, \"value\": 1313}, \"7880\": {\"frequency\": 1, \"value\": 7880}, \"3786\": {\"frequency\": 1, \"value\": 3786}, \"1740\": {\"frequency\": 115, \"value\": 1740}, \"290\": {\"frequency\": 1, \"value\": 290}, \"3790\": {\"frequency\": 9, \"value\": 3790}, \"5840\": {\"frequency\": 2, \"value\": 5840}, \"1747\": {\"frequency\": 1, \"value\": 1747}, \"5844\": {\"frequency\": 1, \"value\": 5844}, \"1750\": {\"frequency\": 83, \"value\": 1750}, \"3800\": {\"frequency\": 10, \"value\": 3800}, \"5850\": {\"frequency\": 2, \"value\": 5850}, \"1757\": {\"frequency\": 1, \"value\": 1757}, \"1760\": {\"frequency\": 104, \"value\": 1760}, \"3810\": {\"frequency\": 13, \"value\": 3810}, \"1763\": {\"frequency\": 1, \"value\": 1763}, \"1764\": {\"frequency\": 1, \"value\": 1764}, \"1765\": {\"frequency\": 1, \"value\": 1765}, \"1767\": {\"frequency\": 1, \"value\": 1767}, \"1769\": {\"frequency\": 2, \"value\": 1769}, \"1770\": {\"frequency\": 98, \"value\": 1770}, \"3820\": {\"frequency\": 13, \"value\": 3820}, \"3281\": {\"frequency\": 1, \"value\": 3281}, \"1776\": {\"frequency\": 1, \"value\": 1776}, \"1778\": {\"frequency\": 1, \"value\": 1778}, \"1780\": {\"frequency\": 117, \"value\": 1780}, \"3830\": {\"frequency\": 20, \"value\": 3830}, \"3831\": {\"frequency\": 1, \"value\": 3831}, \"1785\": {\"frequency\": 2, \"value\": 1785}, \"2835\": {\"frequency\": 1, \"value\": 2835}, \"1788\": {\"frequency\": 1, \"value\": 1788}, \"1322\": {\"frequency\": 2, \"value\": 1322}, \"1790\": {\"frequency\": 110, \"value\": 1790}, \"3840\": {\"frequency\": 14, \"value\": 3840}, \"1794\": {\"frequency\": 1, \"value\": 1794}, \"3845\": {\"frequency\": 1, \"value\": 3845}, \"1798\": {\"frequency\": 1, \"value\": 1798}, \"3847\": {\"frequency\": 1, \"value\": 3847}, \"1800\": {\"frequency\": 129, \"value\": 1800}, \"3850\": {\"frequency\": 8, \"value\": 3850}, \"1805\": {\"frequency\": 1, \"value\": 1805}, \"1808\": {\"frequency\": 1, \"value\": 1808}, \"1810\": {\"frequency\": 98, \"value\": 1810}, \"1811\": {\"frequency\": 1, \"value\": 1811}, \"3860\": {\"frequency\": 15, \"value\": 3860}, \"1814\": {\"frequency\": 1, \"value\": 1814}, \"2692\": {\"frequency\": 2, \"value\": 2692}, \"1820\": {\"frequency\": 128, \"value\": 1820}, \"3870\": {\"frequency\": 12, \"value\": 3870}, \"1824\": {\"frequency\": 1, \"value\": 1824}, \"1830\": {\"frequency\": 114, \"value\": 1830}, \"3880\": {\"frequency\": 13, \"value\": 3880}, \"1833\": {\"frequency\": 1, \"value\": 1833}, \"5930\": {\"frequency\": 1, \"value\": 5930}, \"2658\": {\"frequency\": 1, \"value\": 2658}, \"1840\": {\"frequency\": 101, \"value\": 1840}, \"3890\": {\"frequency\": 14, \"value\": 3890}, \"5940\": {\"frequency\": 1, \"value\": 5940}, \"1845\": {\"frequency\": 1, \"value\": 1845}, \"1847\": {\"frequency\": 2, \"value\": 1847}, \"10040\": {\"frequency\": 1, \"value\": 10040}, \"1850\": {\"frequency\": 100, \"value\": 1850}, \"3900\": {\"frequency\": 10, \"value\": 3900}, \"3902\": {\"frequency\": 1, \"value\": 3902}, \"8000\": {\"frequency\": 1, \"value\": 8000}, \"3906\": {\"frequency\": 1, \"value\": 3906}, \"1860\": {\"frequency\": 91, \"value\": 1860}, \"1861\": {\"frequency\": 1, \"value\": 1861}, \"3910\": {\"frequency\": 13, \"value\": 3910}, \"1864\": {\"frequency\": 1, \"value\": 1864}, \"8010\": {\"frequency\": 1, \"value\": 8010}, \"3915\": {\"frequency\": 1, \"value\": 3915}, \"1870\": {\"frequency\": 96, \"value\": 1870}, \"1677\": {\"frequency\": 2, \"value\": 1677}, \"3920\": {\"frequency\": 17, \"value\": 3920}, \"6110\": {\"frequency\": 1, \"value\": 6110}, \"8020\": {\"frequency\": 1, \"value\": 8020}, \"1678\": {\"frequency\": 1, \"value\": 1678}, \"1880\": {\"frequency\": 90, \"value\": 1880}, \"3930\": {\"frequency\": 11, \"value\": 3930}, \"3931\": {\"frequency\": 1, \"value\": 3931}, \"5450\": {\"frequency\": 2, \"value\": 5450}, \"3045\": {\"frequency\": 1, \"value\": 3045}, \"1889\": {\"frequency\": 1, \"value\": 1889}, \"1890\": {\"frequency\": 98, \"value\": 1890}, \"3940\": {\"frequency\": 8, \"value\": 3940}, \"5990\": {\"frequency\": 2, \"value\": 5990}, \"1899\": {\"frequency\": 1, \"value\": 1899}, \"1900\": {\"frequency\": 117, \"value\": 1900}, \"3950\": {\"frequency\": 13, \"value\": 3950}, \"1904\": {\"frequency\": 1, \"value\": 1904}, \"2382\": {\"frequency\": 1, \"value\": 2382}, \"1909\": {\"frequency\": 1, \"value\": 1909}, \"1910\": {\"frequency\": 81, \"value\": 1910}, \"4073\": {\"frequency\": 1, \"value\": 4073}, \"1912\": {\"frequency\": 1, \"value\": 1912}, \"3732\": {\"frequency\": 1, \"value\": 3732}, \"1914\": {\"frequency\": 2, \"value\": 1914}, \"1920\": {\"frequency\": 94, \"value\": 1920}, \"1921\": {\"frequency\": 1, \"value\": 1921}, \"3970\": {\"frequency\": 8, \"value\": 3970}, \"5100\": {\"frequency\": 1, \"value\": 5100}, \"1930\": {\"frequency\": 88, \"value\": 1930}, \"3980\": {\"frequency\": 6, \"value\": 3980}, \"6030\": {\"frequency\": 1, \"value\": 6030}, \"1936\": {\"frequency\": 2, \"value\": 1936}, \"3065\": {\"frequency\": 1, \"value\": 3065}, \"1940\": {\"frequency\": 101, \"value\": 1940}, \"3990\": {\"frequency\": 16, \"value\": 3990}, \"6040\": {\"frequency\": 1, \"value\": 6040}, \"1946\": {\"frequency\": 1, \"value\": 1946}, \"6810\": {\"frequency\": 1, \"value\": 6810}, \"1950\": {\"frequency\": 92, \"value\": 1950}, \"4000\": {\"frequency\": 7, \"value\": 4000}, \"9200\": {\"frequency\": 1, \"value\": 9200}, \"6050\": {\"frequency\": 2, \"value\": 6050}, \"6055\": {\"frequency\": 1, \"value\": 6055}, \"1960\": {\"frequency\": 110, \"value\": 1960}, \"1961\": {\"frequency\": 1, \"value\": 1961}, \"4010\": {\"frequency\": 12, \"value\": 4010}, \"1964\": {\"frequency\": 1, \"value\": 1964}, \"1352\": {\"frequency\": 1, \"value\": 1352}, \"1970\": {\"frequency\": 84, \"value\": 1970}, \"4020\": {\"frequency\": 9, \"value\": 4020}, \"2718\": {\"frequency\": 1, \"value\": 2718}, \"6070\": {\"frequency\": 2, \"value\": 6070}, \"1975\": {\"frequency\": 1, \"value\": 1975}, \"1979\": {\"frequency\": 1, \"value\": 1979}, \"1980\": {\"frequency\": 105, \"value\": 1980}, \"1981\": {\"frequency\": 2, \"value\": 1981}, \"4030\": {\"frequency\": 11, \"value\": 4030}, \"1983\": {\"frequency\": 1, \"value\": 1983}, \"1984\": {\"frequency\": 3, \"value\": 1984}, \"1986\": {\"frequency\": 1, \"value\": 1986}, \"1987\": {\"frequency\": 1, \"value\": 1987}, \"6085\": {\"frequency\": 1, \"value\": 6085}, \"1990\": {\"frequency\": 85, \"value\": 1990}, \"4040\": {\"frequency\": 14, \"value\": 4040}, \"1995\": {\"frequency\": 4, \"value\": 1995}, \"1996\": {\"frequency\": 1, \"value\": 1996}, \"5960\": {\"frequency\": 2, \"value\": 5960}, \"2000\": {\"frequency\": 103, \"value\": 2000}, \"4050\": {\"frequency\": 8, \"value\": 4050}, \"2005\": {\"frequency\": 1, \"value\": 2005}, \"2007\": {\"frequency\": 1, \"value\": 2007}, \"2008\": {\"frequency\": 1, \"value\": 2008}, \"2009\": {\"frequency\": 2, \"value\": 2009}, \"2010\": {\"frequency\": 77, \"value\": 2010}, \"4060\": {\"frequency\": 13, \"value\": 4060}, \"2014\": {\"frequency\": 1, \"value\": 2014}, \"2015\": {\"frequency\": 1, \"value\": 2015}, \"4065\": {\"frequency\": 1, \"value\": 4065}, \"2019\": {\"frequency\": 1, \"value\": 2019}, \"2020\": {\"frequency\": 104, \"value\": 2020}, \"4070\": {\"frequency\": 10, \"value\": 4070}, \"5720\": {\"frequency\": 1, \"value\": 5720}, \"2025\": {\"frequency\": 1, \"value\": 2025}, \"2026\": {\"frequency\": 1, \"value\": 2026}, \"2029\": {\"frequency\": 1, \"value\": 2029}, \"2030\": {\"frequency\": 78, \"value\": 2030}, \"2031\": {\"frequency\": 1, \"value\": 2031}, \"4080\": {\"frequency\": 7, \"value\": 4080}, \"2034\": {\"frequency\": 1, \"value\": 2034}, \"4083\": {\"frequency\": 1, \"value\": 4083}, \"2038\": {\"frequency\": 1, \"value\": 2038}, \"2040\": {\"frequency\": 104, \"value\": 2040}, \"4090\": {\"frequency\": 8, \"value\": 4090}, \"2044\": {\"frequency\": 1, \"value\": 2044}, \"1365\": {\"frequency\": 1, \"value\": 1365}}, \"mean\": 2079.8997362698337}, \"floors\": {\"complete\": true, \"numeric\": false, \"num_unique\": 6, \"num_undefined\": 0, \"progress\": 1.0, \"frequent_items\": {\"1.5\": {\"frequency\": 1910, \"value\": \"1.5\"}, \"1\": {\"frequency\": 10680, \"value\": \"1\"}, \"3\": {\"frequency\": 613, \"value\": \"3\"}, \"2\": {\"frequency\": 8241, \"value\": \"2\"}, \"3.5\": {\"frequency\": 8, \"value\": \"3.5\"}, \"2.5\": {\"frequency\": 161, \"value\": \"2.5\"}}, \"size\": 21613}, \"sqft_lot\": {\"std\": 41419.55327262765, \"complete\": true, \"min\": 520.0, \"max\": 1651359.0, \"quantile\": [520.0, 1010.0, 1184.0, 1304.0, 1488.0, 1800.0, 2166.0, 2550.0, 2849.0, 3075.0, 3328.0, 3561.0, 3716.0, 3868.0, 4000.0, 4013.0, 4120.0, 4257.0, 4418.0, 4501.0, 4643.0, 4799.0, 4869.0, 5000.0, 5000.0, 5040.0, 5119.0, 5210.0, 5375.0, 5500.0, 5612.0, 5750.0, 5866.0, 6000.0, 6000.0, 6120.0, 6246.0, 6360.0, 6491.0, 6600.0, 6744.0, 6875.0, 7000.0, 7134.0, 7200.0, 7215.0, 7282.0, 7355.0, 7473.0, 7520.0, 7620.0, 7700.0, 7800.0, 7875.0, 7995.0, 8072.0, 8141.0, 8247.0, 8366.0, 8424.0, 8521.0, 8636.0, 8775.0, 8913.0, 9028.0, 9186.0, 9340.0, 9492.0, 9600.0, 9687.0, 9800.0, 9960.0, 10092.0, 10248.0, 10450.0, 10689.0, 10900.0, 11220.0, 11524.0, 11900.0, 12177.0, 12558.0, 13040.0, 13515.0, 14200.0, 15024.0, 15704.0, 16728.0, 18000.0, 19542.0, 21450.0, 24186.0, 28405.0, 34981.0, 37642.0, 43170.0, 50479.0, 67518.0, 105587.0, 211576.0, 1651359.0], \"median\": 7620.0, \"numeric\": true, \"num_unique\": 9747, \"num_undefined\": 0, \"var\": 1715579393.3040402, \"progress\": 1.0, \"size\": 21613, \"frequent_items\": {\"6001\": {\"frequency\": 1, \"value\": 6001}, \"57346\": {\"frequency\": 1, \"value\": 57346}, \"8195\": {\"frequency\": 2, \"value\": 8195}, \"8196\": {\"frequency\": 2, \"value\": 8196}, \"8200\": {\"frequency\": 11, \"value\": 8200}, \"8201\": {\"frequency\": 2, \"value\": 8201}, \"6829\": {\"frequency\": 2, \"value\": 6829}, \"16400\": {\"frequency\": 2, \"value\": 16400}, \"1368\": {\"frequency\": 2, \"value\": 1368}, \"8214\": {\"frequency\": 2, \"value\": 8214}, \"8215\": {\"frequency\": 4, \"value\": 8215}, \"8219\": {\"frequency\": 1, \"value\": 8219}, \"8220\": {\"frequency\": 6, \"value\": 8220}, \"8223\": {\"frequency\": 4, \"value\": 8223}, \"8225\": {\"frequency\": 3, \"value\": 8225}, \"8227\": {\"frequency\": 3, \"value\": 8227}, \"57381\": {\"frequency\": 1, \"value\": 57381}, \"8230\": {\"frequency\": 3, \"value\": 8230}, \"8232\": {\"frequency\": 2, \"value\": 8232}, \"8234\": {\"frequency\": 4, \"value\": 8234}, \"131115\": {\"frequency\": 1, \"value\": 131115}, \"8239\": {\"frequency\": 3, \"value\": 8239}, \"8240\": {\"frequency\": 8, \"value\": 8240}, \"4366\": {\"frequency\": 3, \"value\": 4366}, \"9566\": {\"frequency\": 3, \"value\": 9566}, \"8247\": {\"frequency\": 1, \"value\": 8247}, \"8249\": {\"frequency\": 1, \"value\": 8249}, \"8250\": {\"frequency\": 34, \"value\": 8250}, \"8251\": {\"frequency\": 2, \"value\": 8251}, \"8252\": {\"frequency\": 3, \"value\": 8252}, \"8254\": {\"frequency\": 3, \"value\": 8254}, \"8255\": {\"frequency\": 2, \"value\": 8255}, \"8256\": {\"frequency\": 2, \"value\": 8256}, \"26460\": {\"frequency\": 1, \"value\": 26460}, \"8261\": {\"frequency\": 3, \"value\": 8261}, \"49222\": {\"frequency\": 4, \"value\": 49222}, \"9569\": {\"frequency\": 1, \"value\": 9569}, \"8266\": {\"frequency\": 2, \"value\": 8266}, \"8268\": {\"frequency\": 2, \"value\": 8268}, \"3003\": {\"frequency\": 3, \"value\": 3003}, \"8270\": {\"frequency\": 2, \"value\": 8270}, \"8272\": {\"frequency\": 2, \"value\": 8272}, \"8276\": {\"frequency\": 4, \"value\": 8276}, \"24663\": {\"frequency\": 1, \"value\": 24663}, \"8280\": {\"frequency\": 7, \"value\": 8280}, \"8281\": {\"frequency\": 4, \"value\": 8281}, \"8282\": {\"frequency\": 4, \"value\": 8282}, \"8284\": {\"frequency\": 4, \"value\": 8284}, \"8287\": {\"frequency\": 2, \"value\": 8287}, \"8288\": {\"frequency\": 1, \"value\": 8288}, \"8208\": {\"frequency\": 4, \"value\": 8208}, \"8290\": {\"frequency\": 4, \"value\": 8290}, \"221284\": {\"frequency\": 1, \"value\": 221284}, \"8295\": {\"frequency\": 1, \"value\": 8295}, \"8296\": {\"frequency\": 3, \"value\": 8296}, \"8300\": {\"frequency\": 6, \"value\": 8300}, \"8301\": {\"frequency\": 5, \"value\": 8301}, \"8303\": {\"frequency\": 3, \"value\": 8303}, \"41072\": {\"frequency\": 1, \"value\": 41072}, \"8306\": {\"frequency\": 2, \"value\": 8306}, \"8307\": {\"frequency\": 2, \"value\": 8307}, \"8308\": {\"frequency\": 5, \"value\": 8308}, \"6005\": {\"frequency\": 4, \"value\": 6005}, \"8313\": {\"frequency\": 2, \"value\": 8313}, \"8314\": {\"frequency\": 2, \"value\": 8314}, \"8315\": {\"frequency\": 2, \"value\": 8315}, \"8316\": {\"frequency\": 9, \"value\": 8316}, \"139392\": {\"frequency\": 2, \"value\": 139392}, \"8321\": {\"frequency\": 2, \"value\": 8321}, \"8325\": {\"frequency\": 5, \"value\": 8325}, \"8327\": {\"frequency\": 2, \"value\": 8327}, \"8329\": {\"frequency\": 2, \"value\": 8329}, \"8331\": {\"frequency\": 2, \"value\": 8331}, \"98445\": {\"frequency\": 4, \"value\": 98445}, \"16526\": {\"frequency\": 2, \"value\": 16526}, \"8336\": {\"frequency\": 4, \"value\": 8336}, \"16530\": {\"frequency\": 1, \"value\": 16530}, \"8340\": {\"frequency\": 2, \"value\": 8340}, \"8342\": {\"frequency\": 3, \"value\": 8342}, \"8345\": {\"frequency\": 2, \"value\": 8345}, \"8346\": {\"frequency\": 2, \"value\": 8346}, \"57499\": {\"frequency\": 7, \"value\": 57499}, \"8352\": {\"frequency\": 1, \"value\": 8352}, \"8354\": {\"frequency\": 2, \"value\": 8354}, \"8355\": {\"frequency\": 1, \"value\": 8355}, \"8360\": {\"frequency\": 3, \"value\": 8360}, \"8361\": {\"frequency\": 1, \"value\": 8361}, \"8362\": {\"frequency\": 2, \"value\": 8362}, \"8364\": {\"frequency\": 5, \"value\": 8364}, \"8366\": {\"frequency\": 4, \"value\": 8366}, \"8370\": {\"frequency\": 4, \"value\": 8370}, \"8372\": {\"frequency\": 4, \"value\": 8372}, \"8374\": {\"frequency\": 2, \"value\": 8374}, \"24759\": {\"frequency\": 1, \"value\": 24759}, \"8376\": {\"frequency\": 2, \"value\": 8376}, \"9588\": {\"frequency\": 3, \"value\": 9588}, \"8378\": {\"frequency\": 5, \"value\": 8378}, \"8379\": {\"frequency\": 2, \"value\": 8379}, \"15050\": {\"frequency\": 2, \"value\": 15050}, \"8382\": {\"frequency\": 4, \"value\": 8382}, \"8384\": {\"frequency\": 6, \"value\": 8384}, \"8385\": {\"frequency\": 2, \"value\": 8385}, \"24773\": {\"frequency\": 1, \"value\": 24773}, \"8390\": {\"frequency\": 2, \"value\": 8390}, \"8391\": {\"frequency\": 2, \"value\": 8391}, \"8392\": {\"frequency\": 2, \"value\": 8392}, \"8395\": {\"frequency\": 4, \"value\": 8395}, \"8396\": {\"frequency\": 1, \"value\": 8396}, \"8398\": {\"frequency\": 2, \"value\": 8398}, \"8399\": {\"frequency\": 2, \"value\": 8399}, \"8400\": {\"frequency\": 111, \"value\": 8400}, \"8401\": {\"frequency\": 3, \"value\": 8401}, \"8402\": {\"frequency\": 2, \"value\": 8402}, \"8404\": {\"frequency\": 3, \"value\": 8404}, \"16600\": {\"frequency\": 2, \"value\": 16600}, \"8409\": {\"frequency\": 2, \"value\": 8409}, \"8410\": {\"frequency\": 6, \"value\": 8410}, \"16603\": {\"frequency\": 1, \"value\": 16603}, \"8412\": {\"frequency\": 4, \"value\": 8412}, \"8414\": {\"frequency\": 3, \"value\": 8414}, \"49375\": {\"frequency\": 1, \"value\": 49375}, \"106722\": {\"frequency\": 2, \"value\": 106722}, \"8423\": {\"frequency\": 2, \"value\": 8423}, \"8424\": {\"frequency\": 8, \"value\": 8424}, \"8426\": {\"frequency\": 3, \"value\": 8426}, \"16619\": {\"frequency\": 1, \"value\": 16619}, \"8429\": {\"frequency\": 2, \"value\": 8429}, \"9597\": {\"frequency\": 2, \"value\": 9597}, \"8432\": {\"frequency\": 4, \"value\": 8432}, \"8433\": {\"frequency\": 2, \"value\": 8433}, \"57587\": {\"frequency\": 1, \"value\": 57587}, \"8436\": {\"frequency\": 3, \"value\": 8436}, \"8437\": {\"frequency\": 1, \"value\": 8437}, \"8438\": {\"frequency\": 3, \"value\": 8438}, \"8440\": {\"frequency\": 2, \"value\": 8440}, \"24825\": {\"frequency\": 1, \"value\": 24825}, \"8442\": {\"frequency\": 6, \"value\": 8442}, \"1407\": {\"frequency\": 5, \"value\": 1407}, \"24829\": {\"frequency\": 2, \"value\": 24829}, \"8446\": {\"frequency\": 1, \"value\": 8446}, \"8447\": {\"frequency\": 2, \"value\": 8447}, \"8448\": {\"frequency\": 6, \"value\": 8448}, \"8449\": {\"frequency\": 3, \"value\": 8449}, \"8450\": {\"frequency\": 14, \"value\": 8450}, \"8451\": {\"frequency\": 3, \"value\": 8451}, \"8453\": {\"frequency\": 1, \"value\": 8453}, \"8454\": {\"frequency\": 2, \"value\": 8454}, \"16650\": {\"frequency\": 2, \"value\": 16650}, \"8459\": {\"frequency\": 2, \"value\": 8459}, \"8460\": {\"frequency\": 2, \"value\": 8460}, \"4141\": {\"frequency\": 2, \"value\": 4141}, \"8465\": {\"frequency\": 2, \"value\": 8465}, \"8467\": {\"frequency\": 2, \"value\": 8467}, \"8469\": {\"frequency\": 2, \"value\": 8469}, \"8470\": {\"frequency\": 13, \"value\": 8470}, \"13700\": {\"frequency\": 4, \"value\": 13700}, \"8474\": {\"frequency\": 3, \"value\": 8474}, \"8475\": {\"frequency\": 4, \"value\": 8475}, \"8476\": {\"frequency\": 2, \"value\": 8476}, \"2778\": {\"frequency\": 2, \"value\": 2778}, \"8479\": {\"frequency\": 1, \"value\": 8479}, \"8480\": {\"frequency\": 7, \"value\": 8480}, \"8481\": {\"frequency\": 2, \"value\": 8481}, \"41250\": {\"frequency\": 2, \"value\": 41250}, \"16677\": {\"frequency\": 1, \"value\": 16677}, \"16679\": {\"frequency\": 2, \"value\": 16679}, \"8490\": {\"frequency\": 2, \"value\": 8490}, \"8491\": {\"frequency\": 2, \"value\": 8491}, \"8494\": {\"frequency\": 3, \"value\": 8494}, \"41263\": {\"frequency\": 1, \"value\": 41263}, \"8498\": {\"frequency\": 3, \"value\": 8498}, \"8499\": {\"frequency\": 2, \"value\": 8499}, \"8500\": {\"frequency\": 19, \"value\": 8500}, \"8501\": {\"frequency\": 3, \"value\": 8501}, \"8504\": {\"frequency\": 8, \"value\": 8504}, \"8505\": {\"frequency\": 14, \"value\": 8505}, \"8509\": {\"frequency\": 3, \"value\": 8509}, \"8510\": {\"frequency\": 2, \"value\": 8510}, \"8511\": {\"frequency\": 2, \"value\": 8511}, \"8512\": {\"frequency\": 4, \"value\": 8512}, \"8514\": {\"frequency\": 2, \"value\": 8514}, \"5515\": {\"frequency\": 2, \"value\": 5515}, \"74052\": {\"frequency\": 4, \"value\": 74052}, \"8517\": {\"frequency\": 1, \"value\": 8517}, \"8518\": {\"frequency\": 3, \"value\": 8518}, \"8519\": {\"frequency\": 2, \"value\": 8519}, \"8520\": {\"frequency\": 6, \"value\": 8520}, \"8521\": {\"frequency\": 3, \"value\": 8521}, \"8526\": {\"frequency\": 2, \"value\": 8526}, \"8528\": {\"frequency\": 5, \"value\": 8528}, \"8529\": {\"frequency\": 2, \"value\": 8529}, \"8530\": {\"frequency\": 2, \"value\": 8530}, \"8532\": {\"frequency\": 2, \"value\": 8532}, \"90169\": {\"frequency\": 2, \"value\": 90169}, \"24920\": {\"frequency\": 1, \"value\": 24920}, \"8540\": {\"frequency\": 8, \"value\": 8540}, \"8541\": {\"frequency\": 2, \"value\": 8541}, \"8544\": {\"frequency\": 2, \"value\": 8544}, \"8545\": {\"frequency\": 3, \"value\": 8545}, \"24931\": {\"frequency\": 1, \"value\": 24931}, \"8548\": {\"frequency\": 3, \"value\": 8548}, \"8549\": {\"frequency\": 3, \"value\": 8549}, \"8550\": {\"frequency\": 6, \"value\": 8550}, \"8555\": {\"frequency\": 2, \"value\": 8555}, \"33132\": {\"frequency\": 1, \"value\": 33132}, \"8558\": {\"frequency\": 3, \"value\": 8558}, \"8560\": {\"frequency\": 11, \"value\": 8560}, \"8564\": {\"frequency\": 2, \"value\": 8564}, \"4158\": {\"frequency\": 2, \"value\": 4158}, \"8570\": {\"frequency\": 3, \"value\": 8570}, \"8571\": {\"frequency\": 4, \"value\": 8571}, \"8572\": {\"frequency\": 3, \"value\": 8572}, \"8573\": {\"frequency\": 2, \"value\": 8573}, \"8576\": {\"frequency\": 2, \"value\": 8576}, \"8577\": {\"frequency\": 1, \"value\": 8577}, \"41346\": {\"frequency\": 1, \"value\": 41346}, \"8579\": {\"frequency\": 2, \"value\": 8579}, \"8580\": {\"frequency\": 19, \"value\": 8580}, \"8581\": {\"frequency\": 3, \"value\": 8581}, \"8584\": {\"frequency\": 2, \"value\": 8584}, \"8587\": {\"frequency\": 2, \"value\": 8587}, \"7651\": {\"frequency\": 2, \"value\": 7651}, \"8592\": {\"frequency\": 2, \"value\": 8592}, \"8600\": {\"frequency\": 7, \"value\": 8600}, \"8601\": {\"frequency\": 3, \"value\": 8601}, \"6895\": {\"frequency\": 2, \"value\": 6895}, \"16800\": {\"frequency\": 4, \"value\": 16800}, \"16801\": {\"frequency\": 1, \"value\": 16801}, \"8610\": {\"frequency\": 5, \"value\": 8610}, \"8611\": {\"frequency\": 2, \"value\": 8611}, \"8612\": {\"frequency\": 2, \"value\": 8612}, \"8613\": {\"frequency\": 2, \"value\": 8613}, \"8616\": {\"frequency\": 1, \"value\": 8616}, \"25002\": {\"frequency\": 1, \"value\": 25002}, \"8620\": {\"frequency\": 1, \"value\": 8620}, \"8621\": {\"frequency\": 2, \"value\": 8621}, \"8622\": {\"frequency\": 4, \"value\": 8622}, \"8624\": {\"frequency\": 2, \"value\": 8624}, \"8625\": {\"frequency\": 17, \"value\": 8625}, \"8628\": {\"frequency\": 2, \"value\": 8628}, \"1438\": {\"frequency\": 2, \"value\": 1438}, \"8630\": {\"frequency\": 2, \"value\": 8630}, \"8631\": {\"frequency\": 2, \"value\": 8631}, \"8632\": {\"frequency\": 2, \"value\": 8632}, \"8636\": {\"frequency\": 8, \"value\": 8636}, \"8640\": {\"frequency\": 16, \"value\": 8640}, \"8641\": {\"frequency\": 2, \"value\": 8641}, \"8642\": {\"frequency\": 3, \"value\": 8642}, \"213444\": {\"frequency\": 3, \"value\": 213444}, \"8645\": {\"frequency\": 8, \"value\": 8645}, \"8648\": {\"frequency\": 1, \"value\": 8648}, \"8653\": {\"frequency\": 3, \"value\": 8653}, \"11000\": {\"frequency\": 12, \"value\": 11000}, \"8658\": {\"frequency\": 2, \"value\": 8658}, \"8659\": {\"frequency\": 2, \"value\": 8659}, \"8660\": {\"frequency\": 2, \"value\": 8660}, \"8661\": {\"frequency\": 2, \"value\": 8661}, \"8663\": {\"frequency\": 1, \"value\": 8663}, \"8666\": {\"frequency\": 2, \"value\": 8666}, \"8667\": {\"frequency\": 3, \"value\": 8667}, \"8670\": {\"frequency\": 2, \"value\": 8670}, \"8676\": {\"frequency\": 2, \"value\": 8676}, \"8677\": {\"frequency\": 1, \"value\": 8677}, \"8678\": {\"frequency\": 1, \"value\": 8678}, \"8680\": {\"frequency\": 6, \"value\": 8680}, \"8682\": {\"frequency\": 3, \"value\": 8682}, \"8684\": {\"frequency\": 2, \"value\": 8684}, \"8685\": {\"frequency\": 3, \"value\": 8685}, \"8686\": {\"frequency\": 2, \"value\": 8686}, \"17832\": {\"frequency\": 1, \"value\": 17832}, \"8690\": {\"frequency\": 5, \"value\": 8690}, \"4179\": {\"frequency\": 2, \"value\": 4179}, \"8698\": {\"frequency\": 2, \"value\": 8698}, \"8700\": {\"frequency\": 15, \"value\": 8700}, \"8701\": {\"frequency\": 2, \"value\": 8701}, \"8706\": {\"frequency\": 3, \"value\": 8706}, \"8709\": {\"frequency\": 2, \"value\": 8709}, \"8710\": {\"frequency\": 7, \"value\": 8710}, \"8711\": {\"frequency\": 2, \"value\": 8711}, \"8712\": {\"frequency\": 7, \"value\": 8712}, \"16905\": {\"frequency\": 1, \"value\": 16905}, \"8279\": {\"frequency\": 3, \"value\": 8279}, \"16909\": {\"frequency\": 2, \"value\": 16909}, \"8720\": {\"frequency\": 3, \"value\": 8720}, \"8721\": {\"frequency\": 2, \"value\": 8721}, \"8722\": {\"frequency\": 2, \"value\": 8722}, \"8725\": {\"frequency\": 2, \"value\": 8725}, \"8726\": {\"frequency\": 2, \"value\": 8726}, \"4185\": {\"frequency\": 2, \"value\": 4185}, \"54014\": {\"frequency\": 5, \"value\": 54014}, \"8732\": {\"frequency\": 1, \"value\": 8732}, \"8734\": {\"frequency\": 3, \"value\": 8734}, \"8736\": {\"frequency\": 1, \"value\": 8736}, \"8737\": {\"frequency\": 3, \"value\": 8737}, \"8738\": {\"frequency\": 3, \"value\": 8738}, \"8740\": {\"frequency\": 2, \"value\": 8740}, \"8744\": {\"frequency\": 1, \"value\": 8744}, \"4188\": {\"frequency\": 1, \"value\": 4188}, \"5353\": {\"frequency\": 3, \"value\": 5353}, \"16940\": {\"frequency\": 2, \"value\": 16940}, \"9650\": {\"frequency\": 3, \"value\": 9650}, \"8750\": {\"frequency\": 19, \"value\": 8750}, \"12381\": {\"frequency\": 2, \"value\": 12381}, \"8755\": {\"frequency\": 5, \"value\": 8755}, \"8760\": {\"frequency\": 5, \"value\": 8760}, \"8763\": {\"frequency\": 2, \"value\": 8763}, \"8764\": {\"frequency\": 3, \"value\": 8764}, \"8765\": {\"frequency\": 2, \"value\": 8765}, \"8767\": {\"frequency\": 3, \"value\": 8767}, \"98881\": {\"frequency\": 2, \"value\": 98881}, \"8770\": {\"frequency\": 2, \"value\": 8770}, \"8775\": {\"frequency\": 14, \"value\": 8775}, \"8778\": {\"frequency\": 3, \"value\": 8778}, \"8784\": {\"frequency\": 1, \"value\": 8784}, \"8786\": {\"frequency\": 3, \"value\": 8786}, \"16980\": {\"frequency\": 1, \"value\": 16980}, \"8792\": {\"frequency\": 2, \"value\": 8792}, \"8793\": {\"frequency\": 1, \"value\": 8793}, \"8797\": {\"frequency\": 3, \"value\": 8797}, \"6294\": {\"frequency\": 2, \"value\": 6294}, \"8800\": {\"frequency\": 42, \"value\": 8800}, \"17000\": {\"frequency\": 2, \"value\": 17000}, \"17852\": {\"frequency\": 1, \"value\": 17852}, \"8811\": {\"frequency\": 1, \"value\": 8811}, \"8813\": {\"frequency\": 2, \"value\": 8813}, \"8814\": {\"frequency\": 2, \"value\": 8814}, \"8816\": {\"frequency\": 2, \"value\": 8816}, \"8817\": {\"frequency\": 3, \"value\": 8817}, \"8820\": {\"frequency\": 12, \"value\": 8820}, \"8823\": {\"frequency\": 1, \"value\": 8823}, \"8827\": {\"frequency\": 1, \"value\": 8827}, \"8828\": {\"frequency\": 1, \"value\": 8828}, \"8829\": {\"frequency\": 1, \"value\": 8829}, \"3840\": {\"frequency\": 18, \"value\": 3840}, \"41600\": {\"frequency\": 1, \"value\": 41600}, \"8835\": {\"frequency\": 1, \"value\": 8835}, \"8840\": {\"frequency\": 5, \"value\": 8840}, \"649\": {\"frequency\": 2, \"value\": 649}, \"8848\": {\"frequency\": 2, \"value\": 8848}, \"8850\": {\"frequency\": 3, \"value\": 8850}, \"1475\": {\"frequency\": 2, \"value\": 1475}, \"8853\": {\"frequency\": 3, \"value\": 8853}, \"8856\": {\"frequency\": 5, \"value\": 8856}, \"9668\": {\"frequency\": 2, \"value\": 9668}, \"8858\": {\"frequency\": 1, \"value\": 8858}, \"8860\": {\"frequency\": 1, \"value\": 8860}, \"25245\": {\"frequency\": 1, \"value\": 25245}, \"8862\": {\"frequency\": 2, \"value\": 8862}, \"8863\": {\"frequency\": 2, \"value\": 8863}, \"8865\": {\"frequency\": 2, \"value\": 8865}, \"66211\": {\"frequency\": 2, \"value\": 66211}, \"8868\": {\"frequency\": 2, \"value\": 8868}, \"8872\": {\"frequency\": 1, \"value\": 8872}, \"8874\": {\"frequency\": 3, \"value\": 8874}, \"8875\": {\"frequency\": 3, \"value\": 8875}, \"8876\": {\"frequency\": 2, \"value\": 8876}, \"8879\": {\"frequency\": 3, \"value\": 8879}, \"8880\": {\"frequency\": 2, \"value\": 8880}, \"17864\": {\"frequency\": 1, \"value\": 17864}, \"690\": {\"frequency\": 2, \"value\": 690}, \"33460\": {\"frequency\": 1, \"value\": 33460}, \"8885\": {\"frequency\": 2, \"value\": 8885}, \"8886\": {\"frequency\": 2, \"value\": 8886}, \"41656\": {\"frequency\": 1, \"value\": 41656}, \"16500\": {\"frequency\": 3, \"value\": 16500}, \"8890\": {\"frequency\": 3, \"value\": 8890}, \"8892\": {\"frequency\": 2, \"value\": 8892}, \"8893\": {\"frequency\": 2, \"value\": 8893}, \"871200\": {\"frequency\": 2, \"value\": 871200}, \"33474\": {\"frequency\": 1, \"value\": 33474}, \"1483\": {\"frequency\": 2, \"value\": 1483}, \"8900\": {\"frequency\": 4, \"value\": 8900}, \"11041\": {\"frequency\": 2, \"value\": 11041}, \"8906\": {\"frequency\": 7, \"value\": 8906}, \"17100\": {\"frequency\": 2, \"value\": 17100}, \"8909\": {\"frequency\": 2, \"value\": 8909}, \"8910\": {\"frequency\": 9, \"value\": 8910}, \"6025\": {\"frequency\": 2, \"value\": 6025}, \"8913\": {\"frequency\": 2, \"value\": 8913}, \"6947\": {\"frequency\": 4, \"value\": 6947}, \"8919\": {\"frequency\": 1, \"value\": 8919}, \"8920\": {\"frequency\": 2, \"value\": 8920}, \"8921\": {\"frequency\": 2, \"value\": 8921}, \"8924\": {\"frequency\": 2, \"value\": 8924}, \"8925\": {\"frequency\": 13, \"value\": 8925}, \"17120\": {\"frequency\": 1, \"value\": 17120}, \"1488\": {\"frequency\": 3, \"value\": 1488}, \"17126\": {\"frequency\": 1, \"value\": 17126}, \"8936\": {\"frequency\": 2, \"value\": 8936}, \"745\": {\"frequency\": 2, \"value\": 745}, \"115434\": {\"frequency\": 3, \"value\": 115434}, \"747\": {\"frequency\": 2, \"value\": 747}, \"8941\": {\"frequency\": 2, \"value\": 8941}, \"750\": {\"frequency\": 2, \"value\": 750}, \"8944\": {\"frequency\": 2, \"value\": 8944}, \"8947\": {\"frequency\": 2, \"value\": 8947}, \"8950\": {\"frequency\": 2, \"value\": 8950}, \"230868\": {\"frequency\": 2, \"value\": 230868}, \"8955\": {\"frequency\": 2, \"value\": 8955}, \"8956\": {\"frequency\": 1, \"value\": 8956}, \"25341\": {\"frequency\": 1, \"value\": 25341}, \"8959\": {\"frequency\": 1, \"value\": 8959}, \"8960\": {\"frequency\": 12, \"value\": 8960}, \"8320\": {\"frequency\": 7, \"value\": 8320}, \"8967\": {\"frequency\": 1, \"value\": 8967}, \"8968\": {\"frequency\": 4, \"value\": 8968}, \"8970\": {\"frequency\": 6, \"value\": 8970}, \"8971\": {\"frequency\": 1, \"value\": 8971}, \"8975\": {\"frequency\": 2, \"value\": 8975}, \"49936\": {\"frequency\": 1, \"value\": 49936}, \"218252\": {\"frequency\": 1, \"value\": 218252}, \"17172\": {\"frequency\": 2, \"value\": 17172}, \"12420\": {\"frequency\": 4, \"value\": 12420}, \"9690\": {\"frequency\": 5, \"value\": 9690}, \"8990\": {\"frequency\": 3, \"value\": 8990}, \"8991\": {\"frequency\": 2, \"value\": 8991}, \"800\": {\"frequency\": 3, \"value\": 800}, \"17186\": {\"frequency\": 1, \"value\": 17186}, \"8995\": {\"frequency\": 2, \"value\": 8995}, \"8996\": {\"frequency\": 2, \"value\": 8996}, \"27441\": {\"frequency\": 2, \"value\": 27441}, \"9000\": {\"frequency\": 93, \"value\": 9000}, \"9001\": {\"frequency\": 2, \"value\": 9001}, \"9002\": {\"frequency\": 2, \"value\": 9002}, \"9003\": {\"frequency\": 3, \"value\": 9003}, \"9005\": {\"frequency\": 1, \"value\": 9005}, \"9009\": {\"frequency\": 2, \"value\": 9009}, \"9010\": {\"frequency\": 3, \"value\": 9010}, \"9011\": {\"frequency\": 1, \"value\": 9011}, \"17204\": {\"frequency\": 1, \"value\": 17204}, \"9015\": {\"frequency\": 3, \"value\": 9015}, \"17208\": {\"frequency\": 2, \"value\": 17208}, \"19252\": {\"frequency\": 1, \"value\": 19252}, \"1664\": {\"frequency\": 2, \"value\": 1664}, \"12426\": {\"frequency\": 2, \"value\": 12426}, \"123710\": {\"frequency\": 2, \"value\": 123710}, \"9023\": {\"frequency\": 2, \"value\": 9023}, \"9025\": {\"frequency\": 1, \"value\": 9025}, \"835\": {\"frequency\": 2, \"value\": 835}, \"9030\": {\"frequency\": 5, \"value\": 9030}, \"41800\": {\"frequency\": 1, \"value\": 41800}, \"9035\": {\"frequency\": 2, \"value\": 9035}, \"844\": {\"frequency\": 2, \"value\": 844}, \"9040\": {\"frequency\": 3, \"value\": 9040}, \"9041\": {\"frequency\": 3, \"value\": 9041}, \"9044\": {\"frequency\": 2, \"value\": 9044}, \"9045\": {\"frequency\": 2, \"value\": 9045}, \"17239\": {\"frequency\": 1, \"value\": 17239}, \"9048\": {\"frequency\": 2, \"value\": 9048}, \"857\": {\"frequency\": 1, \"value\": 857}, \"9050\": {\"frequency\": 1, \"value\": 9050}, \"9053\": {\"frequency\": 2, \"value\": 9053}, \"33630\": {\"frequency\": 1, \"value\": 33630}, \"9055\": {\"frequency\": 2, \"value\": 9055}, \"4240\": {\"frequency\": 13, \"value\": 4240}, \"9065\": {\"frequency\": 2, \"value\": 9065}, \"9066\": {\"frequency\": 2, \"value\": 9066}, \"877\": {\"frequency\": 2, \"value\": 877}, \"6973\": {\"frequency\": 2, \"value\": 6973}, \"9072\": {\"frequency\": 5, \"value\": 9072}, \"881\": {\"frequency\": 1, \"value\": 881}, \"9075\": {\"frequency\": 4, \"value\": 9075}, \"9077\": {\"frequency\": 2, \"value\": 9077}, \"9078\": {\"frequency\": 1, \"value\": 9078}, \"9079\": {\"frequency\": 1, \"value\": 9079}, \"889\": {\"frequency\": 3, \"value\": 889}, \"890\": {\"frequency\": 1, \"value\": 890}, \"9083\": {\"frequency\": 3, \"value\": 9083}, \"892\": {\"frequency\": 2, \"value\": 892}, \"9085\": {\"frequency\": 3, \"value\": 9085}, \"9086\": {\"frequency\": 2, \"value\": 9086}, \"9087\": {\"frequency\": 3, \"value\": 9087}, \"9088\": {\"frequency\": 2, \"value\": 9088}, \"9090\": {\"frequency\": 2, \"value\": 9090}, \"9091\": {\"frequency\": 1, \"value\": 9091}, \"900\": {\"frequency\": 2, \"value\": 900}, \"9095\": {\"frequency\": 1, \"value\": 9095}, \"904\": {\"frequency\": 2, \"value\": 904}, \"9097\": {\"frequency\": 2, \"value\": 9097}, \"9099\": {\"frequency\": 2, \"value\": 9099}, \"9100\": {\"frequency\": 16, \"value\": 9100}, \"9102\": {\"frequency\": 3, \"value\": 9102}, \"9103\": {\"frequency\": 1, \"value\": 9103}, \"912\": {\"frequency\": 2, \"value\": 912}, \"915\": {\"frequency\": 3, \"value\": 915}, \"17300\": {\"frequency\": 2, \"value\": 17300}, \"920\": {\"frequency\": 2, \"value\": 920}, \"9115\": {\"frequency\": 1, \"value\": 9115}, \"25500\": {\"frequency\": 2, \"value\": 25500}, \"926\": {\"frequency\": 2, \"value\": 926}, \"9119\": {\"frequency\": 1, \"value\": 9119}, \"9120\": {\"frequency\": 7, \"value\": 9120}, \"929\": {\"frequency\": 2, \"value\": 929}, \"932\": {\"frequency\": 2, \"value\": 932}, \"9125\": {\"frequency\": 2, \"value\": 9125}, \"934\": {\"frequency\": 3, \"value\": 934}, \"936\": {\"frequency\": 3, \"value\": 936}, \"9130\": {\"frequency\": 3, \"value\": 9130}, \"41900\": {\"frequency\": 1, \"value\": 41900}, \"941\": {\"frequency\": 3, \"value\": 941}, \"50094\": {\"frequency\": 4, \"value\": 50094}, \"9135\": {\"frequency\": 6, \"value\": 9135}, \"9136\": {\"frequency\": 3, \"value\": 9136}, \"9472\": {\"frequency\": 2, \"value\": 9472}, \"9139\": {\"frequency\": 2, \"value\": 9139}, \"9140\": {\"frequency\": 3, \"value\": 9140}, \"17334\": {\"frequency\": 3, \"value\": 17334}, \"9143\": {\"frequency\": 2, \"value\": 9143}, \"9144\": {\"frequency\": 2, \"value\": 9144}, \"9145\": {\"frequency\": 2, \"value\": 9145}, \"954\": {\"frequency\": 2, \"value\": 954}, \"9147\": {\"frequency\": 5, \"value\": 9147}, \"9148\": {\"frequency\": 2, \"value\": 9148}, \"9150\": {\"frequency\": 7, \"value\": 9150}, \"960\": {\"frequency\": 2, \"value\": 960}, \"9153\": {\"frequency\": 2, \"value\": 9153}, \"17349\": {\"frequency\": 2, \"value\": 17349}, \"9158\": {\"frequency\": 2, \"value\": 9158}, \"7535\": {\"frequency\": 2, \"value\": 7535}, \"9160\": {\"frequency\": 2, \"value\": 9160}, \"7670\": {\"frequency\": 3, \"value\": 7670}, \"9162\": {\"frequency\": 2, \"value\": 9162}, \"9163\": {\"frequency\": 7, \"value\": 9163}, \"222156\": {\"frequency\": 2, \"value\": 222156}, \"977\": {\"frequency\": 2, \"value\": 977}, \"9170\": {\"frequency\": 3, \"value\": 9170}, \"17366\": {\"frequency\": 1, \"value\": 17366}, \"983\": {\"frequency\": 4, \"value\": 983}, \"9176\": {\"frequency\": 2, \"value\": 9176}, \"9177\": {\"frequency\": 1, \"value\": 9177}, \"987\": {\"frequency\": 2, \"value\": 987}, \"9180\": {\"frequency\": 3, \"value\": 9180}, \"989\": {\"frequency\": 3, \"value\": 989}, \"9182\": {\"frequency\": 2, \"value\": 9182}, \"9187\": {\"frequency\": 2, \"value\": 9187}, \"9188\": {\"frequency\": 1, \"value\": 9188}, \"997\": {\"frequency\": 2, \"value\": 997}, \"998\": {\"frequency\": 2, \"value\": 998}, \"9191\": {\"frequency\": 1, \"value\": 9191}, \"9194\": {\"frequency\": 1, \"value\": 9194}, \"9195\": {\"frequency\": 3, \"value\": 9195}, \"1005\": {\"frequency\": 3, \"value\": 1005}, \"17390\": {\"frequency\": 1, \"value\": 17390}, \"9199\": {\"frequency\": 2, \"value\": 9199}, \"9200\": {\"frequency\": 13, \"value\": 9200}, \"16552\": {\"frequency\": 2, \"value\": 16552}, \"9202\": {\"frequency\": 2, \"value\": 9202}, \"1012\": {\"frequency\": 2, \"value\": 1012}, \"9205\": {\"frequency\": 2, \"value\": 9205}, \"9206\": {\"frequency\": 1, \"value\": 9206}, \"1016\": {\"frequency\": 1, \"value\": 1016}, \"9209\": {\"frequency\": 2, \"value\": 9209}, \"9210\": {\"frequency\": 3, \"value\": 9210}, \"9211\": {\"frequency\": 2, \"value\": 9211}, \"1020\": {\"frequency\": 4, \"value\": 1020}, \"1021\": {\"frequency\": 3, \"value\": 1021}, \"1022\": {\"frequency\": 2, \"value\": 1022}, \"9215\": {\"frequency\": 1, \"value\": 9215}, \"25600\": {\"frequency\": 2, \"value\": 25600}, \"9220\": {\"frequency\": 3, \"value\": 9220}, \"9223\": {\"frequency\": 1, \"value\": 9223}, \"1032\": {\"frequency\": 3, \"value\": 1032}, \"9225\": {\"frequency\": 7, \"value\": 9225}, \"9226\": {\"frequency\": 2, \"value\": 9226}, \"1036\": {\"frequency\": 2, \"value\": 1036}, \"9230\": {\"frequency\": 2, \"value\": 9230}, \"9231\": {\"frequency\": 2, \"value\": 9231}, \"17424\": {\"frequency\": 4, \"value\": 17424}, \"9234\": {\"frequency\": 2, \"value\": 9234}, \"9235\": {\"frequency\": 2, \"value\": 9235}, \"1044\": {\"frequency\": 1, \"value\": 1044}, \"24750\": {\"frequency\": 3, \"value\": 24750}, \"9238\": {\"frequency\": 3, \"value\": 9238}, \"9239\": {\"frequency\": 3, \"value\": 9239}, \"9240\": {\"frequency\": 12, \"value\": 9240}, \"1540\": {\"frequency\": 2, \"value\": 1540}, \"9242\": {\"frequency\": 1, \"value\": 9242}, \"1051\": {\"frequency\": 2, \"value\": 1051}, \"9244\": {\"frequency\": 2, \"value\": 9244}, \"9247\": {\"frequency\": 2, \"value\": 9247}, \"9248\": {\"frequency\": 4, \"value\": 9248}, \"1058\": {\"frequency\": 4, \"value\": 1058}, \"1060\": {\"frequency\": 4, \"value\": 1060}, \"9253\": {\"frequency\": 2, \"value\": 9253}, \"1062\": {\"frequency\": 2, \"value\": 1062}, \"9255\": {\"frequency\": 2, \"value\": 9255}, \"1066\": {\"frequency\": 1, \"value\": 1066}, \"9260\": {\"frequency\": 2, \"value\": 9260}, \"9261\": {\"frequency\": 2, \"value\": 9261}, \"189486\": {\"frequency\": 3, \"value\": 189486}, \"9263\": {\"frequency\": 2, \"value\": 9263}, \"1073\": {\"frequency\": 4, \"value\": 1073}, \"9266\": {\"frequency\": 2, \"value\": 9266}, \"9583\": {\"frequency\": 9, \"value\": 9583}, \"1077\": {\"frequency\": 2, \"value\": 1077}, \"9270\": {\"frequency\": 3, \"value\": 9270}, \"9272\": {\"frequency\": 2, \"value\": 9272}, \"9273\": {\"frequency\": 4, \"value\": 9273}, \"9276\": {\"frequency\": 1, \"value\": 9276}, \"1086\": {\"frequency\": 2, \"value\": 1086}, \"1400\": {\"frequency\": 4, \"value\": 1400}, \"9282\": {\"frequency\": 5, \"value\": 9282}, \"1091\": {\"frequency\": 3, \"value\": 1091}, \"1092\": {\"frequency\": 3, \"value\": 1092}, \"181319\": {\"frequency\": 1, \"value\": 181319}, \"9288\": {\"frequency\": 2, \"value\": 9288}, \"9289\": {\"frequency\": 1, \"value\": 9289}, \"8375\": {\"frequency\": 4, \"value\": 8375}, \"1100\": {\"frequency\": 2, \"value\": 1100}, \"1101\": {\"frequency\": 2, \"value\": 1101}, \"1102\": {\"frequency\": 3, \"value\": 1102}, \"17487\": {\"frequency\": 1, \"value\": 17487}, \"9296\": {\"frequency\": 1, \"value\": 9296}, \"1107\": {\"frequency\": 3, \"value\": 1107}, \"9300\": {\"frequency\": 11, \"value\": 9300}, \"9301\": {\"frequency\": 2, \"value\": 9301}, \"1110\": {\"frequency\": 2, \"value\": 1110}, \"1113\": {\"frequency\": 2, \"value\": 1113}, \"1114\": {\"frequency\": 3, \"value\": 1114}, \"9307\": {\"frequency\": 1, \"value\": 9307}, \"42077\": {\"frequency\": 1, \"value\": 42077}, \"9310\": {\"frequency\": 3, \"value\": 9310}, \"1119\": {\"frequency\": 2, \"value\": 1119}, \"9312\": {\"frequency\": 2, \"value\": 9312}, \"9314\": {\"frequency\": 2, \"value\": 9314}, \"9315\": {\"frequency\": 4, \"value\": 9315}, \"1125\": {\"frequency\": 4, \"value\": 1125}, \"9320\": {\"frequency\": 2, \"value\": 9320}, \"12476\": {\"frequency\": 2, \"value\": 12476}, \"9322\": {\"frequency\": 2, \"value\": 9322}, \"1131\": {\"frequency\": 4, \"value\": 1131}, \"1133\": {\"frequency\": 2, \"value\": 1133}, \"9328\": {\"frequency\": 3, \"value\": 9328}, \"1137\": {\"frequency\": 3, \"value\": 1137}, \"25714\": {\"frequency\": 1, \"value\": 25714}, \"9747\": {\"frequency\": 2, \"value\": 9747}, \"1140\": {\"frequency\": 3, \"value\": 1140}, \"9333\": {\"frequency\": 1, \"value\": 9333}, \"9334\": {\"frequency\": 2, \"value\": 9334}, \"1146\": {\"frequency\": 2, \"value\": 1146}, \"9339\": {\"frequency\": 2, \"value\": 9339}, \"17533\": {\"frequency\": 1, \"value\": 17533}, \"1150\": {\"frequency\": 2, \"value\": 1150}, \"33919\": {\"frequency\": 2, \"value\": 33919}, \"33920\": {\"frequency\": 1, \"value\": 33920}, \"12480\": {\"frequency\": 2, \"value\": 12480}, \"9346\": {\"frequency\": 2, \"value\": 9346}, \"1155\": {\"frequency\": 2, \"value\": 1155}, \"1156\": {\"frequency\": 2, \"value\": 1156}, \"1157\": {\"frequency\": 5, \"value\": 1157}, \"9350\": {\"frequency\": 11, \"value\": 9350}, \"1159\": {\"frequency\": 1, \"value\": 1159}, \"1161\": {\"frequency\": 3, \"value\": 1161}, \"9354\": {\"frequency\": 2, \"value\": 9354}, \"4290\": {\"frequency\": 6, \"value\": 4290}, \"9359\": {\"frequency\": 1, \"value\": 9359}, \"1168\": {\"frequency\": 2, \"value\": 1168}, \"9362\": {\"frequency\": 3, \"value\": 9362}, \"1171\": {\"frequency\": 2, \"value\": 1171}, \"9364\": {\"frequency\": 2, \"value\": 9364}, \"1173\": {\"frequency\": 4, \"value\": 1173}, \"1174\": {\"frequency\": 4, \"value\": 1174}, \"1175\": {\"frequency\": 1, \"value\": 1175}, \"9370\": {\"frequency\": 3, \"value\": 9370}, \"1179\": {\"frequency\": 2, \"value\": 1179}, \"1180\": {\"frequency\": 6, \"value\": 1180}, \"1181\": {\"frequency\": 1, \"value\": 1181}, \"9374\": {\"frequency\": 4, \"value\": 9374}, \"9375\": {\"frequency\": 11, \"value\": 9375}, \"1184\": {\"frequency\": 2, \"value\": 1184}, \"9377\": {\"frequency\": 2, \"value\": 9377}, \"1186\": {\"frequency\": 2, \"value\": 1186}, \"1187\": {\"frequency\": 2, \"value\": 1187}, \"9380\": {\"frequency\": 5, \"value\": 9380}, \"1189\": {\"frequency\": 5, \"value\": 1189}, \"9384\": {\"frequency\": 2, \"value\": 9384}, \"1193\": {\"frequency\": 3, \"value\": 1193}, \"1194\": {\"frequency\": 4, \"value\": 1194}, \"1196\": {\"frequency\": 2, \"value\": 1196}, \"9389\": {\"frequency\": 2, \"value\": 9389}, \"9391\": {\"frequency\": 2, \"value\": 9391}, \"1200\": {\"frequency\": 9, \"value\": 1200}, \"17585\": {\"frequency\": 1, \"value\": 17585}, \"9396\": {\"frequency\": 1, \"value\": 9396}, \"1566\": {\"frequency\": 2, \"value\": 1566}, \"9400\": {\"frequency\": 8, \"value\": 9400}, \"1209\": {\"frequency\": 2, \"value\": 1209}, \"1210\": {\"frequency\": 2, \"value\": 1210}, \"9403\": {\"frequency\": 2, \"value\": 9403}, \"1213\": {\"frequency\": 4, \"value\": 1213}, \"4132\": {\"frequency\": 2, \"value\": 4132}, \"17600\": {\"frequency\": 3, \"value\": 17600}, \"1219\": {\"frequency\": 2, \"value\": 1219}, \"42180\": {\"frequency\": 2, \"value\": 42180}, \"1221\": {\"frequency\": 4, \"value\": 1221}, \"9414\": {\"frequency\": 2, \"value\": 9414}, \"9415\": {\"frequency\": 2, \"value\": 9415}, \"9416\": {\"frequency\": 2, \"value\": 9416}, \"9417\": {\"frequency\": 3, \"value\": 9417}, \"9420\": {\"frequency\": 2, \"value\": 9420}, \"1229\": {\"frequency\": 2, \"value\": 1229}, \"1230\": {\"frequency\": 3, \"value\": 1230}, \"4301\": {\"frequency\": 2, \"value\": 4301}, \"9425\": {\"frequency\": 3, \"value\": 9425}, \"9426\": {\"frequency\": 2, \"value\": 9426}, \"9427\": {\"frequency\": 2, \"value\": 9427}, \"1236\": {\"frequency\": 4, \"value\": 1236}, \"1237\": {\"frequency\": 3, \"value\": 1237}, \"9430\": {\"frequency\": 2, \"value\": 9430}, \"76665\": {\"frequency\": 2, \"value\": 76665}, \"1240\": {\"frequency\": 4, \"value\": 1240}, \"13860\": {\"frequency\": 3, \"value\": 13860}, \"9435\": {\"frequency\": 2, \"value\": 9435}, \"1245\": {\"frequency\": 4, \"value\": 1245}, \"1246\": {\"frequency\": 3, \"value\": 1246}, \"9440\": {\"frequency\": 2, \"value\": 9440}, \"1249\": {\"frequency\": 5, \"value\": 1249}, \"1250\": {\"frequency\": 8, \"value\": 1250}, \"1251\": {\"frequency\": 4, \"value\": 1251}, \"1253\": {\"frequency\": 2, \"value\": 1253}, \"9448\": {\"frequency\": 2, \"value\": 9448}, \"9450\": {\"frequency\": 19, \"value\": 9450}, \"9451\": {\"frequency\": 2, \"value\": 9451}, \"9452\": {\"frequency\": 2, \"value\": 9452}, \"9453\": {\"frequency\": 2, \"value\": 9453}, \"1262\": {\"frequency\": 3, \"value\": 1262}, \"1263\": {\"frequency\": 3, \"value\": 1263}, \"1264\": {\"frequency\": 3, \"value\": 1264}, \"1265\": {\"frequency\": 2, \"value\": 1265}, \"9460\": {\"frequency\": 6, \"value\": 9460}, \"1269\": {\"frequency\": 4, \"value\": 1269}, \"1270\": {\"frequency\": 3, \"value\": 1270}, \"4308\": {\"frequency\": 2, \"value\": 4308}, \"9466\": {\"frequency\": 2, \"value\": 9466}, \"9467\": {\"frequency\": 1, \"value\": 9467}, \"230652\": {\"frequency\": 1, \"value\": 230652}, \"1278\": {\"frequency\": 2, \"value\": 1278}, \"83199\": {\"frequency\": 2, \"value\": 83199}, \"1280\": {\"frequency\": 3, \"value\": 1280}, \"9473\": {\"frequency\": 3, \"value\": 9473}, \"1282\": {\"frequency\": 2, \"value\": 1282}, \"9477\": {\"frequency\": 2, \"value\": 9477}, \"1286\": {\"frequency\": 4, \"value\": 1286}, \"1287\": {\"frequency\": 2, \"value\": 1287}, \"9480\": {\"frequency\": 6, \"value\": 9480}, \"1289\": {\"frequency\": 2, \"value\": 1289}, \"1290\": {\"frequency\": 5, \"value\": 1290}, \"9484\": {\"frequency\": 2, \"value\": 9484}, \"9486\": {\"frequency\": 3, \"value\": 9486}, \"1581\": {\"frequency\": 1, \"value\": 1581}, \"9488\": {\"frequency\": 3, \"value\": 9488}, \"1298\": {\"frequency\": 2, \"value\": 1298}, \"9492\": {\"frequency\": 2, \"value\": 9492}, \"1302\": {\"frequency\": 2, \"value\": 1302}, \"1303\": {\"frequency\": 2, \"value\": 1303}, \"1304\": {\"frequency\": 2, \"value\": 1304}, \"9497\": {\"frequency\": 3, \"value\": 9497}, \"1306\": {\"frequency\": 3, \"value\": 1306}, \"9500\": {\"frequency\": 14, \"value\": 9500}, \"1309\": {\"frequency\": 2, \"value\": 1309}, \"1310\": {\"frequency\": 2, \"value\": 1310}, \"1311\": {\"frequency\": 2, \"value\": 1311}, \"1312\": {\"frequency\": 4, \"value\": 1312}, \"17700\": {\"frequency\": 2, \"value\": 17700}, \"1320\": {\"frequency\": 3, \"value\": 1320}, \"1321\": {\"frequency\": 3, \"value\": 1321}, \"9514\": {\"frequency\": 3, \"value\": 9514}, \"214315\": {\"frequency\": 3, \"value\": 214315}, \"9516\": {\"frequency\": 3, \"value\": 9516}, \"1325\": {\"frequency\": 4, \"value\": 1325}, \"9519\": {\"frequency\": 3, \"value\": 9519}, \"9520\": {\"frequency\": 8, \"value\": 9520}, \"1329\": {\"frequency\": 3, \"value\": 1329}, \"1330\": {\"frequency\": 3, \"value\": 1330}, \"17715\": {\"frequency\": 1, \"value\": 17715}, \"1332\": {\"frequency\": 4, \"value\": 1332}, \"9525\": {\"frequency\": 11, \"value\": 9525}, \"1334\": {\"frequency\": 2, \"value\": 1334}, \"9527\": {\"frequency\": 2, \"value\": 9527}, \"9528\": {\"frequency\": 2, \"value\": 9528}, \"9529\": {\"frequency\": 2, \"value\": 9529}, \"9530\": {\"frequency\": 1, \"value\": 9530}, \"8415\": {\"frequency\": 2, \"value\": 8415}, \"1340\": {\"frequency\": 3, \"value\": 1340}, \"1343\": {\"frequency\": 2, \"value\": 1343}, \"9540\": {\"frequency\": 3, \"value\": 9540}, \"1349\": {\"frequency\": 3, \"value\": 1349}, \"9542\": {\"frequency\": 2, \"value\": 9542}, \"9545\": {\"frequency\": 2, \"value\": 9545}, \"9546\": {\"frequency\": 2, \"value\": 9546}, \"9547\": {\"frequency\": 2, \"value\": 9547}, \"9548\": {\"frequency\": 2, \"value\": 9548}, \"9549\": {\"frequency\": 2, \"value\": 9549}, \"9550\": {\"frequency\": 3, \"value\": 9550}, \"1361\": {\"frequency\": 3, \"value\": 1361}, \"1362\": {\"frequency\": 3, \"value\": 1362}, \"91476\": {\"frequency\": 2, \"value\": 91476}, \"9557\": {\"frequency\": 1, \"value\": 9557}, \"58712\": {\"frequency\": 1, \"value\": 58712}, \"1369\": {\"frequency\": 3, \"value\": 1369}, \"9563\": {\"frequency\": 2, \"value\": 9563}, \"1372\": {\"frequency\": 1, \"value\": 1372}, \"9565\": {\"frequency\": 1, \"value\": 9565}, \"1374\": {\"frequency\": 1, \"value\": 1374}, \"9568\": {\"frequency\": 2, \"value\": 9568}, \"1377\": {\"frequency\": 3, \"value\": 1377}, \"9570\": {\"frequency\": 4, \"value\": 9570}, \"1380\": {\"frequency\": 3, \"value\": 1380}, \"25958\": {\"frequency\": 1, \"value\": 25958}, \"9576\": {\"frequency\": 5, \"value\": 9576}, \"1386\": {\"frequency\": 2, \"value\": 1386}, \"9579\": {\"frequency\": 3, \"value\": 9579}, \"9580\": {\"frequency\": 2, \"value\": 9580}, \"1391\": {\"frequency\": 1, \"value\": 1391}, \"9585\": {\"frequency\": 1, \"value\": 9585}, \"1396\": {\"frequency\": 2, \"value\": 1396}, \"7647\": {\"frequency\": 2, \"value\": 7647}, \"9592\": {\"frequency\": 1, \"value\": 9592}, \"9593\": {\"frequency\": 1, \"value\": 9593}, \"9594\": {\"frequency\": 2, \"value\": 9594}, \"17789\": {\"frequency\": 1, \"value\": 17789}, \"9599\": {\"frequency\": 3, \"value\": 9599}, \"9600\": {\"frequency\": 109, \"value\": 9600}, \"9601\": {\"frequency\": 6, \"value\": 9601}, \"9602\": {\"frequency\": 2, \"value\": 9602}, \"9603\": {\"frequency\": 6, \"value\": 9603}, \"9604\": {\"frequency\": 2, \"value\": 9604}, \"9605\": {\"frequency\": 4, \"value\": 9605}, \"9606\": {\"frequency\": 4, \"value\": 9606}, \"22081\": {\"frequency\": 2, \"value\": 22081}, \"9610\": {\"frequency\": 4, \"value\": 9610}, \"9611\": {\"frequency\": 2, \"value\": 9611}, \"9612\": {\"frequency\": 7, \"value\": 9612}, \"9614\": {\"frequency\": 3, \"value\": 9614}, \"40419\": {\"frequency\": 1, \"value\": 40419}, \"26000\": {\"frequency\": 2, \"value\": 26000}, \"1425\": {\"frequency\": 2, \"value\": 1425}, \"9620\": {\"frequency\": 7, \"value\": 9620}, \"9622\": {\"frequency\": 2, \"value\": 9622}, \"9623\": {\"frequency\": 2, \"value\": 9623}, \"9624\": {\"frequency\": 5, \"value\": 9624}, \"9625\": {\"frequency\": 3, \"value\": 9625}, \"9627\": {\"frequency\": 2, \"value\": 9627}, \"9628\": {\"frequency\": 2, \"value\": 9628}, \"9629\": {\"frequency\": 4, \"value\": 9629}, \"9630\": {\"frequency\": 5, \"value\": 9630}, \"9633\": {\"frequency\": 1, \"value\": 9633}, \"1442\": {\"frequency\": 4, \"value\": 1442}, \"9635\": {\"frequency\": 2, \"value\": 9635}, \"9636\": {\"frequency\": 4, \"value\": 9636}, \"1445\": {\"frequency\": 3, \"value\": 1445}, \"9638\": {\"frequency\": 4, \"value\": 9638}, \"9639\": {\"frequency\": 2, \"value\": 9639}, \"99752\": {\"frequency\": 2, \"value\": 99752}, \"17833\": {\"frequency\": 2, \"value\": 17833}, \"9643\": {\"frequency\": 3, \"value\": 9643}, \"9644\": {\"frequency\": 1, \"value\": 9644}, \"9645\": {\"frequency\": 3, \"value\": 9645}, \"9646\": {\"frequency\": 1, \"value\": 9646}, \"9647\": {\"frequency\": 2, \"value\": 9647}, \"9648\": {\"frequency\": 3, \"value\": 9648}, \"1458\": {\"frequency\": 3, \"value\": 1458}, \"9652\": {\"frequency\": 6, \"value\": 9652}, \"9653\": {\"frequency\": 4, \"value\": 9653}, \"9654\": {\"frequency\": 2, \"value\": 9654}, \"9655\": {\"frequency\": 2, \"value\": 9655}, \"9656\": {\"frequency\": 6, \"value\": 9656}, \"9660\": {\"frequency\": 4, \"value\": 9660}, \"17853\": {\"frequency\": 2, \"value\": 17853}, \"1471\": {\"frequency\": 2, \"value\": 1471}, \"1473\": {\"frequency\": 2, \"value\": 1473}, \"17859\": {\"frequency\": 4, \"value\": 17859}, \"42436\": {\"frequency\": 1, \"value\": 42436}, \"45302\": {\"frequency\": 4, \"value\": 45302}, \"9670\": {\"frequency\": 2, \"value\": 9670}, \"26055\": {\"frequency\": 1, \"value\": 26055}, \"1480\": {\"frequency\": 2, \"value\": 1480}, \"99916\": {\"frequency\": 1, \"value\": 99916}, \"9674\": {\"frequency\": 2, \"value\": 9674}, \"9675\": {\"frequency\": 3, \"value\": 9675}, \"1485\": {\"frequency\": 3, \"value\": 1485}, \"1486\": {\"frequency\": 2, \"value\": 1486}, \"1487\": {\"frequency\": 4, \"value\": 1487}, \"9680\": {\"frequency\": 10, \"value\": 9680}, \"9682\": {\"frequency\": 3, \"value\": 9682}, \"9684\": {\"frequency\": 2, \"value\": 9684}, \"17877\": {\"frequency\": 1, \"value\": 17877}, \"9686\": {\"frequency\": 2, \"value\": 9686}, \"9687\": {\"frequency\": 3, \"value\": 9687}, \"9689\": {\"frequency\": 2, \"value\": 9689}, \"17882\": {\"frequency\": 1, \"value\": 17882}, \"1499\": {\"frequency\": 2, \"value\": 1499}, \"1500\": {\"frequency\": 6, \"value\": 1500}, \"1501\": {\"frequency\": 3, \"value\": 1501}, \"9696\": {\"frequency\": 2, \"value\": 9696}, \"9697\": {\"frequency\": 3, \"value\": 9697}, \"9700\": {\"frequency\": 2, \"value\": 9700}, \"9701\": {\"frequency\": 3, \"value\": 9701}, \"9702\": {\"frequency\": 2, \"value\": 9702}, \"9703\": {\"frequency\": 2, \"value\": 9703}, \"1512\": {\"frequency\": 2, \"value\": 1512}, \"9705\": {\"frequency\": 2, \"value\": 9705}, \"9706\": {\"frequency\": 2, \"value\": 9706}, \"1516\": {\"frequency\": 2, \"value\": 1516}, \"9711\": {\"frequency\": 3, \"value\": 9711}, \"39848\": {\"frequency\": 2, \"value\": 39848}, \"9714\": {\"frequency\": 3, \"value\": 9714}, \"9715\": {\"frequency\": 3, \"value\": 9715}, \"34293\": {\"frequency\": 1, \"value\": 34293}, \"9719\": {\"frequency\": 3, \"value\": 9719}, \"9720\": {\"frequency\": 12, \"value\": 9720}, \"1620\": {\"frequency\": 2, \"value\": 1620}, \"1531\": {\"frequency\": 2, \"value\": 1531}, \"9725\": {\"frequency\": 3, \"value\": 9725}, \"9727\": {\"frequency\": 2, \"value\": 9727}, \"1536\": {\"frequency\": 2, \"value\": 1536}, \"9730\": {\"frequency\": 3, \"value\": 9730}, \"9732\": {\"frequency\": 3, \"value\": 9732}, \"9736\": {\"frequency\": 3, \"value\": 9736}, \"1545\": {\"frequency\": 2, \"value\": 1545}, \"9743\": {\"frequency\": 2, \"value\": 9743}, \"17936\": {\"frequency\": 1, \"value\": 17936}, \"8235\": {\"frequency\": 2, \"value\": 8235}, \"16643\": {\"frequency\": 2, \"value\": 16643}, \"9748\": {\"frequency\": 3, \"value\": 9748}, \"9750\": {\"frequency\": 43, \"value\": 9750}, \"9751\": {\"frequency\": 2, \"value\": 9751}, \"9752\": {\"frequency\": 5, \"value\": 9752}, \"9753\": {\"frequency\": 4, \"value\": 9753}, \"17950\": {\"frequency\": 1, \"value\": 17950}, \"9760\": {\"frequency\": 6, \"value\": 9760}, \"1569\": {\"frequency\": 2, \"value\": 1569}, \"9764\": {\"frequency\": 2, \"value\": 9764}, \"9766\": {\"frequency\": 2, \"value\": 9766}, \"1577\": {\"frequency\": 2, \"value\": 1577}, \"9773\": {\"frequency\": 2, \"value\": 9773}, \"9774\": {\"frequency\": 2, \"value\": 9774}, \"9775\": {\"frequency\": 10, \"value\": 9775}, \"1585\": {\"frequency\": 2, \"value\": 1585}, \"9778\": {\"frequency\": 2, \"value\": 9778}, \"1587\": {\"frequency\": 3, \"value\": 1587}, \"9780\": {\"frequency\": 4, \"value\": 9780}, \"1590\": {\"frequency\": 3, \"value\": 1590}, \"9784\": {\"frequency\": 2, \"value\": 9784}, \"9786\": {\"frequency\": 3, \"value\": 9786}, \"8458\": {\"frequency\": 3, \"value\": 8458}, \"1598\": {\"frequency\": 2, \"value\": 1598}, \"7093\": {\"frequency\": 2, \"value\": 7093}, \"9792\": {\"frequency\": 2, \"value\": 9792}, \"9793\": {\"frequency\": 2, \"value\": 9793}, \"9796\": {\"frequency\": 2, \"value\": 9796}, \"9798\": {\"frequency\": 3, \"value\": 9798}, \"9800\": {\"frequency\": 20, \"value\": 9800}, \"9804\": {\"frequency\": 4, \"value\": 9804}, \"1613\": {\"frequency\": 4, \"value\": 1613}, \"1614\": {\"frequency\": 2, \"value\": 1614}, \"18000\": {\"frequency\": 13, \"value\": 18000}, \"18001\": {\"frequency\": 1, \"value\": 18001}, \"9812\": {\"frequency\": 4, \"value\": 9812}, \"9813\": {\"frequency\": 1, \"value\": 9813}, \"9816\": {\"frequency\": 1, \"value\": 9816}, \"12013\": {\"frequency\": 2, \"value\": 12013}, \"9822\": {\"frequency\": 3, \"value\": 9822}, \"9824\": {\"frequency\": 2, \"value\": 9824}, \"9825\": {\"frequency\": 9, \"value\": 9825}, \"9826\": {\"frequency\": 2, \"value\": 9826}, \"9827\": {\"frequency\": 5, \"value\": 9827}, \"9828\": {\"frequency\": 2, \"value\": 9828}, \"9830\": {\"frequency\": 3, \"value\": 9830}, \"1638\": {\"frequency\": 2, \"value\": 1638}, \"13927\": {\"frequency\": 3, \"value\": 13927}, \"34412\": {\"frequency\": 2, \"value\": 34412}, \"9840\": {\"frequency\": 5, \"value\": 9840}, \"7378\": {\"frequency\": 2, \"value\": 7378}, \"1650\": {\"frequency\": 3, \"value\": 1650}, \"9844\": {\"frequency\": 1, \"value\": 9844}, \"1655\": {\"frequency\": 1, \"value\": 1655}, \"1656\": {\"frequency\": 2, \"value\": 1656}, \"9850\": {\"frequency\": 1, \"value\": 9850}, \"1662\": {\"frequency\": 1, \"value\": 1662}, \"9855\": {\"frequency\": 2, \"value\": 9855}, \"9856\": {\"frequency\": 3, \"value\": 9856}, \"3008\": {\"frequency\": 3, \"value\": 3008}, \"18050\": {\"frequency\": 2, \"value\": 18050}, \"9861\": {\"frequency\": 2, \"value\": 9861}, \"18055\": {\"frequency\": 2, \"value\": 18055}, \"9864\": {\"frequency\": 2, \"value\": 9864}, \"206474\": {\"frequency\": 2, \"value\": 206474}, \"9869\": {\"frequency\": 2, \"value\": 9869}, \"9870\": {\"frequency\": 3, \"value\": 9870}, \"206480\": {\"frequency\": 1, \"value\": 206480}, \"9874\": {\"frequency\": 3, \"value\": 9874}, \"9875\": {\"frequency\": 3, \"value\": 9875}, \"9877\": {\"frequency\": 2, \"value\": 9877}, \"9879\": {\"frequency\": 2, \"value\": 9879}, \"9880\": {\"frequency\": 4, \"value\": 9880}, \"3012\": {\"frequency\": 2, \"value\": 3012}, \"9882\": {\"frequency\": 2, \"value\": 9882}, \"9886\": {\"frequency\": 3, \"value\": 9886}, \"9887\": {\"frequency\": 2, \"value\": 9887}, \"9888\": {\"frequency\": 1, \"value\": 9888}, \"9889\": {\"frequency\": 2, \"value\": 9889}, \"9892\": {\"frequency\": 1, \"value\": 9892}, \"9897\": {\"frequency\": 2, \"value\": 9897}, \"9898\": {\"frequency\": 3, \"value\": 9898}, \"9900\": {\"frequency\": 29, \"value\": 9900}, \"1709\": {\"frequency\": 2, \"value\": 1709}, \"9904\": {\"frequency\": 1, \"value\": 9904}, \"9907\": {\"frequency\": 2, \"value\": 9907}, \"9908\": {\"frequency\": 1, \"value\": 9908}, \"9912\": {\"frequency\": 2, \"value\": 9912}, \"9914\": {\"frequency\": 2, \"value\": 9914}, \"26300\": {\"frequency\": 1, \"value\": 26300}, \"9917\": {\"frequency\": 1, \"value\": 9917}, \"9920\": {\"frequency\": 6, \"value\": 9920}, \"16672\": {\"frequency\": 2, \"value\": 16672}, \"1730\": {\"frequency\": 2, \"value\": 1730}, \"9926\": {\"frequency\": 2, \"value\": 9926}, \"9847\": {\"frequency\": 2, \"value\": 9847}, \"9935\": {\"frequency\": 2, \"value\": 9935}, \"9936\": {\"frequency\": 2, \"value\": 9936}, \"9848\": {\"frequency\": 3, \"value\": 9848}, \"9938\": {\"frequency\": 2, \"value\": 9938}, \"11214\": {\"frequency\": 3, \"value\": 11214}, \"26326\": {\"frequency\": 1, \"value\": 26326}, \"1755\": {\"frequency\": 3, \"value\": 1755}, \"1756\": {\"frequency\": 2, \"value\": 1756}, \"18042\": {\"frequency\": 2, \"value\": 18042}, \"9950\": {\"frequency\": 2, \"value\": 9950}, \"1760\": {\"frequency\": 3, \"value\": 1760}, \"26337\": {\"frequency\": 1, \"value\": 26337}, \"9957\": {\"frequency\": 3, \"value\": 9957}, \"9960\": {\"frequency\": 2, \"value\": 9960}, \"8487\": {\"frequency\": 3, \"value\": 8487}, \"9964\": {\"frequency\": 1, \"value\": 9964}, \"42733\": {\"frequency\": 2, \"value\": 42733}, \"9966\": {\"frequency\": 2, \"value\": 9966}, \"9969\": {\"frequency\": 1, \"value\": 9969}, \"1778\": {\"frequency\": 2, \"value\": 1778}, \"1779\": {\"frequency\": 2, \"value\": 1779}, \"9972\": {\"frequency\": 4, \"value\": 9972}, \"9975\": {\"frequency\": 4, \"value\": 9975}, \"9976\": {\"frequency\": 1, \"value\": 9976}, \"7104\": {\"frequency\": 3, \"value\": 7104}, \"1793\": {\"frequency\": 2, \"value\": 1793}, \"9990\": {\"frequency\": 5, \"value\": 9990}, \"91911\": {\"frequency\": 2, \"value\": 91911}, \"1800\": {\"frequency\": 9, \"value\": 1800}, \"9994\": {\"frequency\": 3, \"value\": 9994}, \"9996\": {\"frequency\": 2, \"value\": 9996}, \"9997\": {\"frequency\": 2, \"value\": 9997}, \"10000\": {\"frequency\": 46, \"value\": 10000}, \"10002\": {\"frequency\": 1, \"value\": 10002}, \"10003\": {\"frequency\": 2, \"value\": 10003}, \"10005\": {\"frequency\": 7, \"value\": 10005}, \"18199\": {\"frequency\": 1, \"value\": 18199}, \"18200\": {\"frequency\": 6, \"value\": 18200}, \"10010\": {\"frequency\": 2, \"value\": 10010}, \"1820\": {\"frequency\": 1, \"value\": 1820}, \"1824\": {\"frequency\": 3, \"value\": 1824}, \"1825\": {\"frequency\": 1, \"value\": 1825}, \"10018\": {\"frequency\": 7, \"value\": 10018}, \"1827\": {\"frequency\": 3, \"value\": 1827}, \"10023\": {\"frequency\": 2, \"value\": 10023}, \"10026\": {\"frequency\": 2, \"value\": 10026}, \"10030\": {\"frequency\": 2, \"value\": 10030}, \"10031\": {\"frequency\": 2, \"value\": 10031}, \"10032\": {\"frequency\": 3, \"value\": 10032}, \"10035\": {\"frequency\": 2, \"value\": 10035}, \"1845\": {\"frequency\": 2, \"value\": 1845}, \"1846\": {\"frequency\": 1, \"value\": 1846}, \"1848\": {\"frequency\": 2, \"value\": 1848}, \"9157\": {\"frequency\": 2, \"value\": 9157}, \"1850\": {\"frequency\": 4, \"value\": 1850}, \"10043\": {\"frequency\": 2, \"value\": 10043}, \"10046\": {\"frequency\": 2, \"value\": 10046}, \"10047\": {\"frequency\": 1, \"value\": 10047}, \"10049\": {\"frequency\": 1, \"value\": 10049}, \"10050\": {\"frequency\": 11, \"value\": 10050}, \"10051\": {\"frequency\": 4, \"value\": 10051}, \"10052\": {\"frequency\": 2, \"value\": 10052}, \"1268\": {\"frequency\": 2, \"value\": 1268}, \"5772\": {\"frequency\": 2, \"value\": 5772}, \"18250\": {\"frequency\": 1, \"value\": 18250}, \"10061\": {\"frequency\": 1, \"value\": 10061}, \"10062\": {\"frequency\": 2, \"value\": 10062}, \"10064\": {\"frequency\": 3, \"value\": 10064}, \"1873\": {\"frequency\": 2, \"value\": 1873}, \"10070\": {\"frequency\": 2, \"value\": 10070}, \"10072\": {\"frequency\": 2, \"value\": 10072}, \"1882\": {\"frequency\": 2, \"value\": 1882}, \"10075\": {\"frequency\": 2, \"value\": 10075}, \"100188\": {\"frequency\": 3, \"value\": 100188}, \"10078\": {\"frequency\": 3, \"value\": 10078}, \"10079\": {\"frequency\": 4, \"value\": 10079}, \"10080\": {\"frequency\": 9, \"value\": 10080}, \"10083\": {\"frequency\": 1, \"value\": 10083}, \"10086\": {\"frequency\": 2, \"value\": 10086}, \"1898\": {\"frequency\": 1, \"value\": 1898}, \"10092\": {\"frequency\": 2, \"value\": 10092}, \"10094\": {\"frequency\": 2, \"value\": 10094}, \"10096\": {\"frequency\": 1, \"value\": 10096}, \"10098\": {\"frequency\": 2, \"value\": 10098}, \"1683\": {\"frequency\": 3, \"value\": 1683}, \"10100\": {\"frequency\": 4, \"value\": 10100}, \"1431\": {\"frequency\": 2, \"value\": 1431}, \"26487\": {\"frequency\": 1, \"value\": 26487}, \"10111\": {\"frequency\": 2, \"value\": 10111}, \"18304\": {\"frequency\": 2, \"value\": 18304}, \"10115\": {\"frequency\": 2, \"value\": 10115}, \"26500\": {\"frequency\": 2, \"value\": 26500}, \"10117\": {\"frequency\": 3, \"value\": 10117}, \"10120\": {\"frequency\": 2, \"value\": 10120}, \"10122\": {\"frequency\": 1, \"value\": 10122}, \"10125\": {\"frequency\": 25, \"value\": 10125}, \"10126\": {\"frequency\": 2, \"value\": 10126}, \"50529\": {\"frequency\": 2, \"value\": 50529}, \"1942\": {\"frequency\": 2, \"value\": 1942}, \"10136\": {\"frequency\": 2, \"value\": 10136}, \"10137\": {\"frequency\": 3, \"value\": 10137}, \"10139\": {\"frequency\": 2, \"value\": 10139}, \"10140\": {\"frequency\": 5, \"value\": 10140}, \"1950\": {\"frequency\": 4, \"value\": 1950}, \"10150\": {\"frequency\": 4, \"value\": 10150}, \"10152\": {\"frequency\": 2, \"value\": 10152}, \"1962\": {\"frequency\": 1, \"value\": 1962}, \"10155\": {\"frequency\": 4, \"value\": 10155}, \"1968\": {\"frequency\": 5, \"value\": 1968}, \"7155\": {\"frequency\": 3, \"value\": 7155}, \"10165\": {\"frequency\": 1, \"value\": 10165}, \"10168\": {\"frequency\": 1, \"value\": 10168}, \"18361\": {\"frequency\": 1, \"value\": 18361}, \"10170\": {\"frequency\": 2, \"value\": 10170}, \"10171\": {\"frequency\": 1, \"value\": 10171}, \"53578\": {\"frequency\": 5, \"value\": 53578}, \"67518\": {\"frequency\": 3, \"value\": 67518}, \"7157\": {\"frequency\": 2, \"value\": 7157}, \"1984\": {\"frequency\": 3, \"value\": 1984}, \"1985\": {\"frequency\": 2, \"value\": 1985}, \"10179\": {\"frequency\": 2, \"value\": 10179}, \"1988\": {\"frequency\": 3, \"value\": 1988}, \"10182\": {\"frequency\": 2, \"value\": 10182}, \"1991\": {\"frequency\": 2, \"value\": 1991}, \"10184\": {\"frequency\": 1, \"value\": 10184}, \"10186\": {\"frequency\": 2, \"value\": 10186}, \"10189\": {\"frequency\": 3, \"value\": 10189}, \"10190\": {\"frequency\": 3, \"value\": 10190}, \"2000\": {\"frequency\": 5, \"value\": 2000}, \"10194\": {\"frequency\": 2, \"value\": 10194}, \"2003\": {\"frequency\": 3, \"value\": 2003}, \"10196\": {\"frequency\": 2, \"value\": 10196}, \"10200\": {\"frequency\": 30, \"value\": 10200}, \"10202\": {\"frequency\": 5, \"value\": 10202}, \"18616\": {\"frequency\": 1, \"value\": 18616}, \"10204\": {\"frequency\": 1, \"value\": 10204}, \"18400\": {\"frequency\": 4, \"value\": 18400}, \"10212\": {\"frequency\": 2, \"value\": 10212}, \"10215\": {\"frequency\": 3, \"value\": 10215}, \"51177\": {\"frequency\": 1, \"value\": 51177}, \"10221\": {\"frequency\": 2, \"value\": 10221}, \"2031\": {\"frequency\": 1, \"value\": 2031}, \"10227\": {\"frequency\": 3, \"value\": 10227}, \"10228\": {\"frequency\": 1, \"value\": 10228}, \"10229\": {\"frequency\": 2, \"value\": 10229}, \"10230\": {\"frequency\": 5, \"value\": 10230}, \"2040\": {\"frequency\": 3, \"value\": 2040}, \"10240\": {\"frequency\": 6, \"value\": 10240}, \"2050\": {\"frequency\": 2, \"value\": 2050}, \"2052\": {\"frequency\": 3, \"value\": 2052}, \"10245\": {\"frequency\": 2, \"value\": 10245}, \"10248\": {\"frequency\": 2, \"value\": 10248}, \"10250\": {\"frequency\": 4, \"value\": 10250}, \"10255\": {\"frequency\": 1, \"value\": 10255}, \"2064\": {\"frequency\": 2, \"value\": 2064}, \"10257\": {\"frequency\": 1, \"value\": 10257}, \"75794\": {\"frequency\": 3, \"value\": 75794}, \"10259\": {\"frequency\": 1, \"value\": 10259}, \"10260\": {\"frequency\": 8, \"value\": 10260}, \"10270\": {\"frequency\": 3, \"value\": 10270}, \"10271\": {\"frequency\": 1, \"value\": 10271}, \"34848\": {\"frequency\": 3, \"value\": 34848}, \"5808\": {\"frequency\": 2, \"value\": 5808}, \"10275\": {\"frequency\": 4, \"value\": 10275}, \"10277\": {\"frequency\": 2, \"value\": 10277}, \"10280\": {\"frequency\": 2, \"value\": 10280}, \"10281\": {\"frequency\": 1, \"value\": 10281}, \"2091\": {\"frequency\": 2, \"value\": 2091}, \"2096\": {\"frequency\": 3, \"value\": 2096}, \"10289\": {\"frequency\": 2, \"value\": 10289}, \"10290\": {\"frequency\": 3, \"value\": 10290}, \"10291\": {\"frequency\": 2, \"value\": 10291}, \"2100\": {\"frequency\": 2, \"value\": 2100}, \"10296\": {\"frequency\": 3, \"value\": 10296}, \"10297\": {\"frequency\": 2, \"value\": 10297}, \"10300\": {\"frequency\": 11, \"value\": 10300}, \"10302\": {\"frequency\": 1, \"value\": 10302}, \"22000\": {\"frequency\": 6, \"value\": 22000}, \"10306\": {\"frequency\": 1, \"value\": 10306}, \"18500\": {\"frequency\": 2, \"value\": 18500}, \"11800\": {\"frequency\": 4, \"value\": 11800}, \"10312\": {\"frequency\": 1, \"value\": 10312}, \"10319\": {\"frequency\": 3, \"value\": 10319}, \"10320\": {\"frequency\": 5, \"value\": 10320}, \"8547\": {\"frequency\": 3, \"value\": 8547}, \"10327\": {\"frequency\": 2, \"value\": 10327}, \"2138\": {\"frequency\": 1, \"value\": 2138}, \"43101\": {\"frequency\": 1, \"value\": 43101}, \"10335\": {\"frequency\": 3, \"value\": 10335}, \"10336\": {\"frequency\": 2, \"value\": 10336}, \"7184\": {\"frequency\": 4, \"value\": 7184}, \"2147\": {\"frequency\": 3, \"value\": 2147}, \"5527\": {\"frequency\": 3, \"value\": 5527}, \"2150\": {\"frequency\": 3, \"value\": 2150}, \"9916\": {\"frequency\": 4, \"value\": 9916}, \"18540\": {\"frequency\": 2, \"value\": 18540}, \"10350\": {\"frequency\": 13, \"value\": 10350}, \"2159\": {\"frequency\": 3, \"value\": 2159}, \"43123\": {\"frequency\": 1, \"value\": 43123}, \"43124\": {\"frequency\": 2, \"value\": 43124}, \"10358\": {\"frequency\": 3, \"value\": 10358}, \"2167\": {\"frequency\": 1, \"value\": 2167}, \"10360\": {\"frequency\": 4, \"value\": 10360}, \"10361\": {\"frequency\": 2, \"value\": 10361}, \"2171\": {\"frequency\": 3, \"value\": 2171}, \"10368\": {\"frequency\": 2, \"value\": 10368}, \"10369\": {\"frequency\": 2, \"value\": 10369}, \"10370\": {\"frequency\": 2, \"value\": 10370}, \"10372\": {\"frequency\": 1, \"value\": 10372}, \"10375\": {\"frequency\": 4, \"value\": 10375}, \"8556\": {\"frequency\": 3, \"value\": 8556}, \"2191\": {\"frequency\": 2, \"value\": 2191}, \"10384\": {\"frequency\": 2, \"value\": 10384}, \"223377\": {\"frequency\": 1, \"value\": 223377}, \"215186\": {\"frequency\": 3, \"value\": 215186}, \"2199\": {\"frequency\": 2, \"value\": 2199}, \"2200\": {\"frequency\": 4, \"value\": 2200}, \"10400\": {\"frequency\": 11, \"value\": 10400}, \"10403\": {\"frequency\": 3, \"value\": 10403}, \"10404\": {\"frequency\": 2, \"value\": 10404}, \"34982\": {\"frequency\": 1, \"value\": 34982}, \"2216\": {\"frequency\": 2, \"value\": 2216}, \"3100\": {\"frequency\": 3, \"value\": 3100}, \"2218\": {\"frequency\": 2, \"value\": 2218}, \"10414\": {\"frequency\": 1, \"value\": 10414}, \"10416\": {\"frequency\": 3, \"value\": 10416}, \"2229\": {\"frequency\": 2, \"value\": 2229}, \"10423\": {\"frequency\": 3, \"value\": 10423}, \"10424\": {\"frequency\": 2, \"value\": 10424}, \"10426\": {\"frequency\": 2, \"value\": 10426}, \"35003\": {\"frequency\": 1, \"value\": 35003}, \"2240\": {\"frequency\": 2, \"value\": 2240}, \"100545\": {\"frequency\": 1, \"value\": 100545}, \"35015\": {\"frequency\": 1, \"value\": 35015}, \"10440\": {\"frequency\": 4, \"value\": 10440}, \"2250\": {\"frequency\": 8, \"value\": 2250}, \"35020\": {\"frequency\": 1, \"value\": 35020}, \"35021\": {\"frequency\": 2, \"value\": 35021}, \"18641\": {\"frequency\": 1, \"value\": 18641}, \"35026\": {\"frequency\": 1, \"value\": 35026}, \"2261\": {\"frequency\": 2, \"value\": 2261}, \"10454\": {\"frequency\": 8, \"value\": 10454}, \"10455\": {\"frequency\": 3, \"value\": 10455}, \"10459\": {\"frequency\": 2, \"value\": 10459}, \"10460\": {\"frequency\": 2, \"value\": 10460}, \"10463\": {\"frequency\": 1, \"value\": 10463}, \"35040\": {\"frequency\": 2, \"value\": 35040}, \"2275\": {\"frequency\": 1, \"value\": 2275}, \"2278\": {\"frequency\": 1, \"value\": 2278}, \"2280\": {\"frequency\": 2, \"value\": 2280}, \"10474\": {\"frequency\": 1, \"value\": 10474}, \"2287\": {\"frequency\": 1, \"value\": 2287}, \"10480\": {\"frequency\": 3, \"value\": 10480}, \"10481\": {\"frequency\": 2, \"value\": 10481}, \"7209\": {\"frequency\": 4, \"value\": 7209}, \"2296\": {\"frequency\": 2, \"value\": 2296}, \"10489\": {\"frequency\": 2, \"value\": 10489}, \"10490\": {\"frequency\": 2, \"value\": 10490}, \"10491\": {\"frequency\": 1, \"value\": 10491}, \"10492\": {\"frequency\": 2, \"value\": 10492}, \"35070\": {\"frequency\": 2, \"value\": 35070}, \"12672\": {\"frequency\": 2, \"value\": 12672}, \"10500\": {\"frequency\": 31, \"value\": 10500}, \"2309\": {\"frequency\": 1, \"value\": 2309}, \"10505\": {\"frequency\": 2, \"value\": 10505}, \"10507\": {\"frequency\": 1, \"value\": 10507}, \"18700\": {\"frequency\": 2, \"value\": 18700}, \"100623\": {\"frequency\": 2, \"value\": 100623}, \"10513\": {\"frequency\": 2, \"value\": 10513}, \"10514\": {\"frequency\": 1, \"value\": 10514}, \"6753\": {\"frequency\": 1, \"value\": 6753}, \"10519\": {\"frequency\": 2, \"value\": 10519}, \"10521\": {\"frequency\": 2, \"value\": 10521}, \"10523\": {\"frequency\": 2, \"value\": 10523}, \"35100\": {\"frequency\": 4, \"value\": 35100}, \"59677\": {\"frequency\": 4, \"value\": 59677}, \"35102\": {\"frequency\": 1, \"value\": 35102}, \"11312\": {\"frequency\": 1, \"value\": 11312}, \"10530\": {\"frequency\": 6, \"value\": 10530}, \"2340\": {\"frequency\": 2, \"value\": 2340}, \"9948\": {\"frequency\": 2, \"value\": 9948}, \"18730\": {\"frequency\": 3, \"value\": 18730}, \"84267\": {\"frequency\": 1, \"value\": 84267}, \"2350\": {\"frequency\": 4, \"value\": 2350}, \"159865\": {\"frequency\": 3, \"value\": 159865}, \"10548\": {\"frequency\": 2, \"value\": 10548}, \"10550\": {\"frequency\": 2, \"value\": 10550}, \"10560\": {\"frequency\": 2, \"value\": 10560}, \"2370\": {\"frequency\": 3, \"value\": 2370}, \"2375\": {\"frequency\": 2, \"value\": 2375}, \"10572\": {\"frequency\": 2, \"value\": 10572}, \"10573\": {\"frequency\": 2, \"value\": 10573}, \"10574\": {\"frequency\": 2, \"value\": 10574}, \"10575\": {\"frequency\": 2, \"value\": 10575}, \"10576\": {\"frequency\": 3, \"value\": 10576}, \"10578\": {\"frequency\": 2, \"value\": 10578}, \"10583\": {\"frequency\": 2, \"value\": 10583}, \"10584\": {\"frequency\": 4, \"value\": 10584}, \"10585\": {\"frequency\": 2, \"value\": 10585}, \"10588\": {\"frequency\": 4, \"value\": 10588}, \"2400\": {\"frequency\": 19, \"value\": 2400}, \"26977\": {\"frequency\": 1, \"value\": 26977}, \"2402\": {\"frequency\": 1, \"value\": 2402}, \"108900\": {\"frequency\": 8, \"value\": 108900}, \"10600\": {\"frequency\": 2, \"value\": 10600}, \"7228\": {\"frequency\": 2, \"value\": 7228}, \"10603\": {\"frequency\": 2, \"value\": 10603}, \"26989\": {\"frequency\": 1, \"value\": 26989}, \"2415\": {\"frequency\": 2, \"value\": 2415}, \"18800\": {\"frequency\": 1, \"value\": 18800}, \"43377\": {\"frequency\": 1, \"value\": 43377}, \"10615\": {\"frequency\": 1, \"value\": 10615}, \"10620\": {\"frequency\": 1, \"value\": 10620}, \"27007\": {\"frequency\": 3, \"value\": 27007}, \"35200\": {\"frequency\": 2, \"value\": 35200}, \"10625\": {\"frequency\": 4, \"value\": 10625}, \"4502\": {\"frequency\": 4, \"value\": 4502}, \"10631\": {\"frequency\": 2, \"value\": 10631}, \"10637\": {\"frequency\": 2, \"value\": 10637}, \"2446\": {\"frequency\": 2, \"value\": 2446}, \"10640\": {\"frequency\": 2, \"value\": 10640}, \"10642\": {\"frequency\": 1, \"value\": 10642}, \"2451\": {\"frequency\": 1, \"value\": 2451}, \"10650\": {\"frequency\": 5, \"value\": 10650}, \"10655\": {\"frequency\": 2, \"value\": 10655}, \"10660\": {\"frequency\": 3, \"value\": 10660}, \"10661\": {\"frequency\": 1, \"value\": 10661}, \"1777\": {\"frequency\": 1, \"value\": 1777}, \"10664\": {\"frequency\": 1, \"value\": 10664}, \"2480\": {\"frequency\": 2, \"value\": 2480}, \"117176\": {\"frequency\": 4, \"value\": 117176}, \"2490\": {\"frequency\": 2, \"value\": 2490}, \"2493\": {\"frequency\": 2, \"value\": 2493}, \"2500\": {\"frequency\": 36, \"value\": 2500}, \"76230\": {\"frequency\": 2, \"value\": 76230}, \"35273\": {\"frequency\": 2, \"value\": 35273}, \"10701\": {\"frequency\": 1, \"value\": 10701}, \"30456\": {\"frequency\": 2, \"value\": 30456}, \"10707\": {\"frequency\": 1, \"value\": 10707}, \"18900\": {\"frequency\": 3, \"value\": 18900}, \"18901\": {\"frequency\": 1, \"value\": 18901}, \"10710\": {\"frequency\": 2, \"value\": 10710}, \"35287\": {\"frequency\": 1, \"value\": 35287}, \"10716\": {\"frequency\": 2, \"value\": 10716}, \"2527\": {\"frequency\": 2, \"value\": 2527}, \"10720\": {\"frequency\": 7, \"value\": 10720}, \"35298\": {\"frequency\": 1, \"value\": 35298}, \"10723\": {\"frequency\": 5, \"value\": 10723}, \"8091\": {\"frequency\": 2, \"value\": 8091}, \"10725\": {\"frequency\": 3, \"value\": 10725}, \"10726\": {\"frequency\": 4, \"value\": 10726}, \"10730\": {\"frequency\": 2, \"value\": 10730}, \"10733\": {\"frequency\": 2, \"value\": 10733}, \"25000\": {\"frequency\": 2, \"value\": 25000}, \"10739\": {\"frequency\": 2, \"value\": 10739}, \"2550\": {\"frequency\": 16, \"value\": 2550}, \"10744\": {\"frequency\": 2, \"value\": 10744}, \"2555\": {\"frequency\": 1, \"value\": 2555}, \"10750\": {\"frequency\": 2, \"value\": 10750}, \"2560\": {\"frequency\": 3, \"value\": 2560}, \"10754\": {\"frequency\": 2, \"value\": 10754}, \"10757\": {\"frequency\": 3, \"value\": 10757}, \"1722\": {\"frequency\": 2, \"value\": 1722}, \"10762\": {\"frequency\": 2, \"value\": 10762}, \"10763\": {\"frequency\": 2, \"value\": 10763}, \"10764\": {\"frequency\": 1, \"value\": 10764}, \"10766\": {\"frequency\": 3, \"value\": 10766}, \"2575\": {\"frequency\": 2, \"value\": 2575}, \"2580\": {\"frequency\": 3, \"value\": 2580}, \"10780\": {\"frequency\": 2, \"value\": 10780}, \"2589\": {\"frequency\": 2, \"value\": 2589}, \"35362\": {\"frequency\": 2, \"value\": 35362}, \"1192\": {\"frequency\": 2, \"value\": 1192}, \"2600\": {\"frequency\": 7, \"value\": 2600}, \"10794\": {\"frequency\": 3, \"value\": 10794}, \"10796\": {\"frequency\": 2, \"value\": 10796}, \"10798\": {\"frequency\": 2, \"value\": 10798}, \"10800\": {\"frequency\": 44, \"value\": 10800}, \"2610\": {\"frequency\": 2, \"value\": 2610}, \"51763\": {\"frequency\": 1, \"value\": 51763}, \"2614\": {\"frequency\": 2, \"value\": 2614}, \"19000\": {\"frequency\": 6, \"value\": 19000}, \"2620\": {\"frequency\": 1, \"value\": 2620}, \"4533\": {\"frequency\": 3, \"value\": 4533}, \"10816\": {\"frequency\": 2, \"value\": 10816}, \"2625\": {\"frequency\": 3, \"value\": 2625}, \"10819\": {\"frequency\": 2, \"value\": 10819}, \"10827\": {\"frequency\": 2, \"value\": 10827}, \"2640\": {\"frequency\": 8, \"value\": 2640}, \"19025\": {\"frequency\": 1, \"value\": 19025}, \"199253\": {\"frequency\": 2, \"value\": 199253}, \"2646\": {\"frequency\": 1, \"value\": 2646}, \"2650\": {\"frequency\": 2, \"value\": 2650}, \"1452\": {\"frequency\": 4, \"value\": 1452}, \"6837\": {\"frequency\": 2, \"value\": 6837}, \"19040\": {\"frequency\": 1, \"value\": 19040}, \"133729\": {\"frequency\": 1, \"value\": 133729}, \"10850\": {\"frequency\": 3, \"value\": 10850}, \"150117\": {\"frequency\": 1, \"value\": 150117}, \"10856\": {\"frequency\": 2, \"value\": 10856}, \"10860\": {\"frequency\": 3, \"value\": 10860}, \"2674\": {\"frequency\": 2, \"value\": 2674}, \"7794\": {\"frequency\": 2, \"value\": 7794}, \"2681\": {\"frequency\": 1, \"value\": 2681}, \"10875\": {\"frequency\": 8, \"value\": 10875}, \"51836\": {\"frequency\": 6, \"value\": 51836}, \"43645\": {\"frequency\": 1, \"value\": 43645}, \"50965\": {\"frequency\": 3, \"value\": 50965}, \"10880\": {\"frequency\": 6, \"value\": 10880}, \"2691\": {\"frequency\": 1, \"value\": 2691}, \"2692\": {\"frequency\": 1, \"value\": 2692}, \"19080\": {\"frequency\": 2, \"value\": 19080}, \"10890\": {\"frequency\": 9, \"value\": 10890}, \"2699\": {\"frequency\": 2, \"value\": 2699}, \"2700\": {\"frequency\": 13, \"value\": 2700}, \"10900\": {\"frequency\": 4, \"value\": 10900}, \"2710\": {\"frequency\": 2, \"value\": 2710}, \"7279\": {\"frequency\": 2, \"value\": 7279}, \"2719\": {\"frequency\": 1, \"value\": 2719}, \"2720\": {\"frequency\": 2, \"value\": 2720}, \"2723\": {\"frequency\": 2, \"value\": 2723}, \"10920\": {\"frequency\": 9, \"value\": 10920}, \"2731\": {\"frequency\": 2, \"value\": 2731}, \"10925\": {\"frequency\": 3, \"value\": 10925}, \"27311\": {\"frequency\": 1, \"value\": 27311}, \"10929\": {\"frequency\": 2, \"value\": 10929}, \"2738\": {\"frequency\": 2, \"value\": 2738}, \"2748\": {\"frequency\": 2, \"value\": 2748}, \"2750\": {\"frequency\": 7, \"value\": 2750}, \"2752\": {\"frequency\": 6, \"value\": 2752}, \"10016\": {\"frequency\": 2, \"value\": 10016}, \"10950\": {\"frequency\": 4, \"value\": 10950}, \"2760\": {\"frequency\": 2, \"value\": 2760}, \"10954\": {\"frequency\": 2, \"value\": 10954}, \"10956\": {\"frequency\": 2, \"value\": 10956}, \"4557\": {\"frequency\": 2, \"value\": 4557}, \"10960\": {\"frequency\": 3, \"value\": 10960}, \"7288\": {\"frequency\": 2, \"value\": 7288}, \"2770\": {\"frequency\": 1, \"value\": 2770}, \"2772\": {\"frequency\": 2, \"value\": 2772}, \"43733\": {\"frequency\": 1, \"value\": 43733}, \"10968\": {\"frequency\": 3, \"value\": 10968}, \"10969\": {\"frequency\": 1, \"value\": 10969}, \"10970\": {\"frequency\": 1, \"value\": 10970}, \"2002\": {\"frequency\": 2, \"value\": 2002}, \"2788\": {\"frequency\": 2, \"value\": 2788}, \"2790\": {\"frequency\": 2, \"value\": 2790}, \"7293\": {\"frequency\": 2, \"value\": 7293}, \"2800\": {\"frequency\": 16, \"value\": 2800}, \"2805\": {\"frequency\": 2, \"value\": 2805}, \"2807\": {\"frequency\": 2, \"value\": 2807}, \"2808\": {\"frequency\": 2, \"value\": 2808}, \"19200\": {\"frequency\": 6, \"value\": 19200}, \"7296\": {\"frequency\": 2, \"value\": 7296}, \"11010\": {\"frequency\": 1, \"value\": 11010}, \"2820\": {\"frequency\": 4, \"value\": 2820}, \"11018\": {\"frequency\": 1, \"value\": 11018}, \"11019\": {\"frequency\": 1, \"value\": 11019}, \"11025\": {\"frequency\": 1, \"value\": 11025}, \"2839\": {\"frequency\": 2, \"value\": 2839}, \"248600\": {\"frequency\": 1, \"value\": 248600}, \"11034\": {\"frequency\": 3, \"value\": 11034}, \"11040\": {\"frequency\": 3, \"value\": 11040}, \"2849\": {\"frequency\": 1, \"value\": 2849}, \"2850\": {\"frequency\": 6, \"value\": 2850}, \"2856\": {\"frequency\": 3, \"value\": 2856}, \"11049\": {\"frequency\": 2, \"value\": 11049}, \"11050\": {\"frequency\": 5, \"value\": 11050}, \"43821\": {\"frequency\": 1, \"value\": 43821}, \"11054\": {\"frequency\": 2, \"value\": 11054}, \"11056\": {\"frequency\": 2, \"value\": 11056}, \"2865\": {\"frequency\": 1, \"value\": 2865}, \"2867\": {\"frequency\": 2, \"value\": 2867}, \"11060\": {\"frequency\": 4, \"value\": 11060}, \"6893\": {\"frequency\": 2, \"value\": 6893}, \"2874\": {\"frequency\": 1, \"value\": 2874}, \"2875\": {\"frequency\": 7, \"value\": 2875}, \"11070\": {\"frequency\": 4, \"value\": 11070}, \"2880\": {\"frequency\": 2, \"value\": 2880}, \"2885\": {\"frequency\": 2, \"value\": 2885}, \"15500\": {\"frequency\": 3, \"value\": 15500}, \"2890\": {\"frequency\": 5, \"value\": 2890}, \"11088\": {\"frequency\": 2, \"value\": 11088}, \"11090\": {\"frequency\": 2, \"value\": 11090}, \"2900\": {\"frequency\": 1, \"value\": 2900}, \"11096\": {\"frequency\": 2, \"value\": 11096}, \"11100\": {\"frequency\": 7, \"value\": 11100}, \"158558\": {\"frequency\": 2, \"value\": 158558}, \"35679\": {\"frequency\": 2, \"value\": 35679}, \"11108\": {\"frequency\": 2, \"value\": 11108}, \"11111\": {\"frequency\": 2, \"value\": 11111}, \"19602\": {\"frequency\": 2, \"value\": 19602}, \"11120\": {\"frequency\": 4, \"value\": 11120}, \"12776\": {\"frequency\": 1, \"value\": 12776}, \"2930\": {\"frequency\": 1, \"value\": 2930}, \"22334\": {\"frequency\": 1, \"value\": 22334}, \"2937\": {\"frequency\": 1, \"value\": 2937}, \"11130\": {\"frequency\": 2, \"value\": 11130}, \"2940\": {\"frequency\": 2, \"value\": 2940}, \"2944\": {\"frequency\": 1, \"value\": 2944}, \"29163\": {\"frequency\": 2, \"value\": 29163}, \"35722\": {\"frequency\": 1, \"value\": 35722}, \"2958\": {\"frequency\": 2, \"value\": 2958}, \"1860\": {\"frequency\": 2, \"value\": 1860}, \"2970\": {\"frequency\": 7, \"value\": 2970}, \"2971\": {\"frequency\": 2, \"value\": 2971}, \"11165\": {\"frequency\": 3, \"value\": 11165}, \"2975\": {\"frequency\": 3, \"value\": 2975}, \"11171\": {\"frequency\": 2, \"value\": 11171}, \"2980\": {\"frequency\": 2, \"value\": 2980}, \"11173\": {\"frequency\": 2, \"value\": 11173}, \"2982\": {\"frequency\": 1, \"value\": 2982}, \"2983\": {\"frequency\": 2, \"value\": 2983}, \"11180\": {\"frequency\": 5, \"value\": 11180}, \"29170\": {\"frequency\": 1, \"value\": 29170}, \"2992\": {\"frequency\": 3, \"value\": 2992}, \"73616\": {\"frequency\": 2, \"value\": 73616}, \"11422\": {\"frequency\": 2, \"value\": 11422}, \"3000\": {\"frequency\": 84, \"value\": 3000}, \"11193\": {\"frequency\": 3, \"value\": 11193}, \"19387\": {\"frequency\": 1, \"value\": 19387}, \"3006\": {\"frequency\": 1, \"value\": 3006}, \"11200\": {\"frequency\": 21, \"value\": 11200}, \"11201\": {\"frequency\": 2, \"value\": 11201}, \"3011\": {\"frequency\": 2, \"value\": 3011}, \"11204\": {\"frequency\": 1, \"value\": 11204}, \"11205\": {\"frequency\": 2, \"value\": 11205}, \"11210\": {\"frequency\": 2, \"value\": 11210}, \"40098\": {\"frequency\": 1, \"value\": 40098}, \"84942\": {\"frequency\": 1, \"value\": 84942}, \"11220\": {\"frequency\": 1, \"value\": 11220}, \"3031\": {\"frequency\": 3, \"value\": 3031}, \"11225\": {\"frequency\": 3, \"value\": 11225}, \"9921\": {\"frequency\": 2, \"value\": 9921}, \"43995\": {\"frequency\": 6, \"value\": 43995}, \"49658\": {\"frequency\": 8, \"value\": 49658}, \"11230\": {\"frequency\": 1, \"value\": 11230}, \"7333\": {\"frequency\": 2, \"value\": 7333}, \"3040\": {\"frequency\": 3, \"value\": 3040}, \"11234\": {\"frequency\": 3, \"value\": 11234}, \"11240\": {\"frequency\": 2, \"value\": 11240}, \"3050\": {\"frequency\": 1, \"value\": 3050}, \"19436\": {\"frequency\": 1, \"value\": 19436}, \"27631\": {\"frequency\": 1, \"value\": 27631}, \"3056\": {\"frequency\": 2, \"value\": 3056}, \"11250\": {\"frequency\": 24, \"value\": 11250}, \"3060\": {\"frequency\": 24, \"value\": 3060}, \"11254\": {\"frequency\": 1, \"value\": 11254}, \"3068\": {\"frequency\": 2, \"value\": 3068}, \"3075\": {\"frequency\": 5, \"value\": 3075}, \"3080\": {\"frequency\": 4, \"value\": 3080}, \"3088\": {\"frequency\": 2, \"value\": 3088}, \"3090\": {\"frequency\": 13, \"value\": 3090}, \"16197\": {\"frequency\": 2, \"value\": 16197}, \"11287\": {\"frequency\": 1, \"value\": 11287}, \"35868\": {\"frequency\": 1, \"value\": 35868}, \"52256\": {\"frequency\": 1, \"value\": 52256}, \"93218\": {\"frequency\": 2, \"value\": 93218}, \"11305\": {\"frequency\": 2, \"value\": 11305}, \"3118\": {\"frequency\": 2, \"value\": 3118}, \"3120\": {\"frequency\": 6, \"value\": 3120}, \"3121\": {\"frequency\": 2, \"value\": 3121}, \"11443\": {\"frequency\": 2, \"value\": 11443}, \"3125\": {\"frequency\": 2, \"value\": 3125}, \"3128\": {\"frequency\": 4, \"value\": 3128}, \"1468\": {\"frequency\": 2, \"value\": 1468}, \"3132\": {\"frequency\": 2, \"value\": 3132}, \"11325\": {\"frequency\": 7, \"value\": 11325}, \"3134\": {\"frequency\": 1, \"value\": 3134}, \"3135\": {\"frequency\": 3, \"value\": 3135}, \"3140\": {\"frequency\": 2, \"value\": 3140}, \"3141\": {\"frequency\": 2, \"value\": 3141}, \"3143\": {\"frequency\": 2, \"value\": 3143}, \"11340\": {\"frequency\": 11, \"value\": 11340}, \"22370\": {\"frequency\": 1, \"value\": 22370}, \"3150\": {\"frequency\": 7, \"value\": 3150}, \"64904\": {\"frequency\": 1, \"value\": 64904}, \"11350\": {\"frequency\": 3, \"value\": 11350}, \"19550\": {\"frequency\": 2, \"value\": 19550}, \"3172\": {\"frequency\": 3, \"value\": 3172}, \"11375\": {\"frequency\": 4, \"value\": 11375}, \"11380\": {\"frequency\": 2, \"value\": 11380}, \"3192\": {\"frequency\": 3, \"value\": 3192}, \"11385\": {\"frequency\": 2, \"value\": 11385}, \"11390\": {\"frequency\": 1, \"value\": 11390}, \"3200\": {\"frequency\": 31, \"value\": 3200}, \"11393\": {\"frequency\": 3, \"value\": 11393}, \"60548\": {\"frequency\": 3, \"value\": 60548}, \"3207\": {\"frequency\": 2, \"value\": 3207}, \"11400\": {\"frequency\": 10, \"value\": 11400}, \"3210\": {\"frequency\": 4, \"value\": 3210}, \"3211\": {\"frequency\": 3, \"value\": 3211}, \"11407\": {\"frequency\": 2, \"value\": 11407}, \"19600\": {\"frequency\": 2, \"value\": 19600}, \"11410\": {\"frequency\": 2, \"value\": 11410}, \"273556\": {\"frequency\": 2, \"value\": 273556}, \"19606\": {\"frequency\": 1, \"value\": 19606}, \"3225\": {\"frequency\": 5, \"value\": 3225}, \"3230\": {\"frequency\": 3, \"value\": 3230}, \"11424\": {\"frequency\": 1, \"value\": 11424}, \"3239\": {\"frequency\": 1, \"value\": 3239}, \"3240\": {\"frequency\": 9, \"value\": 3240}, \"3245\": {\"frequency\": 2, \"value\": 3245}, \"11440\": {\"frequency\": 3, \"value\": 11440}, \"3250\": {\"frequency\": 5, \"value\": 3250}, \"19635\": {\"frequency\": 1, \"value\": 19635}, \"11444\": {\"frequency\": 1, \"value\": 11444}, \"3255\": {\"frequency\": 2, \"value\": 3255}, \"11448\": {\"frequency\": 2, \"value\": 11448}, \"224442\": {\"frequency\": 2, \"value\": 224442}, \"5564\": {\"frequency\": 2, \"value\": 5564}, \"11454\": {\"frequency\": 3, \"value\": 11454}, \"11455\": {\"frequency\": 2, \"value\": 11455}, \"3264\": {\"frequency\": 3, \"value\": 3264}, \"11457\": {\"frequency\": 1, \"value\": 11457}, \"36036\": {\"frequency\": 1, \"value\": 36036}, \"3271\": {\"frequency\": 1, \"value\": 3271}, \"3272\": {\"frequency\": 2, \"value\": 3272}, \"11466\": {\"frequency\": 2, \"value\": 11466}, \"18295\": {\"frequency\": 4, \"value\": 18295}, \"3277\": {\"frequency\": 1, \"value\": 3277}, \"11470\": {\"frequency\": 1, \"value\": 11470}, \"1331\": {\"frequency\": 2, \"value\": 1331}, \"11473\": {\"frequency\": 1, \"value\": 11473}, \"11475\": {\"frequency\": 4, \"value\": 11475}, \"11480\": {\"frequency\": 2, \"value\": 11480}, \"11481\": {\"frequency\": 2, \"value\": 11481}, \"19680\": {\"frequency\": 2, \"value\": 19680}, \"3300\": {\"frequency\": 15, \"value\": 3300}, \"1201\": {\"frequency\": 4, \"value\": 1201}, \"11500\": {\"frequency\": 10, \"value\": 11500}, \"15570\": {\"frequency\": 2, \"value\": 15570}, \"11505\": {\"frequency\": 2, \"value\": 11505}, \"3315\": {\"frequency\": 2, \"value\": 3315}, \"19700\": {\"frequency\": 2, \"value\": 19700}, \"36085\": {\"frequency\": 1, \"value\": 36085}, \"1919\": {\"frequency\": 2, \"value\": 1919}, \"3325\": {\"frequency\": 2, \"value\": 3325}, \"3328\": {\"frequency\": 2, \"value\": 3328}, \"1920\": {\"frequency\": 3, \"value\": 1920}, \"3330\": {\"frequency\": 5, \"value\": 3330}, \"11523\": {\"frequency\": 1, \"value\": 11523}, \"3332\": {\"frequency\": 2, \"value\": 3332}, \"3333\": {\"frequency\": 3, \"value\": 3333}, \"11530\": {\"frequency\": 2, \"value\": 11530}, \"3340\": {\"frequency\": 2, \"value\": 3340}, \"11536\": {\"frequency\": 3, \"value\": 11536}, \"3348\": {\"frequency\": 3, \"value\": 3348}, \"11542\": {\"frequency\": 2, \"value\": 11542}, \"14212\": {\"frequency\": 2, \"value\": 14212}, \"11547\": {\"frequency\": 2, \"value\": 11547}, \"11550\": {\"frequency\": 2, \"value\": 11550}, \"118047\": {\"frequency\": 3, \"value\": 118047}, \"3360\": {\"frequency\": 9, \"value\": 3360}, \"11562\": {\"frequency\": 2, \"value\": 11562}, \"27951\": {\"frequency\": 1, \"value\": 27951}, \"3376\": {\"frequency\": 2, \"value\": 3376}, \"11575\": {\"frequency\": 1, \"value\": 11575}, \"11576\": {\"frequency\": 2, \"value\": 11576}, \"3388\": {\"frequency\": 1, \"value\": 3388}, \"11583\": {\"frequency\": 2, \"value\": 11583}, \"11585\": {\"frequency\": 3, \"value\": 11585}, \"1204\": {\"frequency\": 4, \"value\": 1204}, \"3399\": {\"frequency\": 2, \"value\": 3399}, \"3400\": {\"frequency\": 22, \"value\": 3400}, \"3402\": {\"frequency\": 3, \"value\": 3402}, \"3404\": {\"frequency\": 2, \"value\": 3404}, \"11599\": {\"frequency\": 1, \"value\": 11599}, \"1750\": {\"frequency\": 3, \"value\": 1750}, \"11603\": {\"frequency\": 2, \"value\": 11603}, \"3413\": {\"frequency\": 1, \"value\": 3413}, \"19800\": {\"frequency\": 3, \"value\": 19800}, \"134489\": {\"frequency\": 1, \"value\": 134489}, \"11610\": {\"frequency\": 2, \"value\": 11610}, \"3419\": {\"frequency\": 1, \"value\": 3419}, \"3420\": {\"frequency\": 9, \"value\": 3420}, \"28000\": {\"frequency\": 3, \"value\": 28000}, \"3425\": {\"frequency\": 2, \"value\": 3425}, \"3427\": {\"frequency\": 3, \"value\": 3427}, \"28008\": {\"frequency\": 2, \"value\": 28008}, \"11625\": {\"frequency\": 3, \"value\": 11625}, \"3436\": {\"frequency\": 2, \"value\": 3436}, \"3438\": {\"frequency\": 2, \"value\": 3438}, \"11632\": {\"frequency\": 2, \"value\": 11632}, \"3444\": {\"frequency\": 1, \"value\": 3444}, \"7401\": {\"frequency\": 2, \"value\": 7401}, \"28025\": {\"frequency\": 1, \"value\": 28025}, \"3451\": {\"frequency\": 3, \"value\": 3451}, \"6116\": {\"frequency\": 2, \"value\": 6116}, \"3455\": {\"frequency\": 1, \"value\": 3455}, \"36224\": {\"frequency\": 1, \"value\": 36224}, \"85377\": {\"frequency\": 2, \"value\": 85377}, \"11651\": {\"frequency\": 2, \"value\": 11651}, \"11652\": {\"frequency\": 3, \"value\": 11652}, \"28037\": {\"frequency\": 1, \"value\": 28037}, \"5298\": {\"frequency\": 3, \"value\": 5298}, \"28040\": {\"frequency\": 1, \"value\": 28040}, \"19850\": {\"frequency\": 3, \"value\": 19850}, \"3469\": {\"frequency\": 1, \"value\": 3469}, \"11662\": {\"frequency\": 2, \"value\": 11662}, \"44431\": {\"frequency\": 7, \"value\": 44431}, \"3475\": {\"frequency\": 3, \"value\": 3475}, \"28052\": {\"frequency\": 1, \"value\": 28052}, \"9663\": {\"frequency\": 2, \"value\": 9663}, \"3478\": {\"frequency\": 4, \"value\": 3478}, \"3480\": {\"frequency\": 4, \"value\": 3480}, \"19865\": {\"frequency\": 2, \"value\": 19865}, \"11675\": {\"frequency\": 2, \"value\": 11675}, \"3497\": {\"frequency\": 2, \"value\": 3497}, \"11690\": {\"frequency\": 2, \"value\": 11690}, \"3500\": {\"frequency\": 18, \"value\": 3500}, \"216493\": {\"frequency\": 2, \"value\": 216493}, \"3503\": {\"frequency\": 2, \"value\": 3503}, \"3504\": {\"frequency\": 2, \"value\": 3504}, \"4680\": {\"frequency\": 5, \"value\": 4680}, \"3507\": {\"frequency\": 2, \"value\": 3507}, \"11700\": {\"frequency\": 9, \"value\": 11700}, \"13444\": {\"frequency\": 2, \"value\": 13444}, \"3515\": {\"frequency\": 2, \"value\": 3515}, \"19901\": {\"frequency\": 1, \"value\": 19901}, \"3520\": {\"frequency\": 6, \"value\": 3520}, \"4683\": {\"frequency\": 2, \"value\": 4683}, \"11725\": {\"frequency\": 1, \"value\": 11725}, \"11727\": {\"frequency\": 2, \"value\": 11727}, \"3538\": {\"frequency\": 1, \"value\": 3538}, \"142803\": {\"frequency\": 1, \"value\": 142803}, \"3540\": {\"frequency\": 2, \"value\": 3540}, \"11740\": {\"frequency\": 2, \"value\": 11740}, \"11745\": {\"frequency\": 3, \"value\": 11745}, \"52707\": {\"frequency\": 2, \"value\": 52707}, \"11750\": {\"frequency\": 3, \"value\": 11750}, \"3560\": {\"frequency\": 3, \"value\": 3560}, \"3561\": {\"frequency\": 2, \"value\": 3561}, \"3562\": {\"frequency\": 1, \"value\": 3562}, \"11757\": {\"frequency\": 1, \"value\": 11757}, \"11761\": {\"frequency\": 2, \"value\": 11761}, \"3570\": {\"frequency\": 5, \"value\": 3570}, \"11765\": {\"frequency\": 2, \"value\": 11765}, \"19965\": {\"frequency\": 2, \"value\": 19965}, \"3582\": {\"frequency\": 4, \"value\": 3582}, \"11775\": {\"frequency\": 2, \"value\": 11775}, \"3584\": {\"frequency\": 2, \"value\": 3584}, \"11520\": {\"frequency\": 4, \"value\": 11520}, \"3588\": {\"frequency\": 3, \"value\": 3588}, \"11783\": {\"frequency\": 1, \"value\": 11783}, \"11788\": {\"frequency\": 1, \"value\": 11788}, \"183823\": {\"frequency\": 1, \"value\": 183823}, \"3600\": {\"frequency\": 103, \"value\": 3600}, \"11793\": {\"frequency\": 2, \"value\": 11793}, \"11795\": {\"frequency\": 2, \"value\": 11795}, \"3604\": {\"frequency\": 2, \"value\": 3604}, \"19991\": {\"frequency\": 2, \"value\": 19991}, \"3608\": {\"frequency\": 3, \"value\": 3608}, \"28185\": {\"frequency\": 2, \"value\": 28185}, \"3610\": {\"frequency\": 3, \"value\": 3610}, \"3615\": {\"frequency\": 2, \"value\": 3615}, \"20000\": {\"frequency\": 12, \"value\": 20000}, \"10160\": {\"frequency\": 7, \"value\": 10160}, \"3622\": {\"frequency\": 2, \"value\": 3622}, \"3624\": {\"frequency\": 2, \"value\": 3624}, \"8304\": {\"frequency\": 2, \"value\": 8304}, \"101930\": {\"frequency\": 3, \"value\": 101930}, \"3630\": {\"frequency\": 2, \"value\": 3630}, \"3632\": {\"frequency\": 1, \"value\": 3632}, \"3640\": {\"frequency\": 4, \"value\": 3640}, \"11835\": {\"frequency\": 2, \"value\": 11835}, \"7434\": {\"frequency\": 5, \"value\": 7434}, \"11843\": {\"frequency\": 2, \"value\": 11843}, \"20040\": {\"frequency\": 2, \"value\": 20040}, \"216332\": {\"frequency\": 1, \"value\": 216332}, \"3658\": {\"frequency\": 1, \"value\": 3658}, \"940\": {\"frequency\": 2, \"value\": 940}, \"11856\": {\"frequency\": 2, \"value\": 11856}, \"18360\": {\"frequency\": 3, \"value\": 18360}, \"3667\": {\"frequency\": 2, \"value\": 3667}, \"3672\": {\"frequency\": 4, \"value\": 3672}, \"11867\": {\"frequency\": 1, \"value\": 11867}, \"18362\": {\"frequency\": 2, \"value\": 18362}, \"11870\": {\"frequency\": 1, \"value\": 11870}, \"3680\": {\"frequency\": 9, \"value\": 3680}, \"11875\": {\"frequency\": 4, \"value\": 11875}, \"11877\": {\"frequency\": 2, \"value\": 11877}, \"11880\": {\"frequency\": 6, \"value\": 11880}, \"7215\": {\"frequency\": 5, \"value\": 7215}, \"3690\": {\"frequency\": 3, \"value\": 3690}, \"11884\": {\"frequency\": 3, \"value\": 11884}, \"3700\": {\"frequency\": 6, \"value\": 3700}, \"11894\": {\"frequency\": 2, \"value\": 11894}, \"87120\": {\"frequency\": 3, \"value\": 87120}, \"11900\": {\"frequency\": 13, \"value\": 11900}, \"3710\": {\"frequency\": 2, \"value\": 3710}, \"10176\": {\"frequency\": 2, \"value\": 10176}, \"17003\": {\"frequency\": 2, \"value\": 17003}, \"20100\": {\"frequency\": 3, \"value\": 20100}, \"3350\": {\"frequency\": 3, \"value\": 3350}, \"942\": {\"frequency\": 3, \"value\": 942}, \"3720\": {\"frequency\": 6, \"value\": 3720}, \"3721\": {\"frequency\": 3, \"value\": 3721}, \"11914\": {\"frequency\": 3, \"value\": 11914}, \"7447\": {\"frequency\": 3, \"value\": 7447}, \"28300\": {\"frequency\": 2, \"value\": 28300}, \"7489\": {\"frequency\": 2, \"value\": 7489}, \"11920\": {\"frequency\": 2, \"value\": 11920}, \"3729\": {\"frequency\": 2, \"value\": 3729}, \"3730\": {\"frequency\": 3, \"value\": 3730}, \"11925\": {\"frequency\": 2, \"value\": 11925}, \"15400\": {\"frequency\": 3, \"value\": 15400}, \"11928\": {\"frequency\": 1, \"value\": 11928}, \"52889\": {\"frequency\": 2, \"value\": 52889}, \"3738\": {\"frequency\": 2, \"value\": 3738}, \"3740\": {\"frequency\": 3, \"value\": 3740}, \"11935\": {\"frequency\": 2, \"value\": 11935}, \"306848\": {\"frequency\": 1, \"value\": 306848}, \"11937\": {\"frequency\": 1, \"value\": 11937}, \"9672\": {\"frequency\": 4, \"value\": 9672}, \"3750\": {\"frequency\": 24, \"value\": 3750}, \"3752\": {\"frequency\": 1, \"value\": 3752}, \"11946\": {\"frequency\": 1, \"value\": 11946}, \"10183\": {\"frequency\": 5, \"value\": 10183}, \"3757\": {\"frequency\": 4, \"value\": 3757}, \"11951\": {\"frequency\": 1, \"value\": 11951}, \"3760\": {\"frequency\": 7, \"value\": 3760}, \"3764\": {\"frequency\": 2, \"value\": 3764}, \"20150\": {\"frequency\": 2, \"value\": 20150}, \"11960\": {\"frequency\": 2, \"value\": 11960}, \"7881\": {\"frequency\": 2, \"value\": 7881}, \"20158\": {\"frequency\": 1, \"value\": 20158}, \"3777\": {\"frequency\": 2, \"value\": 3777}, \"11970\": {\"frequency\": 3, \"value\": 11970}, \"3780\": {\"frequency\": 4, \"value\": 3780}, \"6127\": {\"frequency\": 2, \"value\": 6127}, \"3784\": {\"frequency\": 4, \"value\": 3784}, \"216777\": {\"frequency\": 1, \"value\": 216777}, \"11985\": {\"frequency\": 3, \"value\": 11985}, \"3795\": {\"frequency\": 2, \"value\": 3795}, \"3800\": {\"frequency\": 28, \"value\": 3800}, \"52953\": {\"frequency\": 1, \"value\": 52953}, \"11995\": {\"frequency\": 2, \"value\": 11995}, \"11997\": {\"frequency\": 2, \"value\": 11997}, \"12000\": {\"frequency\": 42, \"value\": 12000}, \"3809\": {\"frequency\": 1, \"value\": 3809}, \"3810\": {\"frequency\": 2, \"value\": 3810}, \"12005\": {\"frequency\": 2, \"value\": 12005}, \"36583\": {\"frequency\": 1, \"value\": 36583}, \"8536\": {\"frequency\": 5, \"value\": 8536}, \"15246\": {\"frequency\": 5, \"value\": 15246}, \"3821\": {\"frequency\": 2, \"value\": 3821}, \"3825\": {\"frequency\": 18, \"value\": 3825}, \"3827\": {\"frequency\": 2, \"value\": 3827}, \"28405\": {\"frequency\": 1, \"value\": 28405}, \"3832\": {\"frequency\": 1, \"value\": 3832}, \"12028\": {\"frequency\": 2, \"value\": 12028}, \"3838\": {\"frequency\": 2, \"value\": 3838}, \"3839\": {\"frequency\": 2, \"value\": 3839}, \"12032\": {\"frequency\": 2, \"value\": 12032}, \"3841\": {\"frequency\": 1, \"value\": 3841}, \"3844\": {\"frequency\": 11, \"value\": 3844}, \"20041\": {\"frequency\": 1, \"value\": 20041}, \"12039\": {\"frequency\": 2, \"value\": 12039}, \"12040\": {\"frequency\": 2, \"value\": 12040}, \"3850\": {\"frequency\": 7, \"value\": 3850}, \"3855\": {\"frequency\": 2, \"value\": 3855}, \"3864\": {\"frequency\": 3, \"value\": 3864}, \"3865\": {\"frequency\": 2, \"value\": 3865}, \"20251\": {\"frequency\": 2, \"value\": 20251}, \"3868\": {\"frequency\": 3, \"value\": 3868}, \"3870\": {\"frequency\": 4, \"value\": 3870}, \"12063\": {\"frequency\": 2, \"value\": 12063}, \"3873\": {\"frequency\": 3, \"value\": 3873}, \"3874\": {\"frequency\": 1, \"value\": 3874}, \"12067\": {\"frequency\": 1, \"value\": 12067}, \"3876\": {\"frequency\": 6, \"value\": 3876}, \"12070\": {\"frequency\": 3, \"value\": 12070}, \"69415\": {\"frequency\": 1, \"value\": 69415}, \"3880\": {\"frequency\": 21, \"value\": 3880}, \"3881\": {\"frequency\": 1, \"value\": 3881}, \"1493\": {\"frequency\": 3, \"value\": 1493}, \"12075\": {\"frequency\": 2, \"value\": 12075}, \"3885\": {\"frequency\": 2, \"value\": 3885}, \"12080\": {\"frequency\": 3, \"value\": 12080}, \"85813\": {\"frequency\": 1, \"value\": 85813}, \"7476\": {\"frequency\": 2, \"value\": 7476}, \"12090\": {\"frequency\": 2, \"value\": 12090}, \"3899\": {\"frequency\": 3, \"value\": 3899}, \"3900\": {\"frequency\": 14, \"value\": 3900}, \"12094\": {\"frequency\": 2, \"value\": 12094}, \"12095\": {\"frequency\": 1, \"value\": 12095}, \"3904\": {\"frequency\": 1, \"value\": 3904}, \"3905\": {\"frequency\": 2, \"value\": 3905}, \"44866\": {\"frequency\": 4, \"value\": 44866}, \"44867\": {\"frequency\": 1, \"value\": 44867}, \"12100\": {\"frequency\": 6, \"value\": 12100}, \"12103\": {\"frequency\": 2, \"value\": 12103}, \"20296\": {\"frequency\": 1, \"value\": 20296}, \"7479\": {\"frequency\": 2, \"value\": 7479}, \"3916\": {\"frequency\": 3, \"value\": 3916}, \"3917\": {\"frequency\": 2, \"value\": 3917}, \"3920\": {\"frequency\": 4, \"value\": 3920}, \"257875\": {\"frequency\": 2, \"value\": 257875}, \"12120\": {\"frequency\": 1, \"value\": 12120}, \"2020\": {\"frequency\": 2, \"value\": 2020}, \"3930\": {\"frequency\": 2, \"value\": 3930}, \"3933\": {\"frequency\": 2, \"value\": 3933}, \"1222\": {\"frequency\": 3, \"value\": 1222}, \"3938\": {\"frequency\": 2, \"value\": 3938}, \"3943\": {\"frequency\": 2, \"value\": 3943}, \"12138\": {\"frequency\": 1, \"value\": 12138}, \"12142\": {\"frequency\": 2, \"value\": 12142}, \"7485\": {\"frequency\": 2, \"value\": 7485}, \"3952\": {\"frequency\": 2, \"value\": 3952}, \"12145\": {\"frequency\": 2, \"value\": 12145}, \"7486\": {\"frequency\": 2, \"value\": 7486}, \"12150\": {\"frequency\": 4, \"value\": 12150}, \"3959\": {\"frequency\": 2, \"value\": 3959}, \"3960\": {\"frequency\": 13, \"value\": 3960}, \"3962\": {\"frequency\": 2, \"value\": 3962}, \"12155\": {\"frequency\": 3, \"value\": 12155}, \"107157\": {\"frequency\": 4, \"value\": 107157}, \"12160\": {\"frequency\": 3, \"value\": 12160}, \"12164\": {\"frequency\": 2, \"value\": 12164}, \"3974\": {\"frequency\": 2, \"value\": 3974}, \"3975\": {\"frequency\": 2, \"value\": 3975}, \"3976\": {\"frequency\": 2, \"value\": 3976}, \"3978\": {\"frequency\": 2, \"value\": 3978}, \"3980\": {\"frequency\": 6, \"value\": 3980}, \"3984\": {\"frequency\": 2, \"value\": 3984}, \"3986\": {\"frequency\": 2, \"value\": 3986}, \"28563\": {\"frequency\": 1, \"value\": 28563}, \"6126\": {\"frequency\": 1, \"value\": 6126}, \"3990\": {\"frequency\": 5, \"value\": 3990}, \"53143\": {\"frequency\": 3, \"value\": 53143}, \"10223\": {\"frequency\": 2, \"value\": 10223}, \"3996\": {\"frequency\": 2, \"value\": 3996}, \"3999\": {\"frequency\": 1, \"value\": 3999}, \"4000\": {\"frequency\": 251, \"value\": 4000}, \"4002\": {\"frequency\": 2, \"value\": 4002}, \"4003\": {\"frequency\": 2, \"value\": 4003}, \"12196\": {\"frequency\": 8, \"value\": 12196}, \"4005\": {\"frequency\": 3, \"value\": 4005}, \"4006\": {\"frequency\": 3, \"value\": 4006}, \"12199\": {\"frequency\": 1, \"value\": 12199}, \"12956\": {\"frequency\": 1, \"value\": 12956}, \"4010\": {\"frequency\": 2, \"value\": 4010}, \"4011\": {\"frequency\": 2, \"value\": 4011}, \"4013\": {\"frequency\": 3, \"value\": 4013}, \"8861\": {\"frequency\": 2, \"value\": 8861}, \"20400\": {\"frequency\": 2, \"value\": 20400}, \"24684\": {\"frequency\": 2, \"value\": 24684}, \"6131\": {\"frequency\": 1, \"value\": 6131}, \"4020\": {\"frequency\": 3, \"value\": 4020}, \"217014\": {\"frequency\": 1, \"value\": 217014}, \"28600\": {\"frequency\": 2, \"value\": 28600}, \"4025\": {\"frequency\": 6, \"value\": 4025}, \"20412\": {\"frequency\": 2, \"value\": 20412}, \"4030\": {\"frequency\": 2, \"value\": 4030}, \"4031\": {\"frequency\": 2, \"value\": 4031}, \"4038\": {\"frequency\": 2, \"value\": 4038}, \"12231\": {\"frequency\": 4, \"value\": 12231}, \"4040\": {\"frequency\": 5, \"value\": 4040}, \"12236\": {\"frequency\": 2, \"value\": 12236}, \"4045\": {\"frequency\": 2, \"value\": 4045}, \"4046\": {\"frequency\": 6, \"value\": 4046}, \"12240\": {\"frequency\": 3, \"value\": 12240}, \"4049\": {\"frequency\": 1, \"value\": 4049}, \"4050\": {\"frequency\": 11, \"value\": 4050}, \"12243\": {\"frequency\": 1, \"value\": 12243}, \"4052\": {\"frequency\": 2, \"value\": 4052}, \"4054\": {\"frequency\": 3, \"value\": 4054}, \"12250\": {\"frequency\": 3, \"value\": 12250}, \"4059\": {\"frequency\": 1, \"value\": 4059}, \"12252\": {\"frequency\": 2, \"value\": 12252}, \"20445\": {\"frequency\": 2, \"value\": 20445}, \"102366\": {\"frequency\": 3, \"value\": 102366}, \"36831\": {\"frequency\": 1, \"value\": 36831}, \"11592\": {\"frequency\": 1, \"value\": 11592}, \"11600\": {\"frequency\": 5, \"value\": 11600}, \"61419\": {\"frequency\": 5, \"value\": 61419}, \"4076\": {\"frequency\": 2, \"value\": 4076}, \"4077\": {\"frequency\": 2, \"value\": 4077}, \"315374\": {\"frequency\": 1, \"value\": 315374}, \"36847\": {\"frequency\": 1, \"value\": 36847}, \"4080\": {\"frequency\": 67, \"value\": 4080}, \"4082\": {\"frequency\": 2, \"value\": 4082}, \"4084\": {\"frequency\": 2, \"value\": 4084}, \"4086\": {\"frequency\": 2, \"value\": 4086}, \"4088\": {\"frequency\": 2, \"value\": 4088}, \"4089\": {\"frequency\": 2, \"value\": 4089}, \"12282\": {\"frequency\": 3, \"value\": 12282}, \"12285\": {\"frequency\": 2, \"value\": 12285}, \"4094\": {\"frequency\": 2, \"value\": 4094}, \"4095\": {\"frequency\": 3, \"value\": 4095}, \"4096\": {\"frequency\": 2, \"value\": 4096}, \"53250\": {\"frequency\": 1, \"value\": 53250}, \"4100\": {\"frequency\": 4, \"value\": 4100}, \"4102\": {\"frequency\": 3, \"value\": 4102}, \"4104\": {\"frequency\": 4, \"value\": 4104}, \"4106\": {\"frequency\": 2, \"value\": 4106}, \"4108\": {\"frequency\": 3, \"value\": 4108}, \"12305\": {\"frequency\": 2, \"value\": 12305}, \"4120\": {\"frequency\": 21, \"value\": 4120}, \"4125\": {\"frequency\": 7, \"value\": 4125}, \"28703\": {\"frequency\": 2, \"value\": 28703}, \"12320\": {\"frequency\": 2, \"value\": 12320}, \"36900\": {\"frequency\": 2, \"value\": 36900}, \"6150\": {\"frequency\": 13, \"value\": 6150}, \"12327\": {\"frequency\": 2, \"value\": 12327}, \"4136\": {\"frequency\": 2, \"value\": 4136}, \"11612\": {\"frequency\": 2, \"value\": 11612}, \"4139\": {\"frequency\": 1, \"value\": 4139}, \"4140\": {\"frequency\": 4, \"value\": 4140}, \"28717\": {\"frequency\": 1, \"value\": 28717}, \"8867\": {\"frequency\": 3, \"value\": 8867}, \"12342\": {\"frequency\": 1, \"value\": 12342}, \"4153\": {\"frequency\": 2, \"value\": 4153}, \"12349\": {\"frequency\": 2, \"value\": 12349}, \"12350\": {\"frequency\": 7, \"value\": 12350}, \"4160\": {\"frequency\": 10, \"value\": 4160}, \"4163\": {\"frequency\": 2, \"value\": 4163}, \"4165\": {\"frequency\": 2, \"value\": 4165}, \"4166\": {\"frequency\": 2, \"value\": 4166}, \"4171\": {\"frequency\": 2, \"value\": 4171}, \"28750\": {\"frequency\": 2, \"value\": 28750}, \"12368\": {\"frequency\": 2, \"value\": 12368}, \"4178\": {\"frequency\": 4, \"value\": 4178}, \"36947\": {\"frequency\": 1, \"value\": 36947}, \"4180\": {\"frequency\": 2, \"value\": 4180}, \"6158\": {\"frequency\": 1, \"value\": 6158}, \"4182\": {\"frequency\": 4, \"value\": 4182}, \"12375\": {\"frequency\": 2, \"value\": 12375}, \"12377\": {\"frequency\": 1, \"value\": 12377}, \"4187\": {\"frequency\": 2, \"value\": 4187}, \"94300\": {\"frequency\": 1, \"value\": 94300}, \"4189\": {\"frequency\": 1, \"value\": 4189}, \"4190\": {\"frequency\": 2, \"value\": 4190}, \"4191\": {\"frequency\": 2, \"value\": 4191}, \"12384\": {\"frequency\": 3, \"value\": 12384}, \"6160\": {\"frequency\": 4, \"value\": 6160}, \"4200\": {\"frequency\": 49, \"value\": 4200}, \"4203\": {\"frequency\": 4, \"value\": 4203}, \"18450\": {\"frequency\": 2, \"value\": 18450}, \"4206\": {\"frequency\": 3, \"value\": 4206}, \"12688\": {\"frequency\": 2, \"value\": 12688}, \"2067\": {\"frequency\": 1, \"value\": 2067}, \"3433\": {\"frequency\": 2, \"value\": 3433}, \"12408\": {\"frequency\": 3, \"value\": 12408}, \"4217\": {\"frequency\": 1, \"value\": 4217}, \"4218\": {\"frequency\": 3, \"value\": 4218}, \"4220\": {\"frequency\": 4, \"value\": 4220}, \"4222\": {\"frequency\": 1, \"value\": 4222}, \"12415\": {\"frequency\": 2, \"value\": 12415}, \"4225\": {\"frequency\": 3, \"value\": 4225}, \"4226\": {\"frequency\": 2, \"value\": 4226}, \"4228\": {\"frequency\": 3, \"value\": 4228}, \"8897\": {\"frequency\": 2, \"value\": 8897}, \"37000\": {\"frequency\": 1, \"value\": 37000}, \"4234\": {\"frequency\": 2, \"value\": 4234}, \"12429\": {\"frequency\": 2, \"value\": 12429}, \"12430\": {\"frequency\": 2, \"value\": 12430}, \"7533\": {\"frequency\": 2, \"value\": 7533}, \"53392\": {\"frequency\": 1, \"value\": 53392}, \"77972\": {\"frequency\": 3, \"value\": 77972}, \"4247\": {\"frequency\": 2, \"value\": 4247}, \"4250\": {\"frequency\": 7, \"value\": 4250}, \"12443\": {\"frequency\": 2, \"value\": 12443}, \"4252\": {\"frequency\": 2, \"value\": 4252}, \"7175\": {\"frequency\": 2, \"value\": 7175}, \"4260\": {\"frequency\": 1, \"value\": 4260}, \"4264\": {\"frequency\": 2, \"value\": 4264}, \"37034\": {\"frequency\": 2, \"value\": 37034}, \"711\": {\"frequency\": 2, \"value\": 711}, \"4268\": {\"frequency\": 5, \"value\": 4268}, \"4270\": {\"frequency\": 3, \"value\": 4270}, \"4271\": {\"frequency\": 2, \"value\": 4271}, \"13000\": {\"frequency\": 15, \"value\": 13000}, \"4275\": {\"frequency\": 4, \"value\": 4275}, \"4280\": {\"frequency\": 4, \"value\": 4280}, \"12473\": {\"frequency\": 1, \"value\": 12473}, \"4284\": {\"frequency\": 5, \"value\": 4284}, \"4286\": {\"frequency\": 2, \"value\": 4286}, \"209088\": {\"frequency\": 2, \"value\": 209088}, \"37058\": {\"frequency\": 1, \"value\": 37058}, \"1234\": {\"frequency\": 2, \"value\": 1234}, \"4297\": {\"frequency\": 2, \"value\": 4297}, \"69834\": {\"frequency\": 1, \"value\": 69834}, \"4299\": {\"frequency\": 1, \"value\": 4299}, \"4300\": {\"frequency\": 8, \"value\": 4300}, \"20685\": {\"frequency\": 1, \"value\": 20685}, \"4305\": {\"frequency\": 2, \"value\": 4305}, \"4307\": {\"frequency\": 2, \"value\": 4307}, \"12500\": {\"frequency\": 22, \"value\": 12500}, \"4310\": {\"frequency\": 3, \"value\": 4310}, \"20700\": {\"frequency\": 3, \"value\": 20700}, \"4320\": {\"frequency\": 11, \"value\": 4320}, \"4322\": {\"frequency\": 4, \"value\": 4322}, \"12519\": {\"frequency\": 2, \"value\": 12519}, \"12522\": {\"frequency\": 2, \"value\": 12522}, \"12523\": {\"frequency\": 2, \"value\": 12523}, \"4332\": {\"frequency\": 4, \"value\": 4332}, \"4333\": {\"frequency\": 2, \"value\": 4333}, \"4334\": {\"frequency\": 2, \"value\": 4334}, \"12527\": {\"frequency\": 2, \"value\": 12527}, \"12528\": {\"frequency\": 3, \"value\": 12528}, \"4337\": {\"frequency\": 3, \"value\": 4337}, \"4338\": {\"frequency\": 3, \"value\": 4338}, \"4342\": {\"frequency\": 1, \"value\": 4342}, \"4343\": {\"frequency\": 1, \"value\": 4343}, \"12540\": {\"frequency\": 3, \"value\": 12540}, \"4350\": {\"frequency\": 7, \"value\": 4350}, \"15744\": {\"frequency\": 1, \"value\": 15744}, \"65340\": {\"frequency\": 6, \"value\": 65340}, \"4360\": {\"frequency\": 3, \"value\": 4360}, \"12555\": {\"frequency\": 1, \"value\": 12555}, \"12558\": {\"frequency\": 3, \"value\": 12558}, \"4368\": {\"frequency\": 3, \"value\": 4368}, \"4370\": {\"frequency\": 2, \"value\": 4370}, \"12566\": {\"frequency\": 2, \"value\": 12566}, \"4375\": {\"frequency\": 2, \"value\": 4375}, \"4377\": {\"frequency\": 1, \"value\": 4377}, \"4380\": {\"frequency\": 1, \"value\": 4380}, \"12573\": {\"frequency\": 1, \"value\": 12573}, \"18480\": {\"frequency\": 2, \"value\": 18480}, \"4399\": {\"frequency\": 3, \"value\": 4399}, \"4400\": {\"frequency\": 56, \"value\": 4400}, \"37169\": {\"frequency\": 1, \"value\": 37169}, \"12600\": {\"frequency\": 8, \"value\": 12600}, \"10292\": {\"frequency\": 3, \"value\": 10292}, \"4410\": {\"frequency\": 2, \"value\": 4410}, \"4412\": {\"frequency\": 1, \"value\": 4412}, \"94525\": {\"frequency\": 4, \"value\": 94525}, \"12607\": {\"frequency\": 1, \"value\": 12607}, \"4418\": {\"frequency\": 2, \"value\": 4418}, \"12611\": {\"frequency\": 1, \"value\": 12611}, \"4420\": {\"frequency\": 2, \"value\": 4420}, \"20805\": {\"frequency\": 1, \"value\": 20805}, \"12616\": {\"frequency\": 2, \"value\": 12616}, \"4425\": {\"frequency\": 2, \"value\": 4425}, \"4426\": {\"frequency\": 1, \"value\": 4426}, \"4429\": {\"frequency\": 2, \"value\": 4429}, \"12625\": {\"frequency\": 2, \"value\": 12625}, \"12626\": {\"frequency\": 2, \"value\": 12626}, \"4438\": {\"frequency\": 2, \"value\": 4438}, \"4440\": {\"frequency\": 8, \"value\": 4440}, \"4441\": {\"frequency\": 2, \"value\": 4441}, \"4443\": {\"frequency\": 2, \"value\": 4443}, \"4445\": {\"frequency\": 2, \"value\": 4445}, \"4447\": {\"frequency\": 2, \"value\": 4447}, \"4450\": {\"frequency\": 2, \"value\": 4450}, \"4452\": {\"frequency\": 2, \"value\": 4452}, \"4455\": {\"frequency\": 2, \"value\": 4455}, \"12650\": {\"frequency\": 1, \"value\": 12650}, \"12632\": {\"frequency\": 2, \"value\": 12632}, \"12151\": {\"frequency\": 1, \"value\": 12151}, \"4468\": {\"frequency\": 2, \"value\": 4468}, \"206910\": {\"frequency\": 2, \"value\": 206910}, \"8937\": {\"frequency\": 2, \"value\": 8937}, \"4473\": {\"frequency\": 4, \"value\": 4473}, \"8938\": {\"frequency\": 2, \"value\": 8938}, \"7573\": {\"frequency\": 3, \"value\": 7573}, \"4480\": {\"frequency\": 9, \"value\": 4480}, \"4482\": {\"frequency\": 2, \"value\": 4482}, \"12675\": {\"frequency\": 2, \"value\": 12675}, \"12676\": {\"frequency\": 1, \"value\": 12676}, \"36246\": {\"frequency\": 1, \"value\": 36246}, \"4488\": {\"frequency\": 3, \"value\": 4488}, \"20873\": {\"frequency\": 1, \"value\": 20873}, \"12682\": {\"frequency\": 2, \"value\": 12682}, \"20875\": {\"frequency\": 2, \"value\": 20875}, \"2114\": {\"frequency\": 2, \"value\": 2114}, \"4494\": {\"frequency\": 1, \"value\": 4494}, \"4495\": {\"frequency\": 4, \"value\": 4495}, \"4496\": {\"frequency\": 2, \"value\": 4496}, \"4497\": {\"frequency\": 2, \"value\": 4497}, \"12690\": {\"frequency\": 3, \"value\": 12690}, \"4499\": {\"frequency\": 4, \"value\": 4499}, \"4500\": {\"frequency\": 114, \"value\": 4500}, \"29078\": {\"frequency\": 1, \"value\": 29078}, \"12696\": {\"frequency\": 2, \"value\": 12696}, \"4505\": {\"frequency\": 3, \"value\": 4505}, \"4506\": {\"frequency\": 2, \"value\": 4506}, \"12700\": {\"frequency\": 2, \"value\": 12700}, \"4510\": {\"frequency\": 2, \"value\": 4510}, \"4512\": {\"frequency\": 2, \"value\": 4512}, \"12705\": {\"frequency\": 2, \"value\": 12705}, \"4515\": {\"frequency\": 2, \"value\": 4515}, \"6214\": {\"frequency\": 2, \"value\": 6214}, \"4520\": {\"frequency\": 3, \"value\": 4520}, \"12714\": {\"frequency\": 2, \"value\": 12714}, \"4524\": {\"frequency\": 4, \"value\": 4524}, \"4532\": {\"frequency\": 1, \"value\": 4532}, \"20917\": {\"frequency\": 1, \"value\": 20917}, \"4534\": {\"frequency\": 6, \"value\": 4534}, \"12728\": {\"frequency\": 1, \"value\": 12728}, \"4539\": {\"frequency\": 3, \"value\": 4539}, \"4541\": {\"frequency\": 2, \"value\": 4541}, \"4548\": {\"frequency\": 2, \"value\": 4548}, \"4549\": {\"frequency\": 2, \"value\": 4549}, \"4550\": {\"frequency\": 3, \"value\": 4550}, \"4551\": {\"frequency\": 2, \"value\": 4551}, \"4553\": {\"frequency\": 2, \"value\": 4553}, \"4555\": {\"frequency\": 2, \"value\": 4555}, \"4556\": {\"frequency\": 1, \"value\": 4556}, \"45517\": {\"frequency\": 1, \"value\": 45517}, \"12750\": {\"frequency\": 10, \"value\": 12750}, \"4560\": {\"frequency\": 15, \"value\": 4560}, \"12753\": {\"frequency\": 3, \"value\": 12753}, \"20946\": {\"frequency\": 1, \"value\": 20946}, \"4564\": {\"frequency\": 2, \"value\": 4564}, \"4565\": {\"frequency\": 1, \"value\": 4565}, \"2128\": {\"frequency\": 2, \"value\": 2128}, \"4244\": {\"frequency\": 3, \"value\": 4244}, \"111078\": {\"frequency\": 2, \"value\": 111078}, \"12775\": {\"frequency\": 1, \"value\": 12775}, \"4584\": {\"frequency\": 2, \"value\": 4584}, \"4587\": {\"frequency\": 2, \"value\": 4587}, \"4590\": {\"frequency\": 17, \"value\": 4590}, \"4592\": {\"frequency\": 4, \"value\": 4592}, \"20978\": {\"frequency\": 1, \"value\": 20978}, \"70131\": {\"frequency\": 2, \"value\": 70131}, \"4596\": {\"frequency\": 2, \"value\": 4596}, \"4597\": {\"frequency\": 1, \"value\": 4597}, \"4600\": {\"frequency\": 34, \"value\": 4600}, \"12793\": {\"frequency\": 3, \"value\": 12793}, \"4602\": {\"frequency\": 3, \"value\": 4602}, \"74495\": {\"frequency\": 1, \"value\": 74495}, \"4606\": {\"frequency\": 2, \"value\": 4606}, \"8064\": {\"frequency\": 5, \"value\": 8064}, \"4611\": {\"frequency\": 2, \"value\": 4611}, \"8961\": {\"frequency\": 1, \"value\": 8961}, \"21000\": {\"frequency\": 6, \"value\": 21000}, \"4620\": {\"frequency\": 2, \"value\": 4620}, \"4621\": {\"frequency\": 1, \"value\": 4621}, \"4625\": {\"frequency\": 2, \"value\": 4625}, \"4627\": {\"frequency\": 2, \"value\": 4627}, \"12821\": {\"frequency\": 3, \"value\": 12821}, \"4630\": {\"frequency\": 1, \"value\": 4630}, \"12823\": {\"frequency\": 2, \"value\": 12823}, \"12824\": {\"frequency\": 1, \"value\": 12824}, \"12825\": {\"frequency\": 5, \"value\": 12825}, \"4635\": {\"frequency\": 10, \"value\": 4635}, \"4636\": {\"frequency\": 3, \"value\": 4636}, \"4637\": {\"frequency\": 2, \"value\": 4637}, \"4640\": {\"frequency\": 5, \"value\": 4640}, \"8338\": {\"frequency\": 2, \"value\": 8338}, \"7601\": {\"frequency\": 3, \"value\": 7601}, \"4648\": {\"frequency\": 2, \"value\": 4648}, \"4650\": {\"frequency\": 10, \"value\": 4650}, \"12843\": {\"frequency\": 1, \"value\": 12843}, \"4652\": {\"frequency\": 2, \"value\": 4652}, \"4653\": {\"frequency\": 1, \"value\": 4653}, \"18525\": {\"frequency\": 2, \"value\": 18525}, \"12850\": {\"frequency\": 1, \"value\": 12850}, \"21043\": {\"frequency\": 2, \"value\": 21043}, \"4662\": {\"frequency\": 1, \"value\": 4662}, \"36276\": {\"frequency\": 1, \"value\": 36276}, \"29242\": {\"frequency\": 1, \"value\": 29242}, \"4667\": {\"frequency\": 4, \"value\": 4667}, \"4668\": {\"frequency\": 2, \"value\": 4668}, \"12866\": {\"frequency\": 2, \"value\": 12866}, \"779\": {\"frequency\": 2, \"value\": 779}, \"4676\": {\"frequency\": 1, \"value\": 4676}, \"7606\": {\"frequency\": 2, \"value\": 7606}, \"12870\": {\"frequency\": 2, \"value\": 12870}, \"78408\": {\"frequency\": 5, \"value\": 78408}, \"13068\": {\"frequency\": 7, \"value\": 13068}, \"143947\": {\"frequency\": 1, \"value\": 143947}, \"4684\": {\"frequency\": 2, \"value\": 4684}, \"4688\": {\"frequency\": 2, \"value\": 4688}, \"4690\": {\"frequency\": 2, \"value\": 4690}, \"4692\": {\"frequency\": 2, \"value\": 4692}, \"37461\": {\"frequency\": 1, \"value\": 37461}, \"4694\": {\"frequency\": 3, \"value\": 4694}, \"4697\": {\"frequency\": 2, \"value\": 4697}, \"4698\": {\"frequency\": 3, \"value\": 4698}, \"4700\": {\"frequency\": 13, \"value\": 4700}, \"4704\": {\"frequency\": 2, \"value\": 4704}, \"8976\": {\"frequency\": 4, \"value\": 8976}, \"12899\": {\"frequency\": 2, \"value\": 12899}, \"4708\": {\"frequency\": 2, \"value\": 4708}, \"1248\": {\"frequency\": 3, \"value\": 1248}, \"3517\": {\"frequency\": 2, \"value\": 3517}, \"4720\": {\"frequency\": 6, \"value\": 4720}, \"4721\": {\"frequency\": 1, \"value\": 4721}, \"209523\": {\"frequency\": 4, \"value\": 209523}, \"4725\": {\"frequency\": 10, \"value\": 4725}, \"12918\": {\"frequency\": 1, \"value\": 12918}, \"4729\": {\"frequency\": 2, \"value\": 4729}, \"4730\": {\"frequency\": 3, \"value\": 4730}, \"4736\": {\"frequency\": 3, \"value\": 4736}, \"7616\": {\"frequency\": 2, \"value\": 7616}, \"4740\": {\"frequency\": 2, \"value\": 4740}, \"4743\": {\"frequency\": 2, \"value\": 4743}, \"4745\": {\"frequency\": 2, \"value\": 4745}, \"53898\": {\"frequency\": 1, \"value\": 53898}, \"12940\": {\"frequency\": 1, \"value\": 12940}, \"4750\": {\"frequency\": 27, \"value\": 4750}, \"4751\": {\"frequency\": 3, \"value\": 4751}, \"37522\": {\"frequency\": 1, \"value\": 37522}, \"4755\": {\"frequency\": 3, \"value\": 4755}, \"12950\": {\"frequency\": 2, \"value\": 12950}, \"4760\": {\"frequency\": 10, \"value\": 4760}, \"4762\": {\"frequency\": 1, \"value\": 4762}, \"4764\": {\"frequency\": 1, \"value\": 4764}, \"37533\": {\"frequency\": 1, \"value\": 37533}, \"1651359\": {\"frequency\": 1, \"value\": 1651359}, \"12960\": {\"frequency\": 2, \"value\": 12960}, \"4770\": {\"frequency\": 4, \"value\": 4770}, \"4774\": {\"frequency\": 3, \"value\": 4774}, \"12968\": {\"frequency\": 2, \"value\": 12968}, \"4777\": {\"frequency\": 4, \"value\": 4777}, \"45738\": {\"frequency\": 10, \"value\": 45738}, \"4780\": {\"frequency\": 4, \"value\": 4780}, \"4781\": {\"frequency\": 2, \"value\": 4781}, \"4788\": {\"frequency\": 3, \"value\": 4788}, \"4789\": {\"frequency\": 1, \"value\": 4789}, \"705\": {\"frequency\": 2, \"value\": 705}, \"12987\": {\"frequency\": 3, \"value\": 12987}, \"4797\": {\"frequency\": 2, \"value\": 4797}, \"21183\": {\"frequency\": 2, \"value\": 21183}, \"4800\": {\"frequency\": 120, \"value\": 4800}, \"4802\": {\"frequency\": 2, \"value\": 4802}, \"4805\": {\"frequency\": 2, \"value\": 4805}, \"7015\": {\"frequency\": 4, \"value\": 7015}, \"217800\": {\"frequency\": 15, \"value\": 217800}, \"13002\": {\"frequency\": 2, \"value\": 13002}, \"8994\": {\"frequency\": 2, \"value\": 8994}, \"4814\": {\"frequency\": 2, \"value\": 4814}, \"4815\": {\"frequency\": 5, \"value\": 4815}, \"4818\": {\"frequency\": 2, \"value\": 4818}, \"205603\": {\"frequency\": 2, \"value\": 205603}, \"4822\": {\"frequency\": 1, \"value\": 4822}, \"4828\": {\"frequency\": 2, \"value\": 4828}, \"4830\": {\"frequency\": 1, \"value\": 4830}, \"4831\": {\"frequency\": 2, \"value\": 4831}, \"4836\": {\"frequency\": 2, \"value\": 4836}, \"13800\": {\"frequency\": 2, \"value\": 13800}, \"4838\": {\"frequency\": 6, \"value\": 4838}, \"13031\": {\"frequency\": 1, \"value\": 13031}, \"4840\": {\"frequency\": 10, \"value\": 4840}, \"4841\": {\"frequency\": 2, \"value\": 4841}, \"13095\": {\"frequency\": 2, \"value\": 13095}, \"11730\": {\"frequency\": 2, \"value\": 11730}, \"94960\": {\"frequency\": 2, \"value\": 94960}, \"905\": {\"frequency\": 3, \"value\": 905}, \"4850\": {\"frequency\": 7, \"value\": 4850}, \"21235\": {\"frequency\": 1, \"value\": 21235}, \"4859\": {\"frequency\": 2, \"value\": 4859}, \"4860\": {\"frequency\": 2, \"value\": 4860}, \"13054\": {\"frequency\": 2, \"value\": 13054}, \"3708\": {\"frequency\": 3, \"value\": 3708}, \"13058\": {\"frequency\": 1, \"value\": 13058}, \"13059\": {\"frequency\": 2, \"value\": 13059}, \"4871\": {\"frequency\": 2, \"value\": 4871}, \"4874\": {\"frequency\": 2, \"value\": 4874}, \"4875\": {\"frequency\": 10, \"value\": 4875}, \"4876\": {\"frequency\": 2, \"value\": 4876}, \"4879\": {\"frequency\": 1, \"value\": 4879}, \"4880\": {\"frequency\": 5, \"value\": 4880}, \"4887\": {\"frequency\": 2, \"value\": 4887}, \"4888\": {\"frequency\": 2, \"value\": 4888}, \"13529\": {\"frequency\": 2, \"value\": 13529}, \"13085\": {\"frequency\": 2, \"value\": 13085}, \"4895\": {\"frequency\": 2, \"value\": 4895}, \"4898\": {\"frequency\": 2, \"value\": 4898}, \"4900\": {\"frequency\": 8, \"value\": 4900}, \"4903\": {\"frequency\": 2, \"value\": 4903}, \"4904\": {\"frequency\": 2, \"value\": 4904}, \"4905\": {\"frequency\": 3, \"value\": 4905}, \"185130\": {\"frequency\": 2, \"value\": 185130}, \"13100\": {\"frequency\": 5, \"value\": 13100}, \"7645\": {\"frequency\": 2, \"value\": 7645}, \"4912\": {\"frequency\": 2, \"value\": 4912}, \"21300\": {\"frequency\": 1, \"value\": 21300}, \"21303\": {\"frequency\": 3, \"value\": 21303}, \"4920\": {\"frequency\": 12, \"value\": 4920}, \"13113\": {\"frequency\": 1, \"value\": 13113}, \"4923\": {\"frequency\": 2, \"value\": 4923}, \"4924\": {\"frequency\": 3, \"value\": 4924}, \"16258\": {\"frequency\": 2, \"value\": 16258}, \"21312\": {\"frequency\": 1, \"value\": 21312}, \"4930\": {\"frequency\": 3, \"value\": 4930}, \"13125\": {\"frequency\": 3, \"value\": 13125}, \"13129\": {\"frequency\": 2, \"value\": 13129}, \"4940\": {\"frequency\": 1, \"value\": 4940}, \"7650\": {\"frequency\": 23, \"value\": 7650}, \"4944\": {\"frequency\": 3, \"value\": 4944}, \"4945\": {\"frequency\": 5, \"value\": 4945}, \"62290\": {\"frequency\": 3, \"value\": 62290}, \"4947\": {\"frequency\": 3, \"value\": 4947}, \"4948\": {\"frequency\": 2, \"value\": 4948}, \"4949\": {\"frequency\": 2, \"value\": 4949}, \"4950\": {\"frequency\": 15, \"value\": 4950}, \"825\": {\"frequency\": 2, \"value\": 825}, \"4957\": {\"frequency\": 1, \"value\": 4957}, \"4959\": {\"frequency\": 2, \"value\": 4959}, \"4960\": {\"frequency\": 8, \"value\": 4960}, \"4961\": {\"frequency\": 3, \"value\": 4961}, \"4964\": {\"frequency\": 2, \"value\": 4964}, \"10385\": {\"frequency\": 1, \"value\": 10385}, \"4972\": {\"frequency\": 2, \"value\": 4972}, \"21357\": {\"frequency\": 1, \"value\": 21357}, \"4975\": {\"frequency\": 2, \"value\": 4975}, \"13168\": {\"frequency\": 2, \"value\": 13168}, \"4978\": {\"frequency\": 3, \"value\": 4978}, \"4980\": {\"frequency\": 6, \"value\": 4980}, \"4984\": {\"frequency\": 2, \"value\": 4984}, \"4988\": {\"frequency\": 1, \"value\": 4988}, \"4990\": {\"frequency\": 2, \"value\": 4990}, \"4992\": {\"frequency\": 2, \"value\": 4992}, \"4995\": {\"frequency\": 2, \"value\": 4995}, \"4997\": {\"frequency\": 3, \"value\": 4997}, \"5000\": {\"frequency\": 358, \"value\": 5000}, \"5001\": {\"frequency\": 15, \"value\": 5001}, \"5002\": {\"frequency\": 6, \"value\": 5002}, \"45963\": {\"frequency\": 1, \"value\": 45963}, \"5004\": {\"frequency\": 2, \"value\": 5004}, \"5005\": {\"frequency\": 3, \"value\": 5005}, \"5006\": {\"frequency\": 2, \"value\": 5006}, \"3565\": {\"frequency\": 2, \"value\": 3565}, \"13200\": {\"frequency\": 5, \"value\": 13200}, \"5009\": {\"frequency\": 2, \"value\": 5009}, \"13202\": {\"frequency\": 1, \"value\": 13202}, \"5012\": {\"frequency\": 3, \"value\": 5012}, \"5013\": {\"frequency\": 3, \"value\": 5013}, \"5015\": {\"frequency\": 4, \"value\": 5015}, \"3713\": {\"frequency\": 2, \"value\": 3713}, \"5017\": {\"frequency\": 1, \"value\": 5017}, \"13211\": {\"frequency\": 1, \"value\": 13211}, \"5022\": {\"frequency\": 1, \"value\": 5022}, \"103237\": {\"frequency\": 2, \"value\": 103237}, \"5024\": {\"frequency\": 3, \"value\": 5024}, \"5025\": {\"frequency\": 5, \"value\": 5025}, \"5026\": {\"frequency\": 4, \"value\": 5026}, \"5027\": {\"frequency\": 4, \"value\": 5027}, \"5028\": {\"frequency\": 1, \"value\": 5028}, \"5029\": {\"frequency\": 4, \"value\": 5029}, \"5030\": {\"frequency\": 3, \"value\": 5030}, \"70567\": {\"frequency\": 3, \"value\": 70567}, \"37800\": {\"frequency\": 2, \"value\": 37800}, \"37801\": {\"frequency\": 1, \"value\": 37801}, \"5034\": {\"frequency\": 2, \"value\": 5034}, \"5036\": {\"frequency\": 1, \"value\": 5036}, \"5038\": {\"frequency\": 3, \"value\": 5038}, \"5040\": {\"frequency\": 29, \"value\": 5040}, \"5043\": {\"frequency\": 5, \"value\": 5043}, \"5044\": {\"frequency\": 1, \"value\": 5044}, \"5048\": {\"frequency\": 2, \"value\": 5048}, \"13241\": {\"frequency\": 2, \"value\": 13241}, \"5050\": {\"frequency\": 9, \"value\": 5050}, \"5054\": {\"frequency\": 3, \"value\": 5054}, \"26784\": {\"frequency\": 1, \"value\": 26784}, \"5060\": {\"frequency\": 9, \"value\": 5060}, \"242629\": {\"frequency\": 1, \"value\": 242629}, \"5065\": {\"frequency\": 2, \"value\": 5065}, \"13260\": {\"frequency\": 4, \"value\": 13260}, \"5070\": {\"frequency\": 5, \"value\": 5070}, \"5071\": {\"frequency\": 3, \"value\": 5071}, \"5077\": {\"frequency\": 3, \"value\": 5077}, \"103382\": {\"frequency\": 1, \"value\": 103382}, \"5079\": {\"frequency\": 2, \"value\": 5079}, \"5080\": {\"frequency\": 17, \"value\": 5080}, \"5085\": {\"frequency\": 3, \"value\": 5085}, \"5086\": {\"frequency\": 2, \"value\": 5086}, \"5087\": {\"frequency\": 1, \"value\": 5087}, \"5088\": {\"frequency\": 2, \"value\": 5088}, \"5089\": {\"frequency\": 2, \"value\": 5089}, \"7617\": {\"frequency\": 3, \"value\": 7617}, \"108464\": {\"frequency\": 3, \"value\": 108464}, \"5096\": {\"frequency\": 3, \"value\": 5096}, \"5097\": {\"frequency\": 2, \"value\": 5097}, \"5100\": {\"frequency\": 78, \"value\": 5100}, \"5101\": {\"frequency\": 4, \"value\": 5101}, \"21486\": {\"frequency\": 1, \"value\": 21486}, \"13296\": {\"frequency\": 2, \"value\": 13296}, \"18600\": {\"frequency\": 3, \"value\": 18600}, \"5106\": {\"frequency\": 2, \"value\": 5106}, \"5107\": {\"frequency\": 2, \"value\": 5107}, \"13300\": {\"frequency\": 8, \"value\": 13300}, \"11774\": {\"frequency\": 2, \"value\": 11774}, \"5110\": {\"frequency\": 4, \"value\": 5110}, \"13303\": {\"frequency\": 1, \"value\": 13303}, \"5112\": {\"frequency\": 2, \"value\": 5112}, \"7808\": {\"frequency\": 2, \"value\": 7808}, \"78843\": {\"frequency\": 2, \"value\": 78843}, \"5116\": {\"frequency\": 1, \"value\": 5116}, \"5120\": {\"frequency\": 27, \"value\": 5120}, \"5125\": {\"frequency\": 4, \"value\": 5125}, \"52272\": {\"frequency\": 3, \"value\": 52272}, \"5128\": {\"frequency\": 2, \"value\": 5128}, \"21514\": {\"frequency\": 1, \"value\": 21514}, \"5131\": {\"frequency\": 2, \"value\": 5131}, \"5136\": {\"frequency\": 2, \"value\": 5136}, \"5137\": {\"frequency\": 2, \"value\": 5137}, \"5375\": {\"frequency\": 7, \"value\": 5375}, \"11780\": {\"frequency\": 3, \"value\": 11780}, \"5146\": {\"frequency\": 4, \"value\": 5146}, \"2868\": {\"frequency\": 2, \"value\": 2868}, \"5150\": {\"frequency\": 18, \"value\": 5150}, \"7685\": {\"frequency\": 1, \"value\": 7685}, \"5156\": {\"frequency\": 3, \"value\": 5156}, \"13350\": {\"frequency\": 2, \"value\": 13350}, \"209959\": {\"frequency\": 1, \"value\": 209959}, \"5160\": {\"frequency\": 9, \"value\": 5160}, \"5163\": {\"frequency\": 1, \"value\": 5163}, \"13356\": {\"frequency\": 1, \"value\": 13356}, \"5167\": {\"frequency\": 1, \"value\": 5167}, \"5170\": {\"frequency\": 2, \"value\": 5170}, \"5171\": {\"frequency\": 2, \"value\": 5171}, \"5175\": {\"frequency\": 8, \"value\": 5175}, \"13370\": {\"frequency\": 2, \"value\": 13370}, \"21344\": {\"frequency\": 2, \"value\": 21344}, \"220308\": {\"frequency\": 1, \"value\": 220308}, \"5188\": {\"frequency\": 2, \"value\": 5188}, \"13383\": {\"frequency\": 1, \"value\": 13383}, \"13384\": {\"frequency\": 1, \"value\": 13384}, \"5195\": {\"frequency\": 2, \"value\": 5195}, \"5196\": {\"frequency\": 2, \"value\": 5196}, \"13392\": {\"frequency\": 2, \"value\": 13392}, \"35000\": {\"frequency\": 7, \"value\": 35000}, \"5202\": {\"frequency\": 4, \"value\": 5202}, \"5203\": {\"frequency\": 2, \"value\": 5203}, \"5210\": {\"frequency\": 2, \"value\": 5210}, \"5212\": {\"frequency\": 1, \"value\": 5212}, \"46173\": {\"frequency\": 6, \"value\": 46173}, \"13406\": {\"frequency\": 1, \"value\": 13406}, \"21600\": {\"frequency\": 2, \"value\": 21600}, \"5217\": {\"frequency\": 3, \"value\": 5217}, \"92347\": {\"frequency\": 2, \"value\": 92347}, \"13412\": {\"frequency\": 1, \"value\": 13412}, \"5222\": {\"frequency\": 2, \"value\": 5222}, \"13416\": {\"frequency\": 1, \"value\": 13416}, \"5225\": {\"frequency\": 6, \"value\": 5225}, \"5236\": {\"frequency\": 3, \"value\": 5236}, \"5238\": {\"frequency\": 3, \"value\": 5238}, \"35636\": {\"frequency\": 1, \"value\": 35636}, \"5240\": {\"frequency\": 8, \"value\": 5240}, \"13435\": {\"frequency\": 1, \"value\": 13435}, \"5244\": {\"frequency\": 2, \"value\": 5244}, \"874\": {\"frequency\": 2, \"value\": 874}, \"21630\": {\"frequency\": 1, \"value\": 21630}, \"5247\": {\"frequency\": 1, \"value\": 5247}, \"13440\": {\"frequency\": 2, \"value\": 13440}, \"5249\": {\"frequency\": 3, \"value\": 5249}, \"5250\": {\"frequency\": 32, \"value\": 5250}, \"5252\": {\"frequency\": 1, \"value\": 5252}, \"5257\": {\"frequency\": 3, \"value\": 5257}, \"5258\": {\"frequency\": 2, \"value\": 5258}, \"5259\": {\"frequency\": 1, \"value\": 5259}, \"5260\": {\"frequency\": 4, \"value\": 5260}, \"5264\": {\"frequency\": 2, \"value\": 5264}, \"5265\": {\"frequency\": 4, \"value\": 5265}, \"21650\": {\"frequency\": 1, \"value\": 21650}, \"5267\": {\"frequency\": 4, \"value\": 5267}, \"13464\": {\"frequency\": 1, \"value\": 13464}, \"13468\": {\"frequency\": 2, \"value\": 13468}, \"13470\": {\"frequency\": 1, \"value\": 13470}, \"5280\": {\"frequency\": 15, \"value\": 5280}, \"4976\": {\"frequency\": 2, \"value\": 4976}, \"13474\": {\"frequency\": 2, \"value\": 13474}, \"13475\": {\"frequency\": 2, \"value\": 13475}, \"95396\": {\"frequency\": 2, \"value\": 95396}, \"5289\": {\"frequency\": 2, \"value\": 5289}, \"13482\": {\"frequency\": 1, \"value\": 13482}, \"13170\": {\"frequency\": 2, \"value\": 13170}, \"54450\": {\"frequency\": 8, \"value\": 54450}, \"5300\": {\"frequency\": 11, \"value\": 5300}, \"5304\": {\"frequency\": 3, \"value\": 5304}, \"5306\": {\"frequency\": 2, \"value\": 5306}, \"13500\": {\"frequency\": 20, \"value\": 13500}, \"13501\": {\"frequency\": 1, \"value\": 13501}, \"5310\": {\"frequency\": 3, \"value\": 5310}, \"13503\": {\"frequency\": 3, \"value\": 13503}, \"13504\": {\"frequency\": 1, \"value\": 13504}, \"886\": {\"frequency\": 2, \"value\": 886}, \"20001\": {\"frequency\": 2, \"value\": 20001}, \"5320\": {\"frequency\": 2, \"value\": 5320}, \"5321\": {\"frequency\": 2, \"value\": 5321}, \"5322\": {\"frequency\": 1, \"value\": 5322}, \"213879\": {\"frequency\": 2, \"value\": 213879}, \"5330\": {\"frequency\": 1, \"value\": 5330}, \"5332\": {\"frequency\": 1, \"value\": 5332}, \"5333\": {\"frequency\": 2, \"value\": 5333}, \"5335\": {\"frequency\": 2, \"value\": 5335}, \"5337\": {\"frequency\": 1, \"value\": 5337}, \"13530\": {\"frequency\": 2, \"value\": 13530}, \"5339\": {\"frequency\": 2, \"value\": 5339}, \"5340\": {\"frequency\": 3, \"value\": 5340}, \"7270\": {\"frequency\": 2, \"value\": 7270}, \"5348\": {\"frequency\": 2, \"value\": 5348}, \"5349\": {\"frequency\": 2, \"value\": 5349}, \"5350\": {\"frequency\": 10, \"value\": 5350}, \"9084\": {\"frequency\": 2, \"value\": 9084}, \"144619\": {\"frequency\": 2, \"value\": 144619}, \"5356\": {\"frequency\": 1, \"value\": 5356}, \"10450\": {\"frequency\": 9, \"value\": 10450}, \"13551\": {\"frequency\": 2, \"value\": 13551}, \"5360\": {\"frequency\": 2, \"value\": 5360}, \"13554\": {\"frequency\": 2, \"value\": 13554}, \"11656\": {\"frequency\": 2, \"value\": 11656}, \"11817\": {\"frequency\": 1, \"value\": 11817}, \"103672\": {\"frequency\": 3, \"value\": 103672}, \"895\": {\"frequency\": 2, \"value\": 895}, \"5374\": {\"frequency\": 1, \"value\": 5374}, \"18645\": {\"frequency\": 2, \"value\": 18645}, \"5376\": {\"frequency\": 3, \"value\": 5376}, \"5377\": {\"frequency\": 1, \"value\": 5377}, \"5379\": {\"frequency\": 3, \"value\": 5379}, \"13572\": {\"frequency\": 2, \"value\": 13572}, \"13579\": {\"frequency\": 3, \"value\": 13579}, \"5390\": {\"frequency\": 3, \"value\": 5390}, \"5393\": {\"frequency\": 3, \"value\": 5393}, \"29970\": {\"frequency\": 1, \"value\": 29970}, \"5395\": {\"frequency\": 4, \"value\": 5395}, \"21780\": {\"frequency\": 9, \"value\": 21780}, \"21781\": {\"frequency\": 3, \"value\": 21781}, \"13590\": {\"frequency\": 2, \"value\": 13590}, \"13592\": {\"frequency\": 1, \"value\": 13592}, \"5401\": {\"frequency\": 3, \"value\": 5401}, \"5402\": {\"frequency\": 3, \"value\": 5402}, \"5404\": {\"frequency\": 3, \"value\": 5404}, \"5405\": {\"frequency\": 2, \"value\": 5405}, \"29982\": {\"frequency\": 1, \"value\": 29982}, \"5408\": {\"frequency\": 2, \"value\": 5408}, \"36400\": {\"frequency\": 1, \"value\": 36400}, \"13603\": {\"frequency\": 1, \"value\": 13603}, \"5412\": {\"frequency\": 2, \"value\": 5412}, \"5413\": {\"frequency\": 9, \"value\": 5413}, \"5414\": {\"frequency\": 2, \"value\": 5414}, \"5416\": {\"frequency\": 2, \"value\": 5416}, \"13609\": {\"frequency\": 2, \"value\": 13609}, \"5420\": {\"frequency\": 2, \"value\": 5420}, \"5421\": {\"frequency\": 2, \"value\": 5421}, \"5423\": {\"frequency\": 2, \"value\": 5423}, \"21810\": {\"frequency\": 1, \"value\": 21810}, \"5427\": {\"frequency\": 1, \"value\": 5427}, \"5428\": {\"frequency\": 2, \"value\": 5428}, \"37769\": {\"frequency\": 1, \"value\": 37769}, \"5432\": {\"frequency\": 2, \"value\": 5432}, \"5434\": {\"frequency\": 2, \"value\": 5434}, \"5438\": {\"frequency\": 1, \"value\": 5438}, \"5439\": {\"frequency\": 1, \"value\": 5439}, \"5440\": {\"frequency\": 5, \"value\": 5440}, \"10464\": {\"frequency\": 3, \"value\": 10464}, \"5444\": {\"frequency\": 2, \"value\": 5444}, \"5445\": {\"frequency\": 3, \"value\": 5445}, \"5449\": {\"frequency\": 2, \"value\": 5449}, \"5450\": {\"frequency\": 5, \"value\": 5450}, \"5453\": {\"frequency\": 3, \"value\": 5453}, \"5455\": {\"frequency\": 2, \"value\": 5455}, \"5457\": {\"frequency\": 2, \"value\": 5457}, \"13650\": {\"frequency\": 2, \"value\": 13650}, \"5460\": {\"frequency\": 6, \"value\": 5460}, \"5470\": {\"frequency\": 2, \"value\": 5470}, \"5472\": {\"frequency\": 3, \"value\": 5472}, \"5008\": {\"frequency\": 3, \"value\": 5008}, \"2910\": {\"frequency\": 3, \"value\": 2910}, \"223462\": {\"frequency\": 3, \"value\": 223462}, \"5478\": {\"frequency\": 2, \"value\": 5478}, \"4128\": {\"frequency\": 3, \"value\": 4128}, \"5484\": {\"frequency\": 1, \"value\": 5484}, \"5010\": {\"frequency\": 2, \"value\": 5010}, \"5488\": {\"frequency\": 3, \"value\": 5488}, \"5490\": {\"frequency\": 4, \"value\": 5490}, \"5493\": {\"frequency\": 1, \"value\": 5493}, \"5496\": {\"frequency\": 1, \"value\": 5496}, \"5497\": {\"frequency\": 2, \"value\": 5497}, \"21883\": {\"frequency\": 2, \"value\": 21883}, \"5500\": {\"frequency\": 73, \"value\": 5500}, \"5502\": {\"frequency\": 2, \"value\": 5502}, \"13695\": {\"frequency\": 2, \"value\": 13695}, \"27260\": {\"frequency\": 1, \"value\": 27260}, \"5505\": {\"frequency\": 2, \"value\": 5505}, \"5508\": {\"frequency\": 4, \"value\": 5508}, \"5510\": {\"frequency\": 4, \"value\": 5510}, \"5511\": {\"frequency\": 4, \"value\": 5511}, \"5512\": {\"frequency\": 3, \"value\": 5512}, \"21399\": {\"frequency\": 1, \"value\": 21399}, \"5520\": {\"frequency\": 7, \"value\": 5520}, \"9112\": {\"frequency\": 6, \"value\": 9112}, \"5522\": {\"frequency\": 1, \"value\": 5522}, \"5525\": {\"frequency\": 7, \"value\": 5525}, \"1275\": {\"frequency\": 3, \"value\": 1275}, \"13720\": {\"frequency\": 1, \"value\": 13720}, \"5534\": {\"frequency\": 2, \"value\": 5534}, \"13729\": {\"frequency\": 1, \"value\": 13729}, \"5539\": {\"frequency\": 4, \"value\": 5539}, \"7750\": {\"frequency\": 5, \"value\": 7750}, \"5544\": {\"frequency\": 3, \"value\": 5544}, \"13737\": {\"frequency\": 1, \"value\": 13737}, \"5546\": {\"frequency\": 3, \"value\": 5546}, \"5550\": {\"frequency\": 2, \"value\": 5550}, \"79279\": {\"frequency\": 2, \"value\": 79279}, \"21937\": {\"frequency\": 1, \"value\": 21937}, \"5555\": {\"frequency\": 2, \"value\": 5555}, \"13750\": {\"frequency\": 2, \"value\": 13750}, \"5559\": {\"frequency\": 3, \"value\": 5559}, \"5562\": {\"frequency\": 3, \"value\": 5562}, \"4004\": {\"frequency\": 2, \"value\": 4004}, \"38332\": {\"frequency\": 1, \"value\": 38332}, \"5568\": {\"frequency\": 2, \"value\": 5568}, \"5569\": {\"frequency\": 1, \"value\": 5569}, \"5570\": {\"frequency\": 2, \"value\": 5570}, \"5572\": {\"frequency\": 2, \"value\": 5572}, \"5577\": {\"frequency\": 2, \"value\": 5577}, \"5580\": {\"frequency\": 4, \"value\": 5580}, \"5581\": {\"frequency\": 2, \"value\": 5581}, \"13775\": {\"frequency\": 4, \"value\": 13775}, \"10488\": {\"frequency\": 3, \"value\": 10488}, \"13780\": {\"frequency\": 1, \"value\": 13780}, \"5589\": {\"frequency\": 2, \"value\": 5589}, \"5595\": {\"frequency\": 2, \"value\": 5595}, \"6733\": {\"frequency\": 2, \"value\": 6733}, \"13791\": {\"frequency\": 1, \"value\": 13791}, \"5600\": {\"frequency\": 27, \"value\": 5600}, \"9126\": {\"frequency\": 4, \"value\": 9126}, \"5608\": {\"frequency\": 3, \"value\": 5608}, \"2300\": {\"frequency\": 3, \"value\": 2300}, \"5610\": {\"frequency\": 3, \"value\": 5610}, \"5612\": {\"frequency\": 6, \"value\": 5612}, \"5616\": {\"frequency\": 2, \"value\": 5616}, \"13809\": {\"frequency\": 1, \"value\": 13809}, \"5618\": {\"frequency\": 2, \"value\": 5618}, \"28243\": {\"frequency\": 1, \"value\": 28243}, \"46580\": {\"frequency\": 1, \"value\": 46580}, \"128502\": {\"frequency\": 2, \"value\": 128502}, \"13816\": {\"frequency\": 2, \"value\": 13816}, \"5625\": {\"frequency\": 4, \"value\": 5625}, \"5635\": {\"frequency\": 2, \"value\": 5635}, \"5639\": {\"frequency\": 3, \"value\": 5639}, \"9132\": {\"frequency\": 2, \"value\": 9132}, \"5643\": {\"frequency\": 2, \"value\": 5643}, \"38412\": {\"frequency\": 1, \"value\": 38412}, \"5647\": {\"frequency\": 2, \"value\": 5647}, \"46609\": {\"frequency\": 7, \"value\": 46609}, \"5650\": {\"frequency\": 23, \"value\": 5650}, \"9134\": {\"frequency\": 2, \"value\": 9134}, \"22040\": {\"frequency\": 2, \"value\": 22040}, \"13850\": {\"frequency\": 1, \"value\": 13850}, \"5663\": {\"frequency\": 2, \"value\": 5663}, \"5664\": {\"frequency\": 4, \"value\": 5664}, \"5665\": {\"frequency\": 3, \"value\": 5665}, \"7771\": {\"frequency\": 1, \"value\": 7771}, \"5668\": {\"frequency\": 1, \"value\": 5668}, \"5669\": {\"frequency\": 3, \"value\": 5669}, \"5670\": {\"frequency\": 5, \"value\": 5670}, \"5671\": {\"frequency\": 1, \"value\": 5671}, \"5674\": {\"frequency\": 2, \"value\": 5674}, \"5677\": {\"frequency\": 2, \"value\": 5677}, \"3677\": {\"frequency\": 3, \"value\": 3677}, \"5680\": {\"frequency\": 5, \"value\": 5680}, \"5684\": {\"frequency\": 2, \"value\": 5684}, \"5688\": {\"frequency\": 2, \"value\": 5688}, \"5689\": {\"frequency\": 2, \"value\": 5689}, \"5692\": {\"frequency\": 2, \"value\": 5692}, \"13885\": {\"frequency\": 1, \"value\": 13885}, \"4675\": {\"frequency\": 4, \"value\": 4675}, \"11872\": {\"frequency\": 1, \"value\": 11872}, \"5700\": {\"frequency\": 30, \"value\": 5700}, \"5701\": {\"frequency\": 6, \"value\": 5701}, \"5702\": {\"frequency\": 2, \"value\": 5702}, \"5703\": {\"frequency\": 2, \"value\": 5703}, \"5706\": {\"frequency\": 3, \"value\": 5706}, \"13900\": {\"frequency\": 2, \"value\": 13900}, \"7828\": {\"frequency\": 3, \"value\": 7828}, \"13907\": {\"frequency\": 1, \"value\": 13907}, \"22100\": {\"frequency\": 3, \"value\": 22100}, \"5717\": {\"frequency\": 2, \"value\": 5717}, \"5719\": {\"frequency\": 1, \"value\": 5719}, \"13912\": {\"frequency\": 2, \"value\": 13912}, \"5722\": {\"frequency\": 3, \"value\": 5722}, \"9465\": {\"frequency\": 2, \"value\": 9465}, \"5724\": {\"frequency\": 2, \"value\": 5724}, \"9146\": {\"frequency\": 2, \"value\": 9146}, \"22111\": {\"frequency\": 1, \"value\": 22111}, \"5733\": {\"frequency\": 2, \"value\": 5733}, \"5735\": {\"frequency\": 2, \"value\": 5735}, \"5737\": {\"frequency\": 3, \"value\": 5737}, \"5742\": {\"frequency\": 2, \"value\": 5742}, \"13938\": {\"frequency\": 1, \"value\": 13938}, \"13939\": {\"frequency\": 4, \"value\": 13939}, \"958\": {\"frequency\": 2, \"value\": 958}, \"5750\": {\"frequency\": 61, \"value\": 5750}, \"5751\": {\"frequency\": 2, \"value\": 5751}, \"5752\": {\"frequency\": 3, \"value\": 5752}, \"5753\": {\"frequency\": 3, \"value\": 5753}, \"5754\": {\"frequency\": 3, \"value\": 5754}, \"5756\": {\"frequency\": 4, \"value\": 5756}, \"5757\": {\"frequency\": 3, \"value\": 5757}, \"5758\": {\"frequency\": 3, \"value\": 5758}, \"5759\": {\"frequency\": 2, \"value\": 5759}, \"5760\": {\"frequency\": 13, \"value\": 5760}, \"5761\": {\"frequency\": 1, \"value\": 5761}, \"5762\": {\"frequency\": 1, \"value\": 5762}, \"5763\": {\"frequency\": 2, \"value\": 5763}, \"5765\": {\"frequency\": 2, \"value\": 5765}, \"13959\": {\"frequency\": 2, \"value\": 13959}, \"5102\": {\"frequency\": 5, \"value\": 5102}, \"13964\": {\"frequency\": 1, \"value\": 13964}, \"5773\": {\"frequency\": 2, \"value\": 5773}, \"5775\": {\"frequency\": 2, \"value\": 5775}, \"13975\": {\"frequency\": 1, \"value\": 13975}, \"13252\": {\"frequency\": 3, \"value\": 13252}, \"5787\": {\"frequency\": 2, \"value\": 5787}, \"46748\": {\"frequency\": 1, \"value\": 46748}, \"5790\": {\"frequency\": 2, \"value\": 5790}, \"965\": {\"frequency\": 2, \"value\": 965}, \"5797\": {\"frequency\": 3, \"value\": 5797}, \"5799\": {\"frequency\": 2, \"value\": 5799}, \"5800\": {\"frequency\": 19, \"value\": 5800}, \"5801\": {\"frequency\": 2, \"value\": 5801}, \"5802\": {\"frequency\": 2, \"value\": 5802}, \"5803\": {\"frequency\": 2, \"value\": 5803}, \"104108\": {\"frequency\": 2, \"value\": 104108}, \"5805\": {\"frequency\": 3, \"value\": 5805}, \"5806\": {\"frequency\": 1, \"value\": 5806}, \"14000\": {\"frequency\": 11, \"value\": 14000}, \"5809\": {\"frequency\": 2, \"value\": 5809}, \"4558\": {\"frequency\": 5, \"value\": 4558}, \"5817\": {\"frequency\": 2, \"value\": 5817}, \"5820\": {\"frequency\": 4, \"value\": 5820}, \"5821\": {\"frequency\": 2, \"value\": 5821}, \"5823\": {\"frequency\": 2, \"value\": 5823}, \"5824\": {\"frequency\": 3, \"value\": 5824}, \"5827\": {\"frequency\": 2, \"value\": 5827}, \"14021\": {\"frequency\": 2, \"value\": 14021}, \"5831\": {\"frequency\": 3, \"value\": 5831}, \"5835\": {\"frequency\": 2, \"value\": 5835}, \"5840\": {\"frequency\": 3, \"value\": 5840}, \"14034\": {\"frequency\": 1, \"value\": 14034}, \"5845\": {\"frequency\": 2, \"value\": 5845}, \"14040\": {\"frequency\": 4, \"value\": 14040}, \"5850\": {\"frequency\": 12, \"value\": 5850}, \"5854\": {\"frequency\": 2, \"value\": 5854}, \"5857\": {\"frequency\": 3, \"value\": 5857}, \"5858\": {\"frequency\": 2, \"value\": 5858}, \"5105\": {\"frequency\": 3, \"value\": 5105}, \"14052\": {\"frequency\": 1, \"value\": 14052}, \"194278\": {\"frequency\": 1, \"value\": 194278}, \"5864\": {\"frequency\": 2, \"value\": 5864}, \"14057\": {\"frequency\": 1, \"value\": 14057}, \"5866\": {\"frequency\": 3, \"value\": 5866}, \"5868\": {\"frequency\": 3, \"value\": 5868}, \"14062\": {\"frequency\": 1, \"value\": 14062}, \"38639\": {\"frequency\": 1, \"value\": 38639}, \"5875\": {\"frequency\": 2, \"value\": 5875}, \"5876\": {\"frequency\": 2, \"value\": 5876}, \"14071\": {\"frequency\": 2, \"value\": 14071}, \"5880\": {\"frequency\": 9, \"value\": 5880}, \"22267\": {\"frequency\": 1, \"value\": 22267}, \"5885\": {\"frequency\": 2, \"value\": 5885}, \"5889\": {\"frequency\": 2, \"value\": 5889}, \"5893\": {\"frequency\": 2, \"value\": 5893}, \"14087\": {\"frequency\": 1, \"value\": 14087}, \"9198\": {\"frequency\": 3, \"value\": 9198}, \"5898\": {\"frequency\": 1, \"value\": 5898}, \"5899\": {\"frequency\": 3, \"value\": 5899}, \"5900\": {\"frequency\": 8, \"value\": 5900}, \"5901\": {\"frequency\": 1, \"value\": 5901}, \"9471\": {\"frequency\": 2, \"value\": 9471}, \"14100\": {\"frequency\": 2, \"value\": 14100}, \"5909\": {\"frequency\": 3, \"value\": 5909}, \"5910\": {\"frequency\": 1, \"value\": 5910}, \"5911\": {\"frequency\": 2, \"value\": 5911}, \"5913\": {\"frequency\": 2, \"value\": 5913}, \"14110\": {\"frequency\": 2, \"value\": 14110}, \"5920\": {\"frequency\": 2, \"value\": 5920}, \"5921\": {\"frequency\": 1, \"value\": 5921}, \"5922\": {\"frequency\": 3, \"value\": 5922}, \"15450\": {\"frequency\": 3, \"value\": 15450}, \"5926\": {\"frequency\": 1, \"value\": 5926}, \"14120\": {\"frequency\": 1, \"value\": 14120}, \"5929\": {\"frequency\": 4, \"value\": 5929}, \"5930\": {\"frequency\": 2, \"value\": 5930}, \"5934\": {\"frequency\": 3, \"value\": 5934}, \"5936\": {\"frequency\": 2, \"value\": 5936}, \"5940\": {\"frequency\": 7, \"value\": 5940}, \"22326\": {\"frequency\": 2, \"value\": 22326}, \"14135\": {\"frequency\": 1, \"value\": 14135}, \"33750\": {\"frequency\": 2, \"value\": 33750}, \"2356\": {\"frequency\": 3, \"value\": 2356}, \"14138\": {\"frequency\": 2, \"value\": 14138}, \"14141\": {\"frequency\": 2, \"value\": 14141}, \"5950\": {\"frequency\": 4, \"value\": 5950}, \"5954\": {\"frequency\": 3, \"value\": 5954}, \"14149\": {\"frequency\": 2, \"value\": 14149}, \"14150\": {\"frequency\": 1, \"value\": 14150}, \"5959\": {\"frequency\": 2, \"value\": 5959}, \"5960\": {\"frequency\": 3, \"value\": 5960}, \"5963\": {\"frequency\": 1, \"value\": 5963}, \"5965\": {\"frequency\": 2, \"value\": 5965}, \"1208\": {\"frequency\": 2, \"value\": 1208}, \"7821\": {\"frequency\": 3, \"value\": 7821}, \"5969\": {\"frequency\": 4, \"value\": 5969}, \"5091\": {\"frequency\": 2, \"value\": 5091}, \"22357\": {\"frequency\": 1, \"value\": 22357}, \"5974\": {\"frequency\": 4, \"value\": 5974}, \"17380\": {\"frequency\": 1, \"value\": 17380}, \"5978\": {\"frequency\": 4, \"value\": 5978}, \"5979\": {\"frequency\": 2, \"value\": 5979}, \"5980\": {\"frequency\": 3, \"value\": 5980}, \"79714\": {\"frequency\": 1, \"value\": 79714}, \"5988\": {\"frequency\": 2, \"value\": 5988}, \"5992\": {\"frequency\": 3, \"value\": 5992}, \"5995\": {\"frequency\": 3, \"value\": 5995}, \"5999\": {\"frequency\": 3, \"value\": 5999}, \"6000\": {\"frequency\": 290, \"value\": 6000}, \"13288\": {\"frequency\": 2, \"value\": 13288}, \"6002\": {\"frequency\": 4, \"value\": 6002}, \"6003\": {\"frequency\": 2, \"value\": 6003}, \"14196\": {\"frequency\": 2, \"value\": 14196}, \"14197\": {\"frequency\": 2, \"value\": 14197}, \"6009\": {\"frequency\": 2, \"value\": 6009}, \"6010\": {\"frequency\": 4, \"value\": 6010}, \"6014\": {\"frequency\": 3, \"value\": 6014}, \"6015\": {\"frequency\": 2, \"value\": 6015}, \"6017\": {\"frequency\": 3, \"value\": 6017}, \"6018\": {\"frequency\": 2, \"value\": 6018}, \"6020\": {\"frequency\": 1, \"value\": 6020}, \"6021\": {\"frequency\": 2, \"value\": 6021}, \"6023\": {\"frequency\": 2, \"value\": 6023}, \"13292\": {\"frequency\": 2, \"value\": 13292}, \"22410\": {\"frequency\": 1, \"value\": 22410}, \"30605\": {\"frequency\": 1, \"value\": 30605}, \"6030\": {\"frequency\": 4, \"value\": 6030}, \"6031\": {\"frequency\": 5, \"value\": 6031}, \"6032\": {\"frequency\": 2, \"value\": 6032}, \"6034\": {\"frequency\": 4, \"value\": 6034}, \"6037\": {\"frequency\": 4, \"value\": 6037}, \"6041\": {\"frequency\": 2, \"value\": 6041}, \"6042\": {\"frequency\": 2, \"value\": 6042}, \"6045\": {\"frequency\": 2, \"value\": 6045}, \"11658\": {\"frequency\": 2, \"value\": 11658}, \"14240\": {\"frequency\": 1, \"value\": 14240}, \"6050\": {\"frequency\": 14, \"value\": 6050}, \"6052\": {\"frequency\": 2, \"value\": 6052}, \"6054\": {\"frequency\": 2, \"value\": 6054}, \"6055\": {\"frequency\": 2, \"value\": 6055}, \"14250\": {\"frequency\": 6, \"value\": 14250}, \"6060\": {\"frequency\": 6, \"value\": 6060}, \"1010\": {\"frequency\": 2, \"value\": 1010}, \"87991\": {\"frequency\": 2, \"value\": 87991}, \"5108\": {\"frequency\": 2, \"value\": 5108}, \"6075\": {\"frequency\": 3, \"value\": 6075}, \"14270\": {\"frequency\": 1, \"value\": 14270}, \"54160\": {\"frequency\": 2, \"value\": 54160}, \"11936\": {\"frequency\": 1, \"value\": 11936}, \"6082\": {\"frequency\": 2, \"value\": 6082}, \"6083\": {\"frequency\": 2, \"value\": 6083}, \"47044\": {\"frequency\": 8, \"value\": 47044}, \"47045\": {\"frequency\": 1, \"value\": 47045}, \"6090\": {\"frequency\": 4, \"value\": 6090}, \"5111\": {\"frequency\": 5, \"value\": 5111}, \"6092\": {\"frequency\": 3, \"value\": 6092}, \"6093\": {\"frequency\": 2, \"value\": 6093}, \"6095\": {\"frequency\": 3, \"value\": 6095}, \"17400\": {\"frequency\": 5, \"value\": 17400}, \"6098\": {\"frequency\": 3, \"value\": 6098}, \"6099\": {\"frequency\": 5, \"value\": 6099}, \"6100\": {\"frequency\": 5, \"value\": 6100}, \"35150\": {\"frequency\": 2, \"value\": 35150}, \"6105\": {\"frequency\": 2, \"value\": 6105}, \"6479\": {\"frequency\": 2, \"value\": 6479}, \"14300\": {\"frequency\": 2, \"value\": 14300}, \"6110\": {\"frequency\": 4, \"value\": 6110}, \"219106\": {\"frequency\": 2, \"value\": 219106}, \"5115\": {\"frequency\": 2, \"value\": 5115}, \"22500\": {\"frequency\": 2, \"value\": 22500}, \"6117\": {\"frequency\": 3, \"value\": 6117}, \"6120\": {\"frequency\": 39, \"value\": 6120}, \"6122\": {\"frequency\": 2, \"value\": 6122}, \"6124\": {\"frequency\": 2, \"value\": 6124}, \"6125\": {\"frequency\": 3, \"value\": 6125}, \"24700\": {\"frequency\": 2, \"value\": 24700}, \"14319\": {\"frequency\": 1, \"value\": 14319}, \"6129\": {\"frequency\": 1, \"value\": 6129}, \"6130\": {\"frequency\": 2, \"value\": 6130}, \"15207\": {\"frequency\": 1, \"value\": 15207}, \"6132\": {\"frequency\": 3, \"value\": 6132}, \"6134\": {\"frequency\": 4, \"value\": 6134}, \"6137\": {\"frequency\": 3, \"value\": 6137}, \"6138\": {\"frequency\": 2, \"value\": 6138}, \"6139\": {\"frequency\": 2, \"value\": 6139}, \"6141\": {\"frequency\": 2, \"value\": 6141}, \"6145\": {\"frequency\": 3, \"value\": 6145}, \"14338\": {\"frequency\": 1, \"value\": 14338}, \"11947\": {\"frequency\": 1, \"value\": 11947}, \"1241\": {\"frequency\": 2, \"value\": 1241}, \"14342\": {\"frequency\": 1, \"value\": 14342}, \"174240\": {\"frequency\": 2, \"value\": 174240}, \"14350\": {\"frequency\": 2, \"value\": 14350}, \"30736\": {\"frequency\": 1, \"value\": 30736}, \"6161\": {\"frequency\": 1, \"value\": 6161}, \"6162\": {\"frequency\": 1, \"value\": 6162}, \"6164\": {\"frequency\": 2, \"value\": 6164}, \"55321\": {\"frequency\": 3, \"value\": 55321}, \"6172\": {\"frequency\": 1, \"value\": 6172}, \"6174\": {\"frequency\": 3, \"value\": 6174}, \"6175\": {\"frequency\": 4, \"value\": 6175}, \"6178\": {\"frequency\": 2, \"value\": 6178}, \"6180\": {\"frequency\": 19, \"value\": 6180}, \"6181\": {\"frequency\": 2, \"value\": 6181}, \"14374\": {\"frequency\": 2, \"value\": 14374}, \"6183\": {\"frequency\": 2, \"value\": 6183}, \"6186\": {\"frequency\": 2, \"value\": 6186}, \"6187\": {\"frequency\": 3, \"value\": 6187}, \"13320\": {\"frequency\": 3, \"value\": 13320}, \"6194\": {\"frequency\": 2, \"value\": 6194}, \"6195\": {\"frequency\": 2, \"value\": 6195}, \"6197\": {\"frequency\": 2, \"value\": 6197}, \"1033\": {\"frequency\": 2, \"value\": 1033}, \"6200\": {\"frequency\": 22, \"value\": 6200}, \"6202\": {\"frequency\": 3, \"value\": 6202}, \"6203\": {\"frequency\": 2, \"value\": 6203}, \"6205\": {\"frequency\": 2, \"value\": 6205}, \"14400\": {\"frequency\": 11, \"value\": 14400}, \"14401\": {\"frequency\": 1, \"value\": 14401}, \"22594\": {\"frequency\": 1, \"value\": 22594}, \"14406\": {\"frequency\": 1, \"value\": 14406}, \"35169\": {\"frequency\": 2, \"value\": 35169}, \"6219\": {\"frequency\": 1, \"value\": 6219}, \"6220\": {\"frequency\": 3, \"value\": 6220}, \"6222\": {\"frequency\": 3, \"value\": 6222}, \"6223\": {\"frequency\": 2, \"value\": 6223}, \"6224\": {\"frequency\": 3, \"value\": 6224}, \"6228\": {\"frequency\": 1, \"value\": 6228}, \"6232\": {\"frequency\": 4, \"value\": 6232}, \"6233\": {\"frequency\": 2, \"value\": 6233}, \"6236\": {\"frequency\": 2, \"value\": 6236}, \"6240\": {\"frequency\": 16, \"value\": 6240}, \"35124\": {\"frequency\": 2, \"value\": 35124}, \"14440\": {\"frequency\": 1, \"value\": 14440}, \"32175\": {\"frequency\": 1, \"value\": 32175}, \"6250\": {\"frequency\": 50, \"value\": 6250}, \"63597\": {\"frequency\": 2, \"value\": 63597}, \"6256\": {\"frequency\": 2, \"value\": 6256}, \"6258\": {\"frequency\": 2, \"value\": 6258}, \"6260\": {\"frequency\": 3, \"value\": 6260}, \"3774\": {\"frequency\": 3, \"value\": 3774}, \"6263\": {\"frequency\": 3, \"value\": 6263}, \"6265\": {\"frequency\": 2, \"value\": 6265}, \"22651\": {\"frequency\": 2, \"value\": 22651}, \"6270\": {\"frequency\": 2, \"value\": 6270}, \"6271\": {\"frequency\": 1, \"value\": 6271}, \"6272\": {\"frequency\": 2, \"value\": 6272}, \"14467\": {\"frequency\": 2, \"value\": 14467}, \"6278\": {\"frequency\": 3, \"value\": 6278}, \"6280\": {\"frequency\": 2, \"value\": 6280}, \"6282\": {\"frequency\": 2, \"value\": 6282}, \"6288\": {\"frequency\": 2, \"value\": 6288}, \"14486\": {\"frequency\": 1, \"value\": 14486}, \"6298\": {\"frequency\": 2, \"value\": 6298}, \"6300\": {\"frequency\": 32, \"value\": 6300}, \"1050\": {\"frequency\": 2, \"value\": 1050}, \"6302\": {\"frequency\": 2, \"value\": 6302}, \"6305\": {\"frequency\": 2, \"value\": 6305}, \"14499\": {\"frequency\": 1, \"value\": 14499}, \"14500\": {\"frequency\": 2, \"value\": 14500}, \"30886\": {\"frequency\": 1, \"value\": 30886}, \"67953\": {\"frequency\": 3, \"value\": 67953}, \"6315\": {\"frequency\": 5, \"value\": 6315}, \"6318\": {\"frequency\": 2, \"value\": 6318}, \"22703\": {\"frequency\": 2, \"value\": 22703}, \"6320\": {\"frequency\": 5, \"value\": 6320}, \"6322\": {\"frequency\": 2, \"value\": 6322}, \"6324\": {\"frequency\": 3, \"value\": 6324}, \"6325\": {\"frequency\": 3, \"value\": 6325}, \"6326\": {\"frequency\": 2, \"value\": 6326}, \"6327\": {\"frequency\": 3, \"value\": 6327}, \"6332\": {\"frequency\": 2, \"value\": 6332}, \"4848\": {\"frequency\": 2, \"value\": 4848}, \"6337\": {\"frequency\": 2, \"value\": 6337}, \"6345\": {\"frequency\": 3, \"value\": 6345}, \"9250\": {\"frequency\": 4, \"value\": 9250}, \"6350\": {\"frequency\": 17, \"value\": 6350}, \"40250\": {\"frequency\": 2, \"value\": 40250}, \"6353\": {\"frequency\": 1, \"value\": 6353}, \"6355\": {\"frequency\": 2, \"value\": 6355}, \"6360\": {\"frequency\": 20, \"value\": 6360}, \"6366\": {\"frequency\": 2, \"value\": 6366}, \"6369\": {\"frequency\": 2, \"value\": 6369}, \"6370\": {\"frequency\": 2, \"value\": 6370}, \"6371\": {\"frequency\": 4, \"value\": 6371}, \"14565\": {\"frequency\": 2, \"value\": 14565}, \"6375\": {\"frequency\": 7, \"value\": 6375}, \"14568\": {\"frequency\": 1, \"value\": 14568}, \"6380\": {\"frequency\": 31, \"value\": 6380}, \"39150\": {\"frequency\": 1, \"value\": 39150}, \"6383\": {\"frequency\": 2, \"value\": 6383}, \"6384\": {\"frequency\": 2, \"value\": 6384}, \"6386\": {\"frequency\": 2, \"value\": 6386}, \"6388\": {\"frequency\": 1, \"value\": 6388}, \"6389\": {\"frequency\": 2, \"value\": 6389}, \"6390\": {\"frequency\": 2, \"value\": 6390}, \"6394\": {\"frequency\": 2, \"value\": 6394}, \"10623\": {\"frequency\": 2, \"value\": 10623}, \"6396\": {\"frequency\": 3, \"value\": 6396}, \"6397\": {\"frequency\": 1, \"value\": 6397}, \"6398\": {\"frequency\": 2, \"value\": 6398}, \"6400\": {\"frequency\": 23, \"value\": 6400}, \"6405\": {\"frequency\": 4, \"value\": 6405}, \"14599\": {\"frequency\": 1, \"value\": 14599}, \"14600\": {\"frequency\": 3, \"value\": 14600}, \"8124\": {\"frequency\": 2, \"value\": 8124}, \"6413\": {\"frequency\": 4, \"value\": 6413}, \"6417\": {\"frequency\": 2, \"value\": 6417}, \"6420\": {\"frequency\": 7, \"value\": 6420}, \"6426\": {\"frequency\": 3, \"value\": 6426}, \"57050\": {\"frequency\": 1, \"value\": 57050}, \"11824\": {\"frequency\": 2, \"value\": 11824}, \"6435\": {\"frequency\": 3, \"value\": 6435}, \"14630\": {\"frequency\": 2, \"value\": 14630}, \"6439\": {\"frequency\": 2, \"value\": 6439}, \"6440\": {\"frequency\": 5, \"value\": 6440}, \"14633\": {\"frequency\": 2, \"value\": 14633}, \"13362\": {\"frequency\": 2, \"value\": 13362}, \"6448\": {\"frequency\": 2, \"value\": 6448}, \"12840\": {\"frequency\": 3, \"value\": 12840}, \"6450\": {\"frequency\": 10, \"value\": 6450}, \"1075\": {\"frequency\": 2, \"value\": 1075}, \"14648\": {\"frequency\": 1, \"value\": 14648}, \"14649\": {\"frequency\": 1, \"value\": 14649}, \"6460\": {\"frequency\": 4, \"value\": 6460}, \"96574\": {\"frequency\": 1, \"value\": 96574}, \"10308\": {\"frequency\": 2, \"value\": 10308}, \"77536\": {\"frequency\": 2, \"value\": 77536}, \"1078\": {\"frequency\": 2, \"value\": 1078}, \"6474\": {\"frequency\": 3, \"value\": 6474}, \"13367\": {\"frequency\": 2, \"value\": 13367}, \"22863\": {\"frequency\": 1, \"value\": 22863}, \"6480\": {\"frequency\": 15, \"value\": 6480}, \"6481\": {\"frequency\": 2, \"value\": 6481}, \"1034\": {\"frequency\": 3, \"value\": 1034}, \"6490\": {\"frequency\": 2, \"value\": 6490}, \"21562\": {\"frequency\": 2, \"value\": 21562}, \"6495\": {\"frequency\": 2, \"value\": 6495}, \"383328\": {\"frequency\": 2, \"value\": 383328}, \"6497\": {\"frequency\": 2, \"value\": 6497}, \"6499\": {\"frequency\": 2, \"value\": 6499}, \"6500\": {\"frequency\": 40, \"value\": 6500}, \"6504\": {\"frequency\": 3, \"value\": 6504}, \"88426\": {\"frequency\": 3, \"value\": 88426}, \"6508\": {\"frequency\": 2, \"value\": 6508}, \"6509\": {\"frequency\": 2, \"value\": 6509}, \"6510\": {\"frequency\": 2, \"value\": 6510}, \"6515\": {\"frequency\": 2, \"value\": 6515}, \"6516\": {\"frequency\": 3, \"value\": 6516}, \"36585\": {\"frequency\": 2, \"value\": 36585}, \"47480\": {\"frequency\": 9, \"value\": 47480}, \"5355\": {\"frequency\": 3, \"value\": 5355}, \"6527\": {\"frequency\": 3, \"value\": 6527}, \"14720\": {\"frequency\": 1, \"value\": 14720}, \"6530\": {\"frequency\": 3, \"value\": 6530}, \"14402\": {\"frequency\": 1, \"value\": 14402}, \"6533\": {\"frequency\": 2, \"value\": 6533}, \"6534\": {\"frequency\": 3, \"value\": 6534}, \"5185\": {\"frequency\": 4, \"value\": 5185}, \"6536\": {\"frequency\": 3, \"value\": 6536}, \"14731\": {\"frequency\": 1, \"value\": 14731}, \"6540\": {\"frequency\": 4, \"value\": 6540}, \"14733\": {\"frequency\": 1, \"value\": 14733}, \"6543\": {\"frequency\": 2, \"value\": 6543}, \"6549\": {\"frequency\": 2, \"value\": 6549}, \"6550\": {\"frequency\": 9, \"value\": 6550}, \"6551\": {\"frequency\": 4, \"value\": 6551}, \"6552\": {\"frequency\": 5, \"value\": 6552}, \"6553\": {\"frequency\": 2, \"value\": 6553}, \"6554\": {\"frequency\": 3, \"value\": 6554}, \"6555\": {\"frequency\": 3, \"value\": 6555}, \"6556\": {\"frequency\": 2, \"value\": 6556}, \"6557\": {\"frequency\": 2, \"value\": 6557}, \"14750\": {\"frequency\": 1, \"value\": 14750}, \"4408\": {\"frequency\": 4, \"value\": 4408}, \"6561\": {\"frequency\": 2, \"value\": 6561}, \"6564\": {\"frequency\": 1, \"value\": 6564}, \"6565\": {\"frequency\": 3, \"value\": 6565}, \"6566\": {\"frequency\": 2, \"value\": 6566}, \"6567\": {\"frequency\": 2, \"value\": 6567}, \"6572\": {\"frequency\": 2, \"value\": 6572}, \"5192\": {\"frequency\": 2, \"value\": 5192}, \"6558\": {\"frequency\": 2, \"value\": 6558}, \"107593\": {\"frequency\": 1, \"value\": 107593}, \"6587\": {\"frequency\": 2, \"value\": 6587}, \"6590\": {\"frequency\": 2, \"value\": 6590}, \"6560\": {\"frequency\": 1, \"value\": 6560}, \"3220\": {\"frequency\": 2, \"value\": 3220}, \"6600\": {\"frequency\": 52, \"value\": 6600}, \"9292\": {\"frequency\": 2, \"value\": 9292}, \"6603\": {\"frequency\": 2, \"value\": 6603}, \"6604\": {\"frequency\": 4, \"value\": 6604}, \"6605\": {\"frequency\": 2, \"value\": 6605}, \"6607\": {\"frequency\": 2, \"value\": 6607}, \"14800\": {\"frequency\": 3, \"value\": 14800}, \"7928\": {\"frequency\": 2, \"value\": 7928}, \"5130\": {\"frequency\": 3, \"value\": 5130}, \"6612\": {\"frequency\": 3, \"value\": 6612}, \"6615\": {\"frequency\": 2, \"value\": 6615}, \"23000\": {\"frequency\": 2, \"value\": 23000}, \"14810\": {\"frequency\": 5, \"value\": 14810}, \"1103\": {\"frequency\": 2, \"value\": 1103}, \"6620\": {\"frequency\": 3, \"value\": 6620}, \"6621\": {\"frequency\": 2, \"value\": 6621}, \"8131\": {\"frequency\": 2, \"value\": 8131}, \"6625\": {\"frequency\": 6, \"value\": 6625}, \"6628\": {\"frequency\": 3, \"value\": 6628}, \"14821\": {\"frequency\": 1, \"value\": 14821}, \"6630\": {\"frequency\": 3, \"value\": 6630}, \"14823\": {\"frequency\": 2, \"value\": 14823}, \"6634\": {\"frequency\": 4, \"value\": 6634}, \"6635\": {\"frequency\": 2, \"value\": 6635}, \"6642\": {\"frequency\": 2, \"value\": 6642}, \"6650\": {\"frequency\": 10, \"value\": 6650}, \"6651\": {\"frequency\": 2, \"value\": 6651}, \"6653\": {\"frequency\": 3, \"value\": 6653}, \"6654\": {\"frequency\": 4, \"value\": 6654}, \"6655\": {\"frequency\": 3, \"value\": 6655}, \"6656\": {\"frequency\": 2, \"value\": 6656}, \"6657\": {\"frequency\": 1, \"value\": 6657}, \"14850\": {\"frequency\": 5, \"value\": 14850}, \"6659\": {\"frequency\": 1, \"value\": 6659}, \"6660\": {\"frequency\": 5, \"value\": 6660}, \"31238\": {\"frequency\": 1, \"value\": 31238}, \"6663\": {\"frequency\": 2, \"value\": 6663}, \"6664\": {\"frequency\": 3, \"value\": 6664}, \"14952\": {\"frequency\": 1, \"value\": 14952}, \"6666\": {\"frequency\": 3, \"value\": 6666}, \"6667\": {\"frequency\": 2, \"value\": 6667}, \"14864\": {\"frequency\": 1, \"value\": 14864}, \"12220\": {\"frequency\": 3, \"value\": 12220}, \"6675\": {\"frequency\": 4, \"value\": 6675}, \"6677\": {\"frequency\": 2, \"value\": 6677}, \"6678\": {\"frequency\": 3, \"value\": 6678}, \"14872\": {\"frequency\": 1, \"value\": 14872}, \"12036\": {\"frequency\": 1, \"value\": 12036}, \"13402\": {\"frequency\": 2, \"value\": 13402}, \"6687\": {\"frequency\": 3, \"value\": 6687}, \"6688\": {\"frequency\": 2, \"value\": 6688}, \"64033\": {\"frequency\": 2, \"value\": 64033}, \"1115\": {\"frequency\": 1, \"value\": 1115}, \"6695\": {\"frequency\": 3, \"value\": 6695}, \"6698\": {\"frequency\": 2, \"value\": 6698}, \"6699\": {\"frequency\": 2, \"value\": 6699}, \"6700\": {\"frequency\": 8, \"value\": 6700}, \"23085\": {\"frequency\": 1, \"value\": 23085}, \"6702\": {\"frequency\": 1, \"value\": 6702}, \"37981\": {\"frequency\": 1, \"value\": 37981}, \"6705\": {\"frequency\": 2, \"value\": 6705}, \"39478\": {\"frequency\": 1, \"value\": 39478}, \"55867\": {\"frequency\": 1, \"value\": 55867}, \"23100\": {\"frequency\": 2, \"value\": 23100}, \"12042\": {\"frequency\": 3, \"value\": 12042}, \"6718\": {\"frequency\": 1, \"value\": 6718}, \"6720\": {\"frequency\": 16, \"value\": 6720}, \"1120\": {\"frequency\": 3, \"value\": 1120}, \"7316\": {\"frequency\": 3, \"value\": 7316}, \"14915\": {\"frequency\": 1, \"value\": 14915}, \"7246\": {\"frequency\": 2, \"value\": 7246}, \"6725\": {\"frequency\": 2, \"value\": 6725}, \"6726\": {\"frequency\": 1, \"value\": 6726}, \"64073\": {\"frequency\": 1, \"value\": 64073}, \"6583\": {\"frequency\": 2, \"value\": 6583}, \"6732\": {\"frequency\": 2, \"value\": 6732}, \"14925\": {\"frequency\": 2, \"value\": 14925}, \"6738\": {\"frequency\": 4, \"value\": 6738}, \"6740\": {\"frequency\": 2, \"value\": 6740}, \"6743\": {\"frequency\": 2, \"value\": 6743}, \"6744\": {\"frequency\": 2, \"value\": 6744}, \"5220\": {\"frequency\": 4, \"value\": 5220}, \"12047\": {\"frequency\": 2, \"value\": 12047}, \"6750\": {\"frequency\": 26, \"value\": 6750}, \"60984\": {\"frequency\": 4, \"value\": 60984}, \"6752\": {\"frequency\": 3, \"value\": 6752}, \"4862\": {\"frequency\": 3, \"value\": 4862}, \"6755\": {\"frequency\": 3, \"value\": 6755}, \"219542\": {\"frequency\": 3, \"value\": 219542}, \"6760\": {\"frequency\": 4, \"value\": 6760}, \"6765\": {\"frequency\": 4, \"value\": 6765}, \"6766\": {\"frequency\": 3, \"value\": 6766}, \"6768\": {\"frequency\": 2, \"value\": 6768}, \"6770\": {\"frequency\": 3, \"value\": 6770}, \"6771\": {\"frequency\": 5, \"value\": 6771}, \"14782\": {\"frequency\": 1, \"value\": 14782}, \"6774\": {\"frequency\": 2, \"value\": 6774}, \"6775\": {\"frequency\": 5, \"value\": 6775}, \"6776\": {\"frequency\": 3, \"value\": 6776}, \"6778\": {\"frequency\": 1, \"value\": 6778}, \"6780\": {\"frequency\": 3, \"value\": 6780}, \"6783\": {\"frequency\": 3, \"value\": 6783}, \"9323\": {\"frequency\": 2, \"value\": 9323}, \"6788\": {\"frequency\": 3, \"value\": 6788}, \"6791\": {\"frequency\": 1, \"value\": 6791}, \"14984\": {\"frequency\": 1, \"value\": 14984}, \"14985\": {\"frequency\": 2, \"value\": 14985}, \"14986\": {\"frequency\": 2, \"value\": 14986}, \"6773\": {\"frequency\": 3, \"value\": 6773}, \"6800\": {\"frequency\": 16, \"value\": 6800}, \"12056\": {\"frequency\": 2, \"value\": 12056}, \"6804\": {\"frequency\": 2, \"value\": 6804}, \"6807\": {\"frequency\": 3, \"value\": 6807}, \"15000\": {\"frequency\": 28, \"value\": 15000}, \"6809\": {\"frequency\": 1, \"value\": 6809}, \"15002\": {\"frequency\": 2, \"value\": 15002}, \"15003\": {\"frequency\": 2, \"value\": 15003}, \"23200\": {\"frequency\": 1, \"value\": 23200}, \"203425\": {\"frequency\": 2, \"value\": 203425}, \"6818\": {\"frequency\": 2, \"value\": 6818}, \"3867\": {\"frequency\": 2, \"value\": 3867}, \"6820\": {\"frequency\": 6, \"value\": 6820}, \"2502\": {\"frequency\": 2, \"value\": 2502}, \"6824\": {\"frequency\": 1, \"value\": 6824}, \"6825\": {\"frequency\": 7, \"value\": 6825}, \"6826\": {\"frequency\": 2, \"value\": 6826}, \"6828\": {\"frequency\": 2, \"value\": 6828}, \"15021\": {\"frequency\": 1, \"value\": 15021}, \"15022\": {\"frequency\": 4, \"value\": 15022}, \"6833\": {\"frequency\": 2, \"value\": 6833}, \"15029\": {\"frequency\": 2, \"value\": 15029}, \"6838\": {\"frequency\": 2, \"value\": 6838}, \"6840\": {\"frequency\": 11, \"value\": 6840}, \"6845\": {\"frequency\": 2, \"value\": 6845}, \"6848\": {\"frequency\": 2, \"value\": 6848}, \"6850\": {\"frequency\": 2, \"value\": 6850}, \"6852\": {\"frequency\": 1, \"value\": 6852}, \"13430\": {\"frequency\": 3, \"value\": 13430}, \"6854\": {\"frequency\": 2, \"value\": 6854}, \"6856\": {\"frequency\": 2, \"value\": 6856}, \"55756\": {\"frequency\": 2, \"value\": 55756}, \"6858\": {\"frequency\": 1, \"value\": 6858}, \"6860\": {\"frequency\": 2, \"value\": 6860}, \"6862\": {\"frequency\": 2, \"value\": 6862}, \"9503\": {\"frequency\": 1, \"value\": 9503}, \"6865\": {\"frequency\": 2, \"value\": 6865}, \"6867\": {\"frequency\": 3, \"value\": 6867}, \"6871\": {\"frequency\": 2, \"value\": 6871}, \"6872\": {\"frequency\": 2, \"value\": 6872}, \"6874\": {\"frequency\": 4, \"value\": 6874}, \"6875\": {\"frequency\": 6, \"value\": 6875}, \"15068\": {\"frequency\": 1, \"value\": 15068}, \"14012\": {\"frequency\": 1, \"value\": 14012}, \"5283\": {\"frequency\": 2, \"value\": 5283}, \"218235\": {\"frequency\": 2, \"value\": 218235}, \"6887\": {\"frequency\": 2, \"value\": 6887}, \"31465\": {\"frequency\": 1, \"value\": 31465}, \"6890\": {\"frequency\": 2, \"value\": 6890}, \"15084\": {\"frequency\": 2, \"value\": 15084}, \"15085\": {\"frequency\": 1, \"value\": 15085}, \"1149\": {\"frequency\": 2, \"value\": 1149}, \"6896\": {\"frequency\": 2, \"value\": 6896}, \"6900\": {\"frequency\": 18, \"value\": 6900}, \"6902\": {\"frequency\": 2, \"value\": 6902}, \"6903\": {\"frequency\": 2, \"value\": 6903}, \"6906\": {\"frequency\": 4, \"value\": 6906}, \"6908\": {\"frequency\": 3, \"value\": 6908}, \"6909\": {\"frequency\": 2, \"value\": 6909}, \"6911\": {\"frequency\": 2, \"value\": 6911}, \"6921\": {\"frequency\": 1, \"value\": 6921}, \"6923\": {\"frequency\": 2, \"value\": 6923}, \"6924\": {\"frequency\": 2, \"value\": 6924}, \"15119\": {\"frequency\": 1, \"value\": 15119}, \"15120\": {\"frequency\": 4, \"value\": 15120}, \"6930\": {\"frequency\": 9, \"value\": 6930}, \"6936\": {\"frequency\": 1, \"value\": 6936}, \"50308\": {\"frequency\": 1, \"value\": 50308}, \"15139\": {\"frequency\": 1, \"value\": 15139}, \"15143\": {\"frequency\": 2, \"value\": 15143}, \"27589\": {\"frequency\": 2, \"value\": 27589}, \"9351\": {\"frequency\": 1, \"value\": 9351}, \"47916\": {\"frequency\": 4, \"value\": 47916}, \"6957\": {\"frequency\": 1, \"value\": 6957}, \"5720\": {\"frequency\": 9, \"value\": 5720}, \"15151\": {\"frequency\": 2, \"value\": 15151}, \"6960\": {\"frequency\": 5, \"value\": 6960}, \"9779\": {\"frequency\": 3, \"value\": 9779}, \"6967\": {\"frequency\": 3, \"value\": 6967}, \"6969\": {\"frequency\": 5, \"value\": 6969}, \"6970\": {\"frequency\": 2, \"value\": 6970}, \"13450\": {\"frequency\": 2, \"value\": 13450}, \"6975\": {\"frequency\": 4, \"value\": 6975}, \"6977\": {\"frequency\": 1, \"value\": 6977}, \"6978\": {\"frequency\": 4, \"value\": 6978}, \"6980\": {\"frequency\": 2, \"value\": 6980}, \"6983\": {\"frequency\": 2, \"value\": 6983}, \"6984\": {\"frequency\": 2, \"value\": 6984}, \"6985\": {\"frequency\": 3, \"value\": 6985}, \"219978\": {\"frequency\": 4, \"value\": 219978}, \"6988\": {\"frequency\": 3, \"value\": 6988}, \"2530\": {\"frequency\": 1, \"value\": 2530}, \"1165\": {\"frequency\": 3, \"value\": 1165}, \"6992\": {\"frequency\": 2, \"value\": 6992}, \"6994\": {\"frequency\": 2, \"value\": 6994}, \"15188\": {\"frequency\": 2, \"value\": 15188}, \"7000\": {\"frequency\": 76, \"value\": 7000}, \"7004\": {\"frequency\": 3, \"value\": 7004}, \"7005\": {\"frequency\": 2, \"value\": 7005}, \"7007\": {\"frequency\": 3, \"value\": 7007}, \"15200\": {\"frequency\": 3, \"value\": 15200}, \"9360\": {\"frequency\": 10, \"value\": 9360}, \"12091\": {\"frequency\": 2, \"value\": 12091}, \"7012\": {\"frequency\": 1, \"value\": 7012}, \"7014\": {\"frequency\": 3, \"value\": 7014}, \"13457\": {\"frequency\": 2, \"value\": 13457}, \"23400\": {\"frequency\": 3, \"value\": 23400}, \"12092\": {\"frequency\": 4, \"value\": 12092}, \"15210\": {\"frequency\": 3, \"value\": 15210}, \"7020\": {\"frequency\": 12, \"value\": 7020}, \"13600\": {\"frequency\": 3, \"value\": 13600}, \"7024\": {\"frequency\": 2, \"value\": 7024}, \"2416\": {\"frequency\": 1, \"value\": 2416}, \"97138\": {\"frequency\": 2, \"value\": 97138}, \"7029\": {\"frequency\": 2, \"value\": 7029}, \"7030\": {\"frequency\": 5, \"value\": 7030}, \"7633\": {\"frequency\": 2, \"value\": 7633}, \"7034\": {\"frequency\": 2, \"value\": 7034}, \"7035\": {\"frequency\": 4, \"value\": 7035}, \"865\": {\"frequency\": 3, \"value\": 865}, \"7040\": {\"frequency\": 4, \"value\": 7040}, \"15235\": {\"frequency\": 1, \"value\": 15235}, \"7047\": {\"frequency\": 2, \"value\": 7047}, \"7048\": {\"frequency\": 2, \"value\": 7048}, \"7050\": {\"frequency\": 3, \"value\": 7050}, \"7051\": {\"frequency\": 2, \"value\": 7051}, \"7054\": {\"frequency\": 2, \"value\": 7054}, \"7055\": {\"frequency\": 2, \"value\": 7055}, \"7056\": {\"frequency\": 4, \"value\": 7056}, \"15250\": {\"frequency\": 2, \"value\": 15250}, \"7062\": {\"frequency\": 3, \"value\": 7062}, \"7064\": {\"frequency\": 2, \"value\": 7064}, \"15258\": {\"frequency\": 2, \"value\": 15258}, \"7068\": {\"frequency\": 2, \"value\": 7068}, \"1178\": {\"frequency\": 2, \"value\": 1178}, \"7070\": {\"frequency\": 2, \"value\": 7070}, \"7071\": {\"frequency\": 2, \"value\": 7071}, \"15264\": {\"frequency\": 2, \"value\": 15264}, \"7076\": {\"frequency\": 3, \"value\": 7076}, \"7080\": {\"frequency\": 7, \"value\": 7080}, \"7081\": {\"frequency\": 4, \"value\": 7081}, \"7085\": {\"frequency\": 3, \"value\": 7085}, \"9373\": {\"frequency\": 2, \"value\": 9373}, \"7089\": {\"frequency\": 2, \"value\": 7089}, \"7091\": {\"frequency\": 2, \"value\": 7091}, \"1182\": {\"frequency\": 2, \"value\": 1182}, \"7095\": {\"frequency\": 3, \"value\": 7095}, \"1600\": {\"frequency\": 2, \"value\": 1600}, \"7098\": {\"frequency\": 2, \"value\": 7098}, \"31675\": {\"frequency\": 1, \"value\": 31675}, \"7100\": {\"frequency\": 6, \"value\": 7100}, \"7102\": {\"frequency\": 6, \"value\": 7102}, \"23488\": {\"frequency\": 1, \"value\": 23488}, \"7107\": {\"frequency\": 2, \"value\": 7107}, \"7108\": {\"frequency\": 2, \"value\": 7108}, \"80837\": {\"frequency\": 1, \"value\": 80837}, \"7110\": {\"frequency\": 7, \"value\": 7110}, \"7111\": {\"frequency\": 3, \"value\": 7111}, \"7112\": {\"frequency\": 3, \"value\": 7112}, \"7115\": {\"frequency\": 1, \"value\": 7115}, \"7119\": {\"frequency\": 2, \"value\": 7119}, \"7120\": {\"frequency\": 5, \"value\": 7120}, \"2552\": {\"frequency\": 3, \"value\": 2552}, \"7123\": {\"frequency\": 2, \"value\": 7123}, \"10330\": {\"frequency\": 3, \"value\": 10330}, \"7125\": {\"frequency\": 9, \"value\": 7125}, \"7128\": {\"frequency\": 6, \"value\": 7128}, \"7129\": {\"frequency\": 2, \"value\": 7129}, \"7130\": {\"frequency\": 2, \"value\": 7130}, \"7131\": {\"frequency\": 2, \"value\": 7131}, \"7133\": {\"frequency\": 1, \"value\": 7133}, \"7134\": {\"frequency\": 3, \"value\": 7134}, \"7135\": {\"frequency\": 1, \"value\": 7135}, \"7136\": {\"frequency\": 2, \"value\": 7136}, \"7137\": {\"frequency\": 2, \"value\": 7137}, \"23522\": {\"frequency\": 4, \"value\": 23522}, \"7140\": {\"frequency\": 19, \"value\": 7140}, \"10866\": {\"frequency\": 2, \"value\": 10866}, \"213008\": {\"frequency\": 6, \"value\": 213008}, \"7145\": {\"frequency\": 2, \"value\": 7145}, \"7147\": {\"frequency\": 1, \"value\": 7147}, \"7149\": {\"frequency\": 2, \"value\": 7149}, \"7150\": {\"frequency\": 9, \"value\": 7150}, \"7153\": {\"frequency\": 3, \"value\": 7153}, \"15347\": {\"frequency\": 1, \"value\": 15347}, \"7156\": {\"frequency\": 2, \"value\": 7156}, \"15349\": {\"frequency\": 1, \"value\": 15349}, \"9385\": {\"frequency\": 2, \"value\": 9385}, \"7161\": {\"frequency\": 2, \"value\": 7161}, \"7163\": {\"frequency\": 3, \"value\": 7163}, \"15360\": {\"frequency\": 2, \"value\": 15360}, \"10752\": {\"frequency\": 2, \"value\": 10752}, \"7171\": {\"frequency\": 3, \"value\": 7171}, \"7172\": {\"frequency\": 2, \"value\": 7172}, \"7173\": {\"frequency\": 3, \"value\": 7173}, \"15367\": {\"frequency\": 1, \"value\": 15367}, \"7178\": {\"frequency\": 2, \"value\": 7178}, \"7180\": {\"frequency\": 1, \"value\": 7180}, \"6658\": {\"frequency\": 2, \"value\": 6658}, \"15375\": {\"frequency\": 4, \"value\": 15375}, \"23568\": {\"frequency\": 1, \"value\": 23568}, \"435600\": {\"frequency\": 6, \"value\": 435600}, \"7187\": {\"frequency\": 7, \"value\": 7187}, \"7191\": {\"frequency\": 3, \"value\": 7191}, \"7192\": {\"frequency\": 2, \"value\": 7192}, \"7194\": {\"frequency\": 7, \"value\": 7194}, \"7197\": {\"frequency\": 2, \"value\": 7197}, \"7198\": {\"frequency\": 4, \"value\": 7198}, \"7199\": {\"frequency\": 7, \"value\": 7199}, \"7200\": {\"frequency\": 220, \"value\": 7200}, \"7201\": {\"frequency\": 8, \"value\": 7201}, \"7202\": {\"frequency\": 6, \"value\": 7202}, \"7203\": {\"frequency\": 7, \"value\": 7203}, \"7204\": {\"frequency\": 4, \"value\": 7204}, \"7205\": {\"frequency\": 6, \"value\": 7205}, \"7207\": {\"frequency\": 5, \"value\": 7207}, \"7208\": {\"frequency\": 8, \"value\": 7208}, \"72745\": {\"frequency\": 1, \"value\": 72745}, \"7210\": {\"frequency\": 38, \"value\": 7210}, \"7213\": {\"frequency\": 2, \"value\": 7213}, \"7214\": {\"frequency\": 3, \"value\": 7214}, \"12125\": {\"frequency\": 1, \"value\": 12125}, \"7216\": {\"frequency\": 5, \"value\": 7216}, \"7218\": {\"frequency\": 2, \"value\": 7218}, \"15411\": {\"frequency\": 2, \"value\": 15411}, \"7220\": {\"frequency\": 5, \"value\": 7220}, \"7221\": {\"frequency\": 4, \"value\": 7221}, \"7222\": {\"frequency\": 2, \"value\": 7222}, \"7223\": {\"frequency\": 2, \"value\": 7223}, \"7224\": {\"frequency\": 2, \"value\": 7224}, \"7225\": {\"frequency\": 7, \"value\": 7225}, \"7226\": {\"frequency\": 3, \"value\": 7226}, \"7227\": {\"frequency\": 3, \"value\": 7227}, \"15420\": {\"frequency\": 1, \"value\": 15420}, \"7229\": {\"frequency\": 3, \"value\": 7229}, \"7230\": {\"frequency\": 5, \"value\": 7230}, \"7231\": {\"frequency\": 3, \"value\": 7231}, \"7232\": {\"frequency\": 7, \"value\": 7232}, \"7236\": {\"frequency\": 5, \"value\": 7236}, \"7238\": {\"frequency\": 2, \"value\": 7238}, \"23625\": {\"frequency\": 1, \"value\": 23625}, \"7242\": {\"frequency\": 7, \"value\": 7242}, \"7245\": {\"frequency\": 17, \"value\": 7245}, \"40014\": {\"frequency\": 1, \"value\": 40014}, \"7247\": {\"frequency\": 2, \"value\": 7247}, \"13496\": {\"frequency\": 1, \"value\": 13496}, \"7250\": {\"frequency\": 14, \"value\": 7250}, \"7251\": {\"frequency\": 4, \"value\": 7251}, \"7252\": {\"frequency\": 3, \"value\": 7252}, \"7253\": {\"frequency\": 1, \"value\": 7253}, \"7254\": {\"frequency\": 3, \"value\": 7254}, \"7255\": {\"frequency\": 1, \"value\": 7255}, \"7258\": {\"frequency\": 3, \"value\": 7258}, \"7259\": {\"frequency\": 1, \"value\": 7259}, \"7260\": {\"frequency\": 17, \"value\": 7260}, \"7261\": {\"frequency\": 2, \"value\": 7261}, \"7262\": {\"frequency\": 1, \"value\": 7262}, \"7264\": {\"frequency\": 4, \"value\": 7264}, \"7265\": {\"frequency\": 2, \"value\": 7265}, \"7266\": {\"frequency\": 3, \"value\": 7266}, \"7267\": {\"frequency\": 2, \"value\": 7267}, \"7268\": {\"frequency\": 3, \"value\": 7268}, \"210830\": {\"frequency\": 2, \"value\": 210830}, \"7272\": {\"frequency\": 2, \"value\": 7272}, \"7274\": {\"frequency\": 2, \"value\": 7274}, \"7275\": {\"frequency\": 6, \"value\": 7275}, \"7276\": {\"frequency\": 5, \"value\": 7276}, \"7277\": {\"frequency\": 3, \"value\": 7277}, \"33981\": {\"frequency\": 1, \"value\": 33981}, \"7280\": {\"frequency\": 17, \"value\": 7280}, \"10608\": {\"frequency\": 2, \"value\": 10608}, \"7282\": {\"frequency\": 3, \"value\": 7282}, \"105587\": {\"frequency\": 1, \"value\": 105587}, \"7286\": {\"frequency\": 1, \"value\": 7286}, \"7287\": {\"frequency\": 2, \"value\": 7287}, \"15480\": {\"frequency\": 2, \"value\": 15480}, \"7290\": {\"frequency\": 5, \"value\": 7290}, \"7291\": {\"frequency\": 2, \"value\": 7291}, \"7292\": {\"frequency\": 5, \"value\": 7292}, \"81021\": {\"frequency\": 4, \"value\": 81021}, \"7294\": {\"frequency\": 3, \"value\": 7294}, \"23680\": {\"frequency\": 1, \"value\": 23680}, \"7297\": {\"frequency\": 2, \"value\": 7297}, \"7299\": {\"frequency\": 1, \"value\": 7299}, \"7300\": {\"frequency\": 17, \"value\": 7300}, \"7302\": {\"frequency\": 1, \"value\": 7302}, \"7303\": {\"frequency\": 3, \"value\": 7303}, \"7304\": {\"frequency\": 2, \"value\": 7304}, \"7306\": {\"frequency\": 2, \"value\": 7306}, \"7307\": {\"frequency\": 2, \"value\": 7307}, \"7308\": {\"frequency\": 2, \"value\": 7308}, \"7309\": {\"frequency\": 2, \"value\": 7309}, \"7311\": {\"frequency\": 2, \"value\": 7311}, \"7312\": {\"frequency\": 4, \"value\": 7312}, \"7313\": {\"frequency\": 5, \"value\": 7313}, \"7314\": {\"frequency\": 9, \"value\": 7314}, \"7315\": {\"frequency\": 2, \"value\": 7315}, \"15508\": {\"frequency\": 2, \"value\": 15508}, \"7318\": {\"frequency\": 2, \"value\": 7318}, \"7320\": {\"frequency\": 11, \"value\": 7320}, \"7322\": {\"frequency\": 1, \"value\": 7322}, \"7324\": {\"frequency\": 3, \"value\": 7324}, \"7326\": {\"frequency\": 2, \"value\": 7326}, \"15520\": {\"frequency\": 2, \"value\": 15520}, \"40097\": {\"frequency\": 1, \"value\": 40097}, \"7330\": {\"frequency\": 2, \"value\": 7330}, \"7331\": {\"frequency\": 1, \"value\": 7331}, \"7332\": {\"frequency\": 2, \"value\": 7332}, \"15525\": {\"frequency\": 1, \"value\": 15525}, \"7334\": {\"frequency\": 4, \"value\": 7334}, \"8049\": {\"frequency\": 4, \"value\": 8049}, \"7336\": {\"frequency\": 3, \"value\": 7336}, \"212137\": {\"frequency\": 3, \"value\": 212137}, \"7338\": {\"frequency\": 2, \"value\": 7338}, \"7341\": {\"frequency\": 2, \"value\": 7341}, \"6685\": {\"frequency\": 6, \"value\": 6685}, \"7344\": {\"frequency\": 7, \"value\": 7344}, \"7345\": {\"frequency\": 5, \"value\": 7345}, \"7347\": {\"frequency\": 2, \"value\": 7347}, \"15540\": {\"frequency\": 3, \"value\": 15540}, \"7349\": {\"frequency\": 2, \"value\": 7349}, \"7350\": {\"frequency\": 64, \"value\": 7350}, \"7352\": {\"frequency\": 2, \"value\": 7352}, \"7355\": {\"frequency\": 2, \"value\": 7355}, \"125452\": {\"frequency\": 2, \"value\": 125452}, \"7360\": {\"frequency\": 2, \"value\": 7360}, \"7361\": {\"frequency\": 2, \"value\": 7361}, \"13515\": {\"frequency\": 3, \"value\": 13515}, \"7364\": {\"frequency\": 2, \"value\": 7364}, \"1228\": {\"frequency\": 2, \"value\": 1228}, \"7370\": {\"frequency\": 5, \"value\": 7370}, \"40139\": {\"frequency\": 1, \"value\": 40139}, \"7372\": {\"frequency\": 3, \"value\": 7372}, \"7373\": {\"frequency\": 2, \"value\": 7373}, \"7375\": {\"frequency\": 3, \"value\": 7375}, \"89298\": {\"frequency\": 4, \"value\": 89298}, \"7379\": {\"frequency\": 2, \"value\": 7379}, \"7380\": {\"frequency\": 5, \"value\": 7380}, \"8057\": {\"frequency\": 2, \"value\": 8057}, \"7384\": {\"frequency\": 5, \"value\": 7384}, \"7386\": {\"frequency\": 2, \"value\": 7386}, \"39000\": {\"frequency\": 2, \"value\": 39000}, \"7388\": {\"frequency\": 2, \"value\": 7388}, \"7389\": {\"frequency\": 3, \"value\": 7389}, \"48351\": {\"frequency\": 5, \"value\": 48351}, \"7392\": {\"frequency\": 4, \"value\": 7392}, \"7394\": {\"frequency\": 1, \"value\": 7394}, \"7399\": {\"frequency\": 3, \"value\": 7399}, \"7400\": {\"frequency\": 16, \"value\": 7400}, \"15593\": {\"frequency\": 2, \"value\": 15593}, \"7403\": {\"frequency\": 3, \"value\": 7403}, \"7405\": {\"frequency\": 3, \"value\": 7405}, \"7066\": {\"frequency\": 3, \"value\": 7066}, \"15600\": {\"frequency\": 10, \"value\": 15600}, \"43560\": {\"frequency\": 21, \"value\": 43560}, \"7410\": {\"frequency\": 8, \"value\": 7410}, \"1235\": {\"frequency\": 2, \"value\": 1235}, \"7412\": {\"frequency\": 6, \"value\": 7412}, \"7414\": {\"frequency\": 3, \"value\": 7414}, \"7415\": {\"frequency\": 4, \"value\": 7415}, \"7416\": {\"frequency\": 7, \"value\": 7416}, \"7417\": {\"frequency\": 4, \"value\": 7417}, \"7419\": {\"frequency\": 4, \"value\": 7419}, \"7420\": {\"frequency\": 9, \"value\": 7420}, \"7423\": {\"frequency\": 2, \"value\": 7423}, \"7424\": {\"frequency\": 2, \"value\": 7424}, \"7425\": {\"frequency\": 3, \"value\": 7425}, \"7426\": {\"frequency\": 1, \"value\": 7426}, \"1238\": {\"frequency\": 2, \"value\": 1238}, \"40202\": {\"frequency\": 1, \"value\": 40202}, \"7435\": {\"frequency\": 2, \"value\": 7435}, \"114562\": {\"frequency\": 1, \"value\": 114562}, \"7439\": {\"frequency\": 4, \"value\": 7439}, \"7440\": {\"frequency\": 14, \"value\": 7440}, \"7442\": {\"frequency\": 1, \"value\": 7442}, \"15639\": {\"frequency\": 1, \"value\": 15639}, \"15641\": {\"frequency\": 2, \"value\": 15641}, \"7450\": {\"frequency\": 3, \"value\": 7450}, \"6703\": {\"frequency\": 1, \"value\": 6703}, \"7452\": {\"frequency\": 2, \"value\": 7452}, \"5338\": {\"frequency\": 3, \"value\": 5338}, \"7455\": {\"frequency\": 5, \"value\": 7455}, \"1612\": {\"frequency\": 3, \"value\": 1612}, \"7851\": {\"frequency\": 2, \"value\": 7851}, \"7460\": {\"frequency\": 2, \"value\": 7460}, \"15653\": {\"frequency\": 2, \"value\": 15653}, \"7465\": {\"frequency\": 3, \"value\": 7465}, \"7467\": {\"frequency\": 3, \"value\": 7467}, \"7469\": {\"frequency\": 1, \"value\": 7469}, \"7470\": {\"frequency\": 3, \"value\": 7470}, \"7742\": {\"frequency\": 5, \"value\": 7742}, \"7473\": {\"frequency\": 3, \"value\": 7473}, \"7475\": {\"frequency\": 10, \"value\": 7475}, \"56628\": {\"frequency\": 3, \"value\": 56628}, \"3323\": {\"frequency\": 1, \"value\": 3323}, \"7480\": {\"frequency\": 11, \"value\": 7480}, \"17707\": {\"frequency\": 2, \"value\": 17707}, \"7482\": {\"frequency\": 5, \"value\": 7482}, \"7484\": {\"frequency\": 2, \"value\": 7484}, \"15677\": {\"frequency\": 1, \"value\": 15677}, \"15678\": {\"frequency\": 1, \"value\": 15678}, \"7488\": {\"frequency\": 4, \"value\": 7488}, \"15681\": {\"frequency\": 2, \"value\": 15681}, \"7490\": {\"frequency\": 7, \"value\": 7490}, \"7491\": {\"frequency\": 3, \"value\": 7491}, \"7492\": {\"frequency\": 2, \"value\": 7492}, \"6710\": {\"frequency\": 6, \"value\": 6710}, \"7494\": {\"frequency\": 2, \"value\": 7494}, \"7495\": {\"frequency\": 2, \"value\": 7495}, \"7500\": {\"frequency\": 119, \"value\": 7500}, \"7503\": {\"frequency\": 2, \"value\": 7503}, \"7504\": {\"frequency\": 1, \"value\": 7504}, \"7505\": {\"frequency\": 2, \"value\": 7505}, \"7506\": {\"frequency\": 2, \"value\": 7506}, \"7508\": {\"frequency\": 4, \"value\": 7508}, \"7510\": {\"frequency\": 3, \"value\": 7510}, \"23899\": {\"frequency\": 1, \"value\": 23899}, \"7517\": {\"frequency\": 2, \"value\": 7517}, \"7519\": {\"frequency\": 3, \"value\": 7519}, \"7520\": {\"frequency\": 5, \"value\": 7520}, \"7521\": {\"frequency\": 2, \"value\": 7521}, \"7524\": {\"frequency\": 2, \"value\": 7524}, \"7526\": {\"frequency\": 4, \"value\": 7526}, \"7532\": {\"frequency\": 2, \"value\": 7532}, \"32109\": {\"frequency\": 2, \"value\": 32109}, \"6717\": {\"frequency\": 2, \"value\": 6717}, \"1256\": {\"frequency\": 3, \"value\": 1256}, \"7538\": {\"frequency\": 3, \"value\": 7538}, \"3987\": {\"frequency\": 1, \"value\": 3987}, \"7540\": {\"frequency\": 6, \"value\": 7540}, \"7541\": {\"frequency\": 1, \"value\": 7541}, \"7543\": {\"frequency\": 2, \"value\": 7543}, \"105850\": {\"frequency\": 2, \"value\": 105850}, \"7549\": {\"frequency\": 2, \"value\": 7549}, \"7550\": {\"frequency\": 2, \"value\": 7550}, \"40319\": {\"frequency\": 1, \"value\": 40319}, \"7552\": {\"frequency\": 5, \"value\": 7552}, \"7553\": {\"frequency\": 2, \"value\": 7553}, \"7555\": {\"frequency\": 3, \"value\": 7555}, \"15750\": {\"frequency\": 2, \"value\": 15750}, \"7559\": {\"frequency\": 1, \"value\": 7559}, \"7560\": {\"frequency\": 48, \"value\": 7560}, \"7561\": {\"frequency\": 2, \"value\": 7561}, \"7562\": {\"frequency\": 1, \"value\": 7562}, \"7565\": {\"frequency\": 2, \"value\": 7565}, \"7566\": {\"frequency\": 4, \"value\": 7566}, \"7567\": {\"frequency\": 2, \"value\": 7567}, \"7569\": {\"frequency\": 2, \"value\": 7569}, \"7570\": {\"frequency\": 2, \"value\": 7570}, \"7571\": {\"frequency\": 1, \"value\": 7571}, \"40341\": {\"frequency\": 1, \"value\": 40341}, \"7575\": {\"frequency\": 9, \"value\": 7575}, \"15770\": {\"frequency\": 1, \"value\": 15770}, \"7579\": {\"frequency\": 1, \"value\": 7579}, \"7582\": {\"frequency\": 2, \"value\": 7582}, \"7584\": {\"frequency\": 2, \"value\": 7584}, \"7585\": {\"frequency\": 2, \"value\": 7585}, \"7587\": {\"frequency\": 2, \"value\": 7587}, \"7589\": {\"frequency\": 3, \"value\": 7589}, \"7590\": {\"frequency\": 8, \"value\": 7590}, \"15783\": {\"frequency\": 2, \"value\": 15783}, \"15788\": {\"frequency\": 2, \"value\": 15788}, \"7598\": {\"frequency\": 3, \"value\": 7598}, \"7599\": {\"frequency\": 4, \"value\": 7599}, \"7600\": {\"frequency\": 12, \"value\": 7600}, \"23985\": {\"frequency\": 1, \"value\": 23985}, \"122038\": {\"frequency\": 1, \"value\": 122038}, \"7605\": {\"frequency\": 3, \"value\": 7605}, \"15798\": {\"frequency\": 1, \"value\": 15798}, \"7607\": {\"frequency\": 2, \"value\": 7607}, \"7609\": {\"frequency\": 3, \"value\": 7609}, \"7610\": {\"frequency\": 2, \"value\": 7610}, \"8164\": {\"frequency\": 4, \"value\": 8164}, \"7614\": {\"frequency\": 2, \"value\": 7614}, \"7615\": {\"frequency\": 4, \"value\": 7615}, \"24000\": {\"frequency\": 1, \"value\": 24000}, \"155073\": {\"frequency\": 1, \"value\": 155073}, \"6731\": {\"frequency\": 6, \"value\": 6731}, \"7620\": {\"frequency\": 30, \"value\": 7620}, \"7623\": {\"frequency\": 2, \"value\": 7623}, \"9216\": {\"frequency\": 3, \"value\": 9216}, \"7625\": {\"frequency\": 3, \"value\": 7625}, \"7626\": {\"frequency\": 2, \"value\": 7626}, \"8098\": {\"frequency\": 2, \"value\": 8098}, \"7630\": {\"frequency\": 4, \"value\": 7630}, \"7631\": {\"frequency\": 1, \"value\": 7631}, \"7632\": {\"frequency\": 5, \"value\": 7632}, \"5368\": {\"frequency\": 2, \"value\": 5368}, \"7634\": {\"frequency\": 3, \"value\": 7634}, \"7636\": {\"frequency\": 3, \"value\": 7636}, \"7639\": {\"frequency\": 2, \"value\": 7639}, \"7641\": {\"frequency\": 3, \"value\": 7641}, \"7642\": {\"frequency\": 4, \"value\": 7642}, \"7644\": {\"frequency\": 3, \"value\": 7644}, \"15837\": {\"frequency\": 1, \"value\": 15837}, \"12197\": {\"frequency\": 2, \"value\": 12197}, \"7649\": {\"frequency\": 2, \"value\": 7649}, \"15842\": {\"frequency\": 1, \"value\": 15842}, \"10962\": {\"frequency\": 3, \"value\": 10962}, \"1276\": {\"frequency\": 3, \"value\": 1276}, \"7658\": {\"frequency\": 2, \"value\": 7658}, \"4007\": {\"frequency\": 2, \"value\": 4007}, \"7660\": {\"frequency\": 3, \"value\": 7660}, \"65005\": {\"frequency\": 1, \"value\": 65005}, \"32239\": {\"frequency\": 1, \"value\": 32239}, \"7665\": {\"frequency\": 6, \"value\": 7665}, \"7667\": {\"frequency\": 4, \"value\": 7667}, \"7668\": {\"frequency\": 2, \"value\": 7668}, \"7669\": {\"frequency\": 1, \"value\": 7669}, \"40438\": {\"frequency\": 1, \"value\": 40438}, \"7673\": {\"frequency\": 2, \"value\": 7673}, \"1279\": {\"frequency\": 4, \"value\": 1279}, \"7679\": {\"frequency\": 3, \"value\": 7679}, \"7680\": {\"frequency\": 27, \"value\": 7680}, \"17664\": {\"frequency\": 1, \"value\": 17664}, \"7683\": {\"frequency\": 3, \"value\": 7683}, \"7684\": {\"frequency\": 2, \"value\": 7684}, \"24069\": {\"frequency\": 1, \"value\": 24069}, \"7686\": {\"frequency\": 5, \"value\": 7686}, \"1281\": {\"frequency\": 4, \"value\": 1281}, \"7688\": {\"frequency\": 2, \"value\": 7688}, \"8108\": {\"frequency\": 2, \"value\": 8108}, \"7690\": {\"frequency\": 3, \"value\": 7690}, \"7692\": {\"frequency\": 1, \"value\": 7692}, \"7693\": {\"frequency\": 3, \"value\": 7693}, \"7694\": {\"frequency\": 4, \"value\": 7694}, \"7695\": {\"frequency\": 2, \"value\": 7695}, \"7697\": {\"frequency\": 4, \"value\": 7697}, \"7698\": {\"frequency\": 2, \"value\": 7698}, \"7700\": {\"frequency\": 66, \"value\": 7700}, \"7701\": {\"frequency\": 3, \"value\": 7701}, \"8008\": {\"frequency\": 2, \"value\": 8008}, \"40259\": {\"frequency\": 1, \"value\": 40259}, \"7708\": {\"frequency\": 3, \"value\": 7708}, \"7710\": {\"frequency\": 3, \"value\": 7710}, \"169448\": {\"frequency\": 2, \"value\": 169448}, \"7712\": {\"frequency\": 2, \"value\": 7712}, \"7713\": {\"frequency\": 2, \"value\": 7713}, \"7716\": {\"frequency\": 2, \"value\": 7716}, \"7719\": {\"frequency\": 2, \"value\": 7719}, \"7720\": {\"frequency\": 2, \"value\": 7720}, \"7722\": {\"frequency\": 2, \"value\": 7722}, \"3218\": {\"frequency\": 2, \"value\": 3218}, \"7725\": {\"frequency\": 9, \"value\": 7725}, \"7727\": {\"frequency\": 2, \"value\": 7727}, \"7728\": {\"frequency\": 2, \"value\": 7728}, \"7730\": {\"frequency\": 3, \"value\": 7730}, \"7733\": {\"frequency\": 3, \"value\": 7733}, \"7735\": {\"frequency\": 6, \"value\": 7735}, \"7737\": {\"frequency\": 2, \"value\": 7737}, \"7738\": {\"frequency\": 3, \"value\": 7738}, \"7739\": {\"frequency\": 2, \"value\": 7739}, \"7740\": {\"frequency\": 16, \"value\": 7740}, \"7741\": {\"frequency\": 2, \"value\": 7741}, \"40510\": {\"frequency\": 2, \"value\": 40510}, \"7745\": {\"frequency\": 1, \"value\": 7745}, \"7746\": {\"frequency\": 2, \"value\": 7746}, \"7749\": {\"frequency\": 3, \"value\": 7749}, \"40518\": {\"frequency\": 1, \"value\": 40518}, \"2657\": {\"frequency\": 1, \"value\": 2657}, \"7752\": {\"frequency\": 2, \"value\": 7752}, \"7753\": {\"frequency\": 2, \"value\": 7753}, \"7754\": {\"frequency\": 3, \"value\": 7754}, \"7755\": {\"frequency\": 2, \"value\": 7755}, \"7757\": {\"frequency\": 4, \"value\": 7757}, \"7759\": {\"frequency\": 2, \"value\": 7759}, \"7760\": {\"frequency\": 2, \"value\": 7760}, \"15954\": {\"frequency\": 1, \"value\": 15954}, \"1294\": {\"frequency\": 2, \"value\": 1294}, \"15960\": {\"frequency\": 1, \"value\": 15960}, \"7770\": {\"frequency\": 9, \"value\": 7770}, \"9487\": {\"frequency\": 1, \"value\": 9487}, \"7772\": {\"frequency\": 2, \"value\": 7772}, \"7775\": {\"frequency\": 3, \"value\": 7775}, \"1296\": {\"frequency\": 3, \"value\": 1296}, \"7778\": {\"frequency\": 3, \"value\": 7778}, \"7780\": {\"frequency\": 1, \"value\": 7780}, \"7781\": {\"frequency\": 2, \"value\": 7781}, \"32700\": {\"frequency\": 3, \"value\": 32700}, \"171626\": {\"frequency\": 1, \"value\": 171626}, \"7787\": {\"frequency\": 1, \"value\": 7787}, \"7790\": {\"frequency\": 2, \"value\": 7790}, \"7793\": {\"frequency\": 1, \"value\": 7793}, \"5715\": {\"frequency\": 3, \"value\": 5715}, \"7797\": {\"frequency\": 2, \"value\": 7797}, \"7798\": {\"frequency\": 2, \"value\": 7798}, \"7800\": {\"frequency\": 69, \"value\": 7800}, \"24186\": {\"frequency\": 1, \"value\": 24186}, \"7803\": {\"frequency\": 3, \"value\": 7803}, \"7806\": {\"frequency\": 2, \"value\": 7806}, \"7807\": {\"frequency\": 5, \"value\": 7807}, \"16000\": {\"frequency\": 14, \"value\": 16000}, \"7809\": {\"frequency\": 2, \"value\": 7809}, \"7810\": {\"frequency\": 5, \"value\": 7810}, \"7811\": {\"frequency\": 2, \"value\": 7811}, \"5200\": {\"frequency\": 64, \"value\": 5200}, \"5398\": {\"frequency\": 3, \"value\": 5398}, \"7819\": {\"frequency\": 3, \"value\": 7819}, \"7820\": {\"frequency\": 3, \"value\": 7820}, \"81549\": {\"frequency\": 1, \"value\": 81549}, \"16015\": {\"frequency\": 3, \"value\": 16015}, \"5400\": {\"frequency\": 54, \"value\": 5400}, \"7826\": {\"frequency\": 3, \"value\": 7826}, \"48787\": {\"frequency\": 5, \"value\": 48787}, \"16020\": {\"frequency\": 2, \"value\": 16020}, \"7830\": {\"frequency\": 5, \"value\": 7830}, \"7832\": {\"frequency\": 2, \"value\": 7832}, \"7834\": {\"frequency\": 1, \"value\": 7834}, \"11172\": {\"frequency\": 2, \"value\": 11172}, \"7838\": {\"frequency\": 4, \"value\": 7838}, \"7840\": {\"frequency\": 7, \"value\": 7840}, \"7843\": {\"frequency\": 1, \"value\": 7843}, \"7845\": {\"frequency\": 2, \"value\": 7845}, \"7848\": {\"frequency\": 2, \"value\": 7848}, \"7850\": {\"frequency\": 5, \"value\": 7850}, \"57000\": {\"frequency\": 1, \"value\": 57000}, \"7853\": {\"frequency\": 2, \"value\": 7853}, \"7854\": {\"frequency\": 5, \"value\": 7854}, \"16048\": {\"frequency\": 1, \"value\": 16048}, \"7857\": {\"frequency\": 4, \"value\": 7857}, \"16050\": {\"frequency\": 3, \"value\": 16050}, \"7859\": {\"frequency\": 2, \"value\": 7859}, \"7860\": {\"frequency\": 3, \"value\": 7860}, \"7861\": {\"frequency\": 3, \"value\": 7861}, \"7862\": {\"frequency\": 2, \"value\": 7862}, \"7863\": {\"frequency\": 2, \"value\": 7863}, \"7865\": {\"frequency\": 2, \"value\": 7865}, \"40635\": {\"frequency\": 1, \"value\": 40635}, \"7870\": {\"frequency\": 2, \"value\": 7870}, \"72309\": {\"frequency\": 3, \"value\": 72309}, \"16065\": {\"frequency\": 2, \"value\": 16065}, \"7875\": {\"frequency\": 19, \"value\": 7875}, \"7876\": {\"frequency\": 2, \"value\": 7876}, \"7877\": {\"frequency\": 3, \"value\": 7877}, \"7880\": {\"frequency\": 2, \"value\": 7880}, \"45004\": {\"frequency\": 1, \"value\": 45004}, \"7884\": {\"frequency\": 3, \"value\": 7884}, \"7885\": {\"frequency\": 2, \"value\": 7885}, \"16080\": {\"frequency\": 1, \"value\": 16080}, \"5411\": {\"frequency\": 1, \"value\": 5411}, \"7896\": {\"frequency\": 2, \"value\": 7896}, \"7897\": {\"frequency\": 3, \"value\": 7897}, \"7898\": {\"frequency\": 1, \"value\": 7898}, \"7900\": {\"frequency\": 8, \"value\": 7900}, \"7902\": {\"frequency\": 3, \"value\": 7902}, \"7903\": {\"frequency\": 2, \"value\": 7903}, \"7904\": {\"frequency\": 7, \"value\": 7904}, \"7906\": {\"frequency\": 2, \"value\": 7906}, \"7910\": {\"frequency\": 6, \"value\": 7910}, \"57063\": {\"frequency\": 6, \"value\": 57063}, \"7912\": {\"frequency\": 4, \"value\": 7912}, \"16105\": {\"frequency\": 1, \"value\": 16105}, \"7916\": {\"frequency\": 3, \"value\": 7916}, \"7920\": {\"frequency\": 25, \"value\": 7920}, \"9512\": {\"frequency\": 2, \"value\": 9512}, \"7923\": {\"frequency\": 2, \"value\": 7923}, \"7924\": {\"frequency\": 2, \"value\": 7924}, \"16117\": {\"frequency\": 4, \"value\": 16117}, \"16120\": {\"frequency\": 1, \"value\": 16120}, \"7930\": {\"frequency\": 9, \"value\": 7930}, \"7931\": {\"frequency\": 2, \"value\": 7931}, \"7936\": {\"frequency\": 6, \"value\": 7936}, \"2688\": {\"frequency\": 2, \"value\": 2688}, \"7939\": {\"frequency\": 1, \"value\": 7939}, \"7941\": {\"frequency\": 2, \"value\": 7941}, \"7942\": {\"frequency\": 2, \"value\": 7942}, \"7944\": {\"frequency\": 2, \"value\": 7944}, \"7945\": {\"frequency\": 3, \"value\": 7945}, \"7947\": {\"frequency\": 3, \"value\": 7947}, \"7950\": {\"frequency\": 8, \"value\": 7950}, \"9517\": {\"frequency\": 2, \"value\": 9517}, \"7952\": {\"frequency\": 2, \"value\": 7952}, \"7953\": {\"frequency\": 3, \"value\": 7953}, \"7955\": {\"frequency\": 2, \"value\": 7955}, \"7956\": {\"frequency\": 2, \"value\": 7956}, \"7957\": {\"frequency\": 4, \"value\": 7957}, \"7958\": {\"frequency\": 3, \"value\": 7958}, \"7960\": {\"frequency\": 1, \"value\": 7960}, \"7961\": {\"frequency\": 2, \"value\": 7961}, \"7963\": {\"frequency\": 1, \"value\": 7963}, \"7964\": {\"frequency\": 2, \"value\": 7964}, \"7965\": {\"frequency\": 4, \"value\": 7965}, \"7969\": {\"frequency\": 3, \"value\": 7969}, \"7972\": {\"frequency\": 2, \"value\": 7972}, \"7973\": {\"frequency\": 2, \"value\": 7973}, \"7975\": {\"frequency\": 3, \"value\": 7975}, \"4060\": {\"frequency\": 4, \"value\": 4060}, \"16171\": {\"frequency\": 1, \"value\": 16171}, \"7980\": {\"frequency\": 18, \"value\": 7980}, \"7982\": {\"frequency\": 2, \"value\": 7982}, \"7984\": {\"frequency\": 2, \"value\": 7984}, \"360241\": {\"frequency\": 1, \"value\": 360241}, \"7986\": {\"frequency\": 2, \"value\": 7986}, \"9523\": {\"frequency\": 2, \"value\": 9523}, \"7989\": {\"frequency\": 2, \"value\": 7989}, \"7991\": {\"frequency\": 2, \"value\": 7991}, \"7992\": {\"frequency\": 5, \"value\": 7992}, \"7995\": {\"frequency\": 3, \"value\": 7995}, \"16188\": {\"frequency\": 1, \"value\": 16188}, \"7998\": {\"frequency\": 2, \"value\": 7998}, \"1333\": {\"frequency\": 2, \"value\": 1333}, \"8000\": {\"frequency\": 76, \"value\": 8000}, \"8001\": {\"frequency\": 3, \"value\": 8001}, \"8004\": {\"frequency\": 3, \"value\": 8004}, \"8005\": {\"frequency\": 3, \"value\": 8005}, \"4065\": {\"frequency\": 2, \"value\": 4065}, \"16200\": {\"frequency\": 17, \"value\": 16200}, \"8009\": {\"frequency\": 2, \"value\": 8009}, \"8010\": {\"frequency\": 2, \"value\": 8010}, \"8011\": {\"frequency\": 1, \"value\": 8011}, \"8162\": {\"frequency\": 3, \"value\": 8162}, \"8015\": {\"frequency\": 2, \"value\": 8015}, \"8018\": {\"frequency\": 2, \"value\": 8018}, \"8019\": {\"frequency\": 2, \"value\": 8019}, \"8022\": {\"frequency\": 3, \"value\": 8022}, \"8025\": {\"frequency\": 3, \"value\": 8025}, \"237402\": {\"frequency\": 2, \"value\": 237402}, \"8027\": {\"frequency\": 2, \"value\": 8027}, \"8028\": {\"frequency\": 2, \"value\": 8028}, \"8029\": {\"frequency\": 2, \"value\": 8029}, \"8030\": {\"frequency\": 5, \"value\": 8030}, \"81893\": {\"frequency\": 2, \"value\": 81893}, \"8034\": {\"frequency\": 3, \"value\": 8034}, \"8036\": {\"frequency\": 4, \"value\": 8036}, \"8040\": {\"frequency\": 15, \"value\": 8040}, \"156988\": {\"frequency\": 1, \"value\": 156988}, \"8043\": {\"frequency\": 2, \"value\": 8043}, \"16236\": {\"frequency\": 1, \"value\": 16236}, \"8048\": {\"frequency\": 2, \"value\": 8048}, \"39639\": {\"frequency\": 3, \"value\": 39639}, \"8050\": {\"frequency\": 16, \"value\": 8050}, \"13630\": {\"frequency\": 2, \"value\": 13630}, \"8055\": {\"frequency\": 2, \"value\": 8055}, \"8056\": {\"frequency\": 3, \"value\": 8056}, \"32633\": {\"frequency\": 1, \"value\": 32633}, \"8058\": {\"frequency\": 4, \"value\": 8058}, \"9535\": {\"frequency\": 2, \"value\": 9535}, \"8060\": {\"frequency\": 4, \"value\": 8060}, \"8170\": {\"frequency\": 3, \"value\": 8170}, \"8062\": {\"frequency\": 2, \"value\": 8062}, \"8063\": {\"frequency\": 3, \"value\": 8063}, \"73600\": {\"frequency\": 1, \"value\": 73600}, \"8065\": {\"frequency\": 4, \"value\": 8065}, \"262018\": {\"frequency\": 1, \"value\": 262018}, \"8067\": {\"frequency\": 2, \"value\": 8067}, \"16263\": {\"frequency\": 1, \"value\": 16263}, \"8072\": {\"frequency\": 2, \"value\": 8072}, \"8073\": {\"frequency\": 3, \"value\": 8073}, \"8075\": {\"frequency\": 6, \"value\": 8075}, \"8076\": {\"frequency\": 4, \"value\": 8076}, \"8078\": {\"frequency\": 2, \"value\": 8078}, \"8080\": {\"frequency\": 1, \"value\": 8080}, \"16275\": {\"frequency\": 1, \"value\": 16275}, \"8085\": {\"frequency\": 3, \"value\": 8085}, \"8086\": {\"frequency\": 4, \"value\": 8086}, \"1348\": {\"frequency\": 3, \"value\": 1348}, \"32666\": {\"frequency\": 1, \"value\": 32666}, \"4079\": {\"frequency\": 2, \"value\": 4079}, \"8092\": {\"frequency\": 2, \"value\": 8092}, \"8093\": {\"frequency\": 3, \"value\": 8093}, \"32670\": {\"frequency\": 2, \"value\": 32670}, \"8095\": {\"frequency\": 3, \"value\": 8095}, \"8097\": {\"frequency\": 2, \"value\": 8097}, \"16290\": {\"frequency\": 1, \"value\": 16290}, \"6811\": {\"frequency\": 2, \"value\": 6811}, \"8100\": {\"frequency\": 72, \"value\": 8100}, \"1350\": {\"frequency\": 6, \"value\": 1350}, \"8102\": {\"frequency\": 5, \"value\": 8102}, \"10409\": {\"frequency\": 2, \"value\": 10409}, \"8106\": {\"frequency\": 1, \"value\": 8106}, \"8107\": {\"frequency\": 2, \"value\": 8107}, \"16300\": {\"frequency\": 3, \"value\": 16300}, \"8111\": {\"frequency\": 3, \"value\": 8111}, \"8112\": {\"frequency\": 2, \"value\": 8112}, \"8113\": {\"frequency\": 3, \"value\": 8113}, \"8114\": {\"frequency\": 5, \"value\": 8114}, \"8116\": {\"frequency\": 4, \"value\": 8116}, \"8117\": {\"frequency\": 2, \"value\": 8117}, \"8118\": {\"frequency\": 3, \"value\": 8118}, \"8119\": {\"frequency\": 4, \"value\": 8119}, \"8120\": {\"frequency\": 6, \"value\": 8120}, \"8180\": {\"frequency\": 2, \"value\": 8180}, \"8122\": {\"frequency\": 2, \"value\": 8122}, \"204732\": {\"frequency\": 1, \"value\": 204732}, \"8125\": {\"frequency\": 9, \"value\": 8125}, \"8126\": {\"frequency\": 3, \"value\": 8126}, \"8127\": {\"frequency\": 2, \"value\": 8127}, \"8128\": {\"frequency\": 1, \"value\": 8128}, \"8130\": {\"frequency\": 3, \"value\": 8130}, \"49091\": {\"frequency\": 1, \"value\": 49091}, \"8134\": {\"frequency\": 2, \"value\": 8134}, \"8136\": {\"frequency\": 4, \"value\": 8136}, \"8137\": {\"frequency\": 2, \"value\": 8137}, \"8138\": {\"frequency\": 2, \"value\": 8138}, \"3817\": {\"frequency\": 2, \"value\": 3817}, \"8140\": {\"frequency\": 6, \"value\": 8140}, \"8142\": {\"frequency\": 3, \"value\": 8142}, \"8144\": {\"frequency\": 2, \"value\": 8144}, \"8145\": {\"frequency\": 3, \"value\": 8145}, \"8147\": {\"frequency\": 4, \"value\": 8147}, \"8148\": {\"frequency\": 3, \"value\": 8148}, \"8149\": {\"frequency\": 6, \"value\": 8149}, \"8150\": {\"frequency\": 2, \"value\": 8150}, \"8151\": {\"frequency\": 2, \"value\": 8151}, \"8153\": {\"frequency\": 2, \"value\": 8153}, \"8154\": {\"frequency\": 2, \"value\": 8154}, \"8155\": {\"frequency\": 3, \"value\": 8155}, \"8158\": {\"frequency\": 3, \"value\": 8158}, \"8159\": {\"frequency\": 2, \"value\": 8159}, \"8160\": {\"frequency\": 19, \"value\": 8160}, \"56192\": {\"frequency\": 4, \"value\": 56192}, \"8163\": {\"frequency\": 4, \"value\": 8163}, \"81892\": {\"frequency\": 4, \"value\": 81892}, \"8165\": {\"frequency\": 5, \"value\": 8165}, \"8167\": {\"frequency\": 2, \"value\": 8167}, \"8169\": {\"frequency\": 2, \"value\": 8169}, \"1080\": {\"frequency\": 3, \"value\": 1080}, \"8171\": {\"frequency\": 2, \"value\": 8171}, \"8173\": {\"frequency\": 3, \"value\": 8173}, \"8174\": {\"frequency\": 3, \"value\": 8174}, \"8175\": {\"frequency\": 4, \"value\": 8175}, \"31400\": {\"frequency\": 1, \"value\": 31400}, \"40946\": {\"frequency\": 4, \"value\": 40946}, \"8179\": {\"frequency\": 2, \"value\": 8179}, \"15330\": {\"frequency\": 2, \"value\": 15330}, \"6819\": {\"frequency\": 1, \"value\": 6819}, \"8182\": {\"frequency\": 3, \"value\": 8182}, \"12875\": {\"frequency\": 2, \"value\": 12875}, \"8184\": {\"frequency\": 7, \"value\": 8184}, \"17652\": {\"frequency\": 2, \"value\": 17652}, \"8187\": {\"frequency\": 3, \"value\": 8187}, \"8188\": {\"frequency\": 2, \"value\": 8188}, \"8190\": {\"frequency\": 9, \"value\": 8190}, \"34133\": {\"frequency\": 1, \"value\": 34133}}, \"mean\": 15106.967565816887}}, \"selected_variable\": {\"name\": [\"<SFrame>\"], \"descriptives\": {\"rows\": 21613, \"columns\": 6}, \"view_component\": \"Summary\", \"view_file\": \"sframe\", \"view_params\": {\"y\": null, \"x\": null, \"columns\": [\"bedrooms\", \"bathrooms\", \"sqft_living\", \"sqft_lot\", \"floors\", \"zipcode\"], \"view\": null}, \"view_components\": [\"Summary\", \"Table\", \"Bar Chart\", \"BoxWhisker Plot\", \"Line Chart\", \"Scatter Plot\", \"Heat Map\", \"Plots\"], \"type\": \"SFrame\", \"columns\": [{\"dtype\": \"str\", \"name\": \"bedrooms\"}, {\"dtype\": \"str\", \"name\": \"bathrooms\"}, {\"dtype\": \"int\", \"name\": \"sqft_living\"}, {\"dtype\": \"int\", \"name\": \"sqft_lot\"}, {\"dtype\": \"str\", \"name\": \"floors\"}, {\"dtype\": \"str\", \"name\": \"zipcode\"}], \"column_identifiers\": [\"bathrooms\", \"bedrooms\", \"zipcode\", \"sqft_living\", \"floors\", \"sqft_lot\"]}, \"columns\": [{\"dtype\": \"str\", \"name\": \"bedrooms\"}, {\"dtype\": \"str\", \"name\": \"bathrooms\"}, {\"dtype\": \"int\", \"name\": \"sqft_living\"}, {\"dtype\": \"int\", \"name\": \"sqft_lot\"}, {\"dtype\": \"str\", \"name\": \"floors\"}, {\"dtype\": \"str\", \"name\": \"zipcode\"}]}, e);\n",
       "                });\n",
       "            })();\n",
       "        "
      ]
     },
     "metadata": {},
     "output_type": "display_data"
    }
   ],
   "source": [
    "sales[my_features].show()"
   ]
  },
  {
   "cell_type": "code",
   "execution_count": 29,
   "metadata": {
    "collapsed": false
   },
   "outputs": [
    {
     "data": {
      "application/javascript": [
       "$(\"head\").append($(\"<link/>\").attr({\n",
       "  rel:  \"stylesheet\",\n",
       "  type: \"text/css\",\n",
       "  href: \"//cdnjs.cloudflare.com/ajax/libs/font-awesome/4.1.0/css/font-awesome.min.css\"\n",
       "}));\n",
       "$(\"head\").append($(\"<link/>\").attr({\n",
       "  rel:  \"stylesheet\",\n",
       "  type: \"text/css\",\n",
       "  href: \"https://static.turi.com/products/graphlab-create/2.1/canvas/css/canvas.css\"\n",
       "}));\n",
       "\n",
       "            (function(){\n",
       "\n",
       "                var e = null;\n",
       "                if (typeof element == 'undefined') {\n",
       "                    var scripts = document.getElementsByTagName('script');\n",
       "                    var thisScriptTag = scripts[scripts.length-1];\n",
       "                    var parentDiv = thisScriptTag.parentNode;\n",
       "                    e = document.createElement('div');\n",
       "                    parentDiv.appendChild(e);\n",
       "                } else {\n",
       "                    e = element[0];\n",
       "                }\n",
       "\n",
       "                if (typeof requirejs !== 'undefined') {\n",
       "                    // disable load timeout; ipython_app.js is large and can take a while to load.\n",
       "                    requirejs.config({waitSeconds: 0});\n",
       "                }\n",
       "\n",
       "                require(['https://static.turi.com/products/graphlab-create/2.1/canvas/js/ipython_app.js'], function(IPythonApp){\n",
       "                    var app = new IPythonApp();\n",
       "                    app.attachView('sframe','Plots', {\"selected_variable\": {\"name\": [\"sales\"], \"descriptives\": {\"rows\": 21613, \"columns\": 21}, \"view_component\": \"Plots\", \"view_file\": \"sframe\", \"view_params\": {\"y\": \"price\", \"x\": \"zipcode\", \"columns\": [\"id\", \"date\", \"price\", \"bedrooms\", \"bathrooms\", \"sqft_living\", \"sqft_lot\", \"floors\", \"waterfront\", \"view\", \"condition\", \"grade\", \"sqft_above\", \"sqft_basement\", \"yr_built\", \"yr_renovated\", \"zipcode\", \"lat\", \"long\", \"sqft_living15\", \"sqft_lot15\"], \"view\": \"BoxWhisker Plot\"}, \"view_components\": [\"Summary\", \"Table\", \"Bar Chart\", \"BoxWhisker Plot\", \"Line Chart\", \"Scatter Plot\", \"Heat Map\", \"Plots\"], \"type\": \"SFrame\", \"columns\": [{\"dtype\": \"str\", \"name\": \"id\"}, {\"dtype\": \"datetime\", \"name\": \"date\"}, {\"dtype\": \"int\", \"name\": \"price\"}, {\"dtype\": \"str\", \"name\": \"bedrooms\"}, {\"dtype\": \"str\", \"name\": \"bathrooms\"}, {\"dtype\": \"int\", \"name\": \"sqft_living\"}, {\"dtype\": \"int\", \"name\": \"sqft_lot\"}, {\"dtype\": \"str\", \"name\": \"floors\"}, {\"dtype\": \"int\", \"name\": \"waterfront\"}, {\"dtype\": \"int\", \"name\": \"view\"}, {\"dtype\": \"int\", \"name\": \"condition\"}, {\"dtype\": \"int\", \"name\": \"grade\"}, {\"dtype\": \"int\", \"name\": \"sqft_above\"}, {\"dtype\": \"int\", \"name\": \"sqft_basement\"}, {\"dtype\": \"int\", \"name\": \"yr_built\"}, {\"dtype\": \"int\", \"name\": \"yr_renovated\"}, {\"dtype\": \"str\", \"name\": \"zipcode\"}, {\"dtype\": \"float\", \"name\": \"lat\"}, {\"dtype\": \"float\", \"name\": \"long\"}, {\"dtype\": \"float\", \"name\": \"sqft_living15\"}, {\"dtype\": \"float\", \"name\": \"sqft_lot15\"}], \"column_identifiers\": [\"bathrooms\", \"sqft_living15\", \"sqft_above\", \"grade\", \"yr_built\", \"price\", \"bedrooms\", \"zipcode\", \"long\", \"id\", \"sqft_lot15\", \"sqft_living\", \"floors\", \"sqft_lot\", \"date\", \"waterfront\", \"sqft_basement\", \"yr_renovated\", \"lat\", \"condition\", \"view\"]}, \"complete\": 1, \"ipython\": true, \"progress\": 1.0, \"data\": {\"grouped\": [[\"98001\", [100000.0, 115000.0, 180000.0, 184000.0, 215000.0, 260000.0, 320000.0, 420000.0, 427000.0, 625000.0, 850000.0]], [\"98002\", [95000.0, 111300.0, 160000.0, 163500.0, 199950.0, 235000.0, 269000.0, 298900.0, 300000.0, 370000.0, 389000.0]], [\"98003\", [128000.0, 152500.0, 199000.0, 200000.0, 229000.0, 267950.0, 333000.0, 420000.0, 429900.0, 740000.0, 950000.0]], [\"98004\", [425000.0, 595000.0, 695000.0, 720000.0, 845000.0, 1150000.0, 1691000.0, 2150000.0, 2200000.0, 3800000.0, 7062500.0]], [\"98005\", [400000.0, 411100.0, 542500.0, 549000.0, 638700.0, 768500.0, 915000.0, 1110000.0, 1125000.0, 1900000.0, 1960000.0]], [\"98006\", [247500.0, 295000.0, 450000.0, 455000.0, 575000.0, 760369.0, 978000.0, 1380000.0, 1400000.0, 2525000.0, 4208000.0]], [\"98007\", [295000.0, 330000.0, 415500.0, 419000.0, 465000.0, 555000.0, 730000.0, 900000.0, 907500.0, 1229000.0, 1315000.0]], [\"98008\", [250000.0, 277700.0, 405000.0, 415000.0, 465000.0, 545000.0, 660000.0, 850000.0, 899000.0, 3300000.0, 3567000.0]], [\"98010\", [135000.0, 162000.0, 208500.0, 212644.0, 257000.0, 360000.0, 600000.0, 712000.0, 720000.0, 935000.0, 935000.0]], [\"98011\", [245500.0, 260000.0, 347000.0, 361000.0, 411800.0, 470000.0, 550000.0, 632000.0, 650000.0, 870000.0, 1075000.0]], [\"98014\", [80000.0, 134000.0, 167000.0, 180000.0, 309000.0, 415000.0, 539000.0, 739000.0, 755000.0, 1610000.0, 1680000.0]], [\"98019\", [119500.0, 170000.0, 289275.0, 299950.0, 330000.0, 402500.0, 500000.0, 570000.0, 570000.0, 979500.0, 1015000.0]], [\"98022\", [75000.0, 152900.0, 199990.0, 200000.0, 235000.0, 280000.0, 350000.0, 475000.0, 487000.0, 750000.0, 858000.0]], [\"98023\", [86500.0, 115000.0, 188000.0, 193000.0, 224097.0, 268450.0, 316500.0, 402500.0, 415000.0, 629000.0, 1275000.0]], [\"98024\", [142000.0, 142000.0, 258000.0, 260000.0, 340000.0, 460000.0, 700000.0, 997950.0, 1065000.0, 1862000.0, 1862000.0]], [\"98027\", [130000.0, 240000.0, 352499.0, 361000.0, 450000.0, 571000.0, 716500.0, 865000.0, 890000.0, 1800000.0, 2700000.0]], [\"98028\", [160000.0, 196000.0, 300000.0, 310000.0, 379950.0, 445000.0, 526750.0, 610000.0, 619990.0, 1120000.0, 1600000.0]], [\"98029\", [285000.0, 310000.0, 413565.0, 420000.0, 485000.0, 575000.0, 690000.0, 795000.0, 812000.0, 1450000.0, 2200000.0]], [\"98030\", [120000.0, 140000.0, 213400.0, 220000.0, 249950.0, 282510.0, 339950.0, 380000.0, 386000.0, 491000.0, 565000.0]], [\"98031\", [147500.0, 152000.0, 223000.0, 230000.0, 252000.0, 288400.0, 327500.0, 377000.0, 382500.0, 680000.0, 800000.0]], [\"98032\", [85000.0, 85000.0, 165000.0, 169000.0, 221700.0, 249000.0, 285000.0, 321000.0, 324900.0, 400000.0, 545000.0]], [\"98033\", [130000.0, 305000.0, 425000.0, 437500.0, 535000.0, 678700.0, 902000.0, 1339000.0, 1378000.0, 2650000.0, 5110800.0]], [\"98034\", [90000.0, 257000.0, 330000.0, 335000.0, 387000.0, 445950.0, 525000.0, 749950.0, 799950.0, 2125000.0, 3120000.0]], [\"98038\", [110000.0, 176000.0, 240000.0, 245000.0, 285000.0, 342000.0, 410000.0, 533000.0, 540000.0, 849000.0, 1350000.0]], [\"98039\", [787500.0, 787500.0, 940000.0, 1000000.0, 1398000.0, 1905000.0, 2575000.0, 3640900.0, 3640900.0, 6885000.0, 6885000.0]], [\"98040\", [500000.0, 550000.0, 685000.0, 698000.0, 821000.0, 994000.0, 1387000.0, 1815000.0, 1900000.0, 3850000.0, 5300000.0]], [\"98042\", [105000.0, 132825.0, 200000.0, 204000.0, 240000.0, 292500.0, 359950.0, 444900.0, 450000.0, 734000.0, 859000.0]], [\"98045\", [175000.0, 189000.0, 259000.0, 271000.0, 305000.0, 399500.0, 495000.0, 665000.0, 688000.0, 1075000.0, 1950000.0]], [\"98052\", [225000.0, 315000.0, 425000.0, 432100.0, 509250.0, 615000.0, 751000.0, 852500.0, 872750.0, 1299888.0, 2200000.0]], [\"98053\", [170000.0, 300000.0, 400000.0, 405000.0, 485000.0, 635000.0, 790500.0, 955990.0, 975000.0, 1769000.0, 2280000.0]], [\"98055\", [100000.0, 126000.0, 192000.0, 197500.0, 240000.0, 295000.0, 350000.0, 430000.0, 440000.0, 580000.0, 631000.0]], [\"98056\", [139000.0, 155000.0, 230000.0, 231500.0, 289000.0, 380000.0, 510000.0, 635000.0, 640000.0, 980000.0, 3000000.0]], [\"98058\", [95000.0, 144000.0, 225000.0, 230000.0, 285000.0, 335000.0, 392000.0, 475000.0, 485000.0, 790000.0, 1500000.0]], [\"98059\", [172500.0, 217000.0, 291375.0, 294500.0, 340000.0, 435000.0, 552500.0, 751000.0, 785000.0, 1300000.0, 1780000.0]], [\"98065\", [170000.0, 208000.0, 323000.0, 335000.0, 424950.0, 500000.0, 619000.0, 710000.0, 723000.0, 1145000.0, 1998000.0]], [\"98070\", [160000.0, 181000.0, 280000.0, 285000.0, 340000.0, 465000.0, 575000.0, 729000.0, 730000.0, 1350000.0, 1379900.0]], [\"98072\", [200000.0, 275000.0, 357823.0, 365000.0, 422800.0, 515000.0, 642860.0, 879000.0, 905000.0, 1350000.0, 1565000.0]], [\"98074\", [280000.0, 325000.0, 420000.0, 434900.0, 532000.0, 642000.0, 798000.0, 922755.0, 929000.0, 1675000.0, 3075000.0]], [\"98075\", [406430.0, 432000.0, 545000.0, 550000.0, 641000.0, 739999.0, 870000.0, 1060000.0, 1062500.0, 2000000.0, 3200000.0]], [\"98077\", [250000.0, 274975.0, 335000.0, 353000.0, 510000.0, 654950.0, 835000.0, 950000.0, 985000.0, 1820000.0, 1920000.0]], [\"98092\", [90000.0, 148226.0, 210000.0, 216000.0, 263950.0, 309780.0, 379500.0, 471275.0, 480000.0, 835000.0, 930000.0]], [\"98102\", [330000.0, 350000.0, 440000.0, 475000.0, 575000.0, 720000.0, 979700.0, 1440000.0, 1443917.0, 2479000.0, 7700000.0]], [\"98103\", [238000.0, 259250.0, 352950.0, 355000.0, 432000.0, 550000.0, 695000.0, 830000.0, 850000.0, 1350000.0, 1695000.0]], [\"98105\", [380000.0, 395000.0, 483000.0, 485000.0, 550000.0, 675000.0, 1005000.0, 1415000.0, 1482500.0, 2555000.0, 3650000.0]], [\"98106\", [90000.0, 107000.0, 208400.0, 210000.0, 260000.0, 315000.0, 366000.0, 426000.0, 435000.0, 625000.0, 795000.0]], [\"98107\", [290000.0, 356000.0, 425000.0, 430000.0, 470000.0, 529950.0, 630000.0, 752500.0, 769950.0, 1205000.0, 2945000.0]], [\"98108\", [90000.0, 130000.0, 230000.0, 230000.0, 284000.0, 345000.0, 425000.0, 491000.0, 500000.0, 635000.0, 640000.0]], [\"98109\", [216650.0, 216650.0, 478000.0, 479000.0, 620000.0, 736000.0, 1000000.0, 1450000.0, 1450000.0, 2900000.0, 3200000.0]], [\"98112\", [169317.0, 350000.0, 515000.0, 524000.0, 680000.0, 915000.0, 1328000.0, 1975000.0, 2048000.0, 3000000.0, 3400000.0]], [\"98115\", [200000.0, 289500.0, 395000.0, 399000.0, 455000.0, 567000.0, 719000.0, 897000.0, 925000.0, 1500000.0, 2300000.0]], [\"98116\", [130000.0, 252000.0, 386950.0, 390000.0, 460000.0, 565500.0, 703000.0, 930000.0, 950000.0, 1598888.0, 2050000.0]], [\"98117\", [125000.0, 280000.0, 375000.0, 390000.0, 450000.0, 544000.0, 657500.0, 825000.0, 850000.0, 1275000.0, 1370000.0]], [\"98118\", [109000.0, 155000.0, 221000.0, 226000.0, 289000.0, 367500.0, 476500.0, 665000.0, 680000.0, 1309500.0, 2903000.0]], [\"98119\", [300523.0, 365000.0, 485000.0, 490000.0, 600000.0, 749950.0, 940000.0, 1320000.0, 1330000.0, 2630000.0, 3065000.0]], [\"98122\", [202000.0, 260000.0, 375000.0, 385000.0, 450000.0, 574000.0, 720000.0, 920000.0, 925000.0, 1850000.0, 2050000.0]], [\"98125\", [175000.0, 228000.0, 303697.0, 310000.0, 357250.0, 425000.0, 518000.0, 675000.0, 689000.0, 1335000.0, 2050000.0]], [\"98126\", [110000.0, 183000.0, 250000.0, 255000.0, 320000.0, 396500.0, 485000.0, 643500.0, 661000.0, 901000.0, 1085000.0]], [\"98133\", [130000.0, 210000.0, 275000.0, 277500.0, 318000.0, 375000.0, 435000.0, 507000.0, 518000.0, 729953.0, 808100.0]], [\"98136\", [200000.0, 229050.0, 340000.0, 345000.0, 398000.0, 489950.0, 660000.0, 838000.0, 850000.0, 1662000.0, 2230000.0]], [\"98144\", [181000.0, 230000.0, 325000.0, 327000.0, 374950.0, 450000.0, 666000.0, 970000.0, 1039000.0, 2450000.0, 3600000.0]], [\"98146\", [82000.0, 104950.0, 158800.0, 175000.0, 229500.0, 307000.0, 409000.0, 605000.0, 665900.0, 1250000.0, 1410000.0]], [\"98148\", [105500.0, 105500.0, 193000.0, 193000.0, 240000.0, 278000.0, 319990.0, 375000.0, 375000.0, 600600.0, 600600.0]], [\"98155\", [153000.0, 195000.0, 267800.0, 270000.0, 315000.0, 375000.0, 460000.0, 590000.0, 600000.0, 1680000.0, 4500000.0]], [\"98166\", [100000.0, 129888.0, 220000.0, 229000.0, 292000.0, 390000.0, 540500.0, 755000.0, 770000.0, 1899000.0, 2510000.0]], [\"98168\", [78000.0, 82500.0, 150550.0, 158000.0, 199950.0, 235000.0, 285000.0, 325000.0, 327200.0, 424305.0, 600000.0]], [\"98177\", [245560.0, 276000.0, 355950.0, 367500.0, 427000.0, 554000.0, 749950.0, 1075000.0, 1200000.0, 2880500.0, 3800000.0]], [\"98178\", [90000.0, 119900.0, 180000.0, 188000.0, 223000.0, 279000.0, 350000.0, 450000.0, 460000.0, 869000.0, 1700000.0]], [\"98188\", [110000.0, 110700.0, 179000.0, 179950.0, 230000.0, 265000.0, 335000.0, 400200.0, 408000.0, 706000.0, 707000.0]], [\"98198\", [95000.0, 120000.0, 174500.0, 175000.0, 216500.0, 265000.0, 340000.0, 455000.0, 475000.0, 950000.0, 1350000.0]], [\"98199\", [323000.0, 334000.0, 419000.0, 425000.0, 535000.0, 689800.0, 950000.0, 1289000.0, 1300000.0, 2160000.0, 3200000.0]]], \"omitted\": 0}, \"columns\": [{\"dtype\": \"str\", \"name\": \"id\"}, {\"dtype\": \"datetime\", \"name\": \"date\"}, {\"dtype\": \"int\", \"name\": \"price\"}, {\"dtype\": \"str\", \"name\": \"bedrooms\"}, {\"dtype\": \"str\", \"name\": \"bathrooms\"}, {\"dtype\": \"int\", \"name\": \"sqft_living\"}, {\"dtype\": \"int\", \"name\": \"sqft_lot\"}, {\"dtype\": \"str\", \"name\": \"floors\"}, {\"dtype\": \"int\", \"name\": \"waterfront\"}, {\"dtype\": \"int\", \"name\": \"view\"}, {\"dtype\": \"int\", \"name\": \"condition\"}, {\"dtype\": \"int\", \"name\": \"grade\"}, {\"dtype\": \"int\", \"name\": \"sqft_above\"}, {\"dtype\": \"int\", \"name\": \"sqft_basement\"}, {\"dtype\": \"int\", \"name\": \"yr_built\"}, {\"dtype\": \"int\", \"name\": \"yr_renovated\"}, {\"dtype\": \"str\", \"name\": \"zipcode\"}, {\"dtype\": \"float\", \"name\": \"lat\"}, {\"dtype\": \"float\", \"name\": \"long\"}, {\"dtype\": \"float\", \"name\": \"sqft_living15\"}, {\"dtype\": \"float\", \"name\": \"sqft_lot15\"}]}, e);\n",
       "                });\n",
       "            })();\n",
       "        "
      ]
     },
     "metadata": {},
     "output_type": "display_data"
    }
   ],
   "source": [
    "sales.show(view='r', x='zipcode', y='price')"
   ]
  },
  {
   "cell_type": "markdown",
   "metadata": {},
   "source": [
    "Pull the bar at the bottom to view more of the data.  \n",
    "\n",
    "98039 is the most expensive zip code."
   ]
  },
  {
   "cell_type": "markdown",
   "metadata": {},
   "source": [
    "#Build a regression model with more features"
   ]
  },
  {
   "cell_type": "code",
   "execution_count": 15,
   "metadata": {
    "collapsed": false
   },
   "outputs": [
    {
     "data": {
      "text/html": [
       "<pre>Linear regression:</pre>"
      ],
      "text/plain": [
       "Linear regression:"
      ]
     },
     "metadata": {},
     "output_type": "display_data"
    },
    {
     "data": {
      "text/html": [
       "<pre>--------------------------------------------------------</pre>"
      ],
      "text/plain": [
       "--------------------------------------------------------"
      ]
     },
     "metadata": {},
     "output_type": "display_data"
    },
    {
     "data": {
      "text/html": [
       "<pre>Number of examples          : 17384</pre>"
      ],
      "text/plain": [
       "Number of examples          : 17384"
      ]
     },
     "metadata": {},
     "output_type": "display_data"
    },
    {
     "data": {
      "text/html": [
       "<pre>Number of features          : 6</pre>"
      ],
      "text/plain": [
       "Number of features          : 6"
      ]
     },
     "metadata": {},
     "output_type": "display_data"
    },
    {
     "data": {
      "text/html": [
       "<pre>Number of unpacked features : 6</pre>"
      ],
      "text/plain": [
       "Number of unpacked features : 6"
      ]
     },
     "metadata": {},
     "output_type": "display_data"
    },
    {
     "data": {
      "text/html": [
       "<pre>Number of coefficients    : 115</pre>"
      ],
      "text/plain": [
       "Number of coefficients    : 115"
      ]
     },
     "metadata": {},
     "output_type": "display_data"
    },
    {
     "data": {
      "text/html": [
       "<pre>Starting Newton Method</pre>"
      ],
      "text/plain": [
       "Starting Newton Method"
      ]
     },
     "metadata": {},
     "output_type": "display_data"
    },
    {
     "data": {
      "text/html": [
       "<pre>--------------------------------------------------------</pre>"
      ],
      "text/plain": [
       "--------------------------------------------------------"
      ]
     },
     "metadata": {},
     "output_type": "display_data"
    },
    {
     "data": {
      "text/html": [
       "<pre>+-----------+----------+--------------+--------------------+---------------+</pre>"
      ],
      "text/plain": [
       "+-----------+----------+--------------+--------------------+---------------+"
      ]
     },
     "metadata": {},
     "output_type": "display_data"
    },
    {
     "data": {
      "text/html": [
       "<pre>| Iteration | Passes   | Elapsed Time | Training-max_error | Training-rmse |</pre>"
      ],
      "text/plain": [
       "| Iteration | Passes   | Elapsed Time | Training-max_error | Training-rmse |"
      ]
     },
     "metadata": {},
     "output_type": "display_data"
    },
    {
     "data": {
      "text/html": [
       "<pre>+-----------+----------+--------------+--------------------+---------------+</pre>"
      ],
      "text/plain": [
       "+-----------+----------+--------------+--------------------+---------------+"
      ]
     },
     "metadata": {},
     "output_type": "display_data"
    },
    {
     "data": {
      "text/html": [
       "<pre>| 1         | 2        | 0.066476     | 3763208.270524     | 181908.848367 |</pre>"
      ],
      "text/plain": [
       "| 1         | 2        | 0.066476     | 3763208.270524     | 181908.848367 |"
      ]
     },
     "metadata": {},
     "output_type": "display_data"
    },
    {
     "data": {
      "text/html": [
       "<pre>+-----------+----------+--------------+--------------------+---------------+</pre>"
      ],
      "text/plain": [
       "+-----------+----------+--------------+--------------------+---------------+"
      ]
     },
     "metadata": {},
     "output_type": "display_data"
    },
    {
     "data": {
      "text/html": [
       "<pre>SUCCESS: Optimal solution found.</pre>"
      ],
      "text/plain": [
       "SUCCESS: Optimal solution found."
      ]
     },
     "metadata": {},
     "output_type": "display_data"
    },
    {
     "data": {
      "text/html": [
       "<pre></pre>"
      ],
      "text/plain": []
     },
     "metadata": {},
     "output_type": "display_data"
    }
   ],
   "source": [
    "my_features_model = graphlab.linear_regression.create(train_data,target='price',features=my_features,validation_set=None)"
   ]
  },
  {
   "cell_type": "code",
   "execution_count": 16,
   "metadata": {
    "collapsed": false
   },
   "outputs": [
    {
     "name": "stdout",
     "output_type": "stream",
     "text": [
      "['bedrooms', 'bathrooms', 'sqft_living', 'sqft_lot', 'floors', 'zipcode']\n"
     ]
    }
   ],
   "source": [
    "print my_features"
   ]
  },
  {
   "cell_type": "markdown",
   "metadata": {},
   "source": [
    "##Comparing the results of the simple model with adding more features"
   ]
  },
  {
   "cell_type": "code",
   "execution_count": 17,
   "metadata": {
    "collapsed": false
   },
   "outputs": [
    {
     "name": "stdout",
     "output_type": "stream",
     "text": [
      "{'max_error': 4143550.8825285938, 'rmse': 255191.02870527355}\n",
      "{'max_error': 3486584.50938179, 'rmse': 179542.43331269047}\n"
     ]
    }
   ],
   "source": [
    "print sqft_model.evaluate(test_data)\n",
    "print my_features_model.evaluate(test_data)"
   ]
  },
  {
   "cell_type": "markdown",
   "metadata": {},
   "source": [
    "The RMSE goes down from \\$255,170 to \\$179,508 with more features."
   ]
  },
  {
   "cell_type": "markdown",
   "metadata": {},
   "source": [
    "#Apply learned models to predict prices of 3 houses"
   ]
  },
  {
   "cell_type": "markdown",
   "metadata": {},
   "source": [
    "The first house we will use is considered an \"average\" house in Seattle. "
   ]
  },
  {
   "cell_type": "code",
   "execution_count": 18,
   "metadata": {
    "collapsed": true
   },
   "outputs": [],
   "source": [
    "house1 = sales[sales['id']=='5309101200']"
   ]
  },
  {
   "cell_type": "code",
   "execution_count": 19,
   "metadata": {
    "collapsed": false
   },
   "outputs": [
    {
     "data": {
      "text/html": [
       "<div style=\"max-height:1000px;max-width:1500px;overflow:auto;\"><table frame=\"box\" rules=\"cols\">\n",
       "    <tr>\n",
       "        <th style=\"padding-left: 1em; padding-right: 1em; text-align: center\">id</th>\n",
       "        <th style=\"padding-left: 1em; padding-right: 1em; text-align: center\">date</th>\n",
       "        <th style=\"padding-left: 1em; padding-right: 1em; text-align: center\">price</th>\n",
       "        <th style=\"padding-left: 1em; padding-right: 1em; text-align: center\">bedrooms</th>\n",
       "        <th style=\"padding-left: 1em; padding-right: 1em; text-align: center\">bathrooms</th>\n",
       "        <th style=\"padding-left: 1em; padding-right: 1em; text-align: center\">sqft_living</th>\n",
       "        <th style=\"padding-left: 1em; padding-right: 1em; text-align: center\">sqft_lot</th>\n",
       "        <th style=\"padding-left: 1em; padding-right: 1em; text-align: center\">floors</th>\n",
       "        <th style=\"padding-left: 1em; padding-right: 1em; text-align: center\">waterfront</th>\n",
       "    </tr>\n",
       "    <tr>\n",
       "        <td style=\"padding-left: 1em; padding-right: 1em; text-align: center; vertical-align: top\">5309101200</td>\n",
       "        <td style=\"padding-left: 1em; padding-right: 1em; text-align: center; vertical-align: top\">2014-06-05 00:00:00+00:00</td>\n",
       "        <td style=\"padding-left: 1em; padding-right: 1em; text-align: center; vertical-align: top\">620000</td>\n",
       "        <td style=\"padding-left: 1em; padding-right: 1em; text-align: center; vertical-align: top\">4</td>\n",
       "        <td style=\"padding-left: 1em; padding-right: 1em; text-align: center; vertical-align: top\">2.25</td>\n",
       "        <td style=\"padding-left: 1em; padding-right: 1em; text-align: center; vertical-align: top\">2400</td>\n",
       "        <td style=\"padding-left: 1em; padding-right: 1em; text-align: center; vertical-align: top\">5350</td>\n",
       "        <td style=\"padding-left: 1em; padding-right: 1em; text-align: center; vertical-align: top\">1.5</td>\n",
       "        <td style=\"padding-left: 1em; padding-right: 1em; text-align: center; vertical-align: top\">0</td>\n",
       "    </tr>\n",
       "</table>\n",
       "<table frame=\"box\" rules=\"cols\">\n",
       "    <tr>\n",
       "        <th style=\"padding-left: 1em; padding-right: 1em; text-align: center\">view</th>\n",
       "        <th style=\"padding-left: 1em; padding-right: 1em; text-align: center\">condition</th>\n",
       "        <th style=\"padding-left: 1em; padding-right: 1em; text-align: center\">grade</th>\n",
       "        <th style=\"padding-left: 1em; padding-right: 1em; text-align: center\">sqft_above</th>\n",
       "        <th style=\"padding-left: 1em; padding-right: 1em; text-align: center\">sqft_basement</th>\n",
       "        <th style=\"padding-left: 1em; padding-right: 1em; text-align: center\">yr_built</th>\n",
       "        <th style=\"padding-left: 1em; padding-right: 1em; text-align: center\">yr_renovated</th>\n",
       "        <th style=\"padding-left: 1em; padding-right: 1em; text-align: center\">zipcode</th>\n",
       "        <th style=\"padding-left: 1em; padding-right: 1em; text-align: center\">lat</th>\n",
       "    </tr>\n",
       "    <tr>\n",
       "        <td style=\"padding-left: 1em; padding-right: 1em; text-align: center; vertical-align: top\">0</td>\n",
       "        <td style=\"padding-left: 1em; padding-right: 1em; text-align: center; vertical-align: top\">4</td>\n",
       "        <td style=\"padding-left: 1em; padding-right: 1em; text-align: center; vertical-align: top\">7</td>\n",
       "        <td style=\"padding-left: 1em; padding-right: 1em; text-align: center; vertical-align: top\">1460</td>\n",
       "        <td style=\"padding-left: 1em; padding-right: 1em; text-align: center; vertical-align: top\">940</td>\n",
       "        <td style=\"padding-left: 1em; padding-right: 1em; text-align: center; vertical-align: top\">1929</td>\n",
       "        <td style=\"padding-left: 1em; padding-right: 1em; text-align: center; vertical-align: top\">0</td>\n",
       "        <td style=\"padding-left: 1em; padding-right: 1em; text-align: center; vertical-align: top\">98117</td>\n",
       "        <td style=\"padding-left: 1em; padding-right: 1em; text-align: center; vertical-align: top\">47.67632376</td>\n",
       "    </tr>\n",
       "</table>\n",
       "<table frame=\"box\" rules=\"cols\">\n",
       "    <tr>\n",
       "        <th style=\"padding-left: 1em; padding-right: 1em; text-align: center\">long</th>\n",
       "        <th style=\"padding-left: 1em; padding-right: 1em; text-align: center\">sqft_living15</th>\n",
       "        <th style=\"padding-left: 1em; padding-right: 1em; text-align: center\">sqft_lot15</th>\n",
       "    </tr>\n",
       "    <tr>\n",
       "        <td style=\"padding-left: 1em; padding-right: 1em; text-align: center; vertical-align: top\">-122.37010126</td>\n",
       "        <td style=\"padding-left: 1em; padding-right: 1em; text-align: center; vertical-align: top\">1250.0</td>\n",
       "        <td style=\"padding-left: 1em; padding-right: 1em; text-align: center; vertical-align: top\">4880.0</td>\n",
       "    </tr>\n",
       "</table>\n",
       "[? rows x 21 columns]<br/>Note: Only the head of the SFrame is printed. This SFrame is lazily evaluated.<br/>You can use sf.materialize() to force materialization.\n",
       "</div>"
      ],
      "text/plain": [
       "Columns:\n",
       "\tid\tstr\n",
       "\tdate\tdatetime\n",
       "\tprice\tint\n",
       "\tbedrooms\tstr\n",
       "\tbathrooms\tstr\n",
       "\tsqft_living\tint\n",
       "\tsqft_lot\tint\n",
       "\tfloors\tstr\n",
       "\twaterfront\tint\n",
       "\tview\tint\n",
       "\tcondition\tint\n",
       "\tgrade\tint\n",
       "\tsqft_above\tint\n",
       "\tsqft_basement\tint\n",
       "\tyr_built\tint\n",
       "\tyr_renovated\tint\n",
       "\tzipcode\tstr\n",
       "\tlat\tfloat\n",
       "\tlong\tfloat\n",
       "\tsqft_living15\tfloat\n",
       "\tsqft_lot15\tfloat\n",
       "\n",
       "Rows: Unknown\n",
       "\n",
       "Data:\n",
       "+------------+---------------------------+--------+----------+-----------+-------------+\n",
       "|     id     |            date           | price  | bedrooms | bathrooms | sqft_living |\n",
       "+------------+---------------------------+--------+----------+-----------+-------------+\n",
       "| 5309101200 | 2014-06-05 00:00:00+00:00 | 620000 |    4     |    2.25   |     2400    |\n",
       "+------------+---------------------------+--------+----------+-----------+-------------+\n",
       "+----------+--------+------------+------+-----------+-------+------------+---------------+\n",
       "| sqft_lot | floors | waterfront | view | condition | grade | sqft_above | sqft_basement |\n",
       "+----------+--------+------------+------+-----------+-------+------------+---------------+\n",
       "|   5350   |  1.5   |     0      |  0   |     4     |   7   |    1460    |      940      |\n",
       "+----------+--------+------------+------+-----------+-------+------------+---------------+\n",
       "+----------+--------------+---------+-------------+---------------+---------------+-----+\n",
       "| yr_built | yr_renovated | zipcode |     lat     |      long     | sqft_living15 | ... |\n",
       "+----------+--------------+---------+-------------+---------------+---------------+-----+\n",
       "|   1929   |      0       |  98117  | 47.67632376 | -122.37010126 |     1250.0    | ... |\n",
       "+----------+--------------+---------+-------------+---------------+---------------+-----+\n",
       "[? rows x 21 columns]\n",
       "Note: Only the head of the SFrame is printed. This SFrame is lazily evaluated.\n",
       "You can use sf.materialize() to force materialization."
      ]
     },
     "execution_count": 19,
     "metadata": {},
     "output_type": "execute_result"
    }
   ],
   "source": [
    "house1"
   ]
  },
  {
   "cell_type": "markdown",
   "metadata": {},
   "source": [
    "<img src=\"http://info.kingcounty.gov/Assessor/eRealProperty/MediaHandler.aspx?Media=2916871\">"
   ]
  },
  {
   "cell_type": "code",
   "execution_count": 20,
   "metadata": {
    "collapsed": false
   },
   "outputs": [
    {
     "name": "stdout",
     "output_type": "stream",
     "text": [
      "[620000, ... ]\n"
     ]
    }
   ],
   "source": [
    "print house1['price']"
   ]
  },
  {
   "cell_type": "code",
   "execution_count": 21,
   "metadata": {
    "collapsed": false
   },
   "outputs": [
    {
     "name": "stdout",
     "output_type": "stream",
     "text": [
      "[629584.8197281545]\n"
     ]
    }
   ],
   "source": [
    "print sqft_model.predict(house1)"
   ]
  },
  {
   "cell_type": "code",
   "execution_count": 22,
   "metadata": {
    "collapsed": false
   },
   "outputs": [
    {
     "name": "stdout",
     "output_type": "stream",
     "text": [
      "[721918.9333272872]\n"
     ]
    }
   ],
   "source": [
    "print my_features_model.predict(house1)"
   ]
  },
  {
   "cell_type": "markdown",
   "metadata": {},
   "source": [
    "In this case, the model with more features provides a worse prediction than the simpler model with only 1 feature.  However, on average, the model with more features is better."
   ]
  },
  {
   "cell_type": "markdown",
   "metadata": {},
   "source": [
    "##Prediction for a second, fancier house\n",
    "\n",
    "We will now examine the predictions for a fancier house."
   ]
  },
  {
   "cell_type": "code",
   "execution_count": 23,
   "metadata": {
    "collapsed": true
   },
   "outputs": [],
   "source": [
    "house2 = sales[sales['id']=='1925069082']"
   ]
  },
  {
   "cell_type": "code",
   "execution_count": 24,
   "metadata": {
    "collapsed": false
   },
   "outputs": [
    {
     "data": {
      "text/html": [
       "<div style=\"max-height:1000px;max-width:1500px;overflow:auto;\"><table frame=\"box\" rules=\"cols\">\n",
       "    <tr>\n",
       "        <th style=\"padding-left: 1em; padding-right: 1em; text-align: center\">id</th>\n",
       "        <th style=\"padding-left: 1em; padding-right: 1em; text-align: center\">date</th>\n",
       "        <th style=\"padding-left: 1em; padding-right: 1em; text-align: center\">price</th>\n",
       "        <th style=\"padding-left: 1em; padding-right: 1em; text-align: center\">bedrooms</th>\n",
       "        <th style=\"padding-left: 1em; padding-right: 1em; text-align: center\">bathrooms</th>\n",
       "        <th style=\"padding-left: 1em; padding-right: 1em; text-align: center\">sqft_living</th>\n",
       "        <th style=\"padding-left: 1em; padding-right: 1em; text-align: center\">sqft_lot</th>\n",
       "        <th style=\"padding-left: 1em; padding-right: 1em; text-align: center\">floors</th>\n",
       "        <th style=\"padding-left: 1em; padding-right: 1em; text-align: center\">waterfront</th>\n",
       "    </tr>\n",
       "    <tr>\n",
       "        <td style=\"padding-left: 1em; padding-right: 1em; text-align: center; vertical-align: top\">1925069082</td>\n",
       "        <td style=\"padding-left: 1em; padding-right: 1em; text-align: center; vertical-align: top\">2015-05-11 00:00:00+00:00</td>\n",
       "        <td style=\"padding-left: 1em; padding-right: 1em; text-align: center; vertical-align: top\">2200000</td>\n",
       "        <td style=\"padding-left: 1em; padding-right: 1em; text-align: center; vertical-align: top\">5</td>\n",
       "        <td style=\"padding-left: 1em; padding-right: 1em; text-align: center; vertical-align: top\">4.25</td>\n",
       "        <td style=\"padding-left: 1em; padding-right: 1em; text-align: center; vertical-align: top\">4640</td>\n",
       "        <td style=\"padding-left: 1em; padding-right: 1em; text-align: center; vertical-align: top\">22703</td>\n",
       "        <td style=\"padding-left: 1em; padding-right: 1em; text-align: center; vertical-align: top\">2</td>\n",
       "        <td style=\"padding-left: 1em; padding-right: 1em; text-align: center; vertical-align: top\">1</td>\n",
       "    </tr>\n",
       "</table>\n",
       "<table frame=\"box\" rules=\"cols\">\n",
       "    <tr>\n",
       "        <th style=\"padding-left: 1em; padding-right: 1em; text-align: center\">view</th>\n",
       "        <th style=\"padding-left: 1em; padding-right: 1em; text-align: center\">condition</th>\n",
       "        <th style=\"padding-left: 1em; padding-right: 1em; text-align: center\">grade</th>\n",
       "        <th style=\"padding-left: 1em; padding-right: 1em; text-align: center\">sqft_above</th>\n",
       "        <th style=\"padding-left: 1em; padding-right: 1em; text-align: center\">sqft_basement</th>\n",
       "        <th style=\"padding-left: 1em; padding-right: 1em; text-align: center\">yr_built</th>\n",
       "        <th style=\"padding-left: 1em; padding-right: 1em; text-align: center\">yr_renovated</th>\n",
       "        <th style=\"padding-left: 1em; padding-right: 1em; text-align: center\">zipcode</th>\n",
       "        <th style=\"padding-left: 1em; padding-right: 1em; text-align: center\">lat</th>\n",
       "    </tr>\n",
       "    <tr>\n",
       "        <td style=\"padding-left: 1em; padding-right: 1em; text-align: center; vertical-align: top\">4</td>\n",
       "        <td style=\"padding-left: 1em; padding-right: 1em; text-align: center; vertical-align: top\">5</td>\n",
       "        <td style=\"padding-left: 1em; padding-right: 1em; text-align: center; vertical-align: top\">8</td>\n",
       "        <td style=\"padding-left: 1em; padding-right: 1em; text-align: center; vertical-align: top\">2860</td>\n",
       "        <td style=\"padding-left: 1em; padding-right: 1em; text-align: center; vertical-align: top\">1780</td>\n",
       "        <td style=\"padding-left: 1em; padding-right: 1em; text-align: center; vertical-align: top\">1952</td>\n",
       "        <td style=\"padding-left: 1em; padding-right: 1em; text-align: center; vertical-align: top\">0</td>\n",
       "        <td style=\"padding-left: 1em; padding-right: 1em; text-align: center; vertical-align: top\">98052</td>\n",
       "        <td style=\"padding-left: 1em; padding-right: 1em; text-align: center; vertical-align: top\">47.63925783</td>\n",
       "    </tr>\n",
       "</table>\n",
       "<table frame=\"box\" rules=\"cols\">\n",
       "    <tr>\n",
       "        <th style=\"padding-left: 1em; padding-right: 1em; text-align: center\">long</th>\n",
       "        <th style=\"padding-left: 1em; padding-right: 1em; text-align: center\">sqft_living15</th>\n",
       "        <th style=\"padding-left: 1em; padding-right: 1em; text-align: center\">sqft_lot15</th>\n",
       "    </tr>\n",
       "    <tr>\n",
       "        <td style=\"padding-left: 1em; padding-right: 1em; text-align: center; vertical-align: top\">-122.09722322</td>\n",
       "        <td style=\"padding-left: 1em; padding-right: 1em; text-align: center; vertical-align: top\">3140.0</td>\n",
       "        <td style=\"padding-left: 1em; padding-right: 1em; text-align: center; vertical-align: top\">14200.0</td>\n",
       "    </tr>\n",
       "</table>\n",
       "[? rows x 21 columns]<br/>Note: Only the head of the SFrame is printed. This SFrame is lazily evaluated.<br/>You can use sf.materialize() to force materialization.\n",
       "</div>"
      ],
      "text/plain": [
       "Columns:\n",
       "\tid\tstr\n",
       "\tdate\tdatetime\n",
       "\tprice\tint\n",
       "\tbedrooms\tstr\n",
       "\tbathrooms\tstr\n",
       "\tsqft_living\tint\n",
       "\tsqft_lot\tint\n",
       "\tfloors\tstr\n",
       "\twaterfront\tint\n",
       "\tview\tint\n",
       "\tcondition\tint\n",
       "\tgrade\tint\n",
       "\tsqft_above\tint\n",
       "\tsqft_basement\tint\n",
       "\tyr_built\tint\n",
       "\tyr_renovated\tint\n",
       "\tzipcode\tstr\n",
       "\tlat\tfloat\n",
       "\tlong\tfloat\n",
       "\tsqft_living15\tfloat\n",
       "\tsqft_lot15\tfloat\n",
       "\n",
       "Rows: Unknown\n",
       "\n",
       "Data:\n",
       "+------------+---------------------------+---------+----------+-----------+-------------+\n",
       "|     id     |            date           |  price  | bedrooms | bathrooms | sqft_living |\n",
       "+------------+---------------------------+---------+----------+-----------+-------------+\n",
       "| 1925069082 | 2015-05-11 00:00:00+00:00 | 2200000 |    5     |    4.25   |     4640    |\n",
       "+------------+---------------------------+---------+----------+-----------+-------------+\n",
       "+----------+--------+------------+------+-----------+-------+------------+---------------+\n",
       "| sqft_lot | floors | waterfront | view | condition | grade | sqft_above | sqft_basement |\n",
       "+----------+--------+------------+------+-----------+-------+------------+---------------+\n",
       "|  22703   |   2    |     1      |  4   |     5     |   8   |    2860    |      1780     |\n",
       "+----------+--------+------------+------+-----------+-------+------------+---------------+\n",
       "+----------+--------------+---------+-------------+---------------+---------------+-----+\n",
       "| yr_built | yr_renovated | zipcode |     lat     |      long     | sqft_living15 | ... |\n",
       "+----------+--------------+---------+-------------+---------------+---------------+-----+\n",
       "|   1952   |      0       |  98052  | 47.63925783 | -122.09722322 |     3140.0    | ... |\n",
       "+----------+--------------+---------+-------------+---------------+---------------+-----+\n",
       "[? rows x 21 columns]\n",
       "Note: Only the head of the SFrame is printed. This SFrame is lazily evaluated.\n",
       "You can use sf.materialize() to force materialization."
      ]
     },
     "execution_count": 24,
     "metadata": {},
     "output_type": "execute_result"
    }
   ],
   "source": [
    "house2"
   ]
  },
  {
   "cell_type": "markdown",
   "metadata": {},
   "source": [
    "<img src=\"https://ssl.cdn-redfin.com/photo/1/bigphoto/302/734302_0.jpg\">"
   ]
  },
  {
   "cell_type": "code",
   "execution_count": 25,
   "metadata": {
    "collapsed": false
   },
   "outputs": [
    {
     "name": "stdout",
     "output_type": "stream",
     "text": [
      "[1261170.404099968]\n"
     ]
    }
   ],
   "source": [
    "print sqft_model.predict(house2)"
   ]
  },
  {
   "cell_type": "code",
   "execution_count": 26,
   "metadata": {
    "collapsed": false
   },
   "outputs": [
    {
     "name": "stdout",
     "output_type": "stream",
     "text": [
      "[1446472.4690774977]\n"
     ]
    }
   ],
   "source": [
    "print my_features_model.predict(house2)"
   ]
  },
  {
   "cell_type": "markdown",
   "metadata": {},
   "source": [
    "In this case, the model with more features provides a better prediction.  This behavior is expected here, because this house is more differentiated by features that go beyond its square feet of living space, especially the fact that it's a waterfront house. "
   ]
  },
  {
   "cell_type": "markdown",
   "metadata": {},
   "source": [
    "##Last house, super fancy\n",
    "\n",
    "Our last house is a very large one owned by a famous Seattleite."
   ]
  },
  {
   "cell_type": "code",
   "execution_count": 27,
   "metadata": {
    "collapsed": true
   },
   "outputs": [],
   "source": [
    "bill_gates = {'bedrooms':[8], \n",
    "              'bathrooms':[25], \n",
    "              'sqft_living':[50000], \n",
    "              'sqft_lot':[225000],\n",
    "              'floors':[4], \n",
    "              'zipcode':['98039'], \n",
    "              'condition':[10], \n",
    "              'grade':[10],\n",
    "              'waterfront':[1],\n",
    "              'view':[4],\n",
    "              'sqft_above':[37500],\n",
    "              'sqft_basement':[12500],\n",
    "              'yr_built':[1994],\n",
    "              'yr_renovated':[2010],\n",
    "              'lat':[47.627606],\n",
    "              'long':[-122.242054],\n",
    "              'sqft_living15':[5000],\n",
    "              'sqft_lot15':[40000]}"
   ]
  },
  {
   "cell_type": "markdown",
   "metadata": {},
   "source": [
    "<img src=\"https://upload.wikimedia.org/wikipedia/commons/thumb/d/d9/Bill_gates%27_house.jpg/2560px-Bill_gates%27_house.jpg\">"
   ]
  },
  {
   "cell_type": "code",
   "execution_count": 28,
   "metadata": {
    "collapsed": false
   },
   "outputs": [
    {
     "name": "stdout",
     "output_type": "stream",
     "text": [
      "[13749825.525718635]\n"
     ]
    }
   ],
   "source": [
    "print my_features_model.predict(graphlab.SFrame(bill_gates))"
   ]
  },
  {
   "cell_type": "markdown",
   "metadata": {
    "collapsed": true
   },
   "source": [
    "The model predicts a price of over $13M for this house! But we expect the house to cost much more.  (There are very few samples in the dataset of houses that are this fancy, so we don't expect the model to capture a perfect prediction here.)"
   ]
  },
  {
   "cell_type": "markdown",
   "metadata": {
    "collapsed": true
   },
   "source": [
    "## More Accurate Model Prediction\n",
    "We are going to build a more accurate regression model for predicting house prices by including more features of the house. In the process, we will also become more familiar with how the Python language can be used for data exploration, data transformations and machine learning. These techniques will be key to building intelligent applications."
   ]
  },
  {
   "cell_type": "code",
   "execution_count": 54,
   "metadata": {
    "collapsed": false
   },
   "outputs": [
    {
     "data": {
      "text/html": [
       "<div style=\"max-height:1000px;max-width:1500px;overflow:auto;\"><table frame=\"box\" rules=\"cols\">\n",
       "    <tr>\n",
       "        <th style=\"padding-left: 1em; padding-right: 1em; text-align: center\">id</th>\n",
       "        <th style=\"padding-left: 1em; padding-right: 1em; text-align: center\">date</th>\n",
       "        <th style=\"padding-left: 1em; padding-right: 1em; text-align: center\">price</th>\n",
       "        <th style=\"padding-left: 1em; padding-right: 1em; text-align: center\">bedrooms</th>\n",
       "        <th style=\"padding-left: 1em; padding-right: 1em; text-align: center\">bathrooms</th>\n",
       "        <th style=\"padding-left: 1em; padding-right: 1em; text-align: center\">sqft_living</th>\n",
       "        <th style=\"padding-left: 1em; padding-right: 1em; text-align: center\">sqft_lot</th>\n",
       "        <th style=\"padding-left: 1em; padding-right: 1em; text-align: center\">floors</th>\n",
       "        <th style=\"padding-left: 1em; padding-right: 1em; text-align: center\">waterfront</th>\n",
       "    </tr>\n",
       "    <tr>\n",
       "        <td style=\"padding-left: 1em; padding-right: 1em; text-align: center; vertical-align: top\">3625049014</td>\n",
       "        <td style=\"padding-left: 1em; padding-right: 1em; text-align: center; vertical-align: top\">2014-08-29 00:00:00+00:00</td>\n",
       "        <td style=\"padding-left: 1em; padding-right: 1em; text-align: center; vertical-align: top\">2950000</td>\n",
       "        <td style=\"padding-left: 1em; padding-right: 1em; text-align: center; vertical-align: top\">4</td>\n",
       "        <td style=\"padding-left: 1em; padding-right: 1em; text-align: center; vertical-align: top\">3.5</td>\n",
       "        <td style=\"padding-left: 1em; padding-right: 1em; text-align: center; vertical-align: top\">4860</td>\n",
       "        <td style=\"padding-left: 1em; padding-right: 1em; text-align: center; vertical-align: top\">23885</td>\n",
       "        <td style=\"padding-left: 1em; padding-right: 1em; text-align: center; vertical-align: top\">2</td>\n",
       "        <td style=\"padding-left: 1em; padding-right: 1em; text-align: center; vertical-align: top\">0</td>\n",
       "    </tr>\n",
       "    <tr>\n",
       "        <td style=\"padding-left: 1em; padding-right: 1em; text-align: center; vertical-align: top\">2540700110</td>\n",
       "        <td style=\"padding-left: 1em; padding-right: 1em; text-align: center; vertical-align: top\">2015-02-12 00:00:00+00:00</td>\n",
       "        <td style=\"padding-left: 1em; padding-right: 1em; text-align: center; vertical-align: top\">1905000</td>\n",
       "        <td style=\"padding-left: 1em; padding-right: 1em; text-align: center; vertical-align: top\">4</td>\n",
       "        <td style=\"padding-left: 1em; padding-right: 1em; text-align: center; vertical-align: top\">3.5</td>\n",
       "        <td style=\"padding-left: 1em; padding-right: 1em; text-align: center; vertical-align: top\">4210</td>\n",
       "        <td style=\"padding-left: 1em; padding-right: 1em; text-align: center; vertical-align: top\">18564</td>\n",
       "        <td style=\"padding-left: 1em; padding-right: 1em; text-align: center; vertical-align: top\">2</td>\n",
       "        <td style=\"padding-left: 1em; padding-right: 1em; text-align: center; vertical-align: top\">0</td>\n",
       "    </tr>\n",
       "    <tr>\n",
       "        <td style=\"padding-left: 1em; padding-right: 1em; text-align: center; vertical-align: top\">3262300940</td>\n",
       "        <td style=\"padding-left: 1em; padding-right: 1em; text-align: center; vertical-align: top\">2014-11-07 00:00:00+00:00</td>\n",
       "        <td style=\"padding-left: 1em; padding-right: 1em; text-align: center; vertical-align: top\">875000</td>\n",
       "        <td style=\"padding-left: 1em; padding-right: 1em; text-align: center; vertical-align: top\">3</td>\n",
       "        <td style=\"padding-left: 1em; padding-right: 1em; text-align: center; vertical-align: top\">1</td>\n",
       "        <td style=\"padding-left: 1em; padding-right: 1em; text-align: center; vertical-align: top\">1220</td>\n",
       "        <td style=\"padding-left: 1em; padding-right: 1em; text-align: center; vertical-align: top\">8119</td>\n",
       "        <td style=\"padding-left: 1em; padding-right: 1em; text-align: center; vertical-align: top\">1</td>\n",
       "        <td style=\"padding-left: 1em; padding-right: 1em; text-align: center; vertical-align: top\">0</td>\n",
       "    </tr>\n",
       "    <tr>\n",
       "        <td style=\"padding-left: 1em; padding-right: 1em; text-align: center; vertical-align: top\">3262300940</td>\n",
       "        <td style=\"padding-left: 1em; padding-right: 1em; text-align: center; vertical-align: top\">2015-02-10 00:00:00+00:00</td>\n",
       "        <td style=\"padding-left: 1em; padding-right: 1em; text-align: center; vertical-align: top\">940000</td>\n",
       "        <td style=\"padding-left: 1em; padding-right: 1em; text-align: center; vertical-align: top\">3</td>\n",
       "        <td style=\"padding-left: 1em; padding-right: 1em; text-align: center; vertical-align: top\">1</td>\n",
       "        <td style=\"padding-left: 1em; padding-right: 1em; text-align: center; vertical-align: top\">1220</td>\n",
       "        <td style=\"padding-left: 1em; padding-right: 1em; text-align: center; vertical-align: top\">8119</td>\n",
       "        <td style=\"padding-left: 1em; padding-right: 1em; text-align: center; vertical-align: top\">1</td>\n",
       "        <td style=\"padding-left: 1em; padding-right: 1em; text-align: center; vertical-align: top\">0</td>\n",
       "    </tr>\n",
       "    <tr>\n",
       "        <td style=\"padding-left: 1em; padding-right: 1em; text-align: center; vertical-align: top\">6447300265</td>\n",
       "        <td style=\"padding-left: 1em; padding-right: 1em; text-align: center; vertical-align: top\">2014-10-14 00:00:00+00:00</td>\n",
       "        <td style=\"padding-left: 1em; padding-right: 1em; text-align: center; vertical-align: top\">4000000</td>\n",
       "        <td style=\"padding-left: 1em; padding-right: 1em; text-align: center; vertical-align: top\">4</td>\n",
       "        <td style=\"padding-left: 1em; padding-right: 1em; text-align: center; vertical-align: top\">5.5</td>\n",
       "        <td style=\"padding-left: 1em; padding-right: 1em; text-align: center; vertical-align: top\">7080</td>\n",
       "        <td style=\"padding-left: 1em; padding-right: 1em; text-align: center; vertical-align: top\">16573</td>\n",
       "        <td style=\"padding-left: 1em; padding-right: 1em; text-align: center; vertical-align: top\">2</td>\n",
       "        <td style=\"padding-left: 1em; padding-right: 1em; text-align: center; vertical-align: top\">0</td>\n",
       "    </tr>\n",
       "    <tr>\n",
       "        <td style=\"padding-left: 1em; padding-right: 1em; text-align: center; vertical-align: top\">2470100110</td>\n",
       "        <td style=\"padding-left: 1em; padding-right: 1em; text-align: center; vertical-align: top\">2014-08-04 00:00:00+00:00</td>\n",
       "        <td style=\"padding-left: 1em; padding-right: 1em; text-align: center; vertical-align: top\">5570000</td>\n",
       "        <td style=\"padding-left: 1em; padding-right: 1em; text-align: center; vertical-align: top\">5</td>\n",
       "        <td style=\"padding-left: 1em; padding-right: 1em; text-align: center; vertical-align: top\">5.75</td>\n",
       "        <td style=\"padding-left: 1em; padding-right: 1em; text-align: center; vertical-align: top\">9200</td>\n",
       "        <td style=\"padding-left: 1em; padding-right: 1em; text-align: center; vertical-align: top\">35069</td>\n",
       "        <td style=\"padding-left: 1em; padding-right: 1em; text-align: center; vertical-align: top\">2</td>\n",
       "        <td style=\"padding-left: 1em; padding-right: 1em; text-align: center; vertical-align: top\">0</td>\n",
       "    </tr>\n",
       "    <tr>\n",
       "        <td style=\"padding-left: 1em; padding-right: 1em; text-align: center; vertical-align: top\">2210500019</td>\n",
       "        <td style=\"padding-left: 1em; padding-right: 1em; text-align: center; vertical-align: top\">2015-03-24 00:00:00+00:00</td>\n",
       "        <td style=\"padding-left: 1em; padding-right: 1em; text-align: center; vertical-align: top\">937500</td>\n",
       "        <td style=\"padding-left: 1em; padding-right: 1em; text-align: center; vertical-align: top\">3</td>\n",
       "        <td style=\"padding-left: 1em; padding-right: 1em; text-align: center; vertical-align: top\">1</td>\n",
       "        <td style=\"padding-left: 1em; padding-right: 1em; text-align: center; vertical-align: top\">1320</td>\n",
       "        <td style=\"padding-left: 1em; padding-right: 1em; text-align: center; vertical-align: top\">8500</td>\n",
       "        <td style=\"padding-left: 1em; padding-right: 1em; text-align: center; vertical-align: top\">1</td>\n",
       "        <td style=\"padding-left: 1em; padding-right: 1em; text-align: center; vertical-align: top\">0</td>\n",
       "    </tr>\n",
       "    <tr>\n",
       "        <td style=\"padding-left: 1em; padding-right: 1em; text-align: center; vertical-align: top\">6447300345</td>\n",
       "        <td style=\"padding-left: 1em; padding-right: 1em; text-align: center; vertical-align: top\">2015-04-06 00:00:00+00:00</td>\n",
       "        <td style=\"padding-left: 1em; padding-right: 1em; text-align: center; vertical-align: top\">1160000</td>\n",
       "        <td style=\"padding-left: 1em; padding-right: 1em; text-align: center; vertical-align: top\">4</td>\n",
       "        <td style=\"padding-left: 1em; padding-right: 1em; text-align: center; vertical-align: top\">3</td>\n",
       "        <td style=\"padding-left: 1em; padding-right: 1em; text-align: center; vertical-align: top\">2680</td>\n",
       "        <td style=\"padding-left: 1em; padding-right: 1em; text-align: center; vertical-align: top\">15438</td>\n",
       "        <td style=\"padding-left: 1em; padding-right: 1em; text-align: center; vertical-align: top\">2</td>\n",
       "        <td style=\"padding-left: 1em; padding-right: 1em; text-align: center; vertical-align: top\">0</td>\n",
       "    </tr>\n",
       "    <tr>\n",
       "        <td style=\"padding-left: 1em; padding-right: 1em; text-align: center; vertical-align: top\">6447300225</td>\n",
       "        <td style=\"padding-left: 1em; padding-right: 1em; text-align: center; vertical-align: top\">2014-11-06 00:00:00+00:00</td>\n",
       "        <td style=\"padding-left: 1em; padding-right: 1em; text-align: center; vertical-align: top\">1880000</td>\n",
       "        <td style=\"padding-left: 1em; padding-right: 1em; text-align: center; vertical-align: top\">3</td>\n",
       "        <td style=\"padding-left: 1em; padding-right: 1em; text-align: center; vertical-align: top\">2.75</td>\n",
       "        <td style=\"padding-left: 1em; padding-right: 1em; text-align: center; vertical-align: top\">2620</td>\n",
       "        <td style=\"padding-left: 1em; padding-right: 1em; text-align: center; vertical-align: top\">17919</td>\n",
       "        <td style=\"padding-left: 1em; padding-right: 1em; text-align: center; vertical-align: top\">1</td>\n",
       "        <td style=\"padding-left: 1em; padding-right: 1em; text-align: center; vertical-align: top\">0</td>\n",
       "    </tr>\n",
       "    <tr>\n",
       "        <td style=\"padding-left: 1em; padding-right: 1em; text-align: center; vertical-align: top\">2525049148</td>\n",
       "        <td style=\"padding-left: 1em; padding-right: 1em; text-align: center; vertical-align: top\">2014-10-07 00:00:00+00:00</td>\n",
       "        <td style=\"padding-left: 1em; padding-right: 1em; text-align: center; vertical-align: top\">3418800</td>\n",
       "        <td style=\"padding-left: 1em; padding-right: 1em; text-align: center; vertical-align: top\">5</td>\n",
       "        <td style=\"padding-left: 1em; padding-right: 1em; text-align: center; vertical-align: top\">5</td>\n",
       "        <td style=\"padding-left: 1em; padding-right: 1em; text-align: center; vertical-align: top\">5450</td>\n",
       "        <td style=\"padding-left: 1em; padding-right: 1em; text-align: center; vertical-align: top\">20412</td>\n",
       "        <td style=\"padding-left: 1em; padding-right: 1em; text-align: center; vertical-align: top\">2</td>\n",
       "        <td style=\"padding-left: 1em; padding-right: 1em; text-align: center; vertical-align: top\">0</td>\n",
       "    </tr>\n",
       "</table>\n",
       "<table frame=\"box\" rules=\"cols\">\n",
       "    <tr>\n",
       "        <th style=\"padding-left: 1em; padding-right: 1em; text-align: center\">view</th>\n",
       "        <th style=\"padding-left: 1em; padding-right: 1em; text-align: center\">condition</th>\n",
       "        <th style=\"padding-left: 1em; padding-right: 1em; text-align: center\">grade</th>\n",
       "        <th style=\"padding-left: 1em; padding-right: 1em; text-align: center\">sqft_above</th>\n",
       "        <th style=\"padding-left: 1em; padding-right: 1em; text-align: center\">sqft_basement</th>\n",
       "        <th style=\"padding-left: 1em; padding-right: 1em; text-align: center\">yr_built</th>\n",
       "        <th style=\"padding-left: 1em; padding-right: 1em; text-align: center\">yr_renovated</th>\n",
       "        <th style=\"padding-left: 1em; padding-right: 1em; text-align: center\">zipcode</th>\n",
       "        <th style=\"padding-left: 1em; padding-right: 1em; text-align: center\">lat</th>\n",
       "    </tr>\n",
       "    <tr>\n",
       "        <td style=\"padding-left: 1em; padding-right: 1em; text-align: center; vertical-align: top\">0</td>\n",
       "        <td style=\"padding-left: 1em; padding-right: 1em; text-align: center; vertical-align: top\">3</td>\n",
       "        <td style=\"padding-left: 1em; padding-right: 1em; text-align: center; vertical-align: top\">12</td>\n",
       "        <td style=\"padding-left: 1em; padding-right: 1em; text-align: center; vertical-align: top\">4860</td>\n",
       "        <td style=\"padding-left: 1em; padding-right: 1em; text-align: center; vertical-align: top\">0</td>\n",
       "        <td style=\"padding-left: 1em; padding-right: 1em; text-align: center; vertical-align: top\">1996</td>\n",
       "        <td style=\"padding-left: 1em; padding-right: 1em; text-align: center; vertical-align: top\">0</td>\n",
       "        <td style=\"padding-left: 1em; padding-right: 1em; text-align: center; vertical-align: top\">98039</td>\n",
       "        <td style=\"padding-left: 1em; padding-right: 1em; text-align: center; vertical-align: top\">47.61717049</td>\n",
       "    </tr>\n",
       "    <tr>\n",
       "        <td style=\"padding-left: 1em; padding-right: 1em; text-align: center; vertical-align: top\">0</td>\n",
       "        <td style=\"padding-left: 1em; padding-right: 1em; text-align: center; vertical-align: top\">3</td>\n",
       "        <td style=\"padding-left: 1em; padding-right: 1em; text-align: center; vertical-align: top\">11</td>\n",
       "        <td style=\"padding-left: 1em; padding-right: 1em; text-align: center; vertical-align: top\">4210</td>\n",
       "        <td style=\"padding-left: 1em; padding-right: 1em; text-align: center; vertical-align: top\">0</td>\n",
       "        <td style=\"padding-left: 1em; padding-right: 1em; text-align: center; vertical-align: top\">2001</td>\n",
       "        <td style=\"padding-left: 1em; padding-right: 1em; text-align: center; vertical-align: top\">0</td>\n",
       "        <td style=\"padding-left: 1em; padding-right: 1em; text-align: center; vertical-align: top\">98039</td>\n",
       "        <td style=\"padding-left: 1em; padding-right: 1em; text-align: center; vertical-align: top\">47.62060082</td>\n",
       "    </tr>\n",
       "    <tr>\n",
       "        <td style=\"padding-left: 1em; padding-right: 1em; text-align: center; vertical-align: top\">0</td>\n",
       "        <td style=\"padding-left: 1em; padding-right: 1em; text-align: center; vertical-align: top\">4</td>\n",
       "        <td style=\"padding-left: 1em; padding-right: 1em; text-align: center; vertical-align: top\">7</td>\n",
       "        <td style=\"padding-left: 1em; padding-right: 1em; text-align: center; vertical-align: top\">1220</td>\n",
       "        <td style=\"padding-left: 1em; padding-right: 1em; text-align: center; vertical-align: top\">0</td>\n",
       "        <td style=\"padding-left: 1em; padding-right: 1em; text-align: center; vertical-align: top\">1955</td>\n",
       "        <td style=\"padding-left: 1em; padding-right: 1em; text-align: center; vertical-align: top\">0</td>\n",
       "        <td style=\"padding-left: 1em; padding-right: 1em; text-align: center; vertical-align: top\">98039</td>\n",
       "        <td style=\"padding-left: 1em; padding-right: 1em; text-align: center; vertical-align: top\">47.63281908</td>\n",
       "    </tr>\n",
       "    <tr>\n",
       "        <td style=\"padding-left: 1em; padding-right: 1em; text-align: center; vertical-align: top\">0</td>\n",
       "        <td style=\"padding-left: 1em; padding-right: 1em; text-align: center; vertical-align: top\">4</td>\n",
       "        <td style=\"padding-left: 1em; padding-right: 1em; text-align: center; vertical-align: top\">7</td>\n",
       "        <td style=\"padding-left: 1em; padding-right: 1em; text-align: center; vertical-align: top\">1220</td>\n",
       "        <td style=\"padding-left: 1em; padding-right: 1em; text-align: center; vertical-align: top\">0</td>\n",
       "        <td style=\"padding-left: 1em; padding-right: 1em; text-align: center; vertical-align: top\">1955</td>\n",
       "        <td style=\"padding-left: 1em; padding-right: 1em; text-align: center; vertical-align: top\">0</td>\n",
       "        <td style=\"padding-left: 1em; padding-right: 1em; text-align: center; vertical-align: top\">98039</td>\n",
       "        <td style=\"padding-left: 1em; padding-right: 1em; text-align: center; vertical-align: top\">47.63281908</td>\n",
       "    </tr>\n",
       "    <tr>\n",
       "        <td style=\"padding-left: 1em; padding-right: 1em; text-align: center; vertical-align: top\">0</td>\n",
       "        <td style=\"padding-left: 1em; padding-right: 1em; text-align: center; vertical-align: top\">3</td>\n",
       "        <td style=\"padding-left: 1em; padding-right: 1em; text-align: center; vertical-align: top\">12</td>\n",
       "        <td style=\"padding-left: 1em; padding-right: 1em; text-align: center; vertical-align: top\">5760</td>\n",
       "        <td style=\"padding-left: 1em; padding-right: 1em; text-align: center; vertical-align: top\">1320</td>\n",
       "        <td style=\"padding-left: 1em; padding-right: 1em; text-align: center; vertical-align: top\">2008</td>\n",
       "        <td style=\"padding-left: 1em; padding-right: 1em; text-align: center; vertical-align: top\">0</td>\n",
       "        <td style=\"padding-left: 1em; padding-right: 1em; text-align: center; vertical-align: top\">98039</td>\n",
       "        <td style=\"padding-left: 1em; padding-right: 1em; text-align: center; vertical-align: top\">47.61512031</td>\n",
       "    </tr>\n",
       "    <tr>\n",
       "        <td style=\"padding-left: 1em; padding-right: 1em; text-align: center; vertical-align: top\">0</td>\n",
       "        <td style=\"padding-left: 1em; padding-right: 1em; text-align: center; vertical-align: top\">3</td>\n",
       "        <td style=\"padding-left: 1em; padding-right: 1em; text-align: center; vertical-align: top\">13</td>\n",
       "        <td style=\"padding-left: 1em; padding-right: 1em; text-align: center; vertical-align: top\">6200</td>\n",
       "        <td style=\"padding-left: 1em; padding-right: 1em; text-align: center; vertical-align: top\">3000</td>\n",
       "        <td style=\"padding-left: 1em; padding-right: 1em; text-align: center; vertical-align: top\">2001</td>\n",
       "        <td style=\"padding-left: 1em; padding-right: 1em; text-align: center; vertical-align: top\">0</td>\n",
       "        <td style=\"padding-left: 1em; padding-right: 1em; text-align: center; vertical-align: top\">98039</td>\n",
       "        <td style=\"padding-left: 1em; padding-right: 1em; text-align: center; vertical-align: top\">47.62888314</td>\n",
       "    </tr>\n",
       "    <tr>\n",
       "        <td style=\"padding-left: 1em; padding-right: 1em; text-align: center; vertical-align: top\">0</td>\n",
       "        <td style=\"padding-left: 1em; padding-right: 1em; text-align: center; vertical-align: top\">4</td>\n",
       "        <td style=\"padding-left: 1em; padding-right: 1em; text-align: center; vertical-align: top\">7</td>\n",
       "        <td style=\"padding-left: 1em; padding-right: 1em; text-align: center; vertical-align: top\">1320</td>\n",
       "        <td style=\"padding-left: 1em; padding-right: 1em; text-align: center; vertical-align: top\">0</td>\n",
       "        <td style=\"padding-left: 1em; padding-right: 1em; text-align: center; vertical-align: top\">1954</td>\n",
       "        <td style=\"padding-left: 1em; padding-right: 1em; text-align: center; vertical-align: top\">0</td>\n",
       "        <td style=\"padding-left: 1em; padding-right: 1em; text-align: center; vertical-align: top\">98039</td>\n",
       "        <td style=\"padding-left: 1em; padding-right: 1em; text-align: center; vertical-align: top\">47.61872888</td>\n",
       "    </tr>\n",
       "    <tr>\n",
       "        <td style=\"padding-left: 1em; padding-right: 1em; text-align: center; vertical-align: top\">2</td>\n",
       "        <td style=\"padding-left: 1em; padding-right: 1em; text-align: center; vertical-align: top\">3</td>\n",
       "        <td style=\"padding-left: 1em; padding-right: 1em; text-align: center; vertical-align: top\">8</td>\n",
       "        <td style=\"padding-left: 1em; padding-right: 1em; text-align: center; vertical-align: top\">2680</td>\n",
       "        <td style=\"padding-left: 1em; padding-right: 1em; text-align: center; vertical-align: top\">0</td>\n",
       "        <td style=\"padding-left: 1em; padding-right: 1em; text-align: center; vertical-align: top\">1902</td>\n",
       "        <td style=\"padding-left: 1em; padding-right: 1em; text-align: center; vertical-align: top\">1956</td>\n",
       "        <td style=\"padding-left: 1em; padding-right: 1em; text-align: center; vertical-align: top\">98039</td>\n",
       "        <td style=\"padding-left: 1em; padding-right: 1em; text-align: center; vertical-align: top\">47.61089438</td>\n",
       "    </tr>\n",
       "    <tr>\n",
       "        <td style=\"padding-left: 1em; padding-right: 1em; text-align: center; vertical-align: top\">1</td>\n",
       "        <td style=\"padding-left: 1em; padding-right: 1em; text-align: center; vertical-align: top\">4</td>\n",
       "        <td style=\"padding-left: 1em; padding-right: 1em; text-align: center; vertical-align: top\">9</td>\n",
       "        <td style=\"padding-left: 1em; padding-right: 1em; text-align: center; vertical-align: top\">2620</td>\n",
       "        <td style=\"padding-left: 1em; padding-right: 1em; text-align: center; vertical-align: top\">0</td>\n",
       "        <td style=\"padding-left: 1em; padding-right: 1em; text-align: center; vertical-align: top\">1949</td>\n",
       "        <td style=\"padding-left: 1em; padding-right: 1em; text-align: center; vertical-align: top\">0</td>\n",
       "        <td style=\"padding-left: 1em; padding-right: 1em; text-align: center; vertical-align: top\">98039</td>\n",
       "        <td style=\"padding-left: 1em; padding-right: 1em; text-align: center; vertical-align: top\">47.61435052</td>\n",
       "    </tr>\n",
       "    <tr>\n",
       "        <td style=\"padding-left: 1em; padding-right: 1em; text-align: center; vertical-align: top\">0</td>\n",
       "        <td style=\"padding-left: 1em; padding-right: 1em; text-align: center; vertical-align: top\">3</td>\n",
       "        <td style=\"padding-left: 1em; padding-right: 1em; text-align: center; vertical-align: top\">11</td>\n",
       "        <td style=\"padding-left: 1em; padding-right: 1em; text-align: center; vertical-align: top\">5450</td>\n",
       "        <td style=\"padding-left: 1em; padding-right: 1em; text-align: center; vertical-align: top\">0</td>\n",
       "        <td style=\"padding-left: 1em; padding-right: 1em; text-align: center; vertical-align: top\">2014</td>\n",
       "        <td style=\"padding-left: 1em; padding-right: 1em; text-align: center; vertical-align: top\">0</td>\n",
       "        <td style=\"padding-left: 1em; padding-right: 1em; text-align: center; vertical-align: top\">98039</td>\n",
       "        <td style=\"padding-left: 1em; padding-right: 1em; text-align: center; vertical-align: top\">47.62087993</td>\n",
       "    </tr>\n",
       "</table>\n",
       "<table frame=\"box\" rules=\"cols\">\n",
       "    <tr>\n",
       "        <th style=\"padding-left: 1em; padding-right: 1em; text-align: center\">long</th>\n",
       "        <th style=\"padding-left: 1em; padding-right: 1em; text-align: center\">sqft_living15</th>\n",
       "        <th style=\"padding-left: 1em; padding-right: 1em; text-align: center\">sqft_lot15</th>\n",
       "    </tr>\n",
       "    <tr>\n",
       "        <td style=\"padding-left: 1em; padding-right: 1em; text-align: center; vertical-align: top\">-122.23040939</td>\n",
       "        <td style=\"padding-left: 1em; padding-right: 1em; text-align: center; vertical-align: top\">3580.0</td>\n",
       "        <td style=\"padding-left: 1em; padding-right: 1em; text-align: center; vertical-align: top\">16054.0</td>\n",
       "    </tr>\n",
       "    <tr>\n",
       "        <td style=\"padding-left: 1em; padding-right: 1em; text-align: center; vertical-align: top\">-122.2245047</td>\n",
       "        <td style=\"padding-left: 1em; padding-right: 1em; text-align: center; vertical-align: top\">3520.0</td>\n",
       "        <td style=\"padding-left: 1em; padding-right: 1em; text-align: center; vertical-align: top\">18564.0</td>\n",
       "    </tr>\n",
       "    <tr>\n",
       "        <td style=\"padding-left: 1em; padding-right: 1em; text-align: center; vertical-align: top\">-122.23554392</td>\n",
       "        <td style=\"padding-left: 1em; padding-right: 1em; text-align: center; vertical-align: top\">1910.0</td>\n",
       "        <td style=\"padding-left: 1em; padding-right: 1em; text-align: center; vertical-align: top\">8119.0</td>\n",
       "    </tr>\n",
       "    <tr>\n",
       "        <td style=\"padding-left: 1em; padding-right: 1em; text-align: center; vertical-align: top\">-122.23554392</td>\n",
       "        <td style=\"padding-left: 1em; padding-right: 1em; text-align: center; vertical-align: top\">1910.0</td>\n",
       "        <td style=\"padding-left: 1em; padding-right: 1em; text-align: center; vertical-align: top\">8119.0</td>\n",
       "    </tr>\n",
       "    <tr>\n",
       "        <td style=\"padding-left: 1em; padding-right: 1em; text-align: center; vertical-align: top\">-122.22420058</td>\n",
       "        <td style=\"padding-left: 1em; padding-right: 1em; text-align: center; vertical-align: top\">3140.0</td>\n",
       "        <td style=\"padding-left: 1em; padding-right: 1em; text-align: center; vertical-align: top\">15996.0</td>\n",
       "    </tr>\n",
       "    <tr>\n",
       "        <td style=\"padding-left: 1em; padding-right: 1em; text-align: center; vertical-align: top\">-122.23346379</td>\n",
       "        <td style=\"padding-left: 1em; padding-right: 1em; text-align: center; vertical-align: top\">3560.0</td>\n",
       "        <td style=\"padding-left: 1em; padding-right: 1em; text-align: center; vertical-align: top\">24345.0</td>\n",
       "    </tr>\n",
       "    <tr>\n",
       "        <td style=\"padding-left: 1em; padding-right: 1em; text-align: center; vertical-align: top\">-122.22643371</td>\n",
       "        <td style=\"padding-left: 1em; padding-right: 1em; text-align: center; vertical-align: top\">2790.0</td>\n",
       "        <td style=\"padding-left: 1em; padding-right: 1em; text-align: center; vertical-align: top\">10800.0</td>\n",
       "    </tr>\n",
       "    <tr>\n",
       "        <td style=\"padding-left: 1em; padding-right: 1em; text-align: center; vertical-align: top\">-122.22582388</td>\n",
       "        <td style=\"padding-left: 1em; padding-right: 1em; text-align: center; vertical-align: top\">4480.0</td>\n",
       "        <td style=\"padding-left: 1em; padding-right: 1em; text-align: center; vertical-align: top\">14406.0</td>\n",
       "    </tr>\n",
       "    <tr>\n",
       "        <td style=\"padding-left: 1em; padding-right: 1em; text-align: center; vertical-align: top\">-122.22772057</td>\n",
       "        <td style=\"padding-left: 1em; padding-right: 1em; text-align: center; vertical-align: top\">3400.0</td>\n",
       "        <td style=\"padding-left: 1em; padding-right: 1em; text-align: center; vertical-align: top\">14400.0</td>\n",
       "    </tr>\n",
       "    <tr>\n",
       "        <td style=\"padding-left: 1em; padding-right: 1em; text-align: center; vertical-align: top\">-122.23726918</td>\n",
       "        <td style=\"padding-left: 1em; padding-right: 1em; text-align: center; vertical-align: top\">3160.0</td>\n",
       "        <td style=\"padding-left: 1em; padding-right: 1em; text-align: center; vertical-align: top\">17825.0</td>\n",
       "    </tr>\n",
       "</table>\n",
       "[50 rows x 21 columns]<br/>Note: Only the head of the SFrame is printed.<br/>You can use print_rows(num_rows=m, num_columns=n) to print more rows and columns.\n",
       "</div>"
      ],
      "text/plain": [
       "Columns:\n",
       "\tid\tstr\n",
       "\tdate\tdatetime\n",
       "\tprice\tint\n",
       "\tbedrooms\tstr\n",
       "\tbathrooms\tstr\n",
       "\tsqft_living\tint\n",
       "\tsqft_lot\tint\n",
       "\tfloors\tstr\n",
       "\twaterfront\tint\n",
       "\tview\tint\n",
       "\tcondition\tint\n",
       "\tgrade\tint\n",
       "\tsqft_above\tint\n",
       "\tsqft_basement\tint\n",
       "\tyr_built\tint\n",
       "\tyr_renovated\tint\n",
       "\tzipcode\tstr\n",
       "\tlat\tfloat\n",
       "\tlong\tfloat\n",
       "\tsqft_living15\tfloat\n",
       "\tsqft_lot15\tfloat\n",
       "\n",
       "Rows: 50\n",
       "\n",
       "Data:\n",
       "+------------+---------------------------+---------+----------+-----------+-------------+\n",
       "|     id     |            date           |  price  | bedrooms | bathrooms | sqft_living |\n",
       "+------------+---------------------------+---------+----------+-----------+-------------+\n",
       "| 3625049014 | 2014-08-29 00:00:00+00:00 | 2950000 |    4     |    3.5    |     4860    |\n",
       "| 2540700110 | 2015-02-12 00:00:00+00:00 | 1905000 |    4     |    3.5    |     4210    |\n",
       "| 3262300940 | 2014-11-07 00:00:00+00:00 |  875000 |    3     |     1     |     1220    |\n",
       "| 3262300940 | 2015-02-10 00:00:00+00:00 |  940000 |    3     |     1     |     1220    |\n",
       "| 6447300265 | 2014-10-14 00:00:00+00:00 | 4000000 |    4     |    5.5    |     7080    |\n",
       "| 2470100110 | 2014-08-04 00:00:00+00:00 | 5570000 |    5     |    5.75   |     9200    |\n",
       "| 2210500019 | 2015-03-24 00:00:00+00:00 |  937500 |    3     |     1     |     1320    |\n",
       "| 6447300345 | 2015-04-06 00:00:00+00:00 | 1160000 |    4     |     3     |     2680    |\n",
       "| 6447300225 | 2014-11-06 00:00:00+00:00 | 1880000 |    3     |    2.75   |     2620    |\n",
       "| 2525049148 | 2014-10-07 00:00:00+00:00 | 3418800 |    5     |     5     |     5450    |\n",
       "+------------+---------------------------+---------+----------+-----------+-------------+\n",
       "+----------+--------+------------+------+-----------+-------+------------+---------------+\n",
       "| sqft_lot | floors | waterfront | view | condition | grade | sqft_above | sqft_basement |\n",
       "+----------+--------+------------+------+-----------+-------+------------+---------------+\n",
       "|  23885   |   2    |     0      |  0   |     3     |   12  |    4860    |       0       |\n",
       "|  18564   |   2    |     0      |  0   |     3     |   11  |    4210    |       0       |\n",
       "|   8119   |   1    |     0      |  0   |     4     |   7   |    1220    |       0       |\n",
       "|   8119   |   1    |     0      |  0   |     4     |   7   |    1220    |       0       |\n",
       "|  16573   |   2    |     0      |  0   |     3     |   12  |    5760    |      1320     |\n",
       "|  35069   |   2    |     0      |  0   |     3     |   13  |    6200    |      3000     |\n",
       "|   8500   |   1    |     0      |  0   |     4     |   7   |    1320    |       0       |\n",
       "|  15438   |   2    |     0      |  2   |     3     |   8   |    2680    |       0       |\n",
       "|  17919   |   1    |     0      |  1   |     4     |   9   |    2620    |       0       |\n",
       "|  20412   |   2    |     0      |  0   |     3     |   11  |    5450    |       0       |\n",
       "+----------+--------+------------+------+-----------+-------+------------+---------------+\n",
       "+----------+--------------+---------+-------------+---------------+---------------+-----+\n",
       "| yr_built | yr_renovated | zipcode |     lat     |      long     | sqft_living15 | ... |\n",
       "+----------+--------------+---------+-------------+---------------+---------------+-----+\n",
       "|   1996   |      0       |  98039  | 47.61717049 | -122.23040939 |     3580.0    | ... |\n",
       "|   2001   |      0       |  98039  | 47.62060082 |  -122.2245047 |     3520.0    | ... |\n",
       "|   1955   |      0       |  98039  | 47.63281908 | -122.23554392 |     1910.0    | ... |\n",
       "|   1955   |      0       |  98039  | 47.63281908 | -122.23554392 |     1910.0    | ... |\n",
       "|   2008   |      0       |  98039  | 47.61512031 | -122.22420058 |     3140.0    | ... |\n",
       "|   2001   |      0       |  98039  | 47.62888314 | -122.23346379 |     3560.0    | ... |\n",
       "|   1954   |      0       |  98039  | 47.61872888 | -122.22643371 |     2790.0    | ... |\n",
       "|   1902   |     1956     |  98039  | 47.61089438 | -122.22582388 |     4480.0    | ... |\n",
       "|   1949   |      0       |  98039  | 47.61435052 | -122.22772057 |     3400.0    | ... |\n",
       "|   2014   |      0       |  98039  | 47.62087993 | -122.23726918 |     3160.0    | ... |\n",
       "+----------+--------------+---------+-------------+---------------+---------------+-----+\n",
       "[50 rows x 21 columns]\n",
       "Note: Only the head of the SFrame is printed.\n",
       "You can use print_rows(num_rows=m, num_columns=n) to print more rows and columns."
      ]
     },
     "execution_count": 54,
     "metadata": {},
     "output_type": "execute_result"
    }
   ],
   "source": [
    "houseZipcodeHigestAvgPrice = sales.filter_by(['98039'], 'zipcode')\n",
    "houseZipcodeHigestAvgPrice"
   ]
  },
  {
   "cell_type": "code",
   "execution_count": 57,
   "metadata": {
    "collapsed": false
   },
   "outputs": [
    {
     "data": {
      "text/plain": [
       "2160606.6"
      ]
     },
     "execution_count": 57,
     "metadata": {},
     "output_type": "execute_result"
    }
   ],
   "source": [
    "avgPriceHZHAP = houseZipcodeHigestAvgPrice['price'].mean()\n",
    "avgPriceHZHAP"
   ]
  },
  {
   "cell_type": "code",
   "execution_count": 73,
   "metadata": {
    "collapsed": false
   },
   "outputs": [
    {
     "data": {
      "text/html": [
       "<div style=\"max-height:1000px;max-width:1500px;overflow:auto;\"><table frame=\"box\" rules=\"cols\">\n",
       "    <tr>\n",
       "        <th style=\"padding-left: 1em; padding-right: 1em; text-align: center\">id</th>\n",
       "        <th style=\"padding-left: 1em; padding-right: 1em; text-align: center\">date</th>\n",
       "        <th style=\"padding-left: 1em; padding-right: 1em; text-align: center\">price</th>\n",
       "        <th style=\"padding-left: 1em; padding-right: 1em; text-align: center\">bedrooms</th>\n",
       "        <th style=\"padding-left: 1em; padding-right: 1em; text-align: center\">bathrooms</th>\n",
       "        <th style=\"padding-left: 1em; padding-right: 1em; text-align: center\">sqft_living</th>\n",
       "        <th style=\"padding-left: 1em; padding-right: 1em; text-align: center\">sqft_lot</th>\n",
       "        <th style=\"padding-left: 1em; padding-right: 1em; text-align: center\">floors</th>\n",
       "        <th style=\"padding-left: 1em; padding-right: 1em; text-align: center\">waterfront</th>\n",
       "    </tr>\n",
       "    <tr>\n",
       "        <td style=\"padding-left: 1em; padding-right: 1em; text-align: center; vertical-align: top\">6414100192</td>\n",
       "        <td style=\"padding-left: 1em; padding-right: 1em; text-align: center; vertical-align: top\">2014-12-09 00:00:00+00:00</td>\n",
       "        <td style=\"padding-left: 1em; padding-right: 1em; text-align: center; vertical-align: top\">538000</td>\n",
       "        <td style=\"padding-left: 1em; padding-right: 1em; text-align: center; vertical-align: top\">3</td>\n",
       "        <td style=\"padding-left: 1em; padding-right: 1em; text-align: center; vertical-align: top\">2.25</td>\n",
       "        <td style=\"padding-left: 1em; padding-right: 1em; text-align: center; vertical-align: top\">2570</td>\n",
       "        <td style=\"padding-left: 1em; padding-right: 1em; text-align: center; vertical-align: top\">7242</td>\n",
       "        <td style=\"padding-left: 1em; padding-right: 1em; text-align: center; vertical-align: top\">2</td>\n",
       "        <td style=\"padding-left: 1em; padding-right: 1em; text-align: center; vertical-align: top\">0</td>\n",
       "    </tr>\n",
       "    <tr>\n",
       "        <td style=\"padding-left: 1em; padding-right: 1em; text-align: center; vertical-align: top\">1736800520</td>\n",
       "        <td style=\"padding-left: 1em; padding-right: 1em; text-align: center; vertical-align: top\">2015-04-03 00:00:00+00:00</td>\n",
       "        <td style=\"padding-left: 1em; padding-right: 1em; text-align: center; vertical-align: top\">662500</td>\n",
       "        <td style=\"padding-left: 1em; padding-right: 1em; text-align: center; vertical-align: top\">3</td>\n",
       "        <td style=\"padding-left: 1em; padding-right: 1em; text-align: center; vertical-align: top\">2.5</td>\n",
       "        <td style=\"padding-left: 1em; padding-right: 1em; text-align: center; vertical-align: top\">3560</td>\n",
       "        <td style=\"padding-left: 1em; padding-right: 1em; text-align: center; vertical-align: top\">9796</td>\n",
       "        <td style=\"padding-left: 1em; padding-right: 1em; text-align: center; vertical-align: top\">1</td>\n",
       "        <td style=\"padding-left: 1em; padding-right: 1em; text-align: center; vertical-align: top\">0</td>\n",
       "    </tr>\n",
       "    <tr>\n",
       "        <td style=\"padding-left: 1em; padding-right: 1em; text-align: center; vertical-align: top\">9297300055</td>\n",
       "        <td style=\"padding-left: 1em; padding-right: 1em; text-align: center; vertical-align: top\">2015-01-24 00:00:00+00:00</td>\n",
       "        <td style=\"padding-left: 1em; padding-right: 1em; text-align: center; vertical-align: top\">650000</td>\n",
       "        <td style=\"padding-left: 1em; padding-right: 1em; text-align: center; vertical-align: top\">4</td>\n",
       "        <td style=\"padding-left: 1em; padding-right: 1em; text-align: center; vertical-align: top\">3</td>\n",
       "        <td style=\"padding-left: 1em; padding-right: 1em; text-align: center; vertical-align: top\">2950</td>\n",
       "        <td style=\"padding-left: 1em; padding-right: 1em; text-align: center; vertical-align: top\">5000</td>\n",
       "        <td style=\"padding-left: 1em; padding-right: 1em; text-align: center; vertical-align: top\">2</td>\n",
       "        <td style=\"padding-left: 1em; padding-right: 1em; text-align: center; vertical-align: top\">0</td>\n",
       "    </tr>\n",
       "    <tr>\n",
       "        <td style=\"padding-left: 1em; padding-right: 1em; text-align: center; vertical-align: top\">2524049179</td>\n",
       "        <td style=\"padding-left: 1em; padding-right: 1em; text-align: center; vertical-align: top\">2014-08-26 00:00:00+00:00</td>\n",
       "        <td style=\"padding-left: 1em; padding-right: 1em; text-align: center; vertical-align: top\">2000000</td>\n",
       "        <td style=\"padding-left: 1em; padding-right: 1em; text-align: center; vertical-align: top\">3</td>\n",
       "        <td style=\"padding-left: 1em; padding-right: 1em; text-align: center; vertical-align: top\">2.75</td>\n",
       "        <td style=\"padding-left: 1em; padding-right: 1em; text-align: center; vertical-align: top\">3050</td>\n",
       "        <td style=\"padding-left: 1em; padding-right: 1em; text-align: center; vertical-align: top\">44867</td>\n",
       "        <td style=\"padding-left: 1em; padding-right: 1em; text-align: center; vertical-align: top\">1</td>\n",
       "        <td style=\"padding-left: 1em; padding-right: 1em; text-align: center; vertical-align: top\">0</td>\n",
       "    </tr>\n",
       "    <tr>\n",
       "        <td style=\"padding-left: 1em; padding-right: 1em; text-align: center; vertical-align: top\">7137970340</td>\n",
       "        <td style=\"padding-left: 1em; padding-right: 1em; text-align: center; vertical-align: top\">2014-07-03 00:00:00+00:00</td>\n",
       "        <td style=\"padding-left: 1em; padding-right: 1em; text-align: center; vertical-align: top\">285000</td>\n",
       "        <td style=\"padding-left: 1em; padding-right: 1em; text-align: center; vertical-align: top\">5</td>\n",
       "        <td style=\"padding-left: 1em; padding-right: 1em; text-align: center; vertical-align: top\">2.5</td>\n",
       "        <td style=\"padding-left: 1em; padding-right: 1em; text-align: center; vertical-align: top\">2270</td>\n",
       "        <td style=\"padding-left: 1em; padding-right: 1em; text-align: center; vertical-align: top\">6300</td>\n",
       "        <td style=\"padding-left: 1em; padding-right: 1em; text-align: center; vertical-align: top\">2</td>\n",
       "        <td style=\"padding-left: 1em; padding-right: 1em; text-align: center; vertical-align: top\">0</td>\n",
       "    </tr>\n",
       "    <tr>\n",
       "        <td style=\"padding-left: 1em; padding-right: 1em; text-align: center; vertical-align: top\">3814700200</td>\n",
       "        <td style=\"padding-left: 1em; padding-right: 1em; text-align: center; vertical-align: top\">2014-11-20 00:00:00+00:00</td>\n",
       "        <td style=\"padding-left: 1em; padding-right: 1em; text-align: center; vertical-align: top\">329000</td>\n",
       "        <td style=\"padding-left: 1em; padding-right: 1em; text-align: center; vertical-align: top\">3</td>\n",
       "        <td style=\"padding-left: 1em; padding-right: 1em; text-align: center; vertical-align: top\">2.25</td>\n",
       "        <td style=\"padding-left: 1em; padding-right: 1em; text-align: center; vertical-align: top\">2450</td>\n",
       "        <td style=\"padding-left: 1em; padding-right: 1em; text-align: center; vertical-align: top\">6500</td>\n",
       "        <td style=\"padding-left: 1em; padding-right: 1em; text-align: center; vertical-align: top\">2</td>\n",
       "        <td style=\"padding-left: 1em; padding-right: 1em; text-align: center; vertical-align: top\">0</td>\n",
       "    </tr>\n",
       "    <tr>\n",
       "        <td style=\"padding-left: 1em; padding-right: 1em; text-align: center; vertical-align: top\">1794500383</td>\n",
       "        <td style=\"padding-left: 1em; padding-right: 1em; text-align: center; vertical-align: top\">2014-06-26 00:00:00+00:00</td>\n",
       "        <td style=\"padding-left: 1em; padding-right: 1em; text-align: center; vertical-align: top\">937000</td>\n",
       "        <td style=\"padding-left: 1em; padding-right: 1em; text-align: center; vertical-align: top\">3</td>\n",
       "        <td style=\"padding-left: 1em; padding-right: 1em; text-align: center; vertical-align: top\">1.75</td>\n",
       "        <td style=\"padding-left: 1em; padding-right: 1em; text-align: center; vertical-align: top\">2450</td>\n",
       "        <td style=\"padding-left: 1em; padding-right: 1em; text-align: center; vertical-align: top\">2691</td>\n",
       "        <td style=\"padding-left: 1em; padding-right: 1em; text-align: center; vertical-align: top\">2</td>\n",
       "        <td style=\"padding-left: 1em; padding-right: 1em; text-align: center; vertical-align: top\">0</td>\n",
       "    </tr>\n",
       "    <tr>\n",
       "        <td style=\"padding-left: 1em; padding-right: 1em; text-align: center; vertical-align: top\">1873100390</td>\n",
       "        <td style=\"padding-left: 1em; padding-right: 1em; text-align: center; vertical-align: top\">2015-03-02 00:00:00+00:00</td>\n",
       "        <td style=\"padding-left: 1em; padding-right: 1em; text-align: center; vertical-align: top\">719000</td>\n",
       "        <td style=\"padding-left: 1em; padding-right: 1em; text-align: center; vertical-align: top\">4</td>\n",
       "        <td style=\"padding-left: 1em; padding-right: 1em; text-align: center; vertical-align: top\">2.5</td>\n",
       "        <td style=\"padding-left: 1em; padding-right: 1em; text-align: center; vertical-align: top\">2570</td>\n",
       "        <td style=\"padding-left: 1em; padding-right: 1em; text-align: center; vertical-align: top\">7173</td>\n",
       "        <td style=\"padding-left: 1em; padding-right: 1em; text-align: center; vertical-align: top\">2</td>\n",
       "        <td style=\"padding-left: 1em; padding-right: 1em; text-align: center; vertical-align: top\">0</td>\n",
       "    </tr>\n",
       "    <tr>\n",
       "        <td style=\"padding-left: 1em; padding-right: 1em; text-align: center; vertical-align: top\">8562750320</td>\n",
       "        <td style=\"padding-left: 1em; padding-right: 1em; text-align: center; vertical-align: top\">2014-11-10 00:00:00+00:00</td>\n",
       "        <td style=\"padding-left: 1em; padding-right: 1em; text-align: center; vertical-align: top\">580500</td>\n",
       "        <td style=\"padding-left: 1em; padding-right: 1em; text-align: center; vertical-align: top\">3</td>\n",
       "        <td style=\"padding-left: 1em; padding-right: 1em; text-align: center; vertical-align: top\">2.5</td>\n",
       "        <td style=\"padding-left: 1em; padding-right: 1em; text-align: center; vertical-align: top\">2320</td>\n",
       "        <td style=\"padding-left: 1em; padding-right: 1em; text-align: center; vertical-align: top\">3980</td>\n",
       "        <td style=\"padding-left: 1em; padding-right: 1em; text-align: center; vertical-align: top\">2</td>\n",
       "        <td style=\"padding-left: 1em; padding-right: 1em; text-align: center; vertical-align: top\">0</td>\n",
       "    </tr>\n",
       "    <tr>\n",
       "        <td style=\"padding-left: 1em; padding-right: 1em; text-align: center; vertical-align: top\">0461000390</td>\n",
       "        <td style=\"padding-left: 1em; padding-right: 1em; text-align: center; vertical-align: top\">2014-06-24 00:00:00+00:00</td>\n",
       "        <td style=\"padding-left: 1em; padding-right: 1em; text-align: center; vertical-align: top\">687500</td>\n",
       "        <td style=\"padding-left: 1em; padding-right: 1em; text-align: center; vertical-align: top\">4</td>\n",
       "        <td style=\"padding-left: 1em; padding-right: 1em; text-align: center; vertical-align: top\">1.75</td>\n",
       "        <td style=\"padding-left: 1em; padding-right: 1em; text-align: center; vertical-align: top\">2330</td>\n",
       "        <td style=\"padding-left: 1em; padding-right: 1em; text-align: center; vertical-align: top\">5000</td>\n",
       "        <td style=\"padding-left: 1em; padding-right: 1em; text-align: center; vertical-align: top\">1.5</td>\n",
       "        <td style=\"padding-left: 1em; padding-right: 1em; text-align: center; vertical-align: top\">0</td>\n",
       "    </tr>\n",
       "</table>\n",
       "<table frame=\"box\" rules=\"cols\">\n",
       "    <tr>\n",
       "        <th style=\"padding-left: 1em; padding-right: 1em; text-align: center\">view</th>\n",
       "        <th style=\"padding-left: 1em; padding-right: 1em; text-align: center\">condition</th>\n",
       "        <th style=\"padding-left: 1em; padding-right: 1em; text-align: center\">grade</th>\n",
       "        <th style=\"padding-left: 1em; padding-right: 1em; text-align: center\">sqft_above</th>\n",
       "        <th style=\"padding-left: 1em; padding-right: 1em; text-align: center\">sqft_basement</th>\n",
       "        <th style=\"padding-left: 1em; padding-right: 1em; text-align: center\">yr_built</th>\n",
       "        <th style=\"padding-left: 1em; padding-right: 1em; text-align: center\">yr_renovated</th>\n",
       "        <th style=\"padding-left: 1em; padding-right: 1em; text-align: center\">zipcode</th>\n",
       "        <th style=\"padding-left: 1em; padding-right: 1em; text-align: center\">lat</th>\n",
       "    </tr>\n",
       "    <tr>\n",
       "        <td style=\"padding-left: 1em; padding-right: 1em; text-align: center; vertical-align: top\">0</td>\n",
       "        <td style=\"padding-left: 1em; padding-right: 1em; text-align: center; vertical-align: top\">3</td>\n",
       "        <td style=\"padding-left: 1em; padding-right: 1em; text-align: center; vertical-align: top\">7</td>\n",
       "        <td style=\"padding-left: 1em; padding-right: 1em; text-align: center; vertical-align: top\">2170</td>\n",
       "        <td style=\"padding-left: 1em; padding-right: 1em; text-align: center; vertical-align: top\">400</td>\n",
       "        <td style=\"padding-left: 1em; padding-right: 1em; text-align: center; vertical-align: top\">1951</td>\n",
       "        <td style=\"padding-left: 1em; padding-right: 1em; text-align: center; vertical-align: top\">1991</td>\n",
       "        <td style=\"padding-left: 1em; padding-right: 1em; text-align: center; vertical-align: top\">98125</td>\n",
       "        <td style=\"padding-left: 1em; padding-right: 1em; text-align: center; vertical-align: top\">47.72102274</td>\n",
       "    </tr>\n",
       "    <tr>\n",
       "        <td style=\"padding-left: 1em; padding-right: 1em; text-align: center; vertical-align: top\">0</td>\n",
       "        <td style=\"padding-left: 1em; padding-right: 1em; text-align: center; vertical-align: top\">3</td>\n",
       "        <td style=\"padding-left: 1em; padding-right: 1em; text-align: center; vertical-align: top\">8</td>\n",
       "        <td style=\"padding-left: 1em; padding-right: 1em; text-align: center; vertical-align: top\">1860</td>\n",
       "        <td style=\"padding-left: 1em; padding-right: 1em; text-align: center; vertical-align: top\">1700</td>\n",
       "        <td style=\"padding-left: 1em; padding-right: 1em; text-align: center; vertical-align: top\">1965</td>\n",
       "        <td style=\"padding-left: 1em; padding-right: 1em; text-align: center; vertical-align: top\">0</td>\n",
       "        <td style=\"padding-left: 1em; padding-right: 1em; text-align: center; vertical-align: top\">98007</td>\n",
       "        <td style=\"padding-left: 1em; padding-right: 1em; text-align: center; vertical-align: top\">47.60065993</td>\n",
       "    </tr>\n",
       "    <tr>\n",
       "        <td style=\"padding-left: 1em; padding-right: 1em; text-align: center; vertical-align: top\">3</td>\n",
       "        <td style=\"padding-left: 1em; padding-right: 1em; text-align: center; vertical-align: top\">3</td>\n",
       "        <td style=\"padding-left: 1em; padding-right: 1em; text-align: center; vertical-align: top\">9</td>\n",
       "        <td style=\"padding-left: 1em; padding-right: 1em; text-align: center; vertical-align: top\">1980</td>\n",
       "        <td style=\"padding-left: 1em; padding-right: 1em; text-align: center; vertical-align: top\">970</td>\n",
       "        <td style=\"padding-left: 1em; padding-right: 1em; text-align: center; vertical-align: top\">1979</td>\n",
       "        <td style=\"padding-left: 1em; padding-right: 1em; text-align: center; vertical-align: top\">0</td>\n",
       "        <td style=\"padding-left: 1em; padding-right: 1em; text-align: center; vertical-align: top\">98126</td>\n",
       "        <td style=\"padding-left: 1em; padding-right: 1em; text-align: center; vertical-align: top\">47.57136955</td>\n",
       "    </tr>\n",
       "    <tr>\n",
       "        <td style=\"padding-left: 1em; padding-right: 1em; text-align: center; vertical-align: top\">4</td>\n",
       "        <td style=\"padding-left: 1em; padding-right: 1em; text-align: center; vertical-align: top\">3</td>\n",
       "        <td style=\"padding-left: 1em; padding-right: 1em; text-align: center; vertical-align: top\">9</td>\n",
       "        <td style=\"padding-left: 1em; padding-right: 1em; text-align: center; vertical-align: top\">2330</td>\n",
       "        <td style=\"padding-left: 1em; padding-right: 1em; text-align: center; vertical-align: top\">720</td>\n",
       "        <td style=\"padding-left: 1em; padding-right: 1em; text-align: center; vertical-align: top\">1968</td>\n",
       "        <td style=\"padding-left: 1em; padding-right: 1em; text-align: center; vertical-align: top\">0</td>\n",
       "        <td style=\"padding-left: 1em; padding-right: 1em; text-align: center; vertical-align: top\">98040</td>\n",
       "        <td style=\"padding-left: 1em; padding-right: 1em; text-align: center; vertical-align: top\">47.53164379</td>\n",
       "    </tr>\n",
       "    <tr>\n",
       "        <td style=\"padding-left: 1em; padding-right: 1em; text-align: center; vertical-align: top\">0</td>\n",
       "        <td style=\"padding-left: 1em; padding-right: 1em; text-align: center; vertical-align: top\">3</td>\n",
       "        <td style=\"padding-left: 1em; padding-right: 1em; text-align: center; vertical-align: top\">8</td>\n",
       "        <td style=\"padding-left: 1em; padding-right: 1em; text-align: center; vertical-align: top\">2270</td>\n",
       "        <td style=\"padding-left: 1em; padding-right: 1em; text-align: center; vertical-align: top\">0</td>\n",
       "        <td style=\"padding-left: 1em; padding-right: 1em; text-align: center; vertical-align: top\">1995</td>\n",
       "        <td style=\"padding-left: 1em; padding-right: 1em; text-align: center; vertical-align: top\">0</td>\n",
       "        <td style=\"padding-left: 1em; padding-right: 1em; text-align: center; vertical-align: top\">98092</td>\n",
       "        <td style=\"padding-left: 1em; padding-right: 1em; text-align: center; vertical-align: top\">47.32658071</td>\n",
       "    </tr>\n",
       "    <tr>\n",
       "        <td style=\"padding-left: 1em; padding-right: 1em; text-align: center; vertical-align: top\">0</td>\n",
       "        <td style=\"padding-left: 1em; padding-right: 1em; text-align: center; vertical-align: top\">4</td>\n",
       "        <td style=\"padding-left: 1em; padding-right: 1em; text-align: center; vertical-align: top\">8</td>\n",
       "        <td style=\"padding-left: 1em; padding-right: 1em; text-align: center; vertical-align: top\">2450</td>\n",
       "        <td style=\"padding-left: 1em; padding-right: 1em; text-align: center; vertical-align: top\">0</td>\n",
       "        <td style=\"padding-left: 1em; padding-right: 1em; text-align: center; vertical-align: top\">1985</td>\n",
       "        <td style=\"padding-left: 1em; padding-right: 1em; text-align: center; vertical-align: top\">0</td>\n",
       "        <td style=\"padding-left: 1em; padding-right: 1em; text-align: center; vertical-align: top\">98030</td>\n",
       "        <td style=\"padding-left: 1em; padding-right: 1em; text-align: center; vertical-align: top\">47.37386303</td>\n",
       "    </tr>\n",
       "    <tr>\n",
       "        <td style=\"padding-left: 1em; padding-right: 1em; text-align: center; vertical-align: top\">0</td>\n",
       "        <td style=\"padding-left: 1em; padding-right: 1em; text-align: center; vertical-align: top\">3</td>\n",
       "        <td style=\"padding-left: 1em; padding-right: 1em; text-align: center; vertical-align: top\">8</td>\n",
       "        <td style=\"padding-left: 1em; padding-right: 1em; text-align: center; vertical-align: top\">1750</td>\n",
       "        <td style=\"padding-left: 1em; padding-right: 1em; text-align: center; vertical-align: top\">700</td>\n",
       "        <td style=\"padding-left: 1em; padding-right: 1em; text-align: center; vertical-align: top\">1915</td>\n",
       "        <td style=\"padding-left: 1em; padding-right: 1em; text-align: center; vertical-align: top\">0</td>\n",
       "        <td style=\"padding-left: 1em; padding-right: 1em; text-align: center; vertical-align: top\">98119</td>\n",
       "        <td style=\"padding-left: 1em; padding-right: 1em; text-align: center; vertical-align: top\">47.63855772</td>\n",
       "    </tr>\n",
       "    <tr>\n",
       "        <td style=\"padding-left: 1em; padding-right: 1em; text-align: center; vertical-align: top\">0</td>\n",
       "        <td style=\"padding-left: 1em; padding-right: 1em; text-align: center; vertical-align: top\">3</td>\n",
       "        <td style=\"padding-left: 1em; padding-right: 1em; text-align: center; vertical-align: top\">8</td>\n",
       "        <td style=\"padding-left: 1em; padding-right: 1em; text-align: center; vertical-align: top\">2570</td>\n",
       "        <td style=\"padding-left: 1em; padding-right: 1em; text-align: center; vertical-align: top\">0</td>\n",
       "        <td style=\"padding-left: 1em; padding-right: 1em; text-align: center; vertical-align: top\">2005</td>\n",
       "        <td style=\"padding-left: 1em; padding-right: 1em; text-align: center; vertical-align: top\">0</td>\n",
       "        <td style=\"padding-left: 1em; padding-right: 1em; text-align: center; vertical-align: top\">98052</td>\n",
       "        <td style=\"padding-left: 1em; padding-right: 1em; text-align: center; vertical-align: top\">47.70732168</td>\n",
       "    </tr>\n",
       "    <tr>\n",
       "        <td style=\"padding-left: 1em; padding-right: 1em; text-align: center; vertical-align: top\">0</td>\n",
       "        <td style=\"padding-left: 1em; padding-right: 1em; text-align: center; vertical-align: top\">3</td>\n",
       "        <td style=\"padding-left: 1em; padding-right: 1em; text-align: center; vertical-align: top\">8</td>\n",
       "        <td style=\"padding-left: 1em; padding-right: 1em; text-align: center; vertical-align: top\">2320</td>\n",
       "        <td style=\"padding-left: 1em; padding-right: 1em; text-align: center; vertical-align: top\">0</td>\n",
       "        <td style=\"padding-left: 1em; padding-right: 1em; text-align: center; vertical-align: top\">2003</td>\n",
       "        <td style=\"padding-left: 1em; padding-right: 1em; text-align: center; vertical-align: top\">0</td>\n",
       "        <td style=\"padding-left: 1em; padding-right: 1em; text-align: center; vertical-align: top\">98027</td>\n",
       "        <td style=\"padding-left: 1em; padding-right: 1em; text-align: center; vertical-align: top\">47.5391103</td>\n",
       "    </tr>\n",
       "    <tr>\n",
       "        <td style=\"padding-left: 1em; padding-right: 1em; text-align: center; vertical-align: top\">0</td>\n",
       "        <td style=\"padding-left: 1em; padding-right: 1em; text-align: center; vertical-align: top\">4</td>\n",
       "        <td style=\"padding-left: 1em; padding-right: 1em; text-align: center; vertical-align: top\">7</td>\n",
       "        <td style=\"padding-left: 1em; padding-right: 1em; text-align: center; vertical-align: top\">1510</td>\n",
       "        <td style=\"padding-left: 1em; padding-right: 1em; text-align: center; vertical-align: top\">820</td>\n",
       "        <td style=\"padding-left: 1em; padding-right: 1em; text-align: center; vertical-align: top\">1929</td>\n",
       "        <td style=\"padding-left: 1em; padding-right: 1em; text-align: center; vertical-align: top\">0</td>\n",
       "        <td style=\"padding-left: 1em; padding-right: 1em; text-align: center; vertical-align: top\">98117</td>\n",
       "        <td style=\"padding-left: 1em; padding-right: 1em; text-align: center; vertical-align: top\">47.68228235</td>\n",
       "    </tr>\n",
       "</table>\n",
       "<table frame=\"box\" rules=\"cols\">\n",
       "    <tr>\n",
       "        <th style=\"padding-left: 1em; padding-right: 1em; text-align: center\">long</th>\n",
       "        <th style=\"padding-left: 1em; padding-right: 1em; text-align: center\">sqft_living15</th>\n",
       "        <th style=\"padding-left: 1em; padding-right: 1em; text-align: center\">sqft_lot15</th>\n",
       "    </tr>\n",
       "    <tr>\n",
       "        <td style=\"padding-left: 1em; padding-right: 1em; text-align: center; vertical-align: top\">-122.3188624</td>\n",
       "        <td style=\"padding-left: 1em; padding-right: 1em; text-align: center; vertical-align: top\">1690.0</td>\n",
       "        <td style=\"padding-left: 1em; padding-right: 1em; text-align: center; vertical-align: top\">7639.0</td>\n",
       "    </tr>\n",
       "    <tr>\n",
       "        <td style=\"padding-left: 1em; padding-right: 1em; text-align: center; vertical-align: top\">-122.14529566</td>\n",
       "        <td style=\"padding-left: 1em; padding-right: 1em; text-align: center; vertical-align: top\">2210.0</td>\n",
       "        <td style=\"padding-left: 1em; padding-right: 1em; text-align: center; vertical-align: top\">8925.0</td>\n",
       "    </tr>\n",
       "    <tr>\n",
       "        <td style=\"padding-left: 1em; padding-right: 1em; text-align: center; vertical-align: top\">-122.37541218</td>\n",
       "        <td style=\"padding-left: 1em; padding-right: 1em; text-align: center; vertical-align: top\">2140.0</td>\n",
       "        <td style=\"padding-left: 1em; padding-right: 1em; text-align: center; vertical-align: top\">4000.0</td>\n",
       "    </tr>\n",
       "    <tr>\n",
       "        <td style=\"padding-left: 1em; padding-right: 1em; text-align: center; vertical-align: top\">-122.23345881</td>\n",
       "        <td style=\"padding-left: 1em; padding-right: 1em; text-align: center; vertical-align: top\">4110.0</td>\n",
       "        <td style=\"padding-left: 1em; padding-right: 1em; text-align: center; vertical-align: top\">20336.0</td>\n",
       "    </tr>\n",
       "    <tr>\n",
       "        <td style=\"padding-left: 1em; padding-right: 1em; text-align: center; vertical-align: top\">-122.16892624</td>\n",
       "        <td style=\"padding-left: 1em; padding-right: 1em; text-align: center; vertical-align: top\">2240.0</td>\n",
       "        <td style=\"padding-left: 1em; padding-right: 1em; text-align: center; vertical-align: top\">7005.0</td>\n",
       "    </tr>\n",
       "    <tr>\n",
       "        <td style=\"padding-left: 1em; padding-right: 1em; text-align: center; vertical-align: top\">-122.17228981</td>\n",
       "        <td style=\"padding-left: 1em; padding-right: 1em; text-align: center; vertical-align: top\">2200.0</td>\n",
       "        <td style=\"padding-left: 1em; padding-right: 1em; text-align: center; vertical-align: top\">6865.0</td>\n",
       "    </tr>\n",
       "    <tr>\n",
       "        <td style=\"padding-left: 1em; padding-right: 1em; text-align: center; vertical-align: top\">-122.35985573</td>\n",
       "        <td style=\"padding-left: 1em; padding-right: 1em; text-align: center; vertical-align: top\">1760.0</td>\n",
       "        <td style=\"padding-left: 1em; padding-right: 1em; text-align: center; vertical-align: top\">3573.0</td>\n",
       "    </tr>\n",
       "    <tr>\n",
       "        <td style=\"padding-left: 1em; padding-right: 1em; text-align: center; vertical-align: top\">-122.11029785</td>\n",
       "        <td style=\"padding-left: 1em; padding-right: 1em; text-align: center; vertical-align: top\">2630.0</td>\n",
       "        <td style=\"padding-left: 1em; padding-right: 1em; text-align: center; vertical-align: top\">6026.0</td>\n",
       "    </tr>\n",
       "    <tr>\n",
       "        <td style=\"padding-left: 1em; padding-right: 1em; text-align: center; vertical-align: top\">-122.06971484</td>\n",
       "        <td style=\"padding-left: 1em; padding-right: 1em; text-align: center; vertical-align: top\">2580.0</td>\n",
       "        <td style=\"padding-left: 1em; padding-right: 1em; text-align: center; vertical-align: top\">3980.0</td>\n",
       "    </tr>\n",
       "    <tr>\n",
       "        <td style=\"padding-left: 1em; padding-right: 1em; text-align: center; vertical-align: top\">-122.36760203</td>\n",
       "        <td style=\"padding-left: 1em; padding-right: 1em; text-align: center; vertical-align: top\">1460.0</td>\n",
       "        <td style=\"padding-left: 1em; padding-right: 1em; text-align: center; vertical-align: top\">5000.0</td>\n",
       "    </tr>\n",
       "</table>\n",
       "[? rows x 21 columns]<br/>Note: Only the head of the SFrame is printed. This SFrame is lazily evaluated.<br/>You can use sf.materialize() to force materialization.\n",
       "</div>"
      ],
      "text/plain": [
       "Columns:\n",
       "\tid\tstr\n",
       "\tdate\tdatetime\n",
       "\tprice\tint\n",
       "\tbedrooms\tstr\n",
       "\tbathrooms\tstr\n",
       "\tsqft_living\tint\n",
       "\tsqft_lot\tint\n",
       "\tfloors\tstr\n",
       "\twaterfront\tint\n",
       "\tview\tint\n",
       "\tcondition\tint\n",
       "\tgrade\tint\n",
       "\tsqft_above\tint\n",
       "\tsqft_basement\tint\n",
       "\tyr_built\tint\n",
       "\tyr_renovated\tint\n",
       "\tzipcode\tstr\n",
       "\tlat\tfloat\n",
       "\tlong\tfloat\n",
       "\tsqft_living15\tfloat\n",
       "\tsqft_lot15\tfloat\n",
       "\n",
       "Rows: Unknown\n",
       "\n",
       "Data:\n",
       "+------------+---------------------------+---------+----------+-----------+-------------+\n",
       "|     id     |            date           |  price  | bedrooms | bathrooms | sqft_living |\n",
       "+------------+---------------------------+---------+----------+-----------+-------------+\n",
       "| 6414100192 | 2014-12-09 00:00:00+00:00 |  538000 |    3     |    2.25   |     2570    |\n",
       "| 1736800520 | 2015-04-03 00:00:00+00:00 |  662500 |    3     |    2.5    |     3560    |\n",
       "| 9297300055 | 2015-01-24 00:00:00+00:00 |  650000 |    4     |     3     |     2950    |\n",
       "| 2524049179 | 2014-08-26 00:00:00+00:00 | 2000000 |    3     |    2.75   |     3050    |\n",
       "| 7137970340 | 2014-07-03 00:00:00+00:00 |  285000 |    5     |    2.5    |     2270    |\n",
       "| 3814700200 | 2014-11-20 00:00:00+00:00 |  329000 |    3     |    2.25   |     2450    |\n",
       "| 1794500383 | 2014-06-26 00:00:00+00:00 |  937000 |    3     |    1.75   |     2450    |\n",
       "| 1873100390 | 2015-03-02 00:00:00+00:00 |  719000 |    4     |    2.5    |     2570    |\n",
       "| 8562750320 | 2014-11-10 00:00:00+00:00 |  580500 |    3     |    2.5    |     2320    |\n",
       "| 0461000390 | 2014-06-24 00:00:00+00:00 |  687500 |    4     |    1.75   |     2330    |\n",
       "+------------+---------------------------+---------+----------+-----------+-------------+\n",
       "+----------+--------+------------+------+-----------+-------+------------+---------------+\n",
       "| sqft_lot | floors | waterfront | view | condition | grade | sqft_above | sqft_basement |\n",
       "+----------+--------+------------+------+-----------+-------+------------+---------------+\n",
       "|   7242   |   2    |     0      |  0   |     3     |   7   |    2170    |      400      |\n",
       "|   9796   |   1    |     0      |  0   |     3     |   8   |    1860    |      1700     |\n",
       "|   5000   |   2    |     0      |  3   |     3     |   9   |    1980    |      970      |\n",
       "|  44867   |   1    |     0      |  4   |     3     |   9   |    2330    |      720      |\n",
       "|   6300   |   2    |     0      |  0   |     3     |   8   |    2270    |       0       |\n",
       "|   6500   |   2    |     0      |  0   |     4     |   8   |    2450    |       0       |\n",
       "|   2691   |   2    |     0      |  0   |     3     |   8   |    1750    |      700      |\n",
       "|   7173   |   2    |     0      |  0   |     3     |   8   |    2570    |       0       |\n",
       "|   3980   |   2    |     0      |  0   |     3     |   8   |    2320    |       0       |\n",
       "|   5000   |  1.5   |     0      |  0   |     4     |   7   |    1510    |      820      |\n",
       "+----------+--------+------------+------+-----------+-------+------------+---------------+\n",
       "+----------+--------------+---------+-------------+---------------+---------------+-----+\n",
       "| yr_built | yr_renovated | zipcode |     lat     |      long     | sqft_living15 | ... |\n",
       "+----------+--------------+---------+-------------+---------------+---------------+-----+\n",
       "|   1951   |     1991     |  98125  | 47.72102274 |  -122.3188624 |     1690.0    | ... |\n",
       "|   1965   |      0       |  98007  | 47.60065993 | -122.14529566 |     2210.0    | ... |\n",
       "|   1979   |      0       |  98126  | 47.57136955 | -122.37541218 |     2140.0    | ... |\n",
       "|   1968   |      0       |  98040  | 47.53164379 | -122.23345881 |     4110.0    | ... |\n",
       "|   1995   |      0       |  98092  | 47.32658071 | -122.16892624 |     2240.0    | ... |\n",
       "|   1985   |      0       |  98030  | 47.37386303 | -122.17228981 |     2200.0    | ... |\n",
       "|   1915   |      0       |  98119  | 47.63855772 | -122.35985573 |     1760.0    | ... |\n",
       "|   2005   |      0       |  98052  | 47.70732168 | -122.11029785 |     2630.0    | ... |\n",
       "|   2003   |      0       |  98027  |  47.5391103 | -122.06971484 |     2580.0    | ... |\n",
       "|   1929   |      0       |  98117  | 47.68228235 | -122.36760203 |     1460.0    | ... |\n",
       "+----------+--------------+---------+-------------+---------------+---------------+-----+\n",
       "[? rows x 21 columns]\n",
       "Note: Only the head of the SFrame is printed. This SFrame is lazily evaluated.\n",
       "You can use sf.materialize() to force materialization."
      ]
     },
     "execution_count": 73,
     "metadata": {},
     "output_type": "execute_result"
    }
   ],
   "source": [
    "housesqft_living_2000_4000 = sales[(sales['sqft_living']>2000) & (sales['sqft_living']<4000)]\n",
    "housesqft_living_2000_4000"
   ]
  },
  {
   "cell_type": "code",
   "execution_count": 81,
   "metadata": {
    "collapsed": false
   },
   "outputs": [
    {
     "data": {
      "text/plain": [
       "0.4215518437977143"
      ]
     },
     "execution_count": 81,
     "metadata": {},
     "output_type": "execute_result"
    }
   ],
   "source": [
    "fracHousesqft_living_2000_4000 = float(housesqft_living_2000_4000.num_rows()) / sales.num_rows()\n",
    "fracHousesqft_living_2000_4000"
   ]
  },
  {
   "cell_type": "code",
   "execution_count": 63,
   "metadata": {
    "collapsed": true
   },
   "outputs": [],
   "source": [
    "advanced_features = [\n",
    "    'bedrooms', 'bathrooms', 'sqft_living', 'sqft_lot', 'floors', 'zipcode',\n",
    "    'condition', # condition of house\t\t\t\t\n",
    "    'grade', # measure of quality of construction\t\t\t\t\n",
    "    'waterfront', # waterfront property\t\t\t\t\n",
    "    'view', # type of view\t\t\t\t\n",
    "    'sqft_above', # square feet above ground\t\t\t\t\n",
    "    'sqft_basement', # square feet in basement\t\t\t\t\n",
    "    'yr_built', # the year built\t\t\t\t\n",
    "    'yr_renovated', # the year renovated\t\t\t\t\n",
    "    'lat', 'long', # the lat-long of the parcel\t\t\t\t\n",
    "    'sqft_living15', # average sq.ft. of 15 nearest neighbors \t\t\t\t\n",
    "    'sqft_lot15', # average lot size of 15 nearest neighbors \n",
    "]"
   ]
  },
  {
   "cell_type": "code",
   "execution_count": 65,
   "metadata": {
    "collapsed": false
   },
   "outputs": [
    {
     "data": {
      "text/html": [
       "<pre>Linear regression:</pre>"
      ],
      "text/plain": [
       "Linear regression:"
      ]
     },
     "metadata": {},
     "output_type": "display_data"
    },
    {
     "data": {
      "text/html": [
       "<pre>--------------------------------------------------------</pre>"
      ],
      "text/plain": [
       "--------------------------------------------------------"
      ]
     },
     "metadata": {},
     "output_type": "display_data"
    },
    {
     "data": {
      "text/html": [
       "<pre>Number of examples          : 17384</pre>"
      ],
      "text/plain": [
       "Number of examples          : 17384"
      ]
     },
     "metadata": {},
     "output_type": "display_data"
    },
    {
     "data": {
      "text/html": [
       "<pre>Number of features          : 18</pre>"
      ],
      "text/plain": [
       "Number of features          : 18"
      ]
     },
     "metadata": {},
     "output_type": "display_data"
    },
    {
     "data": {
      "text/html": [
       "<pre>Number of unpacked features : 18</pre>"
      ],
      "text/plain": [
       "Number of unpacked features : 18"
      ]
     },
     "metadata": {},
     "output_type": "display_data"
    },
    {
     "data": {
      "text/html": [
       "<pre>Number of coefficients    : 127</pre>"
      ],
      "text/plain": [
       "Number of coefficients    : 127"
      ]
     },
     "metadata": {},
     "output_type": "display_data"
    },
    {
     "data": {
      "text/html": [
       "<pre>Starting Newton Method</pre>"
      ],
      "text/plain": [
       "Starting Newton Method"
      ]
     },
     "metadata": {},
     "output_type": "display_data"
    },
    {
     "data": {
      "text/html": [
       "<pre>--------------------------------------------------------</pre>"
      ],
      "text/plain": [
       "--------------------------------------------------------"
      ]
     },
     "metadata": {},
     "output_type": "display_data"
    },
    {
     "data": {
      "text/html": [
       "<pre>+-----------+----------+--------------+--------------------+---------------+</pre>"
      ],
      "text/plain": [
       "+-----------+----------+--------------+--------------------+---------------+"
      ]
     },
     "metadata": {},
     "output_type": "display_data"
    },
    {
     "data": {
      "text/html": [
       "<pre>| Iteration | Passes   | Elapsed Time | Training-max_error | Training-rmse |</pre>"
      ],
      "text/plain": [
       "| Iteration | Passes   | Elapsed Time | Training-max_error | Training-rmse |"
      ]
     },
     "metadata": {},
     "output_type": "display_data"
    },
    {
     "data": {
      "text/html": [
       "<pre>+-----------+----------+--------------+--------------------+---------------+</pre>"
      ],
      "text/plain": [
       "+-----------+----------+--------------+--------------------+---------------+"
      ]
     },
     "metadata": {},
     "output_type": "display_data"
    },
    {
     "data": {
      "text/html": [
       "<pre>| 1         | 2        | 0.183061     | 3469012.450624     | 154580.940734 |</pre>"
      ],
      "text/plain": [
       "| 1         | 2        | 0.183061     | 3469012.450624     | 154580.940734 |"
      ]
     },
     "metadata": {},
     "output_type": "display_data"
    },
    {
     "data": {
      "text/html": [
       "<pre>| 2         | 3        | 0.340267     | 3469012.450673     | 154580.940735 |</pre>"
      ],
      "text/plain": [
       "| 2         | 3        | 0.340267     | 3469012.450673     | 154580.940735 |"
      ]
     },
     "metadata": {},
     "output_type": "display_data"
    },
    {
     "data": {
      "text/html": [
       "<pre>+-----------+----------+--------------+--------------------+---------------+</pre>"
      ],
      "text/plain": [
       "+-----------+----------+--------------+--------------------+---------------+"
      ]
     },
     "metadata": {},
     "output_type": "display_data"
    },
    {
     "data": {
      "text/html": [
       "<pre>SUCCESS: Optimal solution found.</pre>"
      ],
      "text/plain": [
       "SUCCESS: Optimal solution found."
      ]
     },
     "metadata": {},
     "output_type": "display_data"
    },
    {
     "data": {
      "text/html": [
       "<pre></pre>"
      ],
      "text/plain": []
     },
     "metadata": {},
     "output_type": "display_data"
    }
   ],
   "source": [
    "my_advanced_features_model = graphlab.linear_regression.create(train_data,target='price',features=advanced_features,validation_set=None)"
   ]
  },
  {
   "cell_type": "code",
   "execution_count": 83,
   "metadata": {
    "collapsed": false
   },
   "outputs": [
    {
     "name": "stdout",
     "output_type": "stream",
     "text": [
      "{'max_error': 3486584.50938179, 'rmse': 179542.43331269047}\n",
      "{'max_error': 3556849.413849059, 'rmse': 156831.11680200775}\n"
     ]
    }
   ],
   "source": [
    "my_features_model_evaluation = my_features_model.evaluate(test_data)\n",
    "my_advanced_features_model_evaluation = my_advanced_features_model.evaluate(test_data)\n",
    "\n",
    "print my_features_model_evaluation\n",
    "print my_advanced_features_model_evaluation"
   ]
  },
  {
   "cell_type": "markdown",
   "metadata": {},
   "source": [
    "The RMSE goes down from \\$179542.433 to \\$156831.116 with more features"
   ]
  },
  {
   "cell_type": "code",
   "execution_count": 84,
   "metadata": {
    "collapsed": false
   },
   "outputs": [
    {
     "data": {
      "text/plain": [
       "22711.316510682722"
      ]
     },
     "execution_count": 84,
     "metadata": {},
     "output_type": "execute_result"
    }
   ],
   "source": [
    "delta = my_features_model_evaluation['rmse'] - my_advanced_features_model_evaluation['rmse']\n",
    "delta"
   ]
  },
  {
   "cell_type": "code",
   "execution_count": null,
   "metadata": {
    "collapsed": true
   },
   "outputs": [],
   "source": []
  }
 ],
 "metadata": {
  "kernelspec": {
   "display_name": "Python 2",
   "language": "python",
   "name": "python2"
  },
  "language_info": {
   "codemirror_mode": {
    "name": "ipython",
    "version": 2
   },
   "file_extension": ".py",
   "mimetype": "text/x-python",
   "name": "python",
   "nbconvert_exporter": "python",
   "pygments_lexer": "ipython2",
   "version": "2.7.11"
  }
 },
 "nbformat": 4,
 "nbformat_minor": 0
}
