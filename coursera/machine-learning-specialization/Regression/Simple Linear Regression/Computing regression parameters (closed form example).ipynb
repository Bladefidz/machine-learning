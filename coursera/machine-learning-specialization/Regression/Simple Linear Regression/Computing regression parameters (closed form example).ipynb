{
 "cells": [
  {
   "cell_type": "markdown",
   "metadata": {},
   "source": [
    "## The data\n",
    "\n",
    "Consider the following 5 point synthetic data set:\n",
    "\n",
    "X | Y\n",
    "--|--\n",
    "0 | 1\n",
    "1 | 3\n",
    "2 | 7\n",
    "3 | 13\n",
    "4 | 21"
   ]
  },
  {
   "cell_type": "markdown",
   "metadata": {},
   "source": [
    "Which is plotted below:\n",
    "\n",
    "![](images/scatter1.png)"
   ]
  },
  {
   "cell_type": "markdown",
   "metadata": {},
   "source": [
    "## What we need\n",
    "\n",
    "We want the line that “best fits” this data set as measured by residual sum of squares -- the simple linear regression cost. We have a closed form solution that involves the following terms:\n",
    "\n",
    "* The number of data points (N)\n",
    "* The sum (or mean) of the Ys\n",
    "* The sum (or mean) of the Xs\n",
    "* The sum (or mean) of the product of the Xs and the Ys\n",
    "* The sum (or mean) of the Xs squared\n",
    "\n",
    "Then once we have calculated all of these terms, we can use the formulas to compute the slope and intercept. Recall that we first solve for the slope and then we use the value of the slope to solve for the intercept. The formula for the slope is a fraction with:\n",
    "\n",
    "\n",
    "```\n",
    "numerator = (sum of X*Y) - (1/N)*((sum of X) * (sum of Y))\n",
    "denominator = (sum of X^2) - (1/N)*((sum of X) * (sum of X))\n",
    "```\n",
    "\n",
    "Note that you can divide both the numerator and denominator by N (which doesn’t change the answer!) to get:\n",
    "\n",
    "```\n",
    "numerator = (mean of X * Y) - (mean of X)*(mean of Y)\n",
    "denominator = (mean of X^2) - (mean of X)*(mean of X)\n",
    "```\n",
    "\n",
    "Hence, we can use either the sum or the means."
   ]
  },
  {
   "cell_type": "markdown",
   "metadata": {},
   "source": [
    "## Method 1: (using sums)\n",
    "\n",
    "* N = 5\n",
    "* The sum of the Ys = 45\n",
    "* The sum of the Xs = 10\n",
    "* The sum of the product of the Xs and the Ys = 140\n",
    "* The sum of the Xs squared = 30\n",
    "\n",
    "So that:\n",
    "```\n",
    "numerator = [(140) - (1/5) * (45*10)] = 50\n",
    "denominator = [(30) - (1/5) * (10*10)] = 10\n",
    "```\n",
    "\n",
    "hence:\n",
    "```\n",
    "slope = 50/10 = 5\n",
    "```"
   ]
  },
  {
   "cell_type": "markdown",
   "metadata": {},
   "source": [
    "## Method 2: (using means)\n",
    "\n",
    "* The mean of the Ys = 9\n",
    "* The mean of the Xs = 2\n",
    "* The mean of the product of the Xs and the Ys = 28\n",
    "* The mean of the Xs squared = 6\n",
    "\n",
    "So that\n",
    "```\n",
    "numerator = 28 - 9*2 = 10\n",
    "denominator = 6 - 2*2 = 2\n",
    "```\n",
    "\n",
    "hence:\n",
    "```\n",
    "slope = 10 / 2 = 5\n",
    "```"
   ]
  },
  {
   "cell_type": "markdown",
   "metadata": {},
   "source": [
    "Then, we can use this computed slope to compute the intercept:\n",
    "```\n",
    "intercept = (mean of Y) - slope * (mean of X)\n",
    "intercept = 9 - 5 * 2 = -1\n",
    "```\n",
    "\n",
    "In summary, we have:\n",
    "\n",
    "**slope = 5, intercept = -1**\n",
    "\n",
    "Finally we can add the line to our plot from above:\n",
    "![](images/fitting-line.png)\n",
    "\n",
    "The solid black point included in this plot is the point (mean of X, mean of Y). You’ll notice that this point falls exactly on the regression line!"
   ]
  }
 ],
 "metadata": {
  "kernelspec": {
   "display_name": "Python 2",
   "language": "python",
   "name": "python2"
  },
  "language_info": {
   "codemirror_mode": {
    "name": "ipython",
    "version": 2
   },
   "file_extension": ".py",
   "mimetype": "text/x-python",
   "name": "python",
   "nbconvert_exporter": "python",
   "pygments_lexer": "ipython2",
   "version": "2.7.11"
  }
 },
 "nbformat": 4,
 "nbformat_minor": 2
}
