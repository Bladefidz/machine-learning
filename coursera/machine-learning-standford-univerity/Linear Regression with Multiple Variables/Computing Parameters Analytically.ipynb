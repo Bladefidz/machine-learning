{
 "cells": [
  {
   "cell_type": "markdown",
   "metadata": {},
   "source": [
    "## Normal Equation\n",
    "\n",
    "Note: [8:00 to 8:44 - The design matrix X (in the bottom right side of the slide) given in the example should have elements x with subscript 1 and superscripts varying from 1 to m because for all m training sets there are only 2 features x0 and x1. 12:56 - The X matrix is m by (n+1) and NOT n by n. ]\n",
    "\n",
    "Gradient descent gives one way of minimizing J. Let’s discuss a second way of doing so, this time performing the minimization explicitly and without resorting to an iterative algorithm. In the \"Normal Equation\" method, we will minimize J by explicitly taking its derivatives with respect to the θj ’s, and setting them to zero. This allows us to find the optimum theta without iteration. The normal equation formula is given below:\n",
    "\n",
    "$$\\theta = (X^T X)^{-1}X^T y$$\n",
    "\n",
    "in octave: $$pinv(X'*X)*X'*Y$$\n",
    "\n",
    "![](../img/normal-equation.png)\n",
    "\n",
    "There is **no need** to do feature scaling with the normal equation.\n",
    "\n",
    "The following is a comparison of gradient descent and the normal equation:\n",
    "\n",
    "|Gradient Descent            | Normal Equation                               |\n",
    "|----------------------------|-----------------------------------------------|\n",
    "|Need to choose alpha\t     | No need to choose alpha                       |\n",
    "|Needs many iterations\t     | No need to iterate                            |\n",
    "|\\\\(O(kn^2)\\\\)\t             | \\\\(O(n^3)\\\\), need to calculate inverse of XTX|\n",
    "|Works well when n is large\t | Slow if n is very large                       |\n",
    "\n",
    "With the normal equation, computing the inversion has complexity \\\\(O(n^3)\\\\). So if we have a very large number of features, the normal equation will be slow. In practice, when n exceeds 10,000 it might be a good time to go from a normal solution to an iterative process.\n",
    "\n",
    "\n",
    "## Normal Equation Noninvertibility\n",
    "\n",
    "When implementing the normal equation in octave we want to use the 'pinv' function rather than 'inv.' The 'pinv' function will give you a value of θ even if \\\\(X^TX\\\\) is not invertible.\n",
    "\n",
    "if \\\\(X^TX\\\\) is **noninvertible**, the common causes might be having :\n",
    "\n",
    "* Redundant features, where two features are very closely related (i.e. they are linearly dependent)\n",
    "* Too many features (e.g. m ≤ n). In this case, delete some features or use \"regularization\" (to be explained in a later lesson).\n",
    "\n",
    "Solutions to the above problems include deleting a feature that is linearly dependent with another or deleting one or more features when there are too many features."
   ]
  },
  {
   "cell_type": "code",
   "execution_count": null,
   "metadata": {},
   "outputs": [],
   "source": []
  }
 ],
 "metadata": {
  "kernelspec": {
   "display_name": "Python 3",
   "language": "python",
   "name": "python3"
  },
  "language_info": {
   "codemirror_mode": {
    "name": "ipython",
    "version": 3
   },
   "file_extension": ".py",
   "mimetype": "text/x-python",
   "name": "python",
   "nbconvert_exporter": "python",
   "pygments_lexer": "ipython3",
   "version": "3.5.2"
  }
 },
 "nbformat": 4,
 "nbformat_minor": 2
}
