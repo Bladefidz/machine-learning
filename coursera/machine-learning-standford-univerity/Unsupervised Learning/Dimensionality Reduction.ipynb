{
 "cells": [
  {
   "cell_type": "markdown",
   "metadata": {},
   "source": [
    "## Data Compression\n",
    "\n",
    "* We may want to reduce the dimension of our features if we have a lot of redundant data.\n",
    "* To do this, we find two highly correlated features, plot them, and make a new line that seems to describe both features accurately. We place all the new features on this single line.\n",
    "\n",
    "Doing dimensionality reduction will reduce the total data we have to store in computer memory and will speed up our learning algorithm.\n",
    "\n",
    "Note: in dimensionality reduction, we are reducing our features rather than our number of examples. Our variable m will stay the same size; n, the number of features each example from \\\\(x^{(1)}\\\\) to \\\\(x^{(m)}\\\\) carries, will be reduced.\n",
    "\n",
    "\n",
    "## Visualization\n",
    "\n",
    "It is not easy to visualize data that is more than three dimensions. We can reduce the dimensions of our data to 3 or less in order to plot it.\n",
    "\n",
    "We need to find new features, \\\\(z_1, z_2\\\\) (and perhaps \\\\(z_3\\\\)) that can effectively **summarize** all the other features.\n",
    "\n",
    "Example: hundreds of features related to a country's economic system may all be combined into one feature that you call \"Economic Activity.\""
   ]
  }
 ],
 "metadata": {
  "kernelspec": {
   "display_name": "Python 3",
   "language": "python",
   "name": "python3"
  },
  "language_info": {
   "codemirror_mode": {
    "name": "ipython",
    "version": 3
   },
   "file_extension": ".py",
   "mimetype": "text/x-python",
   "name": "python",
   "nbconvert_exporter": "python",
   "pygments_lexer": "ipython3",
   "version": "3.6.4"
  }
 },
 "nbformat": 4,
 "nbformat_minor": 2
}
