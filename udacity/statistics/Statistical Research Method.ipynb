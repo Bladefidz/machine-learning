{
 "cells": [
  {
   "cell_type": "markdown",
   "metadata": {},
   "source": [
    "### Construct\n",
    "\n",
    "Any variable that can not measured and defined preciesly. For example: Hungry, anger, and happiness.\n",
    "\n",
    "\n",
    "### Operational Definition\n",
    "\n",
    "A way of turning construct into variables we can measure or turning any construct definition into measurable unit. For example: Gram of eaten food each day to measure hungry, number of plausible statements to measure anger and how many smile each day to measure happiness.\n",
    "\n",
    "\n",
    "### Golden Arches Theory\n",
    "\n",
    "**Correlation does not imply causation**\n",
    "\n",
    "For example, if the data show that likely most of country that have McDonnal not go to war, it does not means that by let McDonnal open to all countries in the world will lead world peace.\n",
    "\n",
    "\n",
    "### Blinding\n",
    "\n",
    "In the case of group comparison, **Blind** is an objective to make all group believe they were treated with same treatment. For example, in the case of A/B product testing: Group A given with all new brand catalog information, while group B given 'not new' brand catalog, but we said to all of them that it is new product catalog with special discount.\n",
    "\n",
    "**Double blinding** is an objective to make both studied group and researcher blind with the observation. For example, in the case of A/B product testing, researcher only focused to gathering data without concerning to observe quality of response."
   ]
  }
 ],
 "metadata": {
  "kernelspec": {
   "display_name": "Python 3",
   "language": "python",
   "name": "python3"
  },
  "language_info": {
   "codemirror_mode": {
    "name": "ipython",
    "version": 3
   },
   "file_extension": ".py",
   "mimetype": "text/x-python",
   "name": "python",
   "nbconvert_exporter": "python",
   "pygments_lexer": "ipython3",
   "version": "3.5.2"
  }
 },
 "nbformat": 4,
 "nbformat_minor": 2
}
