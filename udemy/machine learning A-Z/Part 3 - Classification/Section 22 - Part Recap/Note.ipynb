{
 "cells": [
  {
   "cell_type": "markdown",
   "metadata": {},
   "source": [
    "## How do I know which model to choose for my problem ?\n",
    "\n",
    "Same as for regression models, you first need to figure out whether your problem is linear or non linear. You will learn how to do that in Part 10 - Model Selection. Then:\n",
    "\n",
    "If your problem is linear, you should go for Logistic Regression or SVM.\n",
    "\n",
    "If your problem is non linear, you should go for K-NN, Naive Bayes, Decision Tree or Random Forest.\n",
    "\n",
    "Then which one should you choose in each case ? You will use **k-Fold Cross Validation**.\n",
    "\n",
    "Then from a business point of view, you would rather use:\n",
    "\n",
    "- **Logistic Regression** or **Naive Bayes** when you want to **rank your predictions by their probability**. For example if you want to rank your customers from the highest probability that they buy a certain product, to the lowest probability. Eventually that allows you to target your marketing campaigns. And of course for this type of business problem, you should use Logistic Regression if your problem is linear, and Naive Bayes if your problem is non linear.\n",
    "- **SVM** when you want to **predict to which segment your customers belong to**. Segments can be any kind of segments, for example some market segments you identified earlier with clustering.\n",
    "- **Decision Tree** when you want to have **clear interpretation of your model results**,\n",
    "- **Random Forest** when you are just looking for **high performance with less need for interpretation**. "
   ]
  },
  {
   "cell_type": "markdown",
   "metadata": {},
   "source": [
    "## How can I improve each of these models\n",
    "\n",
    "Each model is composed of two types of parameters: \n",
    "\n",
    "1. The parameters that are learnt, for example the coefficients in Linear Regression,\n",
    "2. the hyperparameters.\n",
    "\n",
    "The hyperparameters are the parameters that are not learnt and that are fixed values inside the model equations. For example, the regularization parameter lambda or the penalty parameter C are hyperparameters. So far we used the default value of these hyperparameters, and we haven't searched for their optimal value so that your model reaches even higher performance. Finding their optimal value is exactly what Parameter Tuning is about"
   ]
  }
 ],
 "metadata": {
  "kernelspec": {
   "display_name": "Python 3",
   "language": "python",
   "name": "python3"
  },
  "language_info": {
   "codemirror_mode": {
    "name": "ipython",
    "version": 3
   },
   "file_extension": ".py",
   "mimetype": "text/x-python",
   "name": "python",
   "nbconvert_exporter": "python",
   "pygments_lexer": "ipython3",
   "version": "3.6.4"
  }
 },
 "nbformat": 4,
 "nbformat_minor": 2
}
